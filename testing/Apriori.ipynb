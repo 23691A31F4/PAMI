{
  "cells": [
    {
      "cell_type": "markdown",
      "metadata": {
        "id": "view-in-github",
        "colab_type": "text"
      },
      "source": [
        "<a href=\"https://colab.research.google.com/github/pallamadhavi/PAMI/blob/main/testing/Apriori.ipynb\" target=\"_parent\"><img src=\"https://colab.research.google.com/assets/colab-badge.svg\" alt=\"Open In Colab\"/></a>"
      ]
    },
    {
      "cell_type": "code",
      "execution_count": null,
      "id": "04a95400-158a-4441-bc2b-1d6b59254ce6",
      "metadata": {
        "id": "04a95400-158a-4441-bc2b-1d6b59254ce6",
        "outputId": "4b47546d-ab02-4a4f-8f74-06caecfb045c"
      },
      "outputs": [
        {
          "name": "stdout",
          "output_type": "stream",
          "text": [
            "Defaulting to user installation because normal site-packages is not writeable\n",
            "Requirement already satisfied: pami in ./.local/lib/python3.10/site-packages (2024.5.27)\n",
            "Requirement already satisfied: psutil in /home/jupyter/anaconda3/envs/jupyterHub/lib/python3.10/site-packages (from pami) (5.9.8)\n",
            "Requirement already satisfied: pandas in /home/jupyter/anaconda3/envs/jupyterHub/lib/python3.10/site-packages (from pami) (2.2.2)\n",
            "Requirement already satisfied: plotly in /home/jupyter/anaconda3/envs/jupyterHub/lib/python3.10/site-packages (from pami) (5.22.0)\n",
            "Requirement already satisfied: matplotlib in /home/jupyter/anaconda3/envs/jupyterHub/lib/python3.10/site-packages (from pami) (3.9.0)\n",
            "Requirement already satisfied: resource in /home/jupyter/anaconda3/envs/jupyterHub/lib/python3.10/site-packages (from pami) (0.2.1)\n",
            "Requirement already satisfied: validators in /home/jupyter/anaconda3/envs/jupyterHub/lib/python3.10/site-packages (from pami) (0.28.1)\n",
            "Requirement already satisfied: urllib3 in /home/jupyter/anaconda3/envs/jupyterHub/lib/python3.10/site-packages (from pami) (2.2.1)\n",
            "Requirement already satisfied: Pillow in /home/jupyter/anaconda3/envs/jupyterHub/lib/python3.10/site-packages (from pami) (10.3.0)\n",
            "Requirement already satisfied: numpy in /home/jupyter/anaconda3/envs/jupyterHub/lib/python3.10/site-packages (from pami) (1.26.4)\n",
            "Requirement already satisfied: sphinx in /home/jupyter/anaconda3/envs/jupyterHub/lib/python3.10/site-packages (from pami) (7.3.7)\n",
            "Requirement already satisfied: sphinx-rtd-theme in /home/jupyter/anaconda3/envs/jupyterHub/lib/python3.10/site-packages (from pami) (2.0.0)\n",
            "Requirement already satisfied: discord.py in /home/jupyter/anaconda3/envs/jupyterHub/lib/python3.10/site-packages (from pami) (2.3.2)\n",
            "Requirement already satisfied: networkx in /home/jupyter/anaconda3/envs/jupyterHub/lib/python3.10/site-packages (from pami) (3.3)\n",
            "Requirement already satisfied: deprecated in /home/jupyter/anaconda3/envs/jupyterHub/lib/python3.10/site-packages (from pami) (1.2.14)\n",
            "Requirement already satisfied: wrapt<2,>=1.10 in /home/jupyter/anaconda3/envs/jupyterHub/lib/python3.10/site-packages (from deprecated->pami) (1.16.0)\n",
            "Requirement already satisfied: aiohttp<4,>=3.7.4 in /home/jupyter/anaconda3/envs/jupyterHub/lib/python3.10/site-packages (from discord.py->pami) (3.9.5)\n",
            "Requirement already satisfied: contourpy>=1.0.1 in /home/jupyter/anaconda3/envs/jupyterHub/lib/python3.10/site-packages (from matplotlib->pami) (1.2.1)\n",
            "Requirement already satisfied: cycler>=0.10 in /home/jupyter/anaconda3/envs/jupyterHub/lib/python3.10/site-packages (from matplotlib->pami) (0.12.1)\n",
            "Requirement already satisfied: fonttools>=4.22.0 in /home/jupyter/anaconda3/envs/jupyterHub/lib/python3.10/site-packages (from matplotlib->pami) (4.51.0)\n",
            "Requirement already satisfied: kiwisolver>=1.3.1 in /home/jupyter/anaconda3/envs/jupyterHub/lib/python3.10/site-packages (from matplotlib->pami) (1.4.5)\n",
            "Requirement already satisfied: packaging>=20.0 in /home/jupyter/anaconda3/envs/jupyterHub/lib/python3.10/site-packages (from matplotlib->pami) (24.0)\n",
            "Requirement already satisfied: pyparsing>=2.3.1 in /home/jupyter/anaconda3/envs/jupyterHub/lib/python3.10/site-packages (from matplotlib->pami) (3.1.2)\n",
            "Requirement already satisfied: python-dateutil>=2.7 in /home/jupyter/anaconda3/envs/jupyterHub/lib/python3.10/site-packages (from matplotlib->pami) (2.9.0)\n",
            "Requirement already satisfied: pytz>=2020.1 in /home/jupyter/anaconda3/envs/jupyterHub/lib/python3.10/site-packages (from pandas->pami) (2024.1)\n",
            "Requirement already satisfied: tzdata>=2022.7 in /home/jupyter/anaconda3/envs/jupyterHub/lib/python3.10/site-packages (from pandas->pami) (2024.1)\n",
            "Requirement already satisfied: tenacity>=6.2.0 in /home/jupyter/anaconda3/envs/jupyterHub/lib/python3.10/site-packages (from plotly->pami) (8.3.0)\n",
            "Requirement already satisfied: JsonForm>=0.0.2 in /home/jupyter/anaconda3/envs/jupyterHub/lib/python3.10/site-packages (from resource->pami) (0.0.2)\n",
            "Requirement already satisfied: JsonSir>=0.0.2 in /home/jupyter/anaconda3/envs/jupyterHub/lib/python3.10/site-packages (from resource->pami) (0.0.2)\n",
            "Requirement already satisfied: python-easyconfig>=0.1.0 in /home/jupyter/anaconda3/envs/jupyterHub/lib/python3.10/site-packages (from resource->pami) (0.1.7)\n",
            "Requirement already satisfied: sphinxcontrib-applehelp in /home/jupyter/anaconda3/envs/jupyterHub/lib/python3.10/site-packages (from sphinx->pami) (1.0.8)\n",
            "Requirement already satisfied: sphinxcontrib-devhelp in /home/jupyter/anaconda3/envs/jupyterHub/lib/python3.10/site-packages (from sphinx->pami) (1.0.6)\n",
            "Requirement already satisfied: sphinxcontrib-jsmath in /home/jupyter/anaconda3/envs/jupyterHub/lib/python3.10/site-packages (from sphinx->pami) (1.0.1)\n",
            "Requirement already satisfied: sphinxcontrib-htmlhelp>=2.0.0 in /home/jupyter/anaconda3/envs/jupyterHub/lib/python3.10/site-packages (from sphinx->pami) (2.0.5)\n",
            "Requirement already satisfied: sphinxcontrib-serializinghtml>=1.1.9 in /home/jupyter/anaconda3/envs/jupyterHub/lib/python3.10/site-packages (from sphinx->pami) (1.1.10)\n",
            "Requirement already satisfied: sphinxcontrib-qthelp in /home/jupyter/anaconda3/envs/jupyterHub/lib/python3.10/site-packages (from sphinx->pami) (1.0.7)\n",
            "Requirement already satisfied: Jinja2>=3.0 in /home/jupyter/anaconda3/envs/jupyterHub/lib/python3.10/site-packages (from sphinx->pami) (3.1.4)\n",
            "Requirement already satisfied: Pygments>=2.14 in /home/jupyter/anaconda3/envs/jupyterHub/lib/python3.10/site-packages (from sphinx->pami) (2.18.0)\n",
            "Requirement already satisfied: docutils<0.22,>=0.18.1 in /home/jupyter/anaconda3/envs/jupyterHub/lib/python3.10/site-packages (from sphinx->pami) (0.20.1)\n",
            "Requirement already satisfied: snowballstemmer>=2.0 in /home/jupyter/anaconda3/envs/jupyterHub/lib/python3.10/site-packages (from sphinx->pami) (2.2.0)\n",
            "Requirement already satisfied: babel>=2.9 in /home/jupyter/anaconda3/envs/jupyterHub/lib/python3.10/site-packages (from sphinx->pami) (2.14.0)\n",
            "Requirement already satisfied: alabaster~=0.7.14 in /home/jupyter/anaconda3/envs/jupyterHub/lib/python3.10/site-packages (from sphinx->pami) (0.7.16)\n",
            "Requirement already satisfied: imagesize>=1.3 in /home/jupyter/anaconda3/envs/jupyterHub/lib/python3.10/site-packages (from sphinx->pami) (1.4.1)\n",
            "Requirement already satisfied: requests>=2.25.0 in /home/jupyter/anaconda3/envs/jupyterHub/lib/python3.10/site-packages (from sphinx->pami) (2.31.0)\n",
            "Requirement already satisfied: tomli>=2 in /home/jupyter/anaconda3/envs/jupyterHub/lib/python3.10/site-packages (from sphinx->pami) (2.0.1)\n",
            "Requirement already satisfied: sphinxcontrib-jquery<5,>=4 in /home/jupyter/anaconda3/envs/jupyterHub/lib/python3.10/site-packages (from sphinx-rtd-theme->pami) (4.1)\n",
            "Requirement already satisfied: aiosignal>=1.1.2 in /home/jupyter/anaconda3/envs/jupyterHub/lib/python3.10/site-packages (from aiohttp<4,>=3.7.4->discord.py->pami) (1.3.1)\n",
            "Requirement already satisfied: attrs>=17.3.0 in /home/jupyter/anaconda3/envs/jupyterHub/lib/python3.10/site-packages (from aiohttp<4,>=3.7.4->discord.py->pami) (23.2.0)\n",
            "Requirement already satisfied: frozenlist>=1.1.1 in /home/jupyter/anaconda3/envs/jupyterHub/lib/python3.10/site-packages (from aiohttp<4,>=3.7.4->discord.py->pami) (1.4.1)\n",
            "Requirement already satisfied: multidict<7.0,>=4.5 in /home/jupyter/anaconda3/envs/jupyterHub/lib/python3.10/site-packages (from aiohttp<4,>=3.7.4->discord.py->pami) (6.0.5)\n",
            "Requirement already satisfied: yarl<2.0,>=1.0 in /home/jupyter/anaconda3/envs/jupyterHub/lib/python3.10/site-packages (from aiohttp<4,>=3.7.4->discord.py->pami) (1.9.4)\n",
            "Requirement already satisfied: async-timeout<5.0,>=4.0 in /home/jupyter/anaconda3/envs/jupyterHub/lib/python3.10/site-packages (from aiohttp<4,>=3.7.4->discord.py->pami) (4.0.3)\n",
            "Requirement already satisfied: MarkupSafe>=2.0 in /home/jupyter/anaconda3/envs/jupyterHub/lib/python3.10/site-packages (from Jinja2>=3.0->sphinx->pami) (2.1.5)\n",
            "Requirement already satisfied: jsonschema in /home/jupyter/anaconda3/envs/jupyterHub/lib/python3.10/site-packages (from JsonForm>=0.0.2->resource->pami) (4.22.0)\n",
            "Requirement already satisfied: six>=1.5 in /home/jupyter/anaconda3/envs/jupyterHub/lib/python3.10/site-packages (from python-dateutil>=2.7->matplotlib->pami) (1.16.0)\n",
            "Requirement already satisfied: PyYAML in /home/jupyter/anaconda3/envs/jupyterHub/lib/python3.10/site-packages (from python-easyconfig>=0.1.0->resource->pami) (6.0.1)\n",
            "Requirement already satisfied: charset-normalizer<4,>=2 in /home/jupyter/anaconda3/envs/jupyterHub/lib/python3.10/site-packages (from requests>=2.25.0->sphinx->pami) (3.3.2)\n",
            "Requirement already satisfied: idna<4,>=2.5 in /home/jupyter/anaconda3/envs/jupyterHub/lib/python3.10/site-packages (from requests>=2.25.0->sphinx->pami) (3.7)\n",
            "Requirement already satisfied: certifi>=2017.4.17 in /home/jupyter/anaconda3/envs/jupyterHub/lib/python3.10/site-packages (from requests>=2.25.0->sphinx->pami) (2024.2.2)\n",
            "Requirement already satisfied: jsonschema-specifications>=2023.03.6 in /home/jupyter/anaconda3/envs/jupyterHub/lib/python3.10/site-packages (from jsonschema->JsonForm>=0.0.2->resource->pami) (2023.12.1)\n",
            "Requirement already satisfied: referencing>=0.28.4 in /home/jupyter/anaconda3/envs/jupyterHub/lib/python3.10/site-packages (from jsonschema->JsonForm>=0.0.2->resource->pami) (0.35.1)\n",
            "Requirement already satisfied: rpds-py>=0.7.1 in /home/jupyter/anaconda3/envs/jupyterHub/lib/python3.10/site-packages (from jsonschema->JsonForm>=0.0.2->resource->pami) (0.18.1)\n"
          ]
        }
      ],
      "source": [
        "!pip install -U pami\n"
      ]
    },
    {
      "cell_type": "markdown",
      "id": "2a322833-ccaf-4b98-86ca-7bc3f40d9ca4",
      "metadata": {
        "id": "2a322833-ccaf-4b98-86ca-7bc3f40d9ca4"
      },
      "source": [
        "# Test Cases for T10I4D100K Dataset"
      ]
    },
    {
      "cell_type": "markdown",
      "id": "dde698a7-8daf-47d8-bb18-658596aa2b6b",
      "metadata": {
        "id": "dde698a7-8daf-47d8-bb18-658596aa2b6b"
      },
      "source": [
        "## Test Case1 for T10I4D100K Dataset"
      ]
    },
    {
      "cell_type": "code",
      "execution_count": null,
      "id": "0b2daf00-615e-4c01-b88f-997f7bf14b9f",
      "metadata": {
        "id": "0b2daf00-615e-4c01-b88f-997f7bf14b9f",
        "outputId": "16305ddb-459a-4da8-eb98-b7ec5153cb12"
      },
      "outputs": [
        {
          "name": "stdout",
          "output_type": "stream",
          "text": [
            "Frequent patterns were generated successfully using Apriori algorithm \n",
            "Frequent patterns were generated successfully using Apriori algorithm \n",
            "Frequent patterns were generated successfully using Apriori algorithm \n",
            "Frequent patterns were generated successfully using Apriori algorithm \n",
            "Frequent patterns were generated successfully using Apriori algorithm \n",
            "Frequent patterns were generated successfully using Apriori algorithm\n",
            "  algorithm  minSup  patterns   runtime     memory\n",
            "0   Apriori     500      1072  5.520913  317235200\n",
            "1   Apriori    1000       385  3.684448  310829056\n",
            "2   Apriori    1500       237  2.560556  299327488\n",
            "3   Apriori    2000       155  1.932528  288636928\n",
            "4   Apriori    2500       107  1.630480  282275840\n"
          ]
        }
      ],
      "source": [
        "from PAMI.frequentPattern.basic import Apriori as alg\n",
        "import pandas as pd\n",
        "# Set the input parameters\n",
        "URL = 'https://u-aizu.ac.jp/~udayrage/datasets/transactionalDatabases/Transactional_T10I4D100K.csv'\n",
        "separator = '\\t'\n",
        "minimumSupportCountList = [500, 1000, 1500, 2000, 2500]\n",
        "\n",
        "# Initialize a data frame to store the results of Apriori\n",
        "result = pd.DataFrame(columns=['algorithm', 'minSup', 'patterns', 'runtime', 'memory'])\n",
        "\n",
        "# Execute the algorithm at different minSup values\n",
        "for minSupCount in minimumSupportCountList:\n",
        "    obj = alg.Apriori(URL, minSup=minSupCount, sep=separator)\n",
        "    obj.mine()\n",
        "    # Store the results in the data frame\n",
        "    result.loc[result.shape[0]] = ['Apriori', minSupCount, len(obj.getPatterns()), obj.getRuntime(), obj.getMemoryRSS()]\n",
        "\n",
        "# Print the results\n",
        "print(f\"Frequent patterns were generated successfully using Apriori algorithm\")\n",
        "\n",
        "print(result)"
      ]
    },
    {
      "cell_type": "markdown",
      "id": "1bb57c72-c34a-45a7-a7c9-ee760f3ada87",
      "metadata": {
        "id": "1bb57c72-c34a-45a7-a7c9-ee760f3ada87"
      },
      "source": [
        "## Test Case2 for T10I4D100K Dataset"
      ]
    },
    {
      "cell_type": "code",
      "execution_count": null,
      "id": "433dd05b-ca21-47f6-ae59-16c838e07913",
      "metadata": {
        "id": "433dd05b-ca21-47f6-ae59-16c838e07913",
        "outputId": "cdc3df68-77e7-408d-9e09-7d0492c5ede1"
      },
      "outputs": [
        {
          "name": "stdout",
          "output_type": "stream",
          "text": [
            "Frequent patterns were generated successfully using Apriori algorithm \n",
            "Frequent patterns were generated successfully using Apriori algorithm \n",
            "Frequent patterns were generated successfully using Apriori algorithm \n",
            "Frequent patterns were generated successfully using Apriori algorithm \n",
            "Frequent patterns were generated successfully using Apriori algorithm \n",
            "Frequent patterns were generated successfully using Apriori algorithm\n",
            "  algorithm  minSup  patterns   runtime     memory\n",
            "0   Apriori     500      1072  4.773602  318291968\n",
            "1   Apriori    1000       385  3.272997  311889920\n",
            "2   Apriori    1500       237  2.066821  299732992\n",
            "3   Apriori    2000       155  1.440376  288858112\n",
            "4   Apriori    2500       107  1.113441  282497024\n"
          ]
        }
      ],
      "source": [
        "from PAMI.frequentPattern.basic import Apriori as alg\n",
        "import pandas as pd\n",
        "\n",
        "# Set the input parameters\n",
        "inputFile = 'Transactional_T10I4D100K (2).csv'\n",
        "separator = '\\t'\n",
        "minimumSupportCountList = [500, 1000, 1500, 2000, 2500]\n",
        "\n",
        "# Initialize a data frame to store the results of Apriori\n",
        "result = pd.DataFrame(columns=['algorithm', 'minSup', 'patterns', 'runtime', 'memory'])\n",
        "\n",
        "# Execute the algorithm at different minSup values\n",
        "for minSupCount in minimumSupportCountList:\n",
        "    obj = alg.Apriori(inputFile, minSup=minSupCount, sep=separator)\n",
        "    obj.mine()\n",
        "    # Store the results in the data frame\n",
        "    result.loc[result.shape[0]] = ['Apriori', minSupCount, len(obj.getPatterns()), obj.getRuntime(), obj.getMemoryRSS()]\n",
        "\n",
        "# Print the results\n",
        "print(f\"Frequent patterns were generated successfully using Apriori algorithm\")\n",
        "\n",
        "print(result)"
      ]
    },
    {
      "cell_type": "markdown",
      "id": "9b1c593b-c545-478a-b1a8-31230b8c2a9a",
      "metadata": {
        "id": "9b1c593b-c545-478a-b1a8-31230b8c2a9a"
      },
      "source": [
        "## Test Case3 for T10I4D100K Dataset"
      ]
    },
    {
      "cell_type": "code",
      "execution_count": null,
      "id": "f5b27704-3ba4-47b0-a5d9-6bbdc9dfdb0f",
      "metadata": {
        "id": "f5b27704-3ba4-47b0-a5d9-6bbdc9dfdb0f",
        "outputId": "919b1ad7-24c5-4c45-82eb-3478c500e81f"
      },
      "outputs": [
        {
          "name": "stdout",
          "output_type": "stream",
          "text": [
            "Frequent patterns were generated successfully using Apriori algorithm \n",
            "Frequent patterns were generated successfully using Apriori algorithm \n",
            "Frequent patterns were generated successfully using Apriori algorithm \n",
            "Frequent patterns were generated successfully using Apriori algorithm \n",
            "Frequent patterns were generated successfully using Apriori algorithm \n",
            "Frequent patterns were generated successfully using Apriori algorithm\n",
            "  algorithm  minSup  patterns   runtime     memory\n",
            "0   Apriori     500      1072  4.802107  352931840\n",
            "1   Apriori    1000       385  3.092757  352931840\n",
            "2   Apriori    1500       237  1.937946  333049856\n",
            "3   Apriori    2000       155  1.307511  322490368\n",
            "4   Apriori    2500       107  0.974696  316100608\n"
          ]
        }
      ],
      "source": [
        "from PAMI.frequentPattern.basic import Apriori as alg\n",
        "import pandas as pd\n",
        "\n",
        "# Set the input parameters\n",
        "inputFile = 'Transactional_T10I4D100K (2).csv'\n",
        "separator = '\\t'\n",
        "minimumSupportCountList = [500, 1000, 1500, 2000, 2500]\n",
        "\n",
        "# Read the CSV file into a DataFrame\n",
        "df = pd.read_csv(inputFile, header=[0], sep=' ')\n",
        "df = df.rename(columns={df.columns[0]: \"Transactions\"})\n",
        "\n",
        "# Ensure all data in the \"Transaction\" column is string before splitting\n",
        "df[\"Transactions\"] = df[\"Transactions\"].astype(str)\n",
        "\n",
        "# Preprocess the dataset\n",
        "# transactions = df[\"Transaction\"].apply(lambda x: x.split(separator)).tolist()\n",
        "transactions = df['Transactions'].apply(lambda x: x.split(separator))\n",
        "transactions = pd.DataFrame(transactions, columns=['Transactions'])\n",
        "\n",
        "# Initialize a data frame to store the results of Apriori\n",
        "result = pd.DataFrame(columns=['algorithm', 'minSup', 'patterns', 'runtime', 'memory'])\n",
        "\n",
        "# Execute the algorithm at different minSup values\n",
        "for minSupCount in minimumSupportCountList:\n",
        "    obj = alg.Apriori(transactions, minSup=minSupCount, sep=separator)\n",
        "    obj.mine()\n",
        "\n",
        "    # Get the patterns found\n",
        "    patterns = obj.getPatterns()\n",
        "\n",
        "    # Store the results in the data frame\n",
        "    result.loc[len(result)] = ['Apriori', minSupCount, len(patterns), obj.getRuntime(), obj.getMemoryRSS()]\n",
        "\n",
        "# Print the results\n",
        "print(\"Frequent patterns were generated successfully using Apriori algorithm\")\n",
        "print(result)\n"
      ]
    },
    {
      "cell_type": "markdown",
      "id": "85d5ee79-c839-48f4-8a1e-1bc322a7526d",
      "metadata": {
        "id": "85d5ee79-c839-48f4-8a1e-1bc322a7526d"
      },
      "source": [
        "# Test Cases Retail Dataset"
      ]
    },
    {
      "cell_type": "markdown",
      "id": "f17e5751-a133-4943-9b4d-ccf01d8750b7",
      "metadata": {
        "id": "f17e5751-a133-4943-9b4d-ccf01d8750b7"
      },
      "source": [
        "## Test Case1 for Retail Dataset"
      ]
    },
    {
      "cell_type": "code",
      "execution_count": null,
      "id": "a44aa08c-8db2-446b-aa86-b14a5b84d41d",
      "metadata": {
        "id": "a44aa08c-8db2-446b-aa86-b14a5b84d41d",
        "outputId": "8347c381-bc71-4f05-f90b-86b6459bb18c"
      },
      "outputs": [
        {
          "name": "stdout",
          "output_type": "stream",
          "text": [
            "Frequent patterns were generated successfully using Apriori algorithm \n",
            "Frequent patterns were generated successfully using Apriori algorithm \n",
            "Frequent patterns were generated successfully using Apriori algorithm \n",
            "Frequent patterns were generated successfully using Apriori algorithm \n",
            "Frequent patterns were generated successfully using Apriori algorithm \n",
            "Frequent patterns were generated successfully using Apriori algorithm\n",
            "  algorithm  minSup  patterns   runtime     memory\n",
            "0   Apriori     500       468  3.860099  368082944\n",
            "1   Apriori    1000       135  1.773974  363835392\n",
            "2   Apriori    1500        68  1.644977  361832448\n",
            "3   Apriori    2000        45  1.431155  360919040\n",
            "4   Apriori    2500        34  1.525645  360480768\n"
          ]
        }
      ],
      "source": [
        "from PAMI.frequentPattern.basic import Apriori as alg\n",
        "import pandas as pd\n",
        "# Set the input parameters\n",
        "URL = 'https://u-aizu.ac.jp/~udayrage/datasets/transactionalDatabases/Transactional_retail.csv'\n",
        "separator = '\\t'\n",
        "minimumSupportCountList = [500, 1000, 1500, 2000, 2500]\n",
        "\n",
        "# Initialize a data frame to store the results of Apriori\n",
        "result = pd.DataFrame(columns=['algorithm', 'minSup', 'patterns', 'runtime', 'memory'])\n",
        "\n",
        "# Execute the algorithm at different minSup values\n",
        "for minSupCount in minimumSupportCountList:\n",
        "    obj = alg.Apriori(URL, minSup=minSupCount, sep=separator)\n",
        "    obj.mine()\n",
        "    # Store the results in the data frame\n",
        "    result.loc[result.shape[0]] = ['Apriori', minSupCount, len(obj.getPatterns()), obj.getRuntime(), obj.getMemoryRSS()]\n",
        "\n",
        "# Print the results\n",
        "print(f\"Frequent patterns were generated successfully using Apriori algorithm\")\n",
        "\n",
        "print(result)"
      ]
    },
    {
      "cell_type": "markdown",
      "id": "e0c08b62-aa2c-4647-9730-c8f01de32040",
      "metadata": {
        "id": "e0c08b62-aa2c-4647-9730-c8f01de32040"
      },
      "source": [
        "## Test Case2 for Retail Dataset"
      ]
    },
    {
      "cell_type": "code",
      "execution_count": null,
      "id": "dfd9053a-844c-439b-a7c3-bfb3dc5ddcbc",
      "metadata": {
        "id": "dfd9053a-844c-439b-a7c3-bfb3dc5ddcbc",
        "outputId": "dd80ab66-266f-44c1-ed83-bd0768811a4a"
      },
      "outputs": [
        {
          "name": "stdout",
          "output_type": "stream",
          "text": [
            "Frequent patterns were generated successfully using Apriori algorithm \n",
            "Frequent patterns were generated successfully using Apriori algorithm \n",
            "Frequent patterns were generated successfully using Apriori algorithm \n",
            "Frequent patterns were generated successfully using Apriori algorithm \n",
            "Frequent patterns were generated successfully using Apriori algorithm \n",
            "Frequent patterns were generated successfully using Apriori algorithm\n",
            "  algorithm  minSup  patterns   runtime     memory\n",
            "0   Apriori     500       468  3.299824  368123904\n",
            "1   Apriori    1000       135  1.361099  363872256\n",
            "2   Apriori    1500        68  0.965339  361861120\n",
            "3   Apriori    2000        45  0.879304  360964096\n",
            "4   Apriori    2500        34  1.001592  360308736\n"
          ]
        }
      ],
      "source": [
        "from PAMI.frequentPattern.basic import Apriori as alg\n",
        "import pandas as pd\n",
        "\n",
        "# Set the input parameters\n",
        "inputFile = 'Transactional_retail.csv'\n",
        "separator = '\\t'\n",
        "minimumSupportCountList = [500, 1000, 1500, 2000, 2500]\n",
        "\n",
        "# Initialize a data frame to store the results of Apriori\n",
        "result = pd.DataFrame(columns=['algorithm', 'minSup', 'patterns', 'runtime', 'memory'])\n",
        "\n",
        "# Execute the algorithm at different minSup values\n",
        "for minSupCount in minimumSupportCountList:\n",
        "    obj = alg.Apriori(inputFile, minSup=minSupCount, sep=separator)\n",
        "    obj.mine()\n",
        "    # Store the results in the data frame\n",
        "    result.loc[result.shape[0]] = ['Apriori', minSupCount, len(obj.getPatterns()), obj.getRuntime(), obj.getMemoryRSS()]\n",
        "\n",
        "# Print the results\n",
        "print(f\"Frequent patterns were generated successfully using Apriori algorithm\")\n",
        "\n",
        "print(result)"
      ]
    },
    {
      "cell_type": "markdown",
      "id": "144a3c2f-49bf-490b-947f-5dc9c4136931",
      "metadata": {
        "id": "144a3c2f-49bf-490b-947f-5dc9c4136931"
      },
      "source": [
        "## Test Case3 for Retail Dataset"
      ]
    },
    {
      "cell_type": "code",
      "execution_count": null,
      "id": "5f9e34a4-86e4-419a-a5bf-8390e8635f5f",
      "metadata": {
        "id": "5f9e34a4-86e4-419a-a5bf-8390e8635f5f",
        "outputId": "de728a54-29fd-43aa-fc7e-0b56aadfaf96"
      },
      "outputs": [
        {
          "name": "stdout",
          "output_type": "stream",
          "text": [
            "Frequent patterns were generated successfully using Apriori algorithm \n",
            "Frequent patterns were generated successfully using Apriori algorithm \n",
            "Frequent patterns were generated successfully using Apriori algorithm \n",
            "Frequent patterns were generated successfully using Apriori algorithm \n",
            "Frequent patterns were generated successfully using Apriori algorithm \n",
            "Frequent patterns were generated successfully using Apriori algorithm\n",
            "  algorithm  minSup  patterns   runtime     memory\n",
            "0   Apriori     500       468  3.089087  354787328\n",
            "1   Apriori    1000       135  1.147326  353763328\n",
            "2   Apriori    1500        68  0.763667  346267648\n",
            "3   Apriori    2000        45  0.852474  345403392\n",
            "4   Apriori    2500        34  0.725485  343863296\n"
          ]
        }
      ],
      "source": [
        "from PAMI.frequentPattern.basic import Apriori as alg\n",
        "import pandas as pd\n",
        "\n",
        "# Set the input parameters\n",
        "inputFile = 'Transactional_retail.csv'\n",
        "separator = '\\t'\n",
        "minimumSupportCountList = [500, 1000, 1500, 2000, 2500]\n",
        "\n",
        "# Read the CSV file into a DataFrame\n",
        "df = pd.read_csv(inputFile, header=[0], sep=' ')\n",
        "df = df.rename(columns={df.columns[0]: \"Transactions\"})\n",
        "\n",
        "# Ensure all data in the \"Transaction\" column is string before splitting\n",
        "df[\"Transactions\"] = df[\"Transactions\"].astype(str)\n",
        "\n",
        "# Preprocess the dataset\n",
        "# transactions = df[\"Transaction\"].apply(lambda x: x.split(separator)).tolist()\n",
        "transactions = df['Transactions'].apply(lambda x: x.split(separator))\n",
        "transactions = pd.DataFrame(transactions, columns=['Transactions'])\n",
        "\n",
        "# Initialize a data frame to store the results of Apriori\n",
        "result = pd.DataFrame(columns=['algorithm', 'minSup', 'patterns', 'runtime', 'memory'])\n",
        "\n",
        "# Execute the algorithm at different minSup values\n",
        "for minSupCount in minimumSupportCountList:\n",
        "    obj = alg.Apriori(transactions, minSup=minSupCount, sep=separator)\n",
        "    obj.mine()\n",
        "\n",
        "    # Get the patterns found\n",
        "    patterns = obj.getPatterns()\n",
        "\n",
        "    # Store the results in the data frame\n",
        "    result.loc[len(result)] = ['Apriori', minSupCount, len(patterns), obj.getRuntime(), obj.getMemoryRSS()]\n",
        "\n",
        "# Print the results\n",
        "print(\"Frequent patterns were generated successfully using Apriori algorithm\")\n",
        "print(result)\n"
      ]
    },
    {
      "cell_type": "markdown",
      "id": "81ca2197-dbb0-4b06-89bd-8a61993479a3",
      "metadata": {
        "id": "81ca2197-dbb0-4b06-89bd-8a61993479a3"
      },
      "source": [
        "# Test Cases for Chess Dataset"
      ]
    },
    {
      "cell_type": "markdown",
      "id": "603c1bf9-db73-4d1f-96e0-7a4ac10f3198",
      "metadata": {
        "id": "603c1bf9-db73-4d1f-96e0-7a4ac10f3198"
      },
      "source": [
        "## Test Case1 for chess Dataset"
      ]
    },
    {
      "cell_type": "code",
      "execution_count": null,
      "id": "f25720de-3626-41a3-9c0f-a95f1422e9a3",
      "metadata": {
        "id": "f25720de-3626-41a3-9c0f-a95f1422e9a3",
        "outputId": "05d716c8-bc73-484f-d08d-ce48234a9a3e"
      },
      "outputs": [
        {
          "name": "stdout",
          "output_type": "stream",
          "text": [
            "Frequent patterns were generated successfully using Apriori algorithm \n",
            "Frequent patterns were generated successfully using Apriori algorithm \n",
            "Frequent patterns were generated successfully using Apriori algorithm\n",
            "  algorithm  minSup  patterns   runtime     memory\n",
            "0   Apriori    2500     11474  8.654951  329125888\n",
            "1   Apriori    3000       152  0.381689  328081408\n"
          ]
        }
      ],
      "source": [
        "from PAMI.frequentPattern.basic import Apriori as alg\n",
        "import pandas as pd\n",
        "# Set the input parameters\n",
        "URL = 'https://u-aizu.ac.jp/~udayrage/datasets/transactionalDatabases/Transactional_chess1.csv'\n",
        "separator = '\\t'\n",
        "minimumSupportCountList = [2500, 3000]\n",
        "\n",
        "# Initialize a data frame to store the results of Apriori\n",
        "result = pd.DataFrame(columns=['algorithm', 'minSup', 'patterns', 'runtime', 'memory'])\n",
        "\n",
        "# Execute the algorithm at different minSup values\n",
        "for minSupCount in minimumSupportCountList:\n",
        "    obj = alg.Apriori(URL, minSup=minSupCount, sep=separator)\n",
        "    obj.mine()\n",
        "    # Store the results in the data frame\n",
        "    result.loc[result.shape[0]] = ['Apriori', minSupCount, len(obj.getPatterns()), obj.getRuntime(), obj.getMemoryRSS()]\n",
        "\n",
        "# Print the results\n",
        "print(f\"Frequent patterns were generated successfully using Apriori algorithm\")\n",
        "\n",
        "print(result)"
      ]
    },
    {
      "cell_type": "markdown",
      "id": "3124c32b-bd11-4b3c-9e8b-284f93e5363f",
      "metadata": {
        "id": "3124c32b-bd11-4b3c-9e8b-284f93e5363f"
      },
      "source": [
        "## Test Case2 for chess Dataset"
      ]
    },
    {
      "cell_type": "code",
      "execution_count": null,
      "id": "200adb49-3e2a-4008-aaee-0c12cace7539",
      "metadata": {
        "id": "200adb49-3e2a-4008-aaee-0c12cace7539",
        "outputId": "219ecb71-c0ac-4fb2-b418-b3ee2dc39022"
      },
      "outputs": [
        {
          "name": "stdout",
          "output_type": "stream",
          "text": [
            "Frequent patterns were generated successfully using frequentPatternGrowth algorithm\n",
            "Frequent patterns were generated successfully using frequentPatternGrowth algorithm\n",
            "Frequent patterns were generated successfully using Apriori algorithm\n",
            "  algorithm  minSup  patterns   runtime     memory\n",
            "0   Apriori    2500     11474  0.201130  328089600\n",
            "1   Apriori    3000       152  0.064453  328089600\n"
          ]
        }
      ],
      "source": [
        "# from PAMI.frequentPattern.basic import Apriori as alg\n",
        "from PAMI.frequentPattern.basic._FPGrowth import FPGrowth as alg\n",
        "import pandas as pd\n",
        "\n",
        "# Set the input parameters\n",
        "inputFile = 'Transactional_chess.csv'\n",
        "separator = '\\t'\n",
        "minimumSupportCountList = [ 2500, 3000]\n",
        "\n",
        "# Initialize a data frame to store the results of Apriori\n",
        "result = pd.DataFrame(columns=['algorithm', 'minSup', 'patterns', 'runtime', 'memory'])\n",
        "\n",
        "# Execute the algorithm at different minSup values\n",
        "for minSupCount in minimumSupportCountList:\n",
        "    obj = alg(inputFile, minSup=minSupCount, sep=separator)\n",
        "    obj.mine()\n",
        "    # Store the results in the data frame\n",
        "    result.loc[result.shape[0]] = ['Apriori', minSupCount, len(obj.getPatterns()), obj.getRuntime(), obj.getMemoryRSS()]\n",
        "\n",
        "# Print the results\n",
        "print(f\"Frequent patterns were generated successfully using Apriori algorithm\")\n",
        "\n",
        "print(result)"
      ]
    },
    {
      "cell_type": "markdown",
      "id": "c04ee119-4e74-4223-9908-94538ca79645",
      "metadata": {
        "id": "c04ee119-4e74-4223-9908-94538ca79645"
      },
      "source": [
        "## Test Case3 for chess Dataset"
      ]
    },
    {
      "cell_type": "code",
      "execution_count": null,
      "id": "ed994887-21e3-4941-b891-a8a8cd41f0a3",
      "metadata": {
        "id": "ed994887-21e3-4941-b891-a8a8cd41f0a3",
        "outputId": "9bb46de2-354b-493e-92b0-a5f36c186020"
      },
      "outputs": [
        {
          "name": "stdout",
          "output_type": "stream",
          "text": [
            "Frequent patterns were generated successfully using Apriori algorithm \n",
            "Frequent patterns were generated successfully using Apriori algorithm \n",
            "Frequent patterns were generated successfully using Apriori algorithm\n",
            "  algorithm  minSup  patterns   runtime     memory\n",
            "0   Apriori    2500     11401  8.353095  259592192\n",
            "1   Apriori    3000       151  0.092195  259592192\n"
          ]
        }
      ],
      "source": [
        "import Apriori1 as alg\n",
        "import pandas as pd\n",
        "\n",
        "# Set the input parameters\n",
        "inputFile = 'Transactional_chess.csv'\n",
        "separator = '\\t'\n",
        "minimumSupportCountList = [2500, 3000]\n",
        "\n",
        "# Read the CSV file into a DataFrame\n",
        "df = pd.read_csv(inputFile, header=[0], sep=' ')\n",
        "df = df.rename(columns={df.columns[0]: \"Transactions\"})\n",
        "\n",
        "# Ensure all data in the \"Transaction\" column is string before splitting\n",
        "df[\"Transactions\"] = df[\"Transactions\"].astype(str)\n",
        "\n",
        "# Preprocess the dataset\n",
        "# transactions = df[\"Transaction\"].apply(lambda x: x.split(separator)).tolist()\n",
        "transactions = df['Transactions'].apply(lambda x: x.split(separator))\n",
        "transactions = pd.DataFrame(transactions, columns=['Transactions'])\n",
        "\n",
        "# Initialize a data frame to store the results of Apriori\n",
        "result = pd.DataFrame(columns=['algorithm', 'minSup', 'patterns', 'runtime', 'memory'])\n",
        "\n",
        "# Execute the algorithm at different minSup values\n",
        "for minSupCount in minimumSupportCountList:\n",
        "    obj = alg.Apriori(transactions, minSup=minSupCount, sep=separator)\n",
        "    obj.mine()\n",
        "\n",
        "    # Get the patterns found\n",
        "    patterns = obj.getPatterns()\n",
        "\n",
        "    # Store the results in the data frame\n",
        "    result.loc[len(result)] = ['Apriori', minSupCount, len(patterns), obj.getRuntime(), obj.getMemoryRSS()]\n",
        "\n",
        "# Print the results\n",
        "print(\"Frequent patterns were generated successfully using Apriori algorithm\")\n",
        "print(result)\n"
      ]
    },
    {
      "cell_type": "code",
      "execution_count": null,
      "id": "97b65ba0-0e49-450f-a35f-e43b53cdac59",
      "metadata": {
        "id": "97b65ba0-0e49-450f-a35f-e43b53cdac59",
        "outputId": "0cd6911b-631a-4414-e483-9f454608e619"
      },
      "outputs": [
        {
          "name": "stdout",
          "output_type": "stream",
          "text": [
            "Frequent patterns were generated successfully using frequentPatternGrowth algorithm\n",
            "Frequent patterns were generated successfully using frequentPatternGrowth algorithm\n",
            "Frequent patterns were generated successfully using Apriori algorithm\n",
            "  algorithm  minSup  patterns   runtime     memory\n",
            "0   Apriori    2500     11401  0.244466  252252160\n",
            "1   Apriori    3000       151  0.050822  252252160\n"
          ]
        }
      ],
      "source": [
        "# from PAMI.frequentPattern.basic import Apriori as alg\n",
        "from PAMI.frequentPattern.basic._FPGrowth import FPGrowth as alg\n",
        "import pandas as pd\n",
        "\n",
        "# Set the input parameters\n",
        "inputFile = 'Transactional_chess.csv'\n",
        "separator = '\\t'\n",
        "minimumSupportCountList = [ 2500, 3000]\n",
        "\n",
        "# Read the CSV file into a DataFrame\n",
        "df = pd.read_csv(inputFile, header=[0], sep=' ')\n",
        "df = df.rename(columns={df.columns[0]: \"Transactions\"})\n",
        "\n",
        "# Ensure all data in the \"Transaction\" column is string before splitting\n",
        "df[\"Transactions\"] = df[\"Transactions\"].astype(str)\n",
        "\n",
        "# Preprocess the dataset\n",
        "# transactions = df[\"Transaction\"].apply(lambda x: x.split(separator)).tolist()\n",
        "transactions = df['Transactions'].apply(lambda x: x.split(separator))\n",
        "transactions = pd.DataFrame(transactions, columns=['Transactions'])\n",
        "\n",
        "# Initialize a data frame to store the results of Apriori\n",
        "result = pd.DataFrame(columns=['algorithm', 'minSup', 'patterns', 'runtime', 'memory'])\n",
        "\n",
        "# Execute the algorithm at different minSup values\n",
        "for minSupCount in minimumSupportCountList:\n",
        "    obj = alg(transactions, minSup=minSupCount, sep=separator)\n",
        "    obj.mine()\n",
        "\n",
        "    # Get the patterns found\n",
        "    patterns = obj.getPatterns()\n",
        "\n",
        "    # Store the results in the data frame\n",
        "    result.loc[len(result)] = ['Apriori', minSupCount, len(patterns), obj.getRuntime(), obj.getMemoryRSS()]\n",
        "\n",
        "# Print the results\n",
        "print(\"Frequent patterns were generated successfully using Apriori algorithm\")\n",
        "print(result)\n"
      ]
    },
    {
      "cell_type": "code",
      "execution_count": null,
      "id": "9579ff33-756d-4671-b67c-0e3763dccaa2",
      "metadata": {
        "id": "9579ff33-756d-4671-b67c-0e3763dccaa2"
      },
      "outputs": [],
      "source": []
    },
    {
      "cell_type": "code",
      "execution_count": null,
      "id": "19655e5d-e121-43b3-9d3e-6c191a3108ed",
      "metadata": {
        "id": "19655e5d-e121-43b3-9d3e-6c191a3108ed"
      },
      "outputs": [],
      "source": []
    },
    {
      "cell_type": "code",
      "execution_count": null,
      "id": "61de7e1a-c766-4c49-9629-e5b045db3ff3",
      "metadata": {
        "id": "61de7e1a-c766-4c49-9629-e5b045db3ff3"
      },
      "outputs": [],
      "source": []
    }
  ],
  "metadata": {
    "kernelspec": {
      "display_name": "Python 3 (ipykernel)",
      "language": "python",
      "name": "python3"
    },
    "language_info": {
      "codemirror_mode": {
        "name": "ipython",
        "version": 3
      },
      "file_extension": ".py",
      "mimetype": "text/x-python",
      "name": "python",
      "nbconvert_exporter": "python",
      "pygments_lexer": "ipython3",
      "version": "3.10.14"
    },
    "colab": {
      "provenance": [],
      "include_colab_link": true
    }
  },
  "nbformat": 4,
  "nbformat_minor": 5
}