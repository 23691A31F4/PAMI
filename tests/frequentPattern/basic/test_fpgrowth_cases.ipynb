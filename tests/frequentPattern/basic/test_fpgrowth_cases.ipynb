{
  "nbformat": 4,
  "nbformat_minor": 0,
  "metadata": {
    "colab": {
      "provenance": [],
      "authorship_tag": "ABX9TyNLx93HaxJKfwCgJJQxOxMO"
    },
    "kernelspec": {
      "name": "python3",
      "display_name": "Python 3"
    },
    "language_info": {
      "name": "python"
    }
  },
  "cells": [
    {
      "cell_type": "code",
      "execution_count": null,
      "metadata": {
        "colab": {
          "base_uri": "https://localhost:8080/"
        },
        "id": "9Na69EgM2ubn",
        "outputId": "17be1f50-3476-421e-ba16-25bc1448a3ab"
      },
      "outputs": [
        {
          "output_type": "stream",
          "name": "stdout",
          "text": [
            "Collecting pami\n",
            "  Downloading pami-2024.5.29.2-py3-none-any.whl (1.0 MB)\n",
            "\u001b[2K     \u001b[90m━━━━━━━━━━━━━━━━━━━━━━━━━━━━━━━━━━━━━━━━\u001b[0m \u001b[32m1.0/1.0 MB\u001b[0m \u001b[31m10.6 MB/s\u001b[0m eta \u001b[36m0:00:00\u001b[0m\n",
            "\u001b[?25hRequirement already satisfied: psutil in /usr/local/lib/python3.10/dist-packages (from pami) (5.9.5)\n",
            "Requirement already satisfied: pandas in /usr/local/lib/python3.10/dist-packages (from pami) (2.0.3)\n",
            "Requirement already satisfied: plotly in /usr/local/lib/python3.10/dist-packages (from pami) (5.15.0)\n",
            "Requirement already satisfied: matplotlib in /usr/local/lib/python3.10/dist-packages (from pami) (3.7.1)\n",
            "Collecting resource (from pami)\n",
            "  Downloading Resource-0.2.1-py2.py3-none-any.whl (25 kB)\n",
            "Collecting validators (from pami)\n",
            "  Downloading validators-0.28.3-py3-none-any.whl (40 kB)\n",
            "\u001b[2K     \u001b[90m━━━━━━━━━━━━━━━━━━━━━━━━━━━━━━━━━━━━━━━━\u001b[0m \u001b[32m40.0/40.0 kB\u001b[0m \u001b[31m6.3 MB/s\u001b[0m eta \u001b[36m0:00:00\u001b[0m\n",
            "\u001b[?25hRequirement already satisfied: urllib3 in /usr/local/lib/python3.10/dist-packages (from pami) (2.0.7)\n",
            "Requirement already satisfied: Pillow in /usr/local/lib/python3.10/dist-packages (from pami) (9.4.0)\n",
            "Requirement already satisfied: numpy in /usr/local/lib/python3.10/dist-packages (from pami) (1.25.2)\n",
            "Requirement already satisfied: sphinx in /usr/local/lib/python3.10/dist-packages (from pami) (5.0.2)\n",
            "Collecting sphinx-rtd-theme (from pami)\n",
            "  Downloading sphinx_rtd_theme-2.0.0-py2.py3-none-any.whl (2.8 MB)\n",
            "\u001b[2K     \u001b[90m━━━━━━━━━━━━━━━━━━━━━━━━━━━━━━━━━━━━━━━━\u001b[0m \u001b[32m2.8/2.8 MB\u001b[0m \u001b[31m57.4 MB/s\u001b[0m eta \u001b[36m0:00:00\u001b[0m\n",
            "\u001b[?25hCollecting discord.py (from pami)\n",
            "  Downloading discord.py-2.3.2-py3-none-any.whl (1.1 MB)\n",
            "\u001b[2K     \u001b[90m━━━━━━━━━━━━━━━━━━━━━━━━━━━━━━━━━━━━━━━━\u001b[0m \u001b[32m1.1/1.1 MB\u001b[0m \u001b[31m67.6 MB/s\u001b[0m eta \u001b[36m0:00:00\u001b[0m\n",
            "\u001b[?25hRequirement already satisfied: networkx in /usr/local/lib/python3.10/dist-packages (from pami) (3.3)\n",
            "Collecting deprecated (from pami)\n",
            "  Downloading Deprecated-1.2.14-py2.py3-none-any.whl (9.6 kB)\n",
            "Requirement already satisfied: wrapt<2,>=1.10 in /usr/local/lib/python3.10/dist-packages (from deprecated->pami) (1.14.1)\n",
            "Requirement already satisfied: aiohttp<4,>=3.7.4 in /usr/local/lib/python3.10/dist-packages (from discord.py->pami) (3.9.5)\n",
            "Requirement already satisfied: contourpy>=1.0.1 in /usr/local/lib/python3.10/dist-packages (from matplotlib->pami) (1.2.1)\n",
            "Requirement already satisfied: cycler>=0.10 in /usr/local/lib/python3.10/dist-packages (from matplotlib->pami) (0.12.1)\n",
            "Requirement already satisfied: fonttools>=4.22.0 in /usr/local/lib/python3.10/dist-packages (from matplotlib->pami) (4.52.4)\n",
            "Requirement already satisfied: kiwisolver>=1.0.1 in /usr/local/lib/python3.10/dist-packages (from matplotlib->pami) (1.4.5)\n",
            "Requirement already satisfied: packaging>=20.0 in /usr/local/lib/python3.10/dist-packages (from matplotlib->pami) (24.0)\n",
            "Requirement already satisfied: pyparsing>=2.3.1 in /usr/local/lib/python3.10/dist-packages (from matplotlib->pami) (3.1.2)\n",
            "Requirement already satisfied: python-dateutil>=2.7 in /usr/local/lib/python3.10/dist-packages (from matplotlib->pami) (2.8.2)\n",
            "Requirement already satisfied: pytz>=2020.1 in /usr/local/lib/python3.10/dist-packages (from pandas->pami) (2023.4)\n",
            "Requirement already satisfied: tzdata>=2022.1 in /usr/local/lib/python3.10/dist-packages (from pandas->pami) (2024.1)\n",
            "Requirement already satisfied: tenacity>=6.2.0 in /usr/local/lib/python3.10/dist-packages (from plotly->pami) (8.3.0)\n",
            "Collecting JsonForm>=0.0.2 (from resource->pami)\n",
            "  Downloading JsonForm-0.0.2.tar.gz (2.4 kB)\n",
            "  Preparing metadata (setup.py) ... \u001b[?25l\u001b[?25hdone\n",
            "Collecting JsonSir>=0.0.2 (from resource->pami)\n",
            "  Downloading JsonSir-0.0.2.tar.gz (2.2 kB)\n",
            "  Preparing metadata (setup.py) ... \u001b[?25l\u001b[?25hdone\n",
            "Collecting python-easyconfig>=0.1.0 (from resource->pami)\n",
            "  Downloading Python_EasyConfig-0.1.7-py2.py3-none-any.whl (5.4 kB)\n",
            "Requirement already satisfied: sphinxcontrib-applehelp in /usr/local/lib/python3.10/dist-packages (from sphinx->pami) (1.0.8)\n",
            "Requirement already satisfied: sphinxcontrib-devhelp in /usr/local/lib/python3.10/dist-packages (from sphinx->pami) (1.0.6)\n",
            "Requirement already satisfied: sphinxcontrib-jsmath in /usr/local/lib/python3.10/dist-packages (from sphinx->pami) (1.0.1)\n",
            "Requirement already satisfied: sphinxcontrib-htmlhelp>=2.0.0 in /usr/local/lib/python3.10/dist-packages (from sphinx->pami) (2.0.5)\n",
            "Requirement already satisfied: sphinxcontrib-serializinghtml>=1.1.5 in /usr/local/lib/python3.10/dist-packages (from sphinx->pami) (1.1.10)\n",
            "Requirement already satisfied: sphinxcontrib-qthelp in /usr/local/lib/python3.10/dist-packages (from sphinx->pami) (1.0.7)\n",
            "Requirement already satisfied: Jinja2>=2.3 in /usr/local/lib/python3.10/dist-packages (from sphinx->pami) (3.1.4)\n",
            "Requirement already satisfied: Pygments>=2.0 in /usr/local/lib/python3.10/dist-packages (from sphinx->pami) (2.16.1)\n",
            "Requirement already satisfied: docutils<0.19,>=0.14 in /usr/local/lib/python3.10/dist-packages (from sphinx->pami) (0.18.1)\n",
            "Requirement already satisfied: snowballstemmer>=1.1 in /usr/local/lib/python3.10/dist-packages (from sphinx->pami) (2.2.0)\n",
            "Requirement already satisfied: babel>=1.3 in /usr/local/lib/python3.10/dist-packages (from sphinx->pami) (2.15.0)\n",
            "Requirement already satisfied: alabaster<0.8,>=0.7 in /usr/local/lib/python3.10/dist-packages (from sphinx->pami) (0.7.16)\n",
            "Requirement already satisfied: imagesize in /usr/local/lib/python3.10/dist-packages (from sphinx->pami) (1.4.1)\n",
            "Requirement already satisfied: requests>=2.5.0 in /usr/local/lib/python3.10/dist-packages (from sphinx->pami) (2.31.0)\n",
            "Collecting sphinxcontrib-jquery<5,>=4 (from sphinx-rtd-theme->pami)\n",
            "  Downloading sphinxcontrib_jquery-4.1-py2.py3-none-any.whl (121 kB)\n",
            "\u001b[2K     \u001b[90m━━━━━━━━━━━━━━━━━━━━━━━━━━━━━━━━━━━━━━━━\u001b[0m \u001b[32m121.1/121.1 kB\u001b[0m \u001b[31m15.0 MB/s\u001b[0m eta \u001b[36m0:00:00\u001b[0m\n",
            "\u001b[?25hRequirement already satisfied: aiosignal>=1.1.2 in /usr/local/lib/python3.10/dist-packages (from aiohttp<4,>=3.7.4->discord.py->pami) (1.3.1)\n",
            "Requirement already satisfied: attrs>=17.3.0 in /usr/local/lib/python3.10/dist-packages (from aiohttp<4,>=3.7.4->discord.py->pami) (23.2.0)\n",
            "Requirement already satisfied: frozenlist>=1.1.1 in /usr/local/lib/python3.10/dist-packages (from aiohttp<4,>=3.7.4->discord.py->pami) (1.4.1)\n",
            "Requirement already satisfied: multidict<7.0,>=4.5 in /usr/local/lib/python3.10/dist-packages (from aiohttp<4,>=3.7.4->discord.py->pami) (6.0.5)\n",
            "Requirement already satisfied: yarl<2.0,>=1.0 in /usr/local/lib/python3.10/dist-packages (from aiohttp<4,>=3.7.4->discord.py->pami) (1.9.4)\n",
            "Requirement already satisfied: async-timeout<5.0,>=4.0 in /usr/local/lib/python3.10/dist-packages (from aiohttp<4,>=3.7.4->discord.py->pami) (4.0.3)\n",
            "Requirement already satisfied: MarkupSafe>=2.0 in /usr/local/lib/python3.10/dist-packages (from Jinja2>=2.3->sphinx->pami) (2.1.5)\n",
            "Requirement already satisfied: jsonschema in /usr/local/lib/python3.10/dist-packages (from JsonForm>=0.0.2->resource->pami) (4.19.2)\n",
            "Requirement already satisfied: six>=1.5 in /usr/local/lib/python3.10/dist-packages (from python-dateutil>=2.7->matplotlib->pami) (1.16.0)\n",
            "Requirement already satisfied: PyYAML in /usr/local/lib/python3.10/dist-packages (from python-easyconfig>=0.1.0->resource->pami) (6.0.1)\n",
            "Requirement already satisfied: charset-normalizer<4,>=2 in /usr/local/lib/python3.10/dist-packages (from requests>=2.5.0->sphinx->pami) (3.3.2)\n",
            "Requirement already satisfied: idna<4,>=2.5 in /usr/local/lib/python3.10/dist-packages (from requests>=2.5.0->sphinx->pami) (3.7)\n",
            "Requirement already satisfied: certifi>=2017.4.17 in /usr/local/lib/python3.10/dist-packages (from requests>=2.5.0->sphinx->pami) (2024.2.2)\n",
            "Requirement already satisfied: jsonschema-specifications>=2023.03.6 in /usr/local/lib/python3.10/dist-packages (from jsonschema->JsonForm>=0.0.2->resource->pami) (2023.12.1)\n",
            "Requirement already satisfied: referencing>=0.28.4 in /usr/local/lib/python3.10/dist-packages (from jsonschema->JsonForm>=0.0.2->resource->pami) (0.35.1)\n",
            "Requirement already satisfied: rpds-py>=0.7.1 in /usr/local/lib/python3.10/dist-packages (from jsonschema->JsonForm>=0.0.2->resource->pami) (0.18.1)\n",
            "Building wheels for collected packages: JsonForm, JsonSir\n",
            "  Building wheel for JsonForm (setup.py) ... \u001b[?25l\u001b[?25hdone\n",
            "  Created wheel for JsonForm: filename=JsonForm-0.0.2-py3-none-any.whl size=3314 sha256=a08e894b3441ae614eacc081320ae1397ec363e4cdd685a6e9e7578d8be1c2f7\n",
            "  Stored in directory: /root/.cache/pip/wheels/b6/e5/87/11026246d3bd4ad67c0615682d2d6748bbd9a40ac0490882bd\n",
            "  Building wheel for JsonSir (setup.py) ... \u001b[?25l\u001b[?25hdone\n",
            "  Created wheel for JsonSir: filename=JsonSir-0.0.2-py3-none-any.whl size=4752 sha256=6a010eca7e07cdc13c799049d8da78eef23f65a0aa1edb5fbbfd9440d2bce7b4\n",
            "  Stored in directory: /root/.cache/pip/wheels/1d/4c/d3/4d9757425983b43eb709be1043d82cd03fb863ce5f56f117e6\n",
            "Successfully built JsonForm JsonSir\n",
            "Installing collected packages: JsonSir, validators, python-easyconfig, deprecated, sphinxcontrib-jquery, discord.py, sphinx-rtd-theme, JsonForm, resource, pami\n",
            "Successfully installed JsonForm-0.0.2 JsonSir-0.0.2 deprecated-1.2.14 discord.py-2.3.2 pami-2024.5.29.2 python-easyconfig-0.1.7 resource-0.2.1 sphinx-rtd-theme-2.0.0 sphinxcontrib-jquery-4.1 validators-0.28.3\n"
          ]
        }
      ],
      "source": [
        "!pip install pami"
      ]
    },
    {
      "cell_type": "markdown",
      "source": [
        "##Test Cases for T10I4D100K Dataset##"
      ],
      "metadata": {
        "id": "1Sbla5oaJRBA"
      }
    },
    {
      "cell_type": "markdown",
      "source": [
        "###Test Case1 for T10I4D100K Dataset###"
      ],
      "metadata": {
        "id": "lV9G7f_zJZvL"
      }
    },
    {
      "cell_type": "code",
      "source": [
        "#import the class file\n",
        "from PAMI.frequentPattern.basic import FPGrowth as alg\n",
        "import pandas as pd\n",
        "\n",
        "#set the input parameters\n",
        "URL = 'https://u-aizu.ac.jp/~udayrage/datasets/transactionalDatabases/Transactional_T10I4D100K.csv'\n",
        "separator = '\\t'\n",
        "minSupCntLst = [500,1000,1500,2000,2500]\n",
        "\n",
        "#Intialise a dataframe to store the results of FPGrowth\n",
        "result = pd.DataFrame(columns = ['algorithm','minSup','patterns','runtime','memory'])\n",
        "\n",
        "#Execute the alogithm at minSup Values\n",
        "for minSupCnt in minSupCntLst:\n",
        "  obj = alg.FPGrowth(URL,minSup=minSupCnt,sep=separator)\n",
        "  obj.mine()\n",
        "  #store the results in dataframe\n",
        "  result.loc[result.shape[0]] = ['FPGrowth',minSupCnt,len(obj.getPatterns()),obj.getRuntime(),obj.getMemoryRSS()]\n",
        "\n",
        "#print the results\n",
        "print(\"Freqent Patterns were generated successfully using FPGrowth algorithm\")\n",
        "print(result)\n"
      ],
      "metadata": {
        "colab": {
          "base_uri": "https://localhost:8080/"
        },
        "id": "HQEEMB54Mso3",
        "outputId": "996c2613-7e45-4e6e-94c1-7f62053e7b5b"
      },
      "execution_count": null,
      "outputs": [
        {
          "output_type": "stream",
          "name": "stdout",
          "text": [
            "Frequent patterns were generated successfully using frequentPatternGrowth algorithm\n",
            "Frequent patterns were generated successfully using frequentPatternGrowth algorithm\n",
            "Frequent patterns were generated successfully using frequentPatternGrowth algorithm\n",
            "Frequent patterns were generated successfully using frequentPatternGrowth algorithm\n",
            "Frequent patterns were generated successfully using frequentPatternGrowth algorithm\n",
            "Freqent Patterns were generated successfully using FPGrowth algorithm\n",
            "  algorithm  minSup  patterns    runtime     memory\n",
            "0  FPGrowth     500      1072  17.410924  530931712\n",
            "1  FPGrowth    1000       385  12.338123  472686592\n",
            "2  FPGrowth    1500       237  12.177727  430284800\n",
            "3  FPGrowth    2000       155   9.228505  383991808\n",
            "4  FPGrowth    2500       107   7.628607  361459712\n"
          ]
        }
      ]
    },
    {
      "cell_type": "code",
      "source": [
        "!wget -nc https://u-aizu.ac.jp/~udayrage/datasets/transactionalDatabases/Transactional_T10I4D100K.csv #download the sample transactional database"
      ],
      "metadata": {
        "colab": {
          "base_uri": "https://localhost:8080/"
        },
        "id": "PXXe1tQJSFJU",
        "outputId": "7b39fbc3-c11b-4314-9bff-5fd5b21e4c38"
      },
      "execution_count": null,
      "outputs": [
        {
          "output_type": "stream",
          "name": "stdout",
          "text": [
            "--2024-06-04 13:22:43--  https://u-aizu.ac.jp/~udayrage/datasets/transactionalDatabases/Transactional_T10I4D100K.csv\n",
            "Resolving u-aizu.ac.jp (u-aizu.ac.jp)... 150.31.244.160, 150.95.161.176\n",
            "Connecting to u-aizu.ac.jp (u-aizu.ac.jp)|150.31.244.160|:443... connected.\n",
            "HTTP request sent, awaiting response... 200 OK\n",
            "Length: 4019277 (3.8M) [text/csv]\n",
            "Saving to: ‘Transactional_T10I4D100K.csv’\n",
            "\n",
            "Transactional_T10I4 100%[===================>]   3.83M   808KB/s    in 4.9s    \n",
            "\n",
            "2024-06-04 13:22:49 (808 KB/s) - ‘Transactional_T10I4D100K.csv’ saved [4019277/4019277]\n",
            "\n"
          ]
        }
      ]
    },
    {
      "cell_type": "markdown",
      "source": [
        "###Test Case2 for T10I4D100K Dataset###"
      ],
      "metadata": {
        "id": "_HoMBwoVJllW"
      }
    },
    {
      "cell_type": "code",
      "source": [
        "#import the class file\n",
        "from PAMI.frequentPattern.basic import FPGrowth as alg\n",
        "import pandas as pd\n",
        "\n",
        "#specify the filename\n",
        "inputFile = 'Transactional_T10I4D100K.csv'\n",
        "\n",
        "separator = '\\t'\n",
        "minSupCntLst = [500,1000,1500,2000,2500]\n",
        "\n",
        "#Intialise the dataframe to store the results of FPGrowth\n",
        "result = pd.DataFrame(columns = ['algorithm','minSup','patterns','runtime','memory'])\n",
        "\n",
        "#Execute the algorithm at different minSup Values\n",
        "for minSupCnt in minSupCntLst:\n",
        "  obj = alg.FPGrowth(inputFile,minSupCnt,separator)\n",
        "  obj.mine() #Pattern Mining starts\n",
        "  #store the results in DataFrame\n",
        "  result.loc[result.shape[0]] = ['FPGrowth',minSupCnt,len(obj.getPatterns()),obj.getRuntime(),obj.getMemoryRSS()]\n",
        "\n",
        "#printing the results\n",
        "print(\"\\n\\nFrequent Patterns were generated successfully using FPGrowth Algorithm\")\n",
        "print(result)\n",
        "\n"
      ],
      "metadata": {
        "colab": {
          "base_uri": "https://localhost:8080/"
        },
        "id": "_cr-eofyVRb2",
        "outputId": "4fcb0aa6-07b5-42ac-dddd-26524e6a335b"
      },
      "execution_count": null,
      "outputs": [
        {
          "output_type": "stream",
          "name": "stdout",
          "text": [
            "Frequent patterns were generated successfully using frequentPatternGrowth algorithm\n",
            "Frequent patterns were generated successfully using frequentPatternGrowth algorithm\n",
            "Frequent patterns were generated successfully using frequentPatternGrowth algorithm\n",
            "Frequent patterns were generated successfully using frequentPatternGrowth algorithm\n",
            "Frequent patterns were generated successfully using frequentPatternGrowth algorithm\n",
            "\n",
            "\n",
            "Frequent Patterns were generated successfully using FPGrowth Algorithm\n",
            "  algorithm  minSup  patterns    runtime     memory\n",
            "0  FPGrowth     500      1072  12.449115  533274624\n",
            "1  FPGrowth    1000       385   6.969117  473108480\n",
            "2  FPGrowth    1500       237   5.550329  443334656\n",
            "3  FPGrowth    2000       155   3.697212  339734528\n",
            "4  FPGrowth    2500       107   2.473333  299278336\n"
          ]
        }
      ]
    },
    {
      "cell_type": "markdown",
      "source": [
        "###Test Case3 for T10I4D100K Dataset###"
      ],
      "metadata": {
        "id": "7OvsJjVOJtrH"
      }
    },
    {
      "cell_type": "code",
      "source": [
        "from PAMI.frequentPattern.basic import FPGrowth as alg\n",
        "import pandas as pd\n",
        "\n",
        "inputFile = 'Transactional_T10I4D100K.csv'\n",
        "separator = '\\t'\n",
        "minimumSupportCountList = [500, 1000, 1500, 2000, 2500]\n",
        "\n",
        "#Read the CSV file into DataFrame\n",
        "df = pd.read_csv(inputFile, header=[0], sep=' ')\n",
        "df = df.rename(columns={df.columns[0]: \"Transactions\"})\n",
        "\n",
        "#Ensure all data in Transaction column in string before splitting\n",
        "df[\"Transactions\"] = df[\"Transactions\"].astype(str)\n",
        "\n",
        "transactions = df['Transactions'].apply(lambda x: x.split(separator))\n",
        "transactions = pd.DataFrame(transactions, columns=['Transactions'])\n",
        "\n",
        "result = pd.DataFrame(columns=['algorithm', 'minSup', 'patterns', 'runtime', 'memory'])\n",
        "\n",
        "for minSupCount in minimumSupportCountList:\n",
        "    obj = alg.FPGrowth(transactions, minSup=minSupCount, sep=separator)\n",
        "    obj.mine()\n",
        "\n",
        "    # Get the patterns found\n",
        "    patterns = obj.getPatterns()\n",
        "\n",
        "    # Store the results in the data frame\n",
        "    result.loc[len(result)] = ['FPGrowth', minSupCount, len(patterns), obj.getRuntime(), obj.getMemoryRSS()]\n",
        "\n",
        "# Print the results\n",
        "print(\"Frequent patterns were generated successfully using FPgrowth algorithm\")\n",
        "print(result)"
      ],
      "metadata": {
        "colab": {
          "base_uri": "https://localhost:8080/"
        },
        "id": "3-Ngs4g4tvtt",
        "outputId": "cd6530d9-bc8e-45b5-d659-5d2decda46c1"
      },
      "execution_count": null,
      "outputs": [
        {
          "output_type": "stream",
          "name": "stdout",
          "text": [
            "Frequent patterns were generated successfully using frequentPatternGrowth algorithm\n",
            "Frequent patterns were generated successfully using frequentPatternGrowth algorithm\n",
            "Frequent patterns were generated successfully using frequentPatternGrowth algorithm\n",
            "Frequent patterns were generated successfully using frequentPatternGrowth algorithm\n",
            "Frequent patterns were generated successfully using frequentPatternGrowth algorithm\n",
            "Frequent patterns were generated successfully using FPgrowth algorithm\n",
            "  algorithm  minSup  patterns   runtime     memory\n",
            "0  FPGrowth     500      1072  8.285263  544292864\n",
            "1  FPGrowth    1000       385  5.465510  485957632\n",
            "2  FPGrowth    1500       237  5.121198  411975680\n",
            "3  FPGrowth    2000       155  2.769777  379371520\n",
            "4  FPGrowth    2500       107  2.055129  356438016\n"
          ]
        }
      ]
    },
    {
      "cell_type": "markdown",
      "source": [
        "##Test Cases Retail Dataset##"
      ],
      "metadata": {
        "id": "qlCgsUILKwmk"
      }
    },
    {
      "cell_type": "markdown",
      "source": [
        "##Test Case1 for Retail Dataset##"
      ],
      "metadata": {
        "id": "zp7Hc3xEK04h"
      }
    },
    {
      "cell_type": "code",
      "source": [
        "#import the class file\n",
        "from PAMI.frequentPattern.basic import FPGrowth as alg\n",
        "import pandas as pd\n",
        "\n",
        "#set the input parameters\n",
        "URL = 'https://u-aizu.ac.jp/~udayrage/datasets/transactionalDatabases/Transactional_retail.csv'\n",
        "separator = '\\t'\n",
        "minSupCntLst = [500,1000,1500,2000,2500]\n",
        "\n",
        "#Intialise a dataframe to store the results of FPGrowth\n",
        "result = pd.DataFrame(columns = ['algorithm','minSup','patterns','runtime','memory'])\n",
        "\n",
        "#Execute the alogithm at minSup Values\n",
        "for minSupCnt in minSupCntLst:\n",
        "  obj = alg.FPGrowth(URL,minSup=minSupCnt,sep=separator)\n",
        "  obj.mine()\n",
        "  #store the results in dataframe\n",
        "  result.loc[result.shape[0]] = ['FPGrowth',minSupCnt,len(obj.getPatterns()),obj.getRuntime(),obj.getMemoryRSS()]\n",
        "\n",
        "#print the results\n",
        "print(\"Freqent Patterns were generated successfully using FPGrowth algorithm\")\n",
        "print(result)\n"
      ],
      "metadata": {
        "colab": {
          "base_uri": "https://localhost:8080/"
        },
        "id": "p_CtuYi4K3-x",
        "outputId": "b9dbad33-4662-4501-989f-8db65973f9b3"
      },
      "execution_count": null,
      "outputs": [
        {
          "output_type": "stream",
          "name": "stdout",
          "text": [
            "Frequent patterns were generated successfully using frequentPatternGrowth algorithm\n",
            "Frequent patterns were generated successfully using frequentPatternGrowth algorithm\n",
            "Frequent patterns were generated successfully using frequentPatternGrowth algorithm\n",
            "Frequent patterns were generated successfully using frequentPatternGrowth algorithm\n",
            "Frequent patterns were generated successfully using frequentPatternGrowth algorithm\n",
            "Freqent Patterns were generated successfully using FPGrowth algorithm\n",
            "  algorithm  minSup  patterns   runtime     memory\n",
            "0  FPGrowth     500       468  7.888981  361549824\n",
            "1  FPGrowth    1000       135  6.435440  352976896\n",
            "2  FPGrowth    1500        68  6.287803  352976896\n",
            "3  FPGrowth    2000        45  6.606285  351928320\n",
            "4  FPGrowth    2500        34  5.966777  351928320\n"
          ]
        }
      ]
    },
    {
      "cell_type": "markdown",
      "source": [
        "##Test Case2 for Retail Dataset##"
      ],
      "metadata": {
        "id": "utpBX7KsLTle"
      }
    },
    {
      "cell_type": "code",
      "source": [
        "!wget -nc https://u-aizu.ac.jp/~udayrage/datasets/transactionalDatabases/Transactional_retail.csv"
      ],
      "metadata": {
        "colab": {
          "base_uri": "https://localhost:8080/"
        },
        "id": "-67sEtERLex1",
        "outputId": "a20034d6-cbe2-4854-e0e5-d61af801680d"
      },
      "execution_count": null,
      "outputs": [
        {
          "output_type": "stream",
          "name": "stdout",
          "text": [
            "--2024-06-04 13:24:18--  https://u-aizu.ac.jp/~udayrage/datasets/transactionalDatabases/Transactional_retail.csv\n",
            "Resolving u-aizu.ac.jp (u-aizu.ac.jp)... 150.31.244.160, 150.95.161.176\n",
            "Connecting to u-aizu.ac.jp (u-aizu.ac.jp)|150.31.244.160|:443... connected.\n",
            "HTTP request sent, awaiting response... 200 OK\n",
            "Length: 4165546 (4.0M) [text/csv]\n",
            "Saving to: ‘Transactional_retail.csv’\n",
            "\n",
            "Transactional_retai 100%[===================>]   3.97M   805KB/s    in 5.3s    \n",
            "\n",
            "2024-06-04 13:24:24 (772 KB/s) - ‘Transactional_retail.csv’ saved [4165546/4165546]\n",
            "\n"
          ]
        }
      ]
    },
    {
      "cell_type": "code",
      "source": [
        "#import the class file\n",
        "from PAMI.frequentPattern.basic import FPGrowth as alg\n",
        "import pandas as pd\n",
        "\n",
        "#specify the filename\n",
        "inputFile = 'Transactional_retail.csv'\n",
        "\n",
        "separator = '\\t'\n",
        "minSupCntLst = [500,1000,1500,2000,2500]\n",
        "\n",
        "#Intialise the dataframe to store the results of FPGrowth\n",
        "result = pd.DataFrame(columns = ['algorithm','minSup','patterns','runtime','memory'])\n",
        "\n",
        "#Execute the algorithm at different minSup Values\n",
        "for minSupCnt in minSupCntLst:\n",
        "  obj = alg.FPGrowth(inputFile,minSupCnt,separator)\n",
        "  obj.mine() #Pattern Mining starts\n",
        "  #store the results in DataFrame\n",
        "  result.loc[result.shape[0]] = ['FPGrowth',minSupCnt,len(obj.getPatterns()),obj.getRuntime(),obj.getMemoryRSS()]\n",
        "\n",
        "#printing the results\n",
        "print(\"\\n\\nFrequent Patterns were generated successfully using FPGrowth Algorithm\")\n",
        "print(result)\n",
        "\n"
      ],
      "metadata": {
        "colab": {
          "base_uri": "https://localhost:8080/"
        },
        "id": "yvYAEFlPLX1R",
        "outputId": "5e088f6a-6444-4632-f895-97a39151c7b3"
      },
      "execution_count": null,
      "outputs": [
        {
          "output_type": "stream",
          "name": "stdout",
          "text": [
            "Frequent patterns were generated successfully using frequentPatternGrowth algorithm\n",
            "Frequent patterns were generated successfully using frequentPatternGrowth algorithm\n",
            "Frequent patterns were generated successfully using frequentPatternGrowth algorithm\n",
            "Frequent patterns were generated successfully using frequentPatternGrowth algorithm\n",
            "Frequent patterns were generated successfully using frequentPatternGrowth algorithm\n",
            "\n",
            "\n",
            "Frequent Patterns were generated successfully using FPGrowth Algorithm\n",
            "  algorithm  minSup  patterns   runtime     memory\n",
            "0  FPGrowth     500       468  2.877296  361390080\n",
            "1  FPGrowth    1000       135  1.201196  411631616\n",
            "2  FPGrowth    1500        68  0.919133  365694976\n",
            "3  FPGrowth    2000        45  0.931795  348917760\n",
            "4  FPGrowth    2500        34  0.913491  356245504\n"
          ]
        }
      ]
    },
    {
      "cell_type": "markdown",
      "source": [
        "##Test Case3 for Retail Dataset##"
      ],
      "metadata": {
        "id": "d1BR9cQbL4T_"
      }
    },
    {
      "cell_type": "code",
      "source": [
        "from PAMI.frequentPattern.basic import FPGrowth as alg\n",
        "import pandas as pd\n",
        "\n",
        "inputFile = 'Transactional_retail.csv'\n",
        "separator = '\\t'\n",
        "minimumSupportCountList = [500, 1000, 1500, 2000, 2500]\n",
        "\n",
        "#Read the CSV file into DataFrame\n",
        "df = pd.read_csv(inputFile, header=[0], sep=' ')\n",
        "df = df.rename(columns={df.columns[0]: \"Transactions\"})\n",
        "\n",
        "#Ensure all data in Transaction column in string before splitting\n",
        "df[\"Transactions\"] = df[\"Transactions\"].astype(str)\n",
        "\n",
        "transactions = df['Transactions'].apply(lambda x: x.split(separator))\n",
        "transactions = pd.DataFrame(transactions, columns=['Transactions'])\n",
        "\n",
        "result = pd.DataFrame(columns=['algorithm', 'minSup', 'patterns', 'runtime', 'memory'])\n",
        "\n",
        "for minSupCount in minimumSupportCountList:\n",
        "    obj = alg.FPGrowth(transactions, minSup=minSupCount, sep=separator)\n",
        "    obj.mine()\n",
        "\n",
        "    # Get the patterns found\n",
        "    patterns = obj.getPatterns()\n",
        "\n",
        "    # Store the results in the data frame\n",
        "    result.loc[len(result)] = ['FPGrowth', minSupCount, len(patterns), obj.getRuntime(), obj.getMemoryRSS()]\n",
        "\n",
        "# Print the results\n",
        "print(\"Frequent patterns were generated successfully using FPGrowth algorithm\")\n",
        "print(result)"
      ],
      "metadata": {
        "colab": {
          "base_uri": "https://localhost:8080/"
        },
        "id": "ic8R9qV8L8BK",
        "outputId": "e9718c6c-d8af-44e2-cc87-0489300e19b3"
      },
      "execution_count": null,
      "outputs": [
        {
          "output_type": "stream",
          "name": "stdout",
          "text": [
            "Frequent patterns were generated successfully using frequentPatternGrowth algorithm\n",
            "Frequent patterns were generated successfully using frequentPatternGrowth algorithm\n",
            "Frequent patterns were generated successfully using frequentPatternGrowth algorithm\n",
            "Frequent patterns were generated successfully using frequentPatternGrowth algorithm\n",
            "Frequent patterns were generated successfully using frequentPatternGrowth algorithm\n",
            "Frequent patterns were generated successfully using FPGrowth algorithm\n",
            "  algorithm  minSup  patterns   runtime     memory\n",
            "0  FPGrowth     500       468  1.550567  338731008\n",
            "1  FPGrowth    1000       135  0.540586  338731008\n",
            "2  FPGrowth    1500        68  0.743513  338731008\n",
            "3  FPGrowth    2000        45  0.733441  338731008\n",
            "4  FPGrowth    2500        34  0.390554  338731008\n"
          ]
        }
      ]
    },
    {
      "cell_type": "markdown",
      "source": [
        "##Test Cases for Chess Dataset##"
      ],
      "metadata": {
        "id": "QDtei0svMJ15"
      }
    },
    {
      "cell_type": "markdown",
      "source": [
        "###Test Case1 for chess Dataset###"
      ],
      "metadata": {
        "id": "lFH7KTLSMNlG"
      }
    },
    {
      "cell_type": "code",
      "source": [
        "#import the class file\n",
        "from PAMI.frequentPattern.basic import FPGrowth as alg\n",
        "import pandas as pd\n",
        "\n",
        "#set the input parameters\n",
        "URL = 'https://u-aizu.ac.jp/~udayrage/datasets/transactionalDatabases/Transactional_chess1.csv'\n",
        "separator = '\\t'\n",
        "minSupCntLst = [2500,3000,3500,4000,4500]\n",
        "\n",
        "#Intialise a dataframe to store the results of FPGrowth\n",
        "result = pd.DataFrame(columns = ['algorithm','minSup','patterns','runtime','memory'])\n",
        "\n",
        "#Execute the alogithm at minSup Values\n",
        "for minSupCnt in minSupCntLst:\n",
        "  obj = alg.FPGrowth(URL,minSup=minSupCnt,sep=separator)\n",
        "  obj.mine()\n",
        "  #store the results in dataframe\n",
        "  result.loc[result.shape[0]] = ['FPGrowth',minSupCnt,len(obj.getPatterns()),obj.getRuntime(),obj.getMemoryRSS()]\n",
        "\n",
        "#print the results\n",
        "print(\"Freqent Patterns were generated successfully using FPGrowth algorithm\")\n",
        "print(result)\n"
      ],
      "metadata": {
        "id": "EnyJDgziMQ_g",
        "colab": {
          "base_uri": "https://localhost:8080/"
        },
        "outputId": "668a4d87-aefa-405c-b4c6-fc78087c4b08"
      },
      "execution_count": null,
      "outputs": [
        {
          "output_type": "stream",
          "name": "stdout",
          "text": [
            "Frequent patterns were generated successfully using frequentPatternGrowth algorithm\n",
            "Frequent patterns were generated successfully using frequentPatternGrowth algorithm\n",
            "Frequent patterns were generated successfully using frequentPatternGrowth algorithm\n",
            "Frequent patterns were generated successfully using frequentPatternGrowth algorithm\n",
            "Frequent patterns were generated successfully using frequentPatternGrowth algorithm\n",
            "Freqent Patterns were generated successfully using FPGrowth algorithm\n",
            "  algorithm  minSup  patterns   runtime     memory\n",
            "0  FPGrowth    2500     11474  2.486462  338731008\n",
            "1  FPGrowth    3000       152  2.191005  338731008\n",
            "2  FPGrowth    3500         0  2.059685  338731008\n",
            "3  FPGrowth    4000         0  2.153821  338731008\n",
            "4  FPGrowth    4500         0  2.178386  338731008\n"
          ]
        }
      ]
    },
    {
      "cell_type": "code",
      "source": [
        "!wget -nc https://u-aizu.ac.jp/~udayrage/datasets/transactionalDatabases/Transactional_chess1.csv"
      ],
      "metadata": {
        "colab": {
          "base_uri": "https://localhost:8080/"
        },
        "id": "-Bccd1RtQqro",
        "outputId": "f07528c6-ca0f-4920-ddf4-7fb946e07ef9"
      },
      "execution_count": null,
      "outputs": [
        {
          "output_type": "stream",
          "name": "stdout",
          "text": [
            "--2024-06-04 13:24:47--  https://u-aizu.ac.jp/~udayrage/datasets/transactionalDatabases/Transactional_chess1.csv\n",
            "Resolving u-aizu.ac.jp (u-aizu.ac.jp)... 150.95.161.176, 150.31.244.160\n",
            "Connecting to u-aizu.ac.jp (u-aizu.ac.jp)|150.95.161.176|:443... connected.\n",
            "HTTP request sent, awaiting response... 200 OK\n",
            "Length: 341866 (334K) [text/csv]\n",
            "Saving to: ‘Transactional_chess1.csv’\n",
            "\n",
            "Transactional_chess 100%[===================>] 333.85K   265KB/s    in 1.3s    \n",
            "\n",
            "2024-06-04 13:24:49 (265 KB/s) - ‘Transactional_chess1.csv’ saved [341866/341866]\n",
            "\n"
          ]
        }
      ]
    },
    {
      "cell_type": "markdown",
      "source": [
        "###Test Case2 for chess Dataset###"
      ],
      "metadata": {
        "id": "52WFBBNNOifI"
      }
    },
    {
      "cell_type": "code",
      "source": [
        "#import the class file\n",
        "from PAMI.frequentPattern.basic import FPGrowth as alg\n",
        "import pandas as pd\n",
        "\n",
        "#specify the filename\n",
        "inputFile = 'Transactional_chess1.csv'\n",
        "\n",
        "separator = '\\t'\n",
        "minSupCntLst = [2500,3000,3500,4000,4500]\n",
        "\n",
        "#Intialise the dataframe to store the results of FPGrowth\n",
        "result = pd.DataFrame(columns = ['algorithm','minSup','patterns','runtime','memory'])\n",
        "\n",
        "#Execute the algorithm at different minSup Values\n",
        "for minSupCnt in minSupCntLst:\n",
        "  obj = alg.FPGrowth(inputFile,minSupCnt,separator)\n",
        "  obj.mine() #Pattern Mining starts\n",
        "  #store the results in DataFrame\n",
        "  result.loc[result.shape[0]] = ['FPGrowth',minSupCnt,len(obj.getPatterns()),obj.getRuntime(),obj.getMemoryRSS()]\n",
        "\n",
        "#printing the results\n",
        "print(\"\\n\\nFrequent Patterns were generated successfully using FPGrowth Algorithm\")\n",
        "print(result)\n",
        "\n"
      ],
      "metadata": {
        "id": "rGhMWcFMQgzH",
        "colab": {
          "base_uri": "https://localhost:8080/"
        },
        "outputId": "1474d64e-8988-4e9d-cf74-561a8fc7501c"
      },
      "execution_count": null,
      "outputs": [
        {
          "output_type": "stream",
          "name": "stdout",
          "text": [
            "Frequent patterns were generated successfully using frequentPatternGrowth algorithm\n",
            "Frequent patterns were generated successfully using frequentPatternGrowth algorithm\n",
            "Frequent patterns were generated successfully using frequentPatternGrowth algorithm\n",
            "Frequent patterns were generated successfully using frequentPatternGrowth algorithm\n",
            "Frequent patterns were generated successfully using frequentPatternGrowth algorithm\n",
            "\n",
            "\n",
            "Frequent Patterns were generated successfully using FPGrowth Algorithm\n",
            "  algorithm  minSup  patterns   runtime     memory\n",
            "0  FPGrowth    2500     11474  0.359474  338501632\n",
            "1  FPGrowth    3000       152  0.126443  338501632\n",
            "2  FPGrowth    3500         0  0.087005  338501632\n",
            "3  FPGrowth    4000         0  0.075831  338501632\n",
            "4  FPGrowth    4500         0  0.079126  338501632\n"
          ]
        }
      ]
    },
    {
      "cell_type": "markdown",
      "source": [
        "###Test Case3 for chess Dataset###"
      ],
      "metadata": {
        "id": "3xmsDFm3RY_a"
      }
    },
    {
      "cell_type": "code",
      "source": [
        "from PAMI.frequentPattern.basic import FPGrowth as alg\n",
        "import pandas as pd\n",
        "\n",
        "inputFile = 'Transactional_chess1.csv'\n",
        "separator = '\\t'\n",
        "minimumSupportCountList = [2500,3000,3500,4000,4500]\n",
        "\n",
        "#Read the CSV file into DataFrame\n",
        "df = pd.read_csv(inputFile, header=[0], sep=' ')\n",
        "df = df.rename(columns={df.columns[0]: \"Transactions\"})\n",
        "\n",
        "#Ensure all data in Transaction column in string before splitting\n",
        "df[\"Transactions\"] = df[\"Transactions\"].astype(str)\n",
        "\n",
        "transactions = df['Transactions'].apply(lambda x: x.split(separator))\n",
        "transactions = pd.DataFrame(transactions, columns=['Transactions'])\n",
        "\n",
        "result = pd.DataFrame(columns=['algorithm', 'minSup', 'patterns', 'runtime', 'memory'])\n",
        "\n",
        "for minSupCount in minimumSupportCountList:\n",
        "    obj = alg.FPGrowth(transactions, minSup=minSupCount, sep=separator)\n",
        "    obj.mine()\n",
        "\n",
        "    # Get the patterns found\n",
        "    patterns = obj.getPatterns()\n",
        "\n",
        "    # Store the results in the data frame\n",
        "    result.loc[len(result)] = ['FPGrowth', minSupCount, len(patterns), obj.getRuntime(), obj.getMemoryRSS()]\n",
        "\n",
        "# Print the results\n",
        "print(\"Frequent patterns were generated successfully using FPGrowth algorithm\")\n",
        "print(result)"
      ],
      "metadata": {
        "id": "pkXOeAcqRdwG",
        "colab": {
          "base_uri": "https://localhost:8080/"
        },
        "outputId": "b6d9d1a6-47bd-4397-ea8f-4409f9fe2d26"
      },
      "execution_count": null,
      "outputs": [
        {
          "output_type": "stream",
          "name": "stdout",
          "text": [
            "Frequent patterns were generated successfully using frequentPatternGrowth algorithm\n",
            "Frequent patterns were generated successfully using frequentPatternGrowth algorithm\n",
            "Frequent patterns were generated successfully using frequentPatternGrowth algorithm\n",
            "Frequent patterns were generated successfully using frequentPatternGrowth algorithm\n",
            "Frequent patterns were generated successfully using frequentPatternGrowth algorithm\n",
            "Frequent patterns were generated successfully using FPGrowth algorithm\n",
            "  algorithm  minSup  patterns   runtime     memory\n",
            "0  FPGrowth    2500     11401  0.200101  279175168\n",
            "1  FPGrowth    3000       151  0.053158  279175168\n",
            "2  FPGrowth    3500         0  0.020171  279175168\n",
            "3  FPGrowth    4000         0  0.020520  279175168\n",
            "4  FPGrowth    4500         0  0.019664  279175168\n"
          ]
        }
      ]
    }
  ]
}