{
 "cells": [
  {
   "cell_type": "code",
   "execution_count": 4,
   "metadata": {},
   "outputs": [
    {
     "name": "stdout",
     "output_type": "stream",
     "text": [
      "Requirement already satisfied: pami in c:\\users\\aechx\\appdata\\roaming\\python\\python310\\site-packages (2024.5.29.2)\n",
      "Requirement already satisfied: psutil in c:\\users\\aechx\\appdata\\roaming\\python\\python310\\site-packages (from pami) (5.9.8)\n",
      "Requirement already satisfied: pandas in c:\\python310\\lib\\site-packages (from pami) (2.2.1)\n",
      "Requirement already satisfied: plotly in c:\\python310\\lib\\site-packages (from pami) (5.18.0)\n",
      "Requirement already satisfied: matplotlib in c:\\users\\aechx\\appdata\\roaming\\python\\python310\\site-packages (from pami) (3.9.0)\n",
      "Requirement already satisfied: resource in c:\\users\\aechx\\appdata\\roaming\\python\\python310\\site-packages (from pami) (0.2.1)\n",
      "Requirement already satisfied: validators in c:\\python310\\lib\\site-packages (from pami) (0.28.3)\n",
      "Requirement already satisfied: urllib3 in c:\\python310\\lib\\site-packages (from pami) (2.2.1)\n",
      "Requirement already satisfied: Pillow in c:\\python310\\lib\\site-packages (from pami) (10.3.0)\n",
      "Requirement already satisfied: numpy in c:\\python310\\lib\\site-packages (from pami) (1.26.4)\n",
      "Requirement already satisfied: sphinx in c:\\users\\aechx\\appdata\\roaming\\python\\python310\\site-packages (from pami) (7.3.7)\n",
      "Requirement already satisfied: sphinx-rtd-theme in c:\\users\\aechx\\appdata\\roaming\\python\\python310\\site-packages (from pami) (2.0.0)\n",
      "Requirement already satisfied: discord.py in c:\\users\\aechx\\appdata\\roaming\\python\\python310\\site-packages (from pami) (2.3.2)\n",
      "Requirement already satisfied: networkx in c:\\python310\\lib\\site-packages (from pami) (3.3)\n",
      "Requirement already satisfied: deprecated in c:\\users\\aechx\\appdata\\roaming\\python\\python310\\site-packages (from pami) (1.2.14)\n",
      "Requirement already satisfied: wrapt<2,>=1.10 in c:\\python310\\lib\\site-packages (from deprecated->pami) (1.16.0)\n",
      "Requirement already satisfied: aiohttp<4,>=3.7.4 in c:\\users\\aechx\\appdata\\roaming\\python\\python310\\site-packages (from discord.py->pami) (3.9.5)\n",
      "Requirement already satisfied: contourpy>=1.0.1 in c:\\users\\aechx\\appdata\\roaming\\python\\python310\\site-packages (from matplotlib->pami) (1.2.1)\n",
      "Requirement already satisfied: cycler>=0.10 in c:\\users\\aechx\\appdata\\roaming\\python\\python310\\site-packages (from matplotlib->pami) (0.12.1)\n",
      "Requirement already satisfied: fonttools>=4.22.0 in c:\\python310\\lib\\site-packages (from matplotlib->pami) (4.52.4)\n",
      "Requirement already satisfied: kiwisolver>=1.3.1 in c:\\python310\\lib\\site-packages (from matplotlib->pami) (1.4.5)\n",
      "Requirement already satisfied: packaging>=20.0 in c:\\users\\aechx\\appdata\\roaming\\python\\python310\\site-packages (from matplotlib->pami) (24.0)\n",
      "Requirement already satisfied: pyparsing>=2.3.1 in c:\\python310\\lib\\site-packages (from matplotlib->pami) (3.1.2)\n",
      "Requirement already satisfied: python-dateutil>=2.7 in c:\\python310\\lib\\site-packages (from matplotlib->pami) (2.8.2)\n",
      "Requirement already satisfied: pytz>=2020.1 in c:\\python310\\lib\\site-packages (from pandas->pami) (2023.3.post1)\n",
      "Requirement already satisfied: tzdata>=2022.7 in c:\\python310\\lib\\site-packages (from pandas->pami) (2023.4)\n",
      "Requirement already satisfied: tenacity>=6.2.0 in c:\\python310\\lib\\site-packages (from plotly->pami) (8.2.3)\n",
      "Requirement already satisfied: JsonForm>=0.0.2 in c:\\users\\aechx\\appdata\\roaming\\python\\python310\\site-packages (from resource->pami) (0.0.2)\n",
      "Requirement already satisfied: JsonSir>=0.0.2 in c:\\python310\\lib\\site-packages (from resource->pami) (0.0.2)\n",
      "Requirement already satisfied: python-easyconfig>=0.1.0 in c:\\python310\\lib\\site-packages (from resource->pami) (0.1.7)\n",
      "Requirement already satisfied: sphinxcontrib-applehelp in c:\\python310\\lib\\site-packages (from sphinx->pami) (1.0.8)\n",
      "Requirement already satisfied: sphinxcontrib-devhelp in c:\\python310\\lib\\site-packages (from sphinx->pami) (1.0.6)\n",
      "Requirement already satisfied: sphinxcontrib-jsmath in c:\\python310\\lib\\site-packages (from sphinx->pami) (1.0.1)\n",
      "Requirement already satisfied: sphinxcontrib-htmlhelp>=2.0.0 in c:\\python310\\lib\\site-packages (from sphinx->pami) (2.0.5)\n",
      "Requirement already satisfied: sphinxcontrib-serializinghtml>=1.1.9 in c:\\python310\\lib\\site-packages (from sphinx->pami) (1.1.10)\n",
      "Requirement already satisfied: sphinxcontrib-qthelp in c:\\python310\\lib\\site-packages (from sphinx->pami) (1.0.7)\n",
      "Requirement already satisfied: Jinja2>=3.0 in c:\\python310\\lib\\site-packages (from sphinx->pami) (3.1.2)\n",
      "Requirement already satisfied: Pygments>=2.14 in c:\\users\\aechx\\appdata\\roaming\\python\\python310\\site-packages (from sphinx->pami) (2.18.0)\n",
      "Requirement already satisfied: docutils<0.22,>=0.18.1 in c:\\python310\\lib\\site-packages (from sphinx->pami) (0.20.1)\n",
      "Requirement already satisfied: snowballstemmer>=2.0 in c:\\python310\\lib\\site-packages (from sphinx->pami) (2.2.0)\n",
      "Requirement already satisfied: babel>=2.9 in c:\\users\\aechx\\appdata\\roaming\\python\\python310\\site-packages (from sphinx->pami) (2.15.0)\n",
      "Requirement already satisfied: alabaster~=0.7.14 in c:\\users\\aechx\\appdata\\roaming\\python\\python310\\site-packages (from sphinx->pami) (0.7.16)\n",
      "Requirement already satisfied: imagesize>=1.3 in c:\\python310\\lib\\site-packages (from sphinx->pami) (1.4.1)\n",
      "Requirement already satisfied: requests>=2.25.0 in c:\\users\\aechx\\appdata\\roaming\\python\\python310\\site-packages (from sphinx->pami) (2.32.2)\n",
      "Requirement already satisfied: tomli>=2 in c:\\python310\\lib\\site-packages (from sphinx->pami) (2.0.1)\n",
      "Requirement already satisfied: colorama>=0.4.5 in c:\\python310\\lib\\site-packages (from sphinx->pami) (0.4.6)\n",
      "Requirement already satisfied: sphinxcontrib-jquery<5,>=4 in c:\\users\\aechx\\appdata\\roaming\\python\\python310\\site-packages (from sphinx-rtd-theme->pami) (4.1)\n",
      "Requirement already satisfied: aiosignal>=1.1.2 in c:\\users\\aechx\\appdata\\roaming\\python\\python310\\site-packages (from aiohttp<4,>=3.7.4->discord.py->pami) (1.3.1)\n",
      "Requirement already satisfied: attrs>=17.3.0 in c:\\users\\aechx\\appdata\\roaming\\python\\python310\\site-packages (from aiohttp<4,>=3.7.4->discord.py->pami) (23.2.0)\n",
      "Requirement already satisfied: frozenlist>=1.1.1 in c:\\python310\\lib\\site-packages (from aiohttp<4,>=3.7.4->discord.py->pami) (1.4.1)\n",
      "Requirement already satisfied: multidict<7.0,>=4.5 in c:\\python310\\lib\\site-packages (from aiohttp<4,>=3.7.4->discord.py->pami) (6.0.5)\n",
      "Requirement already satisfied: yarl<2.0,>=1.0 in c:\\python310\\lib\\site-packages (from aiohttp<4,>=3.7.4->discord.py->pami) (1.9.4)\n",
      "Requirement already satisfied: async-timeout<5.0,>=4.0 in c:\\users\\aechx\\appdata\\roaming\\python\\python310\\site-packages (from aiohttp<4,>=3.7.4->discord.py->pami) (4.0.3)\n",
      "Requirement already satisfied: MarkupSafe>=2.0 in c:\\python310\\lib\\site-packages (from Jinja2>=3.0->sphinx->pami) (2.1.1)\n",
      "Requirement already satisfied: jsonschema in c:\\users\\aechx\\appdata\\roaming\\python\\python310\\site-packages (from JsonForm>=0.0.2->resource->pami) (4.22.0)\n",
      "Requirement already satisfied: six>=1.5 in c:\\users\\aechx\\appdata\\roaming\\python\\python310\\site-packages (from python-dateutil>=2.7->matplotlib->pami) (1.16.0)\n",
      "Requirement already satisfied: PyYAML in c:\\python310\\lib\\site-packages (from python-easyconfig>=0.1.0->resource->pami) (6.0)\n",
      "Requirement already satisfied: charset-normalizer<4,>=2 in c:\\python310\\lib\\site-packages (from requests>=2.25.0->sphinx->pami) (3.0.1)\n",
      "Requirement already satisfied: idna<4,>=2.5 in c:\\python310\\lib\\site-packages (from requests>=2.25.0->sphinx->pami) (3.7)\n",
      "Requirement already satisfied: certifi>=2017.4.17 in c:\\users\\aechx\\appdata\\roaming\\python\\python310\\site-packages (from requests>=2.25.0->sphinx->pami) (2024.2.2)\n",
      "Requirement already satisfied: jsonschema-specifications>=2023.03.6 in c:\\users\\aechx\\appdata\\roaming\\python\\python310\\site-packages (from jsonschema->JsonForm>=0.0.2->resource->pami) (2023.12.1)\n",
      "Requirement already satisfied: referencing>=0.28.4 in c:\\users\\aechx\\appdata\\roaming\\python\\python310\\site-packages (from jsonschema->JsonForm>=0.0.2->resource->pami) (0.35.1)\n",
      "Requirement already satisfied: rpds-py>=0.7.1 in c:\\python310\\lib\\site-packages (from jsonschema->JsonForm>=0.0.2->resource->pami) (0.18.1)\n"
     ]
    },
    {
     "name": "stderr",
     "output_type": "stream",
     "text": [
      "WARNING: Ignoring invalid distribution - (c:\\python310\\lib\\site-packages)\n",
      "WARNING: Ignoring invalid distribution -ip (c:\\python310\\lib\\site-packages)\n",
      "WARNING: Ignoring invalid distribution -p (c:\\python310\\lib\\site-packages)\n",
      "WARNING: Ignoring invalid distribution - (c:\\python310\\lib\\site-packages)\n",
      "WARNING: Ignoring invalid distribution -ip (c:\\python310\\lib\\site-packages)\n",
      "WARNING: Ignoring invalid distribution -p (c:\\python310\\lib\\site-packages)\n"
     ]
    }
   ],
   "source": [
    "!pip install -U pami"
   ]
  },
  {
   "cell_type": "markdown",
   "metadata": {},
   "source": [
    "# Test cases for T10I4D100K Datasets"
   ]
  },
  {
   "cell_type": "markdown",
   "metadata": {},
   "source": [
    "### Test case 1 for T10I4D100K Dataset"
   ]
  },
  {
   "cell_type": "code",
   "execution_count": 13,
   "metadata": {},
   "outputs": [
    {
     "name": "stdout",
     "output_type": "stream",
     "text": [
      "Frequent patterns were generated successfully using ECLAT Diffset algorithm\n",
      "Frequent patterns were generated successfully using ECLAT Diffset algorithm\n",
      "Frequent patterns were generated successfully using ECLAT Diffset algorithm\n",
      "Frequent patterns were generated successfully using ECLAT Diffset algorithm\n",
      "Frequent patterns were generated successfully using ECLAT Diffset algorithm\n",
      "Frequent patterns were generated successfully using ECLATDiffset algorithm\n",
      "      algorithm  minSup  patterns     runtime      memory\n",
      "0  ECLATDiffset    1500       237  333.679456  1138515968\n",
      "1  ECLATDiffset    2000       155  152.367364   824270848\n",
      "2  ECLATDiffset    2500       107   78.776027   622489600\n",
      "3  ECLATDiffset    3000        60   24.674447   425213952\n",
      "4  ECLATDiffset    3500        40   12.997767   341245952\n"
     ]
    }
   ],
   "source": [
    "import PAMI.frequentPattern.basic.ECLATDiffset as alg\n",
    "import pandas as pd\n",
    "# Set the input parameters\n",
    "URL = 'https://u-aizu.ac.jp/~udayrage/datasets/transactionalDatabases/Transactional_T10I4D100K.csv'\n",
    "separator = '\\t'\n",
    "minimumSupportCountList = [1500, 2000, 2500, 3000, 3500]\n",
    "# Initialize a data frame to store the results of ECLATDiffset\n",
    "result = pd.DataFrame(columns=['algorithm', 'minSup', 'patterns', 'runtime', 'memory'])\n",
    "# Execute the algorithm at different minSup values\n",
    "for minSupCount in minimumSupportCountList:\n",
    "    obj = alg.ECLATDiffset(URL, minSup=minSupCount, sep=separator)\n",
    "    obj.mine()\n",
    "    # Store the results in the data frame\n",
    "    result.loc[result.shape[0]] = ['ECLATDiffset', minSupCount, len(obj.getPatterns()), obj.getRuntime(), obj.getMemoryRSS(),]\n",
    "# Print the results\n",
    "print(f\"Frequent patterns were generated successfully using ECLATDiffset algorithm\")\n",
    "print(result)"
   ]
  },
  {
   "cell_type": "markdown",
   "metadata": {},
   "source": [
    "### Test case 2 for T10I4D100K Dataset"
   ]
  },
  {
   "cell_type": "code",
   "execution_count": 23,
   "metadata": {},
   "outputs": [
    {
     "name": "stdout",
     "output_type": "stream",
     "text": [
      "Frequent patterns were generated successfully using ECLAT Diffset algorithm\n",
      "Frequent patterns were generated successfully using ECLAT Diffset algorithm\n",
      "Frequent patterns were generated successfully using ECLAT Diffset algorithm\n",
      "Frequent patterns were generated successfully using ECLAT Diffset algorithm\n",
      "Frequent patterns were generated successfully using ECLAT Diffset algorithm\n",
      "Frequent patterns were generated successfully using ECLATDiffset algorithm\n",
      "      algorithm  minSup  patterns     runtime      memory\n",
      "0  ECLATDiffset    1500       237  293.271607  1018994688\n",
      "1  ECLATDiffset    2000       155  110.202376   844914688\n",
      "2  ECLATDiffset    2500       107   57.827067   642691072\n",
      "3  ECLATDiffset    3000        60   19.332573   444780544\n",
      "4  ECLATDiffset    3500        40    8.569055   372994048\n"
     ]
    }
   ],
   "source": [
    "import PAMI.frequentPattern.basic.ECLATDiffset as alg\n",
    "import pandas as pd\n",
    "\n",
    "# Set the input parameters\n",
    "inputFile = 'Transactional_T10I4D100K.csv'\n",
    "separator = '\\t'\n",
    "minimumSupportCountList = [1500, 2000, 2500, 3000, 3500]\n",
    "\n",
    "# Initialize a data frame to store the results of ECLATDiffset\n",
    "result = pd.DataFrame(columns=['algorithm', 'minSup', 'patterns', 'runtime', 'memory'])\n",
    "\n",
    "# Execute the algorithm at different minSup values\n",
    "for minSupCount in minimumSupportCountList:\n",
    "    obj = alg.ECLATDiffset(inputFile, minSup=minSupCount, sep=separator)\n",
    "    obj.mine()\n",
    "    # Store the results in the data frame\n",
    "    result.loc[result.shape[0]] = ['ECLATDiffset', minSupCount, len(obj.getPatterns()), obj.getRuntime(), obj.getMemoryRSS()]\n",
    "\n",
    "# Print the results\n",
    "print(f\"Frequent patterns were generated successfully using ECLATDiffset algorithm\")\n",
    "\n",
    "print(result)"
   ]
  },
  {
   "cell_type": "markdown",
   "metadata": {},
   "source": [
    "### Test case 3 for T10I4D100K Dataset"
   ]
  },
  {
   "cell_type": "code",
   "execution_count": 24,
   "metadata": {},
   "outputs": [
    {
     "name": "stdout",
     "output_type": "stream",
     "text": [
      "Frequent patterns were generated successfully using ECLAT Diffset algorithm\n",
      "Frequent patterns were generated successfully using ECLAT Diffset algorithm\n",
      "Frequent patterns were generated successfully using ECLAT Diffset algorithm\n",
      "Frequent patterns were generated successfully using ECLAT Diffset algorithm\n",
      "Frequent patterns were generated successfully using ECLAT Diffset algorithm\n",
      "Frequent patterns were generated successfully using ECLATDiffset algorithm\n",
      "      algorithm  minSup  patterns     runtime     memory\n",
      "0  ECLATDiffset    1500       237  287.429025  806281216\n",
      "1  ECLATDiffset    2000       155  126.705970  945033216\n",
      "2  ECLATDiffset    2500       107   61.042020  732131328\n",
      "3  ECLATDiffset    3000        60   21.202885  546054144\n",
      "4  ECLATDiffset    3500        40    9.498319  462487552\n"
     ]
    }
   ],
   "source": [
    "import PAMI.frequentPattern.basic.ECLATDiffset as alg\n",
    "import pandas as pd\n",
    "\n",
    "# Set the input parameters\n",
    "inputFile = 'Transactional_T10I4D100K.csv'\n",
    "separator = '\\t'\n",
    "minimumSupportCountList = [1500, 2000, 2500, 3000, 3500]\n",
    "\n",
    "# Read the CSV file into a DataFrame\n",
    "df = pd.read_csv(inputFile, header=[0], sep=' ')\n",
    "df = df.rename(columns={df.columns[0]: \"Transactions\"})\n",
    "\n",
    "# Ensure all data in the \"Transaction\" column is string before splitting\n",
    "df[\"Transactions\"] = df[\"Transactions\"].astype(str)\n",
    "\n",
    "# Preprocess the dataset\n",
    "# transactions = df[\"Transaction\"].apply(lambda x: x.split(separator)).tolist()\n",
    "transactions = df['Transactions'].apply(lambda x: x.split(separator))\n",
    "transactions = pd.DataFrame(transactions, columns=['Transactions'])\n",
    "\n",
    "# Initialize a data frame to store the results of ECLATDiffset\n",
    "result = pd.DataFrame(columns=['algorithm', 'minSup', 'patterns', 'runtime', 'memory'])\n",
    "\n",
    "# Execute the algorithm at different minSup values\n",
    "for minSupCount in minimumSupportCountList:\n",
    "    obj = alg.ECLATDiffset(transactions, minSup=minSupCount, sep=separator)\n",
    "    obj.mine()\n",
    "    \n",
    "    # Get the patterns found\n",
    "    patterns = obj.getPatterns()\n",
    "    \n",
    "    # Store the results in the data frame\n",
    "    result.loc[len(result)] = ['ECLATDiffset', minSupCount, len(patterns), obj.getRuntime(), obj.getMemoryRSS()]\n",
    "\n",
    "# Print the results\n",
    "print(\"Frequent patterns were generated successfully using ECLATDiffset algorithm\")\n",
    "print(result)\n"
   ]
  },
  {
   "cell_type": "markdown",
   "metadata": {},
   "source": [
    "# Test Cases for Retail Dataset"
   ]
  },
  {
   "cell_type": "markdown",
   "metadata": {},
   "source": [
    "## Test Case 1 for Retail Dataset"
   ]
  },
  {
   "cell_type": "code",
   "execution_count": 14,
   "metadata": {},
   "outputs": [
    {
     "name": "stdout",
     "output_type": "stream",
     "text": [
      "Frequent patterns were generated successfully using ECLAT Diffset algorithm\n",
      "Frequent patterns were generated successfully using ECLAT Diffset algorithm\n",
      "Frequent patterns were generated successfully using ECLAT Diffset algorithm\n",
      "Frequent patterns were generated successfully using ECLAT Diffset algorithm\n",
      "Frequent patterns were generated successfully using ECLAT Diffset algorithm\n",
      "Frequent patterns were generated successfully using ECLATDiffset algorithm\n",
      "      algorithm  minSup  patterns     runtime     memory\n",
      "0  ECLATDiffset     500       468  274.229504  805797888\n",
      "1  ECLATDiffset    1000       135   28.987289  914071552\n",
      "2  ECLATDiffset    1500        68    9.670796  533106688\n",
      "3  ECLATDiffset    2000        45    8.276896  394313728\n",
      "4  ECLATDiffset    2500        34    6.801466  333340672\n"
     ]
    }
   ],
   "source": [
    "import PAMI.frequentPattern.basic.ECLATDiffset as alg\n",
    "import pandas as pd\n",
    "# Set the input parameters\n",
    "URL = 'https://u-aizu.ac.jp/~udayrage/datasets/transactionalDatabases/Transactional_retail.csv'\n",
    "separator = '\\t'\n",
    "minimumSupportCountList = [500, 1000, 1500, 2000, 2500]\n",
    "# Initialize a data frame to store the results of ECLATDiffset\n",
    "result = pd.DataFrame(columns=['algorithm', 'minSup', 'patterns', 'runtime', 'memory'])\n",
    "# Execute the algorithm at different minSup values\n",
    "for minSupCount in minimumSupportCountList:\n",
    "    obj = alg.ECLATDiffset(URL, minSup=minSupCount, sep=separator)\n",
    "    obj.mine()\n",
    "    # Store the results in the data frame\n",
    "    result.loc[result.shape[0]] = ['ECLATDiffset', minSupCount, len(obj.getPatterns()), obj.getRuntime(), obj.getMemoryRSS(),]\n",
    "# Print the results\n",
    "print(f\"Frequent patterns were generated successfully using ECLATDiffset algorithm\")\n",
    "print(result)"
   ]
  },
  {
   "cell_type": "markdown",
   "metadata": {},
   "source": [
    "## Test Case 2 for Retail Dataset"
   ]
  },
  {
   "cell_type": "code",
   "execution_count": 25,
   "metadata": {},
   "outputs": [
    {
     "name": "stdout",
     "output_type": "stream",
     "text": [
      "Frequent patterns were generated successfully using ECLAT Diffset algorithm\n",
      "Frequent patterns were generated successfully using ECLAT Diffset algorithm\n",
      "Frequent patterns were generated successfully using ECLAT Diffset algorithm\n",
      "Frequent patterns were generated successfully using ECLAT Diffset algorithm\n",
      "Frequent patterns were generated successfully using ECLAT Diffset algorithm\n",
      "Frequent patterns were generated successfully using ECLATDiffset algorithm\n",
      "      algorithm  minSup  patterns     runtime      memory\n",
      "0  ECLATDiffset     500       468  244.238339  3028475904\n",
      "1  ECLATDiffset    1000       135   23.635539  1029160960\n",
      "2  ECLATDiffset    1500        68    5.130960   657547264\n",
      "3  ECLATDiffset    2000        45    3.080636   509980672\n",
      "4  ECLATDiffset    2500        34    2.160706   456544256\n"
     ]
    }
   ],
   "source": [
    "import PAMI.frequentPattern.basic.ECLATDiffset as alg\n",
    "import pandas as pd\n",
    "\n",
    "# Set the input parameters\n",
    "inputFile = 'Transactional_retail.csv'\n",
    "separator = '\\t'\n",
    "minimumSupportCountList = [500, 1000, 1500, 2000, 2500]\n",
    "\n",
    "# Initialize a data frame to store the results of ECLATDiffset\n",
    "result = pd.DataFrame(columns=['algorithm', 'minSup', 'patterns', 'runtime', 'memory'])\n",
    "\n",
    "# Execute the algorithm at different minSup values\n",
    "for minSupCount in minimumSupportCountList:\n",
    "    obj = alg.ECLATDiffset(inputFile, minSup=minSupCount, sep=separator)\n",
    "    obj.mine()\n",
    "    # Store the results in the data frame\n",
    "    result.loc[result.shape[0]] = ['ECLATDiffset', minSupCount, len(obj.getPatterns()), obj.getRuntime(), obj.getMemoryRSS()]\n",
    "\n",
    "# Print the results\n",
    "print(f\"Frequent patterns were generated successfully using ECLATDiffset algorithm\")\n",
    "\n",
    "print(result)"
   ]
  },
  {
   "cell_type": "markdown",
   "metadata": {},
   "source": [
    "## Test Case 3 for Retail Dataset"
   ]
  },
  {
   "cell_type": "code",
   "execution_count": 26,
   "metadata": {},
   "outputs": [
    {
     "name": "stdout",
     "output_type": "stream",
     "text": [
      "Frequent patterns were generated successfully using ECLAT Diffset algorithm\n",
      "Frequent patterns were generated successfully using ECLAT Diffset algorithm\n",
      "Frequent patterns were generated successfully using ECLAT Diffset algorithm\n",
      "Frequent patterns were generated successfully using ECLAT Diffset algorithm\n",
      "Frequent patterns were generated successfully using ECLAT Diffset algorithm\n",
      "Frequent patterns were generated successfully using ECLATDiffset algorithm\n",
      "      algorithm  minSup  patterns     runtime      memory\n",
      "0  ECLATDiffset     500       468  242.327266  3014520832\n",
      "1  ECLATDiffset    1000       135   21.199661  1033453568\n",
      "2  ECLATDiffset    1500        68    4.248463   651497472\n",
      "3  ECLATDiffset    2000        45    2.794304   513015808\n",
      "4  ECLATDiffset    2500        34    1.727216   449040384\n"
     ]
    }
   ],
   "source": [
    "import PAMI.frequentPattern.basic.ECLATDiffset as alg\n",
    "import pandas as pd\n",
    "\n",
    "# Set the input parameters\n",
    "inputFile = 'Transactional_retail.csv'\n",
    "separator = '\\t'\n",
    "minimumSupportCountList = [500, 1000, 1500, 2000, 2500]\n",
    "\n",
    "# Read the CSV file into a DataFrame\n",
    "df = pd.read_csv(inputFile, header=[0], sep=' ')\n",
    "df = df.rename(columns={df.columns[0]: \"Transactions\"})\n",
    "\n",
    "# Ensure all data in the \"Transaction\" column is string before splitting\n",
    "df[\"Transactions\"] = df[\"Transactions\"].astype(str)\n",
    "\n",
    "# Preprocess the dataset\n",
    "# transactions = df[\"Transaction\"].apply(lambda x: x.split(separator)).tolist()\n",
    "transactions = df['Transactions'].apply(lambda x: x.split(separator))\n",
    "transactions = pd.DataFrame(transactions, columns=['Transactions'])\n",
    "\n",
    "# Initialize a data frame to store the results of ECLATDiffset\n",
    "result = pd.DataFrame(columns=['algorithm', 'minSup', 'patterns', 'runtime', 'memory'])\n",
    "\n",
    "# Execute the algorithm at different minSup values\n",
    "for minSupCount in minimumSupportCountList:\n",
    "    obj = alg.ECLATDiffset(transactions, minSup=minSupCount, sep=separator)\n",
    "    obj.mine()\n",
    "    \n",
    "    # Get the patterns found\n",
    "    patterns = obj.getPatterns()\n",
    "    \n",
    "    # Store the results in the data frame\n",
    "    result.loc[len(result)] = ['ECLATDiffset', minSupCount, len(patterns), obj.getRuntime(), obj.getMemoryRSS()]\n",
    "\n",
    "# Print the results\n",
    "print(\"Frequent patterns were generated successfully using ECLATDiffset algorithm\")\n",
    "print(result)\n"
   ]
  },
  {
   "cell_type": "markdown",
   "metadata": {},
   "source": [
    "# Test Cases for Chess Dataset"
   ]
  },
  {
   "cell_type": "markdown",
   "metadata": {},
   "source": [
    "## Test Case 1 for chess Dataset"
   ]
  },
  {
   "cell_type": "code",
   "execution_count": 1,
   "metadata": {},
   "outputs": [
    {
     "name": "stdout",
     "output_type": "stream",
     "text": [
      "Frequent patterns were generated successfully using ECLAT Diffset algorithm\n",
      "Frequent patterns were generated successfully using ECLAT Diffset algorithm\n",
      "Frequent patterns were generated successfully using ECLATDiffset algorithm\n",
      "      algorithm  minSup  patterns   runtime     memory\n",
      "0  ECLATDiffset    2500     11474  5.830794  483733504\n",
      "1  ECLATDiffset    3000       152  2.120591  117514240\n"
     ]
    }
   ],
   "source": [
    "import PAMI.frequentPattern.basic.ECLATDiffset as alg\n",
    "import pandas as pd\n",
    "# Set the input parameters\n",
    "URL = 'https://u-aizu.ac.jp/~udayrage/datasets/transactionalDatabases/Transactional_chess.csv'\n",
    "separator = '\\t'\n",
    "minimumSupportCountList = [2500, 3000]\n",
    "# Initialize a data frame to store the results of ECLATDiffset\n",
    "result = pd.DataFrame(columns=['algorithm', 'minSup', 'patterns', 'runtime', 'memory'])\n",
    "# Execute the algorithm at different minSup values\n",
    "for minSupCount in minimumSupportCountList:\n",
    "    obj = alg.ECLATDiffset(URL, minSup=minSupCount, sep=separator)\n",
    "    obj.mine()\n",
    "    # Store the results in the data frame\n",
    "    result.loc[result.shape[0]] = ['ECLATDiffset', minSupCount, len(obj.getPatterns()), obj.getRuntime(), obj.getMemoryRSS(),]\n",
    "# Print the results\n",
    "print(f\"Frequent patterns were generated successfully using ECLATDiffset algorithm\")\n",
    "print(result)"
   ]
  },
  {
   "cell_type": "markdown",
   "metadata": {},
   "source": [
    "## Test Case 2 for chess Dataset"
   ]
  },
  {
   "cell_type": "code",
   "execution_count": 2,
   "metadata": {},
   "outputs": [
    {
     "name": "stdout",
     "output_type": "stream",
     "text": [
      "Frequent patterns were generated successfully using ECLAT Diffset algorithm\n",
      "Frequent patterns were generated successfully using ECLAT Diffset algorithm\n",
      "Frequent patterns were generated successfully using ECLATDiffset algorithm\n",
      "      algorithm  minSup  patterns   runtime     memory\n",
      "0  ECLATDiffset    2500     11474  3.284947  484827136\n",
      "1  ECLATDiffset    3000       152  0.085676  119513088\n"
     ]
    }
   ],
   "source": [
    "import PAMI.frequentPattern.basic.ECLATDiffset as alg\n",
    "import pandas as pd\n",
    "\n",
    "# Set the input parameters\n",
    "inputFile = 'Transactional_chess1.csv'\n",
    "separator = '\\t'\n",
    "minimumSupportCountList = [2500, 3000]\n",
    "\n",
    "# Initialize a data frame to store the results of ECLATDiffset\n",
    "result = pd.DataFrame(columns=['algorithm', 'minSup', 'patterns', 'runtime', 'memory'])\n",
    "\n",
    "# Execute the algorithm at different minSup values\n",
    "for minSupCount in minimumSupportCountList:\n",
    "    obj = alg.ECLATDiffset(inputFile, minSup=minSupCount, sep=separator)\n",
    "    obj.mine()\n",
    "    # Store the results in the data frame\n",
    "    result.loc[result.shape[0]] = ['ECLATDiffset', minSupCount, len(obj.getPatterns()), obj.getRuntime(), obj.getMemoryRSS()]\n",
    "\n",
    "# Print the results\n",
    "print(f\"Frequent patterns were generated successfully using ECLATDiffset algorithm\")\n",
    "\n",
    "print(result)"
   ]
  },
  {
   "cell_type": "markdown",
   "metadata": {},
   "source": [
    "## Test Case 3 for chess Dataset"
   ]
  },
  {
   "cell_type": "code",
   "execution_count": 3,
   "metadata": {},
   "outputs": [
    {
     "name": "stdout",
     "output_type": "stream",
     "text": [
      "Frequent patterns were generated successfully using ECLAT Diffset algorithm\n",
      "Frequent patterns were generated successfully using ECLAT Diffset algorithm\n",
      "Frequent patterns were generated successfully using ECLATDiffset algorithm\n",
      "      algorithm  minSup  patterns   runtime     memory\n",
      "0  ECLATDiffset    2500     11401  3.016511  487473152\n",
      "1  ECLATDiffset    3000       151  0.063394  126992384\n"
     ]
    }
   ],
   "source": [
    "import PAMI.frequentPattern.basic.ECLATDiffset as alg\n",
    "import pandas as pd\n",
    "\n",
    "# Set the input parameters\n",
    "inputFile = 'Transactional_chess1.csv'\n",
    "separator = '\\t'\n",
    "minimumSupportCountList = [2500, 3000]\n",
    "\n",
    "# Read the CSV file into a DataFrame\n",
    "df = pd.read_csv(inputFile, header=[0], sep=' ')\n",
    "df = df.rename(columns={df.columns[0]: \"Transactions\"})\n",
    "\n",
    "# Ensure all data in the \"Transaction\" column is string before splitting\n",
    "df[\"Transactions\"] = df[\"Transactions\"].astype(str)\n",
    "\n",
    "# Preprocess the dataset\n",
    "# transactions = df[\"Transaction\"].apply(lambda x: x.split(separator)).tolist()\n",
    "transactions = df['Transactions'].apply(lambda x: x.split(separator))\n",
    "transactions = pd.DataFrame(transactions, columns=['Transactions'])\n",
    "\n",
    "# Initialize a data frame to store the results of ECLATDiffset\n",
    "result = pd.DataFrame(columns=['algorithm', 'minSup', 'patterns', 'runtime', 'memory'])\n",
    "\n",
    "# Execute the algorithm at different minSup values\n",
    "for minSupCount in minimumSupportCountList:\n",
    "    obj = alg.ECLATDiffset(transactions, minSup=minSupCount, sep=separator)\n",
    "    obj.mine()\n",
    "    \n",
    "    # Get the patterns found\n",
    "    patterns = obj.getPatterns()\n",
    "    \n",
    "    # Store the results in the data frame\n",
    "    result.loc[len(result)] = ['ECLATDiffset', minSupCount, len(patterns), obj.getRuntime(), obj.getMemoryRSS()]\n",
    "\n",
    "# Print the results\n",
    "print(\"Frequent patterns were generated successfully using ECLATDiffset algorithm\")\n",
    "print(result)\n"
   ]
  }
 ],
 "metadata": {
  "kernelspec": {
   "display_name": "Python 3",
   "language": "python",
   "name": "python3"
  },
  "language_info": {
   "codemirror_mode": {
    "name": "ipython",
    "version": 3
   },
   "file_extension": ".py",
   "mimetype": "text/x-python",
   "name": "python",
   "nbconvert_exporter": "python",
   "pygments_lexer": "ipython3",
   "version": "3.10.5"
  }
 },
 "nbformat": 4,
 "nbformat_minor": 2
}
