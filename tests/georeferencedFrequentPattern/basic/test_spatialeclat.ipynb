{
 "cells": [
  {
   "cell_type": "code",
   "execution_count": 17,
   "metadata": {},
   "outputs": [
    {
     "name": "stdout",
     "output_type": "stream",
     "text": [
      "Requirement already satisfied: pami in c:\\python310\\lib\\site-packages (2024.6.10)\n",
      "Requirement already satisfied: psutil in c:\\users\\aechx\\appdata\\roaming\\python\\python310\\site-packages (from pami) (5.9.8)\n",
      "Requirement already satisfied: pandas in c:\\python310\\lib\\site-packages (from pami) (2.2.1)\n",
      "Requirement already satisfied: plotly in c:\\python310\\lib\\site-packages (from pami) (5.18.0)\n",
      "Requirement already satisfied: matplotlib in c:\\users\\aechx\\appdata\\roaming\\python\\python310\\site-packages (from pami) (3.9.0)\n",
      "Requirement already satisfied: resource in c:\\users\\aechx\\appdata\\roaming\\python\\python310\\site-packages (from pami) (0.2.1)\n",
      "Requirement already satisfied: validators in c:\\python310\\lib\\site-packages (from pami) (0.28.3)\n",
      "Requirement already satisfied: urllib3 in c:\\python310\\lib\\site-packages (from pami) (2.2.1)\n",
      "Requirement already satisfied: Pillow in c:\\python310\\lib\\site-packages (from pami) (10.3.0)\n",
      "Requirement already satisfied: numpy in c:\\python310\\lib\\site-packages (from pami) (1.26.4)\n",
      "Requirement already satisfied: sphinx in c:\\users\\aechx\\appdata\\roaming\\python\\python310\\site-packages (from pami) (7.3.7)\n",
      "Requirement already satisfied: sphinx-rtd-theme in c:\\users\\aechx\\appdata\\roaming\\python\\python310\\site-packages (from pami) (2.0.0)\n",
      "Requirement already satisfied: discord.py in c:\\users\\aechx\\appdata\\roaming\\python\\python310\\site-packages (from pami) (2.3.2)\n",
      "Requirement already satisfied: networkx in c:\\python310\\lib\\site-packages (from pami) (3.3)\n",
      "Requirement already satisfied: deprecated in c:\\users\\aechx\\appdata\\roaming\\python\\python310\\site-packages (from pami) (1.2.14)\n",
      "Requirement already satisfied: wrapt<2,>=1.10 in c:\\python310\\lib\\site-packages (from deprecated->pami) (1.16.0)\n",
      "Requirement already satisfied: aiohttp<4,>=3.7.4 in c:\\users\\aechx\\appdata\\roaming\\python\\python310\\site-packages (from discord.py->pami) (3.9.5)\n",
      "Requirement already satisfied: contourpy>=1.0.1 in c:\\users\\aechx\\appdata\\roaming\\python\\python310\\site-packages (from matplotlib->pami) (1.2.1)\n",
      "Requirement already satisfied: cycler>=0.10 in c:\\users\\aechx\\appdata\\roaming\\python\\python310\\site-packages (from matplotlib->pami) (0.12.1)\n",
      "Requirement already satisfied: fonttools>=4.22.0 in c:\\python310\\lib\\site-packages (from matplotlib->pami) (4.52.4)\n",
      "Requirement already satisfied: kiwisolver>=1.3.1 in c:\\python310\\lib\\site-packages (from matplotlib->pami) (1.4.5)\n",
      "Requirement already satisfied: packaging>=20.0 in c:\\users\\aechx\\appdata\\roaming\\python\\python310\\site-packages (from matplotlib->pami) (24.0)\n",
      "Requirement already satisfied: pyparsing>=2.3.1 in c:\\python310\\lib\\site-packages (from matplotlib->pami) (3.1.2)\n",
      "Requirement already satisfied: python-dateutil>=2.7 in c:\\python310\\lib\\site-packages (from matplotlib->pami) (2.8.2)\n",
      "Requirement already satisfied: pytz>=2020.1 in c:\\python310\\lib\\site-packages (from pandas->pami) (2023.3.post1)\n",
      "Requirement already satisfied: tzdata>=2022.7 in c:\\python310\\lib\\site-packages (from pandas->pami) (2023.4)\n",
      "Requirement already satisfied: tenacity>=6.2.0 in c:\\python310\\lib\\site-packages (from plotly->pami) (8.2.3)\n",
      "Requirement already satisfied: JsonForm>=0.0.2 in c:\\users\\aechx\\appdata\\roaming\\python\\python310\\site-packages (from resource->pami) (0.0.2)\n",
      "Requirement already satisfied: JsonSir>=0.0.2 in c:\\python310\\lib\\site-packages (from resource->pami) (0.0.2)\n",
      "Requirement already satisfied: python-easyconfig>=0.1.0 in c:\\python310\\lib\\site-packages (from resource->pami) (0.1.7)\n",
      "Requirement already satisfied: sphinxcontrib-applehelp in c:\\python310\\lib\\site-packages (from sphinx->pami) (1.0.8)\n",
      "Requirement already satisfied: sphinxcontrib-devhelp in c:\\python310\\lib\\site-packages (from sphinx->pami) (1.0.6)\n",
      "Requirement already satisfied: sphinxcontrib-jsmath in c:\\python310\\lib\\site-packages (from sphinx->pami) (1.0.1)\n",
      "Requirement already satisfied: sphinxcontrib-htmlhelp>=2.0.0 in c:\\python310\\lib\\site-packages (from sphinx->pami) (2.0.5)\n",
      "Requirement already satisfied: sphinxcontrib-serializinghtml>=1.1.9 in c:\\python310\\lib\\site-packages (from sphinx->pami) (1.1.10)\n",
      "Requirement already satisfied: sphinxcontrib-qthelp in c:\\python310\\lib\\site-packages (from sphinx->pami) (1.0.7)\n",
      "Requirement already satisfied: Jinja2>=3.0 in c:\\python310\\lib\\site-packages (from sphinx->pami) (3.1.2)\n",
      "Requirement already satisfied: Pygments>=2.14 in c:\\users\\aechx\\appdata\\roaming\\python\\python310\\site-packages (from sphinx->pami) (2.18.0)\n",
      "Requirement already satisfied: docutils<0.22,>=0.18.1 in c:\\python310\\lib\\site-packages (from sphinx->pami) (0.20.1)\n",
      "Requirement already satisfied: snowballstemmer>=2.0 in c:\\python310\\lib\\site-packages (from sphinx->pami) (2.2.0)\n",
      "Requirement already satisfied: babel>=2.9 in c:\\users\\aechx\\appdata\\roaming\\python\\python310\\site-packages (from sphinx->pami) (2.15.0)\n",
      "Requirement already satisfied: alabaster~=0.7.14 in c:\\users\\aechx\\appdata\\roaming\\python\\python310\\site-packages (from sphinx->pami) (0.7.16)\n",
      "Requirement already satisfied: imagesize>=1.3 in c:\\python310\\lib\\site-packages (from sphinx->pami) (1.4.1)\n",
      "Requirement already satisfied: requests>=2.25.0 in c:\\users\\aechx\\appdata\\roaming\\python\\python310\\site-packages (from sphinx->pami) (2.32.2)\n",
      "Requirement already satisfied: tomli>=2 in c:\\python310\\lib\\site-packages (from sphinx->pami) (2.0.1)\n",
      "Requirement already satisfied: colorama>=0.4.5 in c:\\python310\\lib\\site-packages (from sphinx->pami) (0.4.6)\n",
      "Requirement already satisfied: sphinxcontrib-jquery<5,>=4 in c:\\users\\aechx\\appdata\\roaming\\python\\python310\\site-packages (from sphinx-rtd-theme->pami) (4.1)\n",
      "Requirement already satisfied: aiosignal>=1.1.2 in c:\\users\\aechx\\appdata\\roaming\\python\\python310\\site-packages (from aiohttp<4,>=3.7.4->discord.py->pami) (1.3.1)\n",
      "Requirement already satisfied: attrs>=17.3.0 in c:\\users\\aechx\\appdata\\roaming\\python\\python310\\site-packages (from aiohttp<4,>=3.7.4->discord.py->pami) (23.2.0)\n",
      "Requirement already satisfied: frozenlist>=1.1.1 in c:\\python310\\lib\\site-packages (from aiohttp<4,>=3.7.4->discord.py->pami) (1.4.1)\n",
      "Requirement already satisfied: multidict<7.0,>=4.5 in c:\\python310\\lib\\site-packages (from aiohttp<4,>=3.7.4->discord.py->pami) (6.0.5)\n",
      "Requirement already satisfied: yarl<2.0,>=1.0 in c:\\python310\\lib\\site-packages (from aiohttp<4,>=3.7.4->discord.py->pami) (1.9.4)\n",
      "Requirement already satisfied: async-timeout<5.0,>=4.0 in c:\\users\\aechx\\appdata\\roaming\\python\\python310\\site-packages (from aiohttp<4,>=3.7.4->discord.py->pami) (4.0.3)\n",
      "Requirement already satisfied: MarkupSafe>=2.0 in c:\\python310\\lib\\site-packages (from Jinja2>=3.0->sphinx->pami) (2.1.1)\n",
      "Requirement already satisfied: jsonschema in c:\\users\\aechx\\appdata\\roaming\\python\\python310\\site-packages (from JsonForm>=0.0.2->resource->pami) (4.22.0)\n",
      "Requirement already satisfied: six>=1.5 in c:\\users\\aechx\\appdata\\roaming\\python\\python310\\site-packages (from python-dateutil>=2.7->matplotlib->pami) (1.16.0)\n",
      "Requirement already satisfied: PyYAML in c:\\python310\\lib\\site-packages (from python-easyconfig>=0.1.0->resource->pami) (6.0)\n",
      "Requirement already satisfied: charset-normalizer<4,>=2 in c:\\python310\\lib\\site-packages (from requests>=2.25.0->sphinx->pami) (3.0.1)\n",
      "Requirement already satisfied: idna<4,>=2.5 in c:\\python310\\lib\\site-packages (from requests>=2.25.0->sphinx->pami) (3.7)\n",
      "Requirement already satisfied: certifi>=2017.4.17 in c:\\users\\aechx\\appdata\\roaming\\python\\python310\\site-packages (from requests>=2.25.0->sphinx->pami) (2024.2.2)\n",
      "Requirement already satisfied: jsonschema-specifications>=2023.03.6 in c:\\users\\aechx\\appdata\\roaming\\python\\python310\\site-packages (from jsonschema->JsonForm>=0.0.2->resource->pami) (2023.12.1)\n",
      "Requirement already satisfied: referencing>=0.28.4 in c:\\users\\aechx\\appdata\\roaming\\python\\python310\\site-packages (from jsonschema->JsonForm>=0.0.2->resource->pami) (0.35.1)\n",
      "Requirement already satisfied: rpds-py>=0.7.1 in c:\\python310\\lib\\site-packages (from jsonschema->JsonForm>=0.0.2->resource->pami) (0.18.1)\n"
     ]
    },
    {
     "name": "stderr",
     "output_type": "stream",
     "text": [
      "WARNING: Ignoring invalid distribution - (c:\\python310\\lib\\site-packages)\n",
      "WARNING: Ignoring invalid distribution -ip (c:\\python310\\lib\\site-packages)\n",
      "WARNING: Ignoring invalid distribution -p (c:\\python310\\lib\\site-packages)\n",
      "WARNING: Ignoring invalid distribution - (c:\\python310\\lib\\site-packages)\n",
      "WARNING: Ignoring invalid distribution -ip (c:\\python310\\lib\\site-packages)\n",
      "WARNING: Ignoring invalid distribution -p (c:\\python310\\lib\\site-packages)\n"
     ]
    }
   ],
   "source": [
    "!pip install -U pami"
   ]
  },
  {
   "cell_type": "markdown",
   "metadata": {},
   "source": [
    "# Test cases for T10I4D100K Datasets"
   ]
  },
  {
   "cell_type": "markdown",
   "metadata": {},
   "source": [
    "## Test case 1 for T10I4D100K Dataset"
   ]
  },
  {
   "cell_type": "code",
   "execution_count": 3,
   "metadata": {},
   "outputs": [
    {
     "name": "stdout",
     "output_type": "stream",
     "text": [
      "Spatial Frequent patterns were generated successfully using SpatialECLAT algorithm\n",
      "Spatial Frequent patterns were generated successfully using SpatialECLAT algorithm\n",
      "Spatial Frequent patterns were generated successfully using SpatialECLAT algorithm\n",
      "Spatial Frequent patterns were generated successfully using SpatialECLAT algorithm\n",
      "Spatial Frequent patterns were generated successfully using SpatialECLAT algorithm\n",
      "Frequent patterns were generated successfully using SpatialECLAT algorithm\n",
      "      algorithm  minSup  patterns   runtime     memory\n",
      "0  SpatialECLAT     100      1081  7.000692  208175104\n",
      "1  SpatialECLAT     200       928  8.214048  208207872\n",
      "2  SpatialECLAT     300       792  8.735789  208412672\n",
      "3  SpatialECLAT     400       685  5.255172  208019456\n",
      "4  SpatialECLAT     500       606  6.182434  207777792\n"
     ]
    }
   ],
   "source": [
    "from PAMI.georeferencedFrequentPattern.basic import SpatialECLAT as alg\n",
    "import pandas as pd\n",
    "# Set the input parameters\n",
    "URL = 'https://u-aizu.ac.jp/~udayrage/datasets/transactionalDatabases/Transactional_T10I4D100K.csv'\n",
    "separator = '\\t'\n",
    "minimumSupportCountList = [100, 200, 300, 400, 500]\n",
    "maxPer=10\n",
    "nFile=\"Transactional_T10I4D100K.csv\"\n",
    "# Initialize a data frame to store the results of SpatialECLAT\n",
    "result = pd.DataFrame(columns=['algorithm', 'minSup', 'patterns', 'runtime', 'memory'])\n",
    "# Execute the algorithm at different minSup values\n",
    "for minSupCount in minimumSupportCountList:\n",
    "    obj = alg.SpatialECLAT(URL, minSup=minSupCount, nFile=nFile, sep=separator)\n",
    "    obj.mine()\n",
    "    # Store the results in the data frame\n",
    "    result.loc[result.shape[0]] = ['SpatialECLAT', minSupCount, len(obj.getPatterns()), obj.getRuntime(), obj.getMemoryRSS(),]\n",
    "# Print the results\n",
    "print(f\"Frequent patterns were generated successfully using SpatialECLAT algorithm\")\n",
    "print(result)"
   ]
  },
  {
   "cell_type": "markdown",
   "metadata": {},
   "source": [
    "## Test case 2 for T10I4D100K Dataset"
   ]
  },
  {
   "cell_type": "code",
   "execution_count": 4,
   "metadata": {},
   "outputs": [
    {
     "name": "stdout",
     "output_type": "stream",
     "text": [
      "Spatial Frequent patterns were generated successfully using SpatialECLAT algorithm\n",
      "Spatial Frequent patterns were generated successfully using SpatialECLAT algorithm\n",
      "Spatial Frequent patterns were generated successfully using SpatialECLAT algorithm\n",
      "Spatial Frequent patterns were generated successfully using SpatialECLAT algorithm\n",
      "Spatial Frequent patterns were generated successfully using SpatialECLAT algorithm\n",
      "Frequent patterns were generated successfully using SpatialECLAT algorithm\n",
      "      algorithm  minSup  patterns   runtime     memory\n",
      "0  SpatialECLAT     100      1081  1.335739  207990784\n",
      "1  SpatialECLAT     200       928  1.528987  208465920\n",
      "2  SpatialECLAT     300       792  1.236884  208105472\n",
      "3  SpatialECLAT     400       685  1.762259  208470016\n",
      "4  SpatialECLAT     500       606  1.335196  208769024\n"
     ]
    }
   ],
   "source": [
    "from PAMI.georeferencedFrequentPattern.basic import SpatialECLAT as alg\n",
    "import pandas as pd\n",
    "# Set the input parameters\n",
    "inputFile = 'Transactional_T10I4D100K.csv'\n",
    "separator = '\\t'\n",
    "minimumSupportCountList = [100, 200, 300, 400, 500]\n",
    "maxPer=10\n",
    "nFile=\"Transactional_T10I4D100K.csv\"\n",
    "# Initialize a data frame to store the results of SpatialECLAT\n",
    "result = pd.DataFrame(columns=['algorithm', 'minSup', 'patterns', 'runtime', 'memory'])\n",
    "# Execute the algorithm at different minSup values\n",
    "for minSupCount in minimumSupportCountList:\n",
    "    obj = alg.SpatialECLAT(inputFile, minSup=minSupCount, nFile=nFile, sep=separator)\n",
    "    obj.mine()\n",
    "    # Store the results in the data frame\n",
    "    result.loc[result.shape[0]] = ['SpatialECLAT', minSupCount, len(obj.getPatterns()), obj.getRuntime(), obj.getMemoryRSS(),]\n",
    "# Print the results\n",
    "print(f\"Frequent patterns were generated successfully using SpatialECLAT algorithm\")\n",
    "print(result)"
   ]
  },
  {
   "cell_type": "markdown",
   "metadata": {},
   "source": [
    "## Test case 3 for T10I4D100K Dataset"
   ]
  },
  {
   "cell_type": "code",
   "execution_count": 5,
   "metadata": {},
   "outputs": [
    {
     "name": "stdout",
     "output_type": "stream",
     "text": [
      "Spatial Frequent patterns were generated successfully using SpatialECLAT algorithm\n",
      "Spatial Frequent patterns were generated successfully using SpatialECLAT algorithm\n",
      "Spatial Frequent patterns were generated successfully using SpatialECLAT algorithm\n",
      "Spatial Frequent patterns were generated successfully using SpatialECLAT algorithm\n",
      "Spatial Frequent patterns were generated successfully using SpatialECLAT algorithm\n",
      "Frequent patterns were generated successfully using SpatialECLAT algorithm\n",
      "      algorithm  minSup  patterns   runtime     memory\n",
      "0  SpatialECLAT     100      1083  0.924540  252616704\n",
      "1  SpatialECLAT     200       929  1.205654  261726208\n",
      "2  SpatialECLAT     300       790  0.971914  262336512\n",
      "3  SpatialECLAT     400       684  0.892381  262004736\n",
      "4  SpatialECLAT     500       606  0.788971  261189632\n"
     ]
    }
   ],
   "source": [
    "from PAMI.georeferencedFrequentPattern.basic import SpatialECLAT as alg\n",
    "import pandas as pd\n",
    "\n",
    "# Set the input parameters\n",
    "inputFile = 'Transactional_T10I4D100K.csv'\n",
    "separator = '\\t'\n",
    "minimumSupportCountList = [100, 200, 300, 400, 500]\n",
    "maxPer = 10\n",
    "nFile=\"Transactional_T10I4D100K.csv\"\n",
    "\n",
    "# Read the CSV file into a DataFrame\n",
    "df = pd.read_csv(inputFile, header=[0], sep=' ')\n",
    "df = df.rename(columns={df.columns[0]: \"Transactions\"})\n",
    "\n",
    "# Ensure all data in the \"Transaction\" column is string before splitting\n",
    "df[\"Transactions\"] = df[\"Transactions\"].astype(str)\n",
    "\n",
    "# Preprocess the dataset\n",
    "# transactions = df[\"Transaction\"].apply(lambda x: x.split(separator)).tolist()\n",
    "transactions = df['Transactions'].apply(lambda x: x.split(separator))\n",
    "transactions = pd.DataFrame(transactions, columns=['Transactions'])\n",
    "\n",
    "# Initialize a data frame to store the results of SpatialECLAT\n",
    "result = pd.DataFrame(columns=['algorithm', 'minSup', 'patterns', 'runtime', 'memory'])\n",
    "\n",
    "# Execute the algorithm at different minSup values\n",
    "for minSupCount in minimumSupportCountList:\n",
    "    obj = alg.SpatialECLAT(transactions, minSup=minSupCount, nFile=nFile, sep=separator)\n",
    "    obj.mine()\n",
    "\n",
    "    # Get the patterns found\n",
    "    patterns = obj.getPatterns()\n",
    "\n",
    "    # Store the results in the data frame\n",
    "    result.loc[len(result)] = ['SpatialECLAT', minSupCount, len(patterns), obj.getRuntime(), obj.getMemoryRSS()]\n",
    "\n",
    "# Print the results\n",
    "print(\"Frequent patterns were generated successfully using SpatialECLAT algorithm\")\n",
    "print(result)\n"
   ]
  },
  {
   "cell_type": "markdown",
   "metadata": {},
   "source": [
    "# Test Cases for Retail Dataset"
   ]
  },
  {
   "cell_type": "markdown",
   "metadata": {},
   "source": [
    "## Test Case 1 for Retail Dataset"
   ]
  },
  {
   "cell_type": "code",
   "execution_count": 8,
   "metadata": {},
   "outputs": [
    {
     "name": "stdout",
     "output_type": "stream",
     "text": [
      "Spatial Frequent patterns were generated successfully using SpatialECLAT algorithm\n",
      "Spatial Frequent patterns were generated successfully using SpatialECLAT algorithm\n",
      "Spatial Frequent patterns were generated successfully using SpatialECLAT algorithm\n",
      "Spatial Frequent patterns were generated successfully using SpatialECLAT algorithm\n",
      "Spatial Frequent patterns were generated successfully using SpatialECLAT algorithm\n",
      "Frequent patterns were generated successfully using SpatialECLAT algorithm\n",
      "      algorithm  minSup  patterns   runtime     memory\n",
      "0  SpatialECLAT     100      1905  7.682171  381726720\n",
      "1  SpatialECLAT     200       833  7.944259  381272064\n",
      "2  SpatialECLAT     300       438  7.325130  381730816\n",
      "3  SpatialECLAT     400       293  8.248575  382148608\n",
      "4  SpatialECLAT     500       200  6.295339  381616128\n"
     ]
    }
   ],
   "source": [
    "from PAMI.georeferencedFrequentPattern.basic import SpatialECLAT as alg\n",
    "import pandas as pd\n",
    "# Set the input parameters\n",
    "URL = 'https://u-aizu.ac.jp/~udayrage/datasets/transactionalDatabases/Transactional_retail.csv'\n",
    "separator = '\\t'\n",
    "minimumSupportCountList = [100, 200, 300, 400, 500]\n",
    "maxPer=10\n",
    "nFile=\"Transactional_retail.csv\"\n",
    "# Initialize a data frame to store the results of SpatialECLAT\n",
    "result = pd.DataFrame(columns=['algorithm', 'minSup', 'patterns', 'runtime', 'memory'])\n",
    "# Execute the algorithm at different minSup values\n",
    "for minSupCount in minimumSupportCountList:\n",
    "    obj = alg.SpatialECLAT(URL, minSup=minSupCount, nFile=nFile, sep=separator)\n",
    "    obj.mine()\n",
    "    # Store the results in the data frame\n",
    "    result.loc[result.shape[0]] = ['SpatialECLAT', minSupCount, len(obj.getPatterns()), obj.getRuntime(), obj.getMemoryRSS(),]\n",
    "# Print the results\n",
    "print(f\"Frequent patterns were generated successfully using SpatialECLAT algorithm\")\n",
    "print(result)"
   ]
  },
  {
   "cell_type": "markdown",
   "metadata": {},
   "source": [
    "## Test Case 2 for Retail Dataset"
   ]
  },
  {
   "cell_type": "code",
   "execution_count": 9,
   "metadata": {},
   "outputs": [
    {
     "name": "stdout",
     "output_type": "stream",
     "text": [
      "Spatial Frequent patterns were generated successfully using SpatialECLAT algorithm\n",
      "Spatial Frequent patterns were generated successfully using SpatialECLAT algorithm\n",
      "Spatial Frequent patterns were generated successfully using SpatialECLAT algorithm\n",
      "Spatial Frequent patterns were generated successfully using SpatialECLAT algorithm\n",
      "Spatial Frequent patterns were generated successfully using SpatialECLAT algorithm\n",
      "Frequent patterns were generated successfully using SpatialECLAT algorithm\n",
      "      algorithm  minSup  patterns   runtime     memory\n",
      "0  SpatialECLAT     100      1905  2.205765  382091264\n",
      "1  SpatialECLAT     200       833  1.207083  381587456\n",
      "2  SpatialECLAT     300       438  1.631760  382078976\n",
      "3  SpatialECLAT     400       293  1.017387  381599744\n",
      "4  SpatialECLAT     500       200  1.590220  381612032\n"
     ]
    }
   ],
   "source": [
    "from PAMI.georeferencedFrequentPattern.basic import SpatialECLAT as alg\n",
    "import pandas as pd\n",
    "# Set the input parameters\n",
    "inputFile = 'Transactional_retail.csv'\n",
    "separator = '\\t'\n",
    "minimumSupportCountList = [100, 200, 300, 400, 500]\n",
    "maxPer=10\n",
    "nFile=\"Transactional_retail.csv\"\n",
    "# Initialize a data frame to store the results of SpatialECLAT\n",
    "result = pd.DataFrame(columns=['algorithm', 'minSup', 'patterns', 'runtime', 'memory'])\n",
    "# Execute the algorithm at different minSup values\n",
    "for minSupCount in minimumSupportCountList:\n",
    "    obj = alg.SpatialECLAT(inputFile, minSup=minSupCount, nFile=nFile, sep=separator)\n",
    "    obj.mine()\n",
    "    # Store the results in the data frame\n",
    "    result.loc[result.shape[0]] = ['SpatialECLAT', minSupCount, len(obj.getPatterns()), obj.getRuntime(), obj.getMemoryRSS(),]\n",
    "# Print the results\n",
    "print(f\"Frequent patterns were generated successfully using SpatialECLAT algorithm\")\n",
    "print(result)"
   ]
  },
  {
   "cell_type": "markdown",
   "metadata": {},
   "source": [
    "## Test Case 3 for Retail Dataset"
   ]
  },
  {
   "cell_type": "code",
   "execution_count": 10,
   "metadata": {},
   "outputs": [
    {
     "name": "stdout",
     "output_type": "stream",
     "text": [
      "Spatial Frequent patterns were generated successfully using SpatialECLAT algorithm\n",
      "Spatial Frequent patterns were generated successfully using SpatialECLAT algorithm\n",
      "Spatial Frequent patterns were generated successfully using SpatialECLAT algorithm\n",
      "Spatial Frequent patterns were generated successfully using SpatialECLAT algorithm\n",
      "Spatial Frequent patterns were generated successfully using SpatialECLAT algorithm\n",
      "Frequent patterns were generated successfully using SpatialECLAT algorithm\n",
      "      algorithm  minSup  patterns   runtime     memory\n",
      "0  SpatialECLAT     100      1892  1.243996  330633216\n",
      "1  SpatialECLAT     200       823  1.784639  328085504\n",
      "2  SpatialECLAT     300       430  0.950384  326021120\n",
      "3  SpatialECLAT     400       286  0.699993  325820416\n",
      "4  SpatialECLAT     500       197  0.751505  323870720\n"
     ]
    }
   ],
   "source": [
    "from PAMI.georeferencedFrequentPattern.basic import SpatialECLAT as alg\n",
    "import pandas as pd\n",
    "\n",
    "# Set the input parameters\n",
    "inputFile = 'Transactional_retail.csv'\n",
    "separator = '\\t'\n",
    "minimumSupportCountList = [100, 200, 300, 400, 500]\n",
    "maxPer = 10\n",
    "nFile=\"Transactional_retail.csv\"\n",
    "\n",
    "# Read the CSV file into a DataFrame\n",
    "df = pd.read_csv(inputFile, header=[0], sep=' ')\n",
    "df = df.rename(columns={df.columns[0]: \"Transactions\"})\n",
    "\n",
    "# Ensure all data in the \"Transaction\" column is string before splitting\n",
    "df[\"Transactions\"] = df[\"Transactions\"].astype(str)\n",
    "\n",
    "# Preprocess the dataset\n",
    "# transactions = df[\"Transaction\"].apply(lambda x: x.split(separator)).tolist()\n",
    "transactions = df['Transactions'].apply(lambda x: x.split(separator))\n",
    "transactions = pd.DataFrame(transactions, columns=['Transactions'])\n",
    "\n",
    "# Initialize a data frame to store the results of SpatialECLAT\n",
    "result = pd.DataFrame(columns=['algorithm', 'minSup', 'patterns', 'runtime', 'memory'])\n",
    "\n",
    "# Execute the algorithm at different minSup values\n",
    "for minSupCount in minimumSupportCountList:\n",
    "    obj = alg.SpatialECLAT(transactions, minSup=minSupCount, nFile=nFile, sep=separator)\n",
    "    obj.mine()\n",
    "\n",
    "    # Get the patterns found\n",
    "    patterns = obj.getPatterns()\n",
    "\n",
    "    # Store the results in the data frame\n",
    "    result.loc[len(result)] = ['SpatialECLAT', minSupCount, len(patterns), obj.getRuntime(), obj.getMemoryRSS()]\n",
    "\n",
    "# Print the results\n",
    "print(\"Frequent patterns were generated successfully using SpatialECLAT algorithm\")\n",
    "print(result)\n"
   ]
  },
  {
   "cell_type": "markdown",
   "metadata": {},
   "source": [
    "# Test Cases for Chess Dataset"
   ]
  },
  {
   "cell_type": "markdown",
   "metadata": {},
   "source": [
    "## Test Case 1 for chess Dataset"
   ]
  },
  {
   "cell_type": "code",
   "execution_count": 16,
   "metadata": {},
   "outputs": [
    {
     "name": "stdout",
     "output_type": "stream",
     "text": [
      "Spatial Frequent patterns were generated successfully using SpatialECLAT algorithm\n",
      "Spatial Frequent patterns were generated successfully using SpatialECLAT algorithm\n",
      "Spatial Frequent patterns were generated successfully using SpatialECLAT algorithm\n",
      "Spatial Frequent patterns were generated successfully using SpatialECLAT algorithm\n",
      "Spatial Frequent patterns were generated successfully using SpatialECLAT algorithm\n",
      "Frequent patterns were generated successfully using SpatialECLAT algorithm\n",
      "      algorithm  minSup  patterns   runtime     memory\n",
      "0  SpatialECLAT     100        69  2.274951  218632192\n",
      "1  SpatialECLAT     200        63  2.218577  218767360\n",
      "2  SpatialECLAT     300        61  2.495211  218927104\n",
      "3  SpatialECLAT     400        58  2.287049  218927104\n",
      "4  SpatialECLAT     500        56  2.691508  218927104\n"
     ]
    }
   ],
   "source": [
    "from PAMI.georeferencedFrequentPattern.basic import SpatialECLAT as alg\n",
    "import pandas as pd\n",
    "# Set the input parameters\n",
    "URL = 'https://u-aizu.ac.jp/~udayrage/datasets/transactionalDatabases/Transactional_chess.csv'\n",
    "separator = '\\t'\n",
    "minimumSupportCountList = [100, 200, 300, 400, 500]\n",
    "maxPer=10\n",
    "nFile=\"Transactional_chess1.csv\"\n",
    "# Initialize a data frame to store the results of SpatialECLAT\n",
    "result = pd.DataFrame(columns=['algorithm', 'minSup', 'patterns', 'runtime', 'memory'])\n",
    "# Execute the algorithm at different minSup values\n",
    "for minSupCount in minimumSupportCountList:\n",
    "    obj = alg.SpatialECLAT(URL, minSup=minSupCount, nFile=nFile, sep=separator)\n",
    "    obj.mine()\n",
    "    # Store the results in the data frame\n",
    "    result.loc[result.shape[0]] = ['SpatialECLAT', minSupCount, len(obj.getPatterns()), obj.getRuntime(), obj.getMemoryRSS(),]\n",
    "# Print the results\n",
    "print(f\"Frequent patterns were generated successfully using SpatialECLAT algorithm\")\n",
    "print(result)"
   ]
  },
  {
   "cell_type": "markdown",
   "metadata": {},
   "source": [
    "## Test Case 2 for chess Dataset"
   ]
  },
  {
   "cell_type": "code",
   "execution_count": 13,
   "metadata": {},
   "outputs": [
    {
     "name": "stdout",
     "output_type": "stream",
     "text": [
      "Spatial Frequent patterns were generated successfully using SpatialECLAT algorithm\n",
      "Spatial Frequent patterns were generated successfully using SpatialECLAT algorithm\n",
      "Spatial Frequent patterns were generated successfully using SpatialECLAT algorithm\n",
      "Spatial Frequent patterns were generated successfully using SpatialECLAT algorithm\n",
      "Spatial Frequent patterns were generated successfully using SpatialECLAT algorithm\n",
      "Frequent patterns were generated successfully using SpatialECLAT algorithm\n",
      "      algorithm  minSup  patterns   runtime     memory\n",
      "0  SpatialECLAT     100        69  0.094696  320352256\n",
      "1  SpatialECLAT     200        63  0.114132  320352256\n",
      "2  SpatialECLAT     300        61  0.079393  320352256\n",
      "3  SpatialECLAT     400        58  0.081283  320352256\n",
      "4  SpatialECLAT     500        56  0.073630  320352256\n"
     ]
    }
   ],
   "source": [
    "from PAMI.georeferencedFrequentPattern.basic import SpatialECLAT as alg\n",
    "import pandas as pd\n",
    "# Set the input parameters\n",
    "inputFile = 'Transactional_chess1.csv'\n",
    "separator = '\\t'\n",
    "minimumSupportCountList = [100, 200, 300, 400, 500]\n",
    "maxPer=10\n",
    "nFile=\"Transactional_chess1.csv\"\n",
    "# Initialize a data frame to store the results of SpatialECLAT\n",
    "result = pd.DataFrame(columns=['algorithm', 'minSup', 'patterns', 'runtime', 'memory'])\n",
    "# Execute the algorithm at different minSup values\n",
    "for minSupCount in minimumSupportCountList:\n",
    "    obj = alg.SpatialECLAT(inputFile, minSup=minSupCount, nFile=nFile, sep=separator)\n",
    "    obj.mine()\n",
    "    # Store the results in the data frame\n",
    "    result.loc[result.shape[0]] = ['SpatialECLAT', minSupCount, len(obj.getPatterns()), obj.getRuntime(), obj.getMemoryRSS(),]\n",
    "# Print the results\n",
    "print(f\"Frequent patterns were generated successfully using SpatialECLAT algorithm\")\n",
    "print(result)"
   ]
  },
  {
   "cell_type": "markdown",
   "metadata": {},
   "source": [
    "## Test Case 3 for chess Dataset"
   ]
  },
  {
   "cell_type": "code",
   "execution_count": 14,
   "metadata": {},
   "outputs": [
    {
     "name": "stdout",
     "output_type": "stream",
     "text": [
      "Spatial Frequent patterns were generated successfully using SpatialECLAT algorithm\n",
      "Spatial Frequent patterns were generated successfully using SpatialECLAT algorithm\n",
      "Spatial Frequent patterns were generated successfully using SpatialECLAT algorithm\n",
      "Spatial Frequent patterns were generated successfully using SpatialECLAT algorithm\n",
      "Spatial Frequent patterns were generated successfully using SpatialECLAT algorithm\n",
      "Frequent patterns were generated successfully using SpatialECLAT algorithm\n",
      "      algorithm  minSup  patterns   runtime     memory\n",
      "0  SpatialECLAT     100        69  0.066391  261402624\n",
      "1  SpatialECLAT     200        63  0.076206  249303040\n",
      "2  SpatialECLAT     300        61  0.044026  249602048\n",
      "3  SpatialECLAT     400        58  0.094912  249733120\n",
      "4  SpatialECLAT     500        56  0.049911  249733120\n"
     ]
    }
   ],
   "source": [
    "from PAMI.georeferencedFrequentPattern.basic import SpatialECLAT as alg\n",
    "import pandas as pd\n",
    "\n",
    "# Set the input parameters\n",
    "inputFile = 'Transactional_chess1.csv'\n",
    "separator = '\\t'\n",
    "minimumSupportCountList = [100, 200, 300, 400, 500]\n",
    "maxPer = 10\n",
    "nFile=\"Transactional_chess1.csv\"\n",
    "\n",
    "# Read the CSV file into a DataFrame\n",
    "df = pd.read_csv(inputFile, header=[0], sep=' ')\n",
    "df = df.rename(columns={df.columns[0]: \"Transactions\"})\n",
    "\n",
    "# Ensure all data in the \"Transaction\" column is string before splitting\n",
    "df[\"Transactions\"] = df[\"Transactions\"].astype(str)\n",
    "\n",
    "# Preprocess the dataset\n",
    "# transactions = df[\"Transaction\"].apply(lambda x: x.split(separator)).tolist()\n",
    "transactions = df['Transactions'].apply(lambda x: x.split(separator))\n",
    "transactions = pd.DataFrame(transactions, columns=['Transactions'])\n",
    "\n",
    "# Initialize a data frame to store the results of SpatialECLAT\n",
    "result = pd.DataFrame(columns=['algorithm', 'minSup', 'patterns', 'runtime', 'memory'])\n",
    "\n",
    "# Execute the algorithm at different minSup values\n",
    "for minSupCount in minimumSupportCountList:\n",
    "    obj = alg.SpatialECLAT(transactions, minSup=minSupCount, nFile=nFile, sep=separator)\n",
    "    obj.mine()\n",
    "\n",
    "    # Get the patterns found\n",
    "    patterns = obj.getPatterns()\n",
    "\n",
    "    # Store the results in the data frame\n",
    "    result.loc[len(result)] = ['SpatialECLAT', minSupCount, len(patterns), obj.getRuntime(), obj.getMemoryRSS()]\n",
    "\n",
    "# Print the results\n",
    "print(\"Frequent patterns were generated successfully using SpatialECLAT algorithm\")\n",
    "print(result)\n"
   ]
  }
 ],
 "metadata": {
  "kernelspec": {
   "display_name": "Python 3",
   "language": "python",
   "name": "python3"
  },
  "language_info": {
   "codemirror_mode": {
    "name": "ipython",
    "version": 3
   },
   "file_extension": ".py",
   "mimetype": "text/x-python",
   "name": "python",
   "nbconvert_exporter": "python",
   "pygments_lexer": "ipython3",
   "version": "3.10.5"
  }
 },
 "nbformat": 4,
 "nbformat_minor": 2
}
