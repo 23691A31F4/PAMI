{
 "cells": [
  {
   "cell_type": "code",
   "execution_count": 1,
   "metadata": {},
   "outputs": [
    {
     "name": "stdout",
     "output_type": "stream",
     "text": [
      "Requirement already satisfied: pami in c:\\users\\aechx\\appdata\\roaming\\python\\python310\\site-packages (2024.5.29.2)\n",
      "Requirement already satisfied: psutil in c:\\users\\aechx\\appdata\\roaming\\python\\python310\\site-packages (from pami) (5.9.8)\n",
      "Requirement already satisfied: pandas in c:\\python310\\lib\\site-packages (from pami) (2.2.1)\n",
      "Requirement already satisfied: plotly in c:\\python310\\lib\\site-packages (from pami) (5.18.0)\n",
      "Requirement already satisfied: matplotlib in c:\\users\\aechx\\appdata\\roaming\\python\\python310\\site-packages (from pami) (3.9.0)\n",
      "Requirement already satisfied: resource in c:\\users\\aechx\\appdata\\roaming\\python\\python310\\site-packages (from pami) (0.2.1)\n",
      "Requirement already satisfied: validators in c:\\python310\\lib\\site-packages (from pami) (0.28.3)\n",
      "Requirement already satisfied: urllib3 in c:\\python310\\lib\\site-packages (from pami) (2.2.1)\n",
      "Requirement already satisfied: Pillow in c:\\python310\\lib\\site-packages (from pami) (10.3.0)\n",
      "Requirement already satisfied: numpy in c:\\python310\\lib\\site-packages (from pami) (1.26.4)\n",
      "Requirement already satisfied: sphinx in c:\\users\\aechx\\appdata\\roaming\\python\\python310\\site-packages (from pami) (7.3.7)\n",
      "Requirement already satisfied: sphinx-rtd-theme in c:\\users\\aechx\\appdata\\roaming\\python\\python310\\site-packages (from pami) (2.0.0)\n",
      "Requirement already satisfied: discord.py in c:\\users\\aechx\\appdata\\roaming\\python\\python310\\site-packages (from pami) (2.3.2)\n",
      "Requirement already satisfied: networkx in c:\\python310\\lib\\site-packages (from pami) (3.3)\n",
      "Requirement already satisfied: deprecated in c:\\users\\aechx\\appdata\\roaming\\python\\python310\\site-packages (from pami) (1.2.14)\n",
      "Requirement already satisfied: wrapt<2,>=1.10 in c:\\python310\\lib\\site-packages (from deprecated->pami) (1.16.0)\n",
      "Requirement already satisfied: aiohttp<4,>=3.7.4 in c:\\users\\aechx\\appdata\\roaming\\python\\python310\\site-packages (from discord.py->pami) (3.9.5)\n",
      "Requirement already satisfied: contourpy>=1.0.1 in c:\\users\\aechx\\appdata\\roaming\\python\\python310\\site-packages (from matplotlib->pami) (1.2.1)\n",
      "Requirement already satisfied: cycler>=0.10 in c:\\users\\aechx\\appdata\\roaming\\python\\python310\\site-packages (from matplotlib->pami) (0.12.1)\n",
      "Requirement already satisfied: fonttools>=4.22.0 in c:\\python310\\lib\\site-packages (from matplotlib->pami) (4.52.4)\n",
      "Requirement already satisfied: kiwisolver>=1.3.1 in c:\\python310\\lib\\site-packages (from matplotlib->pami) (1.4.5)\n",
      "Requirement already satisfied: packaging>=20.0 in c:\\users\\aechx\\appdata\\roaming\\python\\python310\\site-packages (from matplotlib->pami) (24.0)\n",
      "Requirement already satisfied: pyparsing>=2.3.1 in c:\\python310\\lib\\site-packages (from matplotlib->pami) (3.1.2)\n",
      "Requirement already satisfied: python-dateutil>=2.7 in c:\\python310\\lib\\site-packages (from matplotlib->pami) (2.8.2)\n",
      "Requirement already satisfied: pytz>=2020.1 in c:\\python310\\lib\\site-packages (from pandas->pami) (2023.3.post1)\n",
      "Requirement already satisfied: tzdata>=2022.7 in c:\\python310\\lib\\site-packages (from pandas->pami) (2023.4)\n",
      "Requirement already satisfied: tenacity>=6.2.0 in c:\\python310\\lib\\site-packages (from plotly->pami) (8.2.3)\n",
      "Requirement already satisfied: JsonForm>=0.0.2 in c:\\users\\aechx\\appdata\\roaming\\python\\python310\\site-packages (from resource->pami) (0.0.2)\n",
      "Requirement already satisfied: JsonSir>=0.0.2 in c:\\python310\\lib\\site-packages (from resource->pami) (0.0.2)\n",
      "Requirement already satisfied: python-easyconfig>=0.1.0 in c:\\python310\\lib\\site-packages (from resource->pami) (0.1.7)\n",
      "Requirement already satisfied: sphinxcontrib-applehelp in c:\\python310\\lib\\site-packages (from sphinx->pami) (1.0.8)\n",
      "Requirement already satisfied: sphinxcontrib-devhelp in c:\\python310\\lib\\site-packages (from sphinx->pami) (1.0.6)\n",
      "Requirement already satisfied: sphinxcontrib-jsmath in c:\\python310\\lib\\site-packages (from sphinx->pami) (1.0.1)\n",
      "Requirement already satisfied: sphinxcontrib-htmlhelp>=2.0.0 in c:\\python310\\lib\\site-packages (from sphinx->pami) (2.0.5)\n",
      "Requirement already satisfied: sphinxcontrib-serializinghtml>=1.1.9 in c:\\python310\\lib\\site-packages (from sphinx->pami) (1.1.10)\n",
      "Requirement already satisfied: sphinxcontrib-qthelp in c:\\python310\\lib\\site-packages (from sphinx->pami) (1.0.7)\n",
      "Requirement already satisfied: Jinja2>=3.0 in c:\\python310\\lib\\site-packages (from sphinx->pami) (3.1.2)\n",
      "Requirement already satisfied: Pygments>=2.14 in c:\\users\\aechx\\appdata\\roaming\\python\\python310\\site-packages (from sphinx->pami) (2.18.0)\n",
      "Requirement already satisfied: docutils<0.22,>=0.18.1 in c:\\python310\\lib\\site-packages (from sphinx->pami) (0.20.1)\n",
      "Requirement already satisfied: snowballstemmer>=2.0 in c:\\python310\\lib\\site-packages (from sphinx->pami) (2.2.0)\n",
      "Requirement already satisfied: babel>=2.9 in c:\\users\\aechx\\appdata\\roaming\\python\\python310\\site-packages (from sphinx->pami) (2.15.0)\n",
      "Requirement already satisfied: alabaster~=0.7.14 in c:\\users\\aechx\\appdata\\roaming\\python\\python310\\site-packages (from sphinx->pami) (0.7.16)\n",
      "Requirement already satisfied: imagesize>=1.3 in c:\\python310\\lib\\site-packages (from sphinx->pami) (1.4.1)\n",
      "Requirement already satisfied: requests>=2.25.0 in c:\\users\\aechx\\appdata\\roaming\\python\\python310\\site-packages (from sphinx->pami) (2.32.2)\n",
      "Requirement already satisfied: tomli>=2 in c:\\python310\\lib\\site-packages (from sphinx->pami) (2.0.1)\n",
      "Requirement already satisfied: colorama>=0.4.5 in c:\\python310\\lib\\site-packages (from sphinx->pami) (0.4.6)\n",
      "Requirement already satisfied: sphinxcontrib-jquery<5,>=4 in c:\\users\\aechx\\appdata\\roaming\\python\\python310\\site-packages (from sphinx-rtd-theme->pami) (4.1)\n",
      "Requirement already satisfied: aiosignal>=1.1.2 in c:\\users\\aechx\\appdata\\roaming\\python\\python310\\site-packages (from aiohttp<4,>=3.7.4->discord.py->pami) (1.3.1)\n",
      "Requirement already satisfied: attrs>=17.3.0 in c:\\users\\aechx\\appdata\\roaming\\python\\python310\\site-packages (from aiohttp<4,>=3.7.4->discord.py->pami) (23.2.0)\n",
      "Requirement already satisfied: frozenlist>=1.1.1 in c:\\python310\\lib\\site-packages (from aiohttp<4,>=3.7.4->discord.py->pami) (1.4.1)\n",
      "Requirement already satisfied: multidict<7.0,>=4.5 in c:\\python310\\lib\\site-packages (from aiohttp<4,>=3.7.4->discord.py->pami) (6.0.5)\n",
      "Requirement already satisfied: yarl<2.0,>=1.0 in c:\\python310\\lib\\site-packages (from aiohttp<4,>=3.7.4->discord.py->pami) (1.9.4)\n",
      "Requirement already satisfied: async-timeout<5.0,>=4.0 in c:\\users\\aechx\\appdata\\roaming\\python\\python310\\site-packages (from aiohttp<4,>=3.7.4->discord.py->pami) (4.0.3)\n",
      "Requirement already satisfied: MarkupSafe>=2.0 in c:\\python310\\lib\\site-packages (from Jinja2>=3.0->sphinx->pami) (2.1.1)\n",
      "Requirement already satisfied: jsonschema in c:\\users\\aechx\\appdata\\roaming\\python\\python310\\site-packages (from JsonForm>=0.0.2->resource->pami) (4.22.0)\n",
      "Requirement already satisfied: six>=1.5 in c:\\users\\aechx\\appdata\\roaming\\python\\python310\\site-packages (from python-dateutil>=2.7->matplotlib->pami) (1.16.0)\n",
      "Requirement already satisfied: PyYAML in c:\\python310\\lib\\site-packages (from python-easyconfig>=0.1.0->resource->pami) (6.0)\n",
      "Requirement already satisfied: charset-normalizer<4,>=2 in c:\\python310\\lib\\site-packages (from requests>=2.25.0->sphinx->pami) (3.0.1)\n",
      "Requirement already satisfied: idna<4,>=2.5 in c:\\python310\\lib\\site-packages (from requests>=2.25.0->sphinx->pami) (3.7)\n",
      "Requirement already satisfied: certifi>=2017.4.17 in c:\\users\\aechx\\appdata\\roaming\\python\\python310\\site-packages (from requests>=2.25.0->sphinx->pami) (2024.2.2)\n",
      "Requirement already satisfied: jsonschema-specifications>=2023.03.6 in c:\\users\\aechx\\appdata\\roaming\\python\\python310\\site-packages (from jsonschema->JsonForm>=0.0.2->resource->pami) (2023.12.1)\n",
      "Requirement already satisfied: referencing>=0.28.4 in c:\\users\\aechx\\appdata\\roaming\\python\\python310\\site-packages (from jsonschema->JsonForm>=0.0.2->resource->pami) (0.35.1)\n",
      "Requirement already satisfied: rpds-py>=0.7.1 in c:\\python310\\lib\\site-packages (from jsonschema->JsonForm>=0.0.2->resource->pami) (0.18.1)\n"
     ]
    },
    {
     "name": "stderr",
     "output_type": "stream",
     "text": [
      "WARNING: Ignoring invalid distribution - (c:\\python310\\lib\\site-packages)\n",
      "WARNING: Ignoring invalid distribution -ip (c:\\python310\\lib\\site-packages)\n",
      "WARNING: Ignoring invalid distribution -p (c:\\python310\\lib\\site-packages)\n",
      "WARNING: Ignoring invalid distribution - (c:\\python310\\lib\\site-packages)\n",
      "WARNING: Ignoring invalid distribution -ip (c:\\python310\\lib\\site-packages)\n",
      "WARNING: Ignoring invalid distribution -p (c:\\python310\\lib\\site-packages)\n"
     ]
    }
   ],
   "source": [
    "!pip install -U pami"
   ]
  },
  {
   "cell_type": "markdown",
   "metadata": {},
   "source": [
    "# Test cases for T10I4D100K Datasets"
   ]
  },
  {
   "cell_type": "markdown",
   "metadata": {},
   "source": [
    "### Test case 1 for T10I4D100K Dataset"
   ]
  },
  {
   "cell_type": "code",
   "execution_count": 1,
   "metadata": {},
   "outputs": [
    {
     "name": "stdout",
     "output_type": "stream",
     "text": [
      "Correlated patterns were generated successfully using CoMine algorithm\n",
      "Correlated patterns were generated successfully using CoMine algorithm\n",
      "Correlated patterns were generated successfully using CoMine algorithm\n",
      "Correlated patterns were generated successfully using CoMine algorithm\n",
      "Correlated patterns were generated successfully using CoMine algorithm\n",
      "Frequent patterns were generated successfully using CoMine algorithm\n",
      "  algorithm  minSup  patterns    runtime     memory\n",
      "0    CoMine     500       575  13.170256  474042368\n",
      "1    CoMine    1000       375  14.911338  405041152\n",
      "2    CoMine    1500       237   8.679268  390664192\n",
      "3    CoMine    2000       155   8.170271  309084160\n",
      "4    CoMine    2500       107   6.989860  302297088\n"
     ]
    }
   ],
   "source": [
    "from PAMI.correlatedPattern.basic import CoMine as alg\n",
    "import pandas as pd\n",
    "# Set the input parameters\n",
    "URL = 'https://u-aizu.ac.jp/~udayrage/datasets/transactionalDatabases/Transactional_T10I4D100K.csv'\n",
    "separator = '\\t'\n",
    "minimumSupportCountList = [500, 1000, 1500, 2000, 2500]\n",
    "minAllConf = 0.5\n",
    "# Initialize a data frame to store the results of CoMine\n",
    "result = pd.DataFrame(columns=['algorithm', 'minSup', 'patterns', 'runtime', 'memory'])\n",
    "# Execute the algorithm at different minSup values\n",
    "for minSupCount in minimumSupportCountList:\n",
    "    obj = alg.CoMine(URL, minSup=minSupCount, sep=separator, minAllConf=minAllConf)\n",
    "    obj.mine()\n",
    "    # Store the results in the data frame\n",
    "    result.loc[result.shape[0]] = ['CoMine', minSupCount, len(obj.getPatterns()), obj.getRuntime(), obj.getMemoryRSS(),]\n",
    "# Print the results\n",
    "print(f\"Frequent patterns were generated successfully using CoMine algorithm\")\n",
    "print(result)"
   ]
  },
  {
   "cell_type": "markdown",
   "metadata": {},
   "source": [
    "### Test case 2 for T10I4D100K Dataset"
   ]
  },
  {
   "cell_type": "code",
   "execution_count": 2,
   "metadata": {},
   "outputs": [
    {
     "name": "stdout",
     "output_type": "stream",
     "text": [
      "Correlated patterns were generated successfully using CoMine algorithm\n",
      "Correlated patterns were generated successfully using CoMine algorithm\n",
      "Correlated patterns were generated successfully using CoMine algorithm\n",
      "Correlated patterns were generated successfully using CoMine algorithm\n",
      "Correlated patterns were generated successfully using CoMine algorithm\n",
      "Frequent patterns were generated successfully using CoMine algorithm\n",
      "  algorithm  minSup  patterns   runtime     memory\n",
      "0    CoMine     500       575  9.224247  475312128\n",
      "1    CoMine    1000       375  8.205463  405835776\n",
      "2    CoMine    1500       237  8.248886  377323520\n",
      "3    CoMine    2000       155  5.561130  366460928\n",
      "4    CoMine    2500       107  3.269074  342110208\n"
     ]
    }
   ],
   "source": [
    "from PAMI.correlatedPattern.basic import CoMine as alg\n",
    "import pandas as pd\n",
    "# Set the input parameters\n",
    "inputFile = 'Transactional_T10I4D100K.csv'\n",
    "separator = '\\t'\n",
    "minimumSupportCountList = [500, 1000, 1500, 2000, 2500]\n",
    "minAllConf = 0.5\n",
    "# Initialize a data frame to store the results of CoMine\n",
    "result = pd.DataFrame(columns=['algorithm', 'minSup', 'patterns', 'runtime', 'memory'])\n",
    "# Execute the algorithm at different minSup values\n",
    "for minSupCount in minimumSupportCountList:\n",
    "    obj = alg.CoMine(inputFile, minSup=minSupCount, sep=separator, minAllConf=minAllConf)\n",
    "    obj.mine()\n",
    "    # Store the results in the data frame\n",
    "    result.loc[result.shape[0]] = ['CoMine', minSupCount, len(obj.getPatterns()), obj.getRuntime(), obj.getMemoryRSS(),]\n",
    "# Print the results\n",
    "print(f\"Frequent patterns were generated successfully using CoMine algorithm\")\n",
    "print(result)"
   ]
  },
  {
   "cell_type": "markdown",
   "metadata": {},
   "source": [
    "### Test case 3 for T10I4D100K Dataset"
   ]
  },
  {
   "cell_type": "code",
   "execution_count": 3,
   "metadata": {},
   "outputs": [
    {
     "name": "stdout",
     "output_type": "stream",
     "text": [
      "Correlated patterns were generated successfully using CoMine algorithm\n",
      "Correlated patterns were generated successfully using CoMine algorithm\n",
      "Correlated patterns were generated successfully using CoMine algorithm\n",
      "Correlated patterns were generated successfully using CoMine algorithm\n",
      "Correlated patterns were generated successfully using CoMine algorithm\n",
      "Frequent patterns were generated successfully using CoMine algorithm\n",
      "  algorithm  minSup  patterns   runtime     memory\n",
      "0    CoMine     500       575  9.048601  508465152\n",
      "1    CoMine    1000       375  7.117447  448401408\n",
      "2    CoMine    1500       237  7.068889  377303040\n",
      "3    CoMine    2000       155  7.174149  371314688\n",
      "4    CoMine    2500       107  4.165333  354504704\n"
     ]
    }
   ],
   "source": [
    "from PAMI.correlatedPattern.basic import CoMine as alg\n",
    "import pandas as pd\n",
    "\n",
    "# Set the input parameters\n",
    "inputFile = 'Transactional_T10I4D100K.csv'\n",
    "separator = '\\t'\n",
    "minimumSupportCountList = [500, 1000, 1500, 2000, 2500]\n",
    "minAllConf = 0.5\n",
    "\n",
    "# Read the CSV file into a DataFrame\n",
    "df = pd.read_csv(inputFile, header=[0], sep=' ')\n",
    "df = df.rename(columns={df.columns[0]: \"Transactions\"})\n",
    "\n",
    "# Ensure all data in the \"Transaction\" column is string before splitting\n",
    "df[\"Transactions\"] = df[\"Transactions\"].astype(str)\n",
    "\n",
    "# Preprocess the dataset\n",
    "# transactions = df[\"Transaction\"].apply(lambda x: x.split(separator)).tolist()\n",
    "transactions = df['Transactions'].apply(lambda x: x.split(separator))\n",
    "transactions = pd.DataFrame(transactions, columns=['Transactions'])\n",
    "\n",
    "# Initialize a data frame to store the results of CoMine\n",
    "result = pd.DataFrame(columns=['algorithm', 'minSup', 'patterns', 'runtime', 'memory'])\n",
    "\n",
    "# Execute the algorithm at different minSup values\n",
    "for minSupCount in minimumSupportCountList:\n",
    "    obj = alg.CoMine(transactions, minSup=minSupCount, sep=separator, minAllConf=minAllConf)\n",
    "    obj.mine()\n",
    "\n",
    "    # Get the patterns found\n",
    "    patterns = obj.getPatterns()\n",
    "\n",
    "    # Store the results in the data frame\n",
    "    result.loc[len(result)] = ['CoMine', minSupCount, len(patterns), obj.getRuntime(), obj.getMemoryRSS()]\n",
    "\n",
    "# Print the results\n",
    "print(\"Frequent patterns were generated successfully using CoMine algorithm\")\n",
    "print(result)\n"
   ]
  },
  {
   "cell_type": "markdown",
   "metadata": {},
   "source": [
    "# Test Cases for Retail Dataset"
   ]
  },
  {
   "cell_type": "markdown",
   "metadata": {},
   "source": [
    "## Test Case 1 for Retail Dataset"
   ]
  },
  {
   "cell_type": "code",
   "execution_count": 4,
   "metadata": {},
   "outputs": [
    {
     "name": "stdout",
     "output_type": "stream",
     "text": [
      "Correlated patterns were generated successfully using CoMine algorithm\n",
      "Correlated patterns were generated successfully using CoMine algorithm\n",
      "Correlated patterns were generated successfully using CoMine algorithm\n",
      "Correlated patterns were generated successfully using CoMine algorithm\n",
      "Correlated patterns were generated successfully using CoMine algorithm\n",
      "Frequent patterns were generated successfully using CoMine algorithm\n",
      "  algorithm  minSup  patterns    runtime     memory\n",
      "0    CoMine     100      1872  15.773522  435101696\n",
      "1    CoMine     200       809  11.169929  407351296\n",
      "2    CoMine     300       419   9.317302  403980288\n",
      "3    CoMine     400       275   8.696479  398663680\n",
      "4    CoMine     500       186   7.090744  395563008\n"
     ]
    }
   ],
   "source": [
    "from PAMI.correlatedPattern.basic import CoMine as alg\n",
    "import pandas as pd\n",
    "# Set the input parameters\n",
    "URL = 'https://u-aizu.ac.jp/~udayrage/datasets/transactionalDatabases/Transactional_retail.csv'\n",
    "separator = '\\t'\n",
    "minimumSupportCountList = [100, 200, 300, 400, 500]\n",
    "minAllConf = 0.5\n",
    "# Initialize a data frame to store the results of CoMine\n",
    "result = pd.DataFrame(columns=['algorithm', 'minSup', 'patterns', 'runtime', 'memory'])\n",
    "# Execute the algorithm at different minSup values\n",
    "for minSupCount in minimumSupportCountList:\n",
    "    obj = alg.CoMine(URL, minSup=minSupCount, sep=separator, minAllConf=minAllConf)\n",
    "    obj.mine()\n",
    "    # Store the results in the data frame\n",
    "    result.loc[result.shape[0]] = ['CoMine', minSupCount, len(obj.getPatterns()), obj.getRuntime(), obj.getMemoryRSS(),]\n",
    "# Print the results\n",
    "print(f\"Frequent patterns were generated successfully using CoMine algorithm\")\n",
    "print(result)"
   ]
  },
  {
   "cell_type": "markdown",
   "metadata": {},
   "source": [
    "## Test Case 2 for Retail Dataset"
   ]
  },
  {
   "cell_type": "code",
   "execution_count": 5,
   "metadata": {},
   "outputs": [
    {
     "name": "stdout",
     "output_type": "stream",
     "text": [
      "Correlated patterns were generated successfully using CoMine algorithm\n",
      "Correlated patterns were generated successfully using CoMine algorithm\n",
      "Correlated patterns were generated successfully using CoMine algorithm\n",
      "Correlated patterns were generated successfully using CoMine algorithm\n",
      "Correlated patterns were generated successfully using CoMine algorithm\n",
      "Frequent patterns were generated successfully using CoMine algorithm\n",
      "  algorithm  minSup  patterns    runtime     memory\n",
      "0    CoMine     100      1872  10.039421  434905088\n",
      "1    CoMine     200       809   6.405442  458797056\n",
      "2    CoMine     300       419   4.890616  455753728\n",
      "3    CoMine     400       275   4.109501  433479680\n",
      "4    CoMine     500       186   3.501025  428417024\n"
     ]
    }
   ],
   "source": [
    "from PAMI.correlatedPattern.basic import CoMine as alg\n",
    "import pandas as pd\n",
    "# Set the input parameters\n",
    "inputFile = 'Transactional_retail.csv'\n",
    "separator = '\\t'\n",
    "minimumSupportCountList = [100, 200, 300, 400, 500]\n",
    "minAllConf = 0.5\n",
    "# Initialize a data frame to store the results of CoMine\n",
    "result = pd.DataFrame(columns=['algorithm', 'minSup', 'patterns', 'runtime', 'memory'])\n",
    "# Execute the algorithm at different minSup values\n",
    "for minSupCount in minimumSupportCountList:\n",
    "    obj = alg.CoMine(inputFile, minSup=minSupCount, sep=separator, minAllConf=minAllConf)\n",
    "    obj.mine()\n",
    "    # Store the results in the data frame\n",
    "    result.loc[result.shape[0]] = ['CoMine', minSupCount, len(obj.getPatterns()), obj.getRuntime(), obj.getMemoryRSS(),]\n",
    "# Print the results\n",
    "print(f\"Frequent patterns were generated successfully using CoMine algorithm\")\n",
    "print(result)"
   ]
  },
  {
   "cell_type": "markdown",
   "metadata": {},
   "source": [
    "## Test Case 3 for Retail Dataset"
   ]
  },
  {
   "cell_type": "code",
   "execution_count": 6,
   "metadata": {},
   "outputs": [
    {
     "name": "stdout",
     "output_type": "stream",
     "text": [
      "Correlated patterns were generated successfully using CoMine algorithm\n",
      "Correlated patterns were generated successfully using CoMine algorithm\n",
      "Correlated patterns were generated successfully using CoMine algorithm\n",
      "Correlated patterns were generated successfully using CoMine algorithm\n",
      "Correlated patterns were generated successfully using CoMine algorithm\n",
      "Frequent patterns were generated successfully using CoMine algorithm\n",
      "  algorithm  minSup  patterns    runtime     memory\n",
      "0    CoMine     100      1871  10.264555  447922176\n",
      "1    CoMine     200       808   8.216191  440242176\n",
      "2    CoMine     300       419   4.190705  436215808\n",
      "3    CoMine     400       275   3.876611  432005120\n",
      "4    CoMine     500       186   2.952072  428527616\n"
     ]
    }
   ],
   "source": [
    "from PAMI.correlatedPattern.basic import CoMine as alg\n",
    "import pandas as pd\n",
    "\n",
    "# Set the input parameters\n",
    "inputFile = 'Transactional_retail.csv'\n",
    "separator = '\\t'\n",
    "minimumSupportCountList = [100, 200, 300, 400, 500]\n",
    "minAllConf = 0.5\n",
    "\n",
    "# Read the CSV file into a DataFrame\n",
    "df = pd.read_csv(inputFile, header=[0], sep=' ')\n",
    "df = df.rename(columns={df.columns[0]: \"Transactions\"})\n",
    "\n",
    "# Ensure all data in the \"Transaction\" column is string before splitting\n",
    "df[\"Transactions\"] = df[\"Transactions\"].astype(str)\n",
    "\n",
    "# Preprocess the dataset\n",
    "# transactions = df[\"Transaction\"].apply(lambda x: x.split(separator)).tolist()\n",
    "transactions = df['Transactions'].apply(lambda x: x.split(separator))\n",
    "transactions = pd.DataFrame(transactions, columns=['Transactions'])\n",
    "\n",
    "# Initialize a data frame to store the results of CoMine\n",
    "result = pd.DataFrame(columns=['algorithm', 'minSup', 'patterns', 'runtime', 'memory'])\n",
    "\n",
    "# Execute the algorithm at different minSup values\n",
    "for minSupCount in minimumSupportCountList:\n",
    "    obj = alg.CoMine(transactions, minSup=minSupCount, sep=separator, minAllConf=minAllConf)\n",
    "    obj.mine()\n",
    "\n",
    "    # Get the patterns found\n",
    "    patterns = obj.getPatterns()\n",
    "\n",
    "    # Store the results in the data frame\n",
    "    result.loc[len(result)] = ['CoMine', minSupCount, len(patterns), obj.getRuntime(), obj.getMemoryRSS()]\n",
    "\n",
    "# Print the results\n",
    "print(\"Frequent patterns were generated successfully using CoMine algorithm\")\n",
    "print(result)\n"
   ]
  },
  {
   "cell_type": "markdown",
   "metadata": {},
   "source": [
    "# Test Cases for Chess Dataset"
   ]
  },
  {
   "cell_type": "markdown",
   "metadata": {},
   "source": [
    "## Test Case 1 for chess Dataset"
   ]
  },
  {
   "cell_type": "code",
   "execution_count": 7,
   "metadata": {},
   "outputs": [
    {
     "name": "stdout",
     "output_type": "stream",
     "text": [
      "Correlated patterns were generated successfully using CoMine algorithm\n",
      "Correlated patterns were generated successfully using CoMine algorithm\n",
      "Correlated patterns were generated successfully using CoMine algorithm\n",
      "Correlated patterns were generated successfully using CoMine algorithm\n",
      "Correlated patterns were generated successfully using CoMine algorithm\n",
      "Frequent patterns were generated successfully using CoMine algorithm\n",
      "  algorithm  minSup  patterns    runtime     memory\n",
      "0    CoMine     100   1322393  37.272396  647032832\n",
      "1    CoMine     200   1322387  38.555083  649850880\n",
      "2    CoMine     300   1322385  35.034727  644644864\n",
      "3    CoMine     400   1322381  33.540815  645607424\n",
      "4    CoMine     500   1322379  30.238773  642048000\n"
     ]
    }
   ],
   "source": [
    "from PAMI.correlatedPattern.basic import CoMine as alg\n",
    "import pandas as pd\n",
    "# Set the input parameters\n",
    "URL = 'https://u-aizu.ac.jp/~udayrage/datasets/transactionalDatabases/Transactional_chess.csv'\n",
    "separator = '\\t'\n",
    "minimumSupportCountList = [100, 200, 300, 400, 500]\n",
    "minAllConf = 0.5\n",
    "# Initialize a data frame to store the results of CoMine\n",
    "result = pd.DataFrame(columns=['algorithm', 'minSup', 'patterns', 'runtime', 'memory'])\n",
    "# Execute the algorithm at different minSup values\n",
    "for minSupCount in minimumSupportCountList:\n",
    "    obj = alg.CoMine(URL, minSup=minSupCount, sep=separator, minAllConf=minAllConf)\n",
    "    obj.mine()\n",
    "    # Store the results in the data frame\n",
    "    result.loc[result.shape[0]] = ['CoMine', minSupCount, len(obj.getPatterns()), obj.getRuntime(), obj.getMemoryRSS(),]\n",
    "# Print the results\n",
    "print(f\"Frequent patterns were generated successfully using CoMine algorithm\")\n",
    "print(result)"
   ]
  },
  {
   "cell_type": "markdown",
   "metadata": {},
   "source": [
    "## Test Case 2 for chess Dataset"
   ]
  },
  {
   "cell_type": "code",
   "execution_count": 8,
   "metadata": {},
   "outputs": [
    {
     "name": "stdout",
     "output_type": "stream",
     "text": [
      "Correlated patterns were generated successfully using CoMine algorithm\n",
      "Correlated patterns were generated successfully using CoMine algorithm\n",
      "Correlated patterns were generated successfully using CoMine algorithm\n",
      "Correlated patterns were generated successfully using CoMine algorithm\n",
      "Correlated patterns were generated successfully using CoMine algorithm\n",
      "Frequent patterns were generated successfully using CoMine algorithm\n",
      "  algorithm  minSup  patterns    runtime     memory\n",
      "0    CoMine     100   1322393  29.589390  651730944\n",
      "1    CoMine     200   1322387  29.159429  646467584\n",
      "2    CoMine     300   1322385  29.959191  639229952\n",
      "3    CoMine     400   1322381  32.925684  636133376\n",
      "4    CoMine     500   1322379  28.632365  636116992\n"
     ]
    }
   ],
   "source": [
    "from PAMI.correlatedPattern.basic import CoMine as alg\n",
    "import pandas as pd\n",
    "# Set the input parameters\n",
    "inputFile = 'Transactional_chess1.csv'\n",
    "separator = '\\t'\n",
    "minimumSupportCountList = [100, 200, 300, 400, 500]\n",
    "minAllConf = 0.5\n",
    "# Initialize a data frame to store the results of CoMine\n",
    "result = pd.DataFrame(columns=['algorithm', 'minSup', 'patterns', 'runtime', 'memory'])\n",
    "# Execute the algorithm at different minSup values\n",
    "for minSupCount in minimumSupportCountList:\n",
    "    obj = alg.CoMine(inputFile, minSup=minSupCount, sep=separator, minAllConf=minAllConf)\n",
    "    obj.mine()\n",
    "    # Store the results in the data frame\n",
    "    result.loc[result.shape[0]] = ['CoMine', minSupCount, len(obj.getPatterns()), obj.getRuntime(), obj.getMemoryRSS(),]\n",
    "# Print the results\n",
    "print(f\"Frequent patterns were generated successfully using CoMine algorithm\")\n",
    "print(result)"
   ]
  },
  {
   "cell_type": "markdown",
   "metadata": {},
   "source": [
    "## Test Case 3 for chess Dataset"
   ]
  },
  {
   "cell_type": "code",
   "execution_count": 9,
   "metadata": {},
   "outputs": [
    {
     "name": "stdout",
     "output_type": "stream",
     "text": [
      "Correlated patterns were generated successfully using CoMine algorithm\n",
      "Correlated patterns were generated successfully using CoMine algorithm\n",
      "Correlated patterns were generated successfully using CoMine algorithm\n",
      "Correlated patterns were generated successfully using CoMine algorithm\n",
      "Correlated patterns were generated successfully using CoMine algorithm\n",
      "Frequent patterns were generated successfully using CoMine algorithm\n",
      "  algorithm  minSup  patterns    runtime     memory\n",
      "0    CoMine     100   1321743  29.900726  583147520\n",
      "1    CoMine     200   1321737  26.131184  964255744\n",
      "2    CoMine     300   1321735  27.905186  963428352\n",
      "3    CoMine     400   1321731  26.916327  953618432\n",
      "4    CoMine     500   1321729  29.389611  949780480\n"
     ]
    }
   ],
   "source": [
    "from PAMI.correlatedPattern.basic import CoMine as alg\n",
    "import pandas as pd\n",
    "\n",
    "# Set the input parameters\n",
    "inputFile = 'Transactional_chess1.csv'\n",
    "separator = '\\t'\n",
    "minimumSupportCountList = [100, 200, 300, 400, 500]\n",
    "minAllConf = 0.5\n",
    "\n",
    "# Read the CSV file into a DataFrame\n",
    "df = pd.read_csv(inputFile, header=[0], sep=' ')\n",
    "df = df.rename(columns={df.columns[0]: \"Transactions\"})\n",
    "\n",
    "# Ensure all data in the \"Transaction\" column is string before splitting\n",
    "df[\"Transactions\"] = df[\"Transactions\"].astype(str)\n",
    "\n",
    "# Preprocess the dataset\n",
    "# transactions = df[\"Transaction\"].apply(lambda x: x.split(separator)).tolist()\n",
    "transactions = df['Transactions'].apply(lambda x: x.split(separator))\n",
    "transactions = pd.DataFrame(transactions, columns=['Transactions'])\n",
    "\n",
    "# Initialize a data frame to store the results of CoMine\n",
    "result = pd.DataFrame(columns=['algorithm', 'minSup', 'patterns', 'runtime', 'memory'])\n",
    "\n",
    "# Execute the algorithm at different minSup values\n",
    "for minSupCount in minimumSupportCountList:\n",
    "    obj = alg.CoMine(transactions, minSup=minSupCount, sep=separator, minAllConf=minAllConf)\n",
    "    obj.mine()\n",
    "\n",
    "    # Get the patterns found\n",
    "    patterns = obj.getPatterns()\n",
    "\n",
    "    # Store the results in the data frame\n",
    "    result.loc[len(result)] = ['CoMine', minSupCount, len(patterns), obj.getRuntime(), obj.getMemoryRSS()]\n",
    "\n",
    "# Print the results\n",
    "print(\"Frequent patterns were generated successfully using CoMine algorithm\")\n",
    "print(result)\n"
   ]
  }
 ],
 "metadata": {
  "kernelspec": {
   "display_name": "Python 3",
   "language": "python",
   "name": "python3"
  },
  "language_info": {
   "codemirror_mode": {
    "name": "ipython",
    "version": 3
   },
   "file_extension": ".py",
   "mimetype": "text/x-python",
   "name": "python",
   "nbconvert_exporter": "python",
   "pygments_lexer": "ipython3",
   "version": "3.10.5"
  }
 },
 "nbformat": 4,
 "nbformat_minor": 2
}
