{
 "cells": [
  {
   "cell_type": "markdown",
   "id": "e960ba75-7c84-45aa-bbca-f6eca0f8731b",
   "metadata": {
    "tags": []
   },
   "source": [
    "# Advanced Tutorial on Implementing CSPGrowth Algorithm"
   ]
  },
  {
   "cell_type": "markdown",
   "id": "f7fb1145-420c-4ce0-905e-383d013cb11f",
   "metadata": {},
   "source": [
    "***"
   ]
  },
  {
   "cell_type": "markdown",
   "id": "5ca6724f-2ee6-4a56-b1bb-a67b8b37a278",
   "metadata": {},
   "source": [
    "#### In this tutorial, we explain how the Correlated Pattern GrowthPlus (CSPGrowth) algorithm  can be implemented by varying the minimum support values"
   ]
  },
  {
   "cell_type": "markdown",
   "id": "039e1133-be4f-45bb-9aec-4cb4af3b537e",
   "metadata": {},
   "source": [
    "#### Step 1: Import the CSPGrowth algorithm and pandas data frame"
   ]
  },
  {
   "cell_type": "code",
   "execution_count": 1,
   "id": "1d312f6c-e7d9-482b-bb7a-821b600c057d",
   "metadata": {},
   "outputs": [],
   "source": [
    "from PAMI.correlatedSpatialPattern.basic import CSPGrowth  as alg\n",
    "import pandas as pd"
   ]
  },
  {
   "cell_type": "markdown",
   "id": "16316eaf-892f-4c4e-937d-73007b0bf803",
   "metadata": {},
   "source": [
    "#### Step 2: Specify the following input parameters"
   ]
  },
  {
   "cell_type": "code",
   "execution_count": 2,
   "id": "097f841f-dbf3-40d2-a3c9-130a3a8af003",
   "metadata": {},
   "outputs": [],
   "source": [
    "inputFile = 'transactional_T10I4D100K.csv'\n",
    "seperator='\\t'\n",
    "minAllConfCount=0.1\n",
    "minimumSupportCountList = [100, 150, 200, 250, 300] \n",
    "#minimumSupport can also specified between 0 to 1. E.g., minSupList = [0.005, 0.006, 0.007, 0.008, 0.009]\n",
    "neghberFile='T10_utility_neighbour.txt'\n",
    "result = pd.DataFrame(columns=['algorithm', 'minSup',\"minAllConf\" , 'patterns', 'runtime', 'memory']) \n",
    "#initialize a data frame to store the results of CSPGrowth algorithm"
   ]
  },
  {
   "cell_type": "markdown",
   "id": "de4e94ed-b3b6-4b34-8a62-5d5f51d87d8f",
   "metadata": {},
   "source": [
    "#### Step 3: Execute the CSPGrowth algorithm using a for loop"
   ]
  },
  {
   "cell_type": "code",
   "execution_count": 3,
   "id": "e6224480-20e8-4c77-8a8f-09bade313f2b",
   "metadata": {},
   "outputs": [
    {
     "ename": "TypeError",
     "evalue": "CSPGrowth.__init__() missing 1 required positional argument: 'nFile'",
     "output_type": "error",
     "traceback": [
      "\u001b[0;31m---------------------------------------------------------------------------\u001b[0m",
      "\u001b[0;31mTypeError\u001b[0m                                 Traceback (most recent call last)",
      "Input \u001b[0;32mIn [3]\u001b[0m, in \u001b[0;36m<cell line: 2>\u001b[0;34m()\u001b[0m\n\u001b[1;32m      1\u001b[0m algorithm \u001b[38;5;241m=\u001b[39m \u001b[38;5;124m'\u001b[39m\u001b[38;5;124mCSPGrowth\u001b[39m\u001b[38;5;124m'\u001b[39m  \u001b[38;5;66;03m#specify the algorithm name\u001b[39;00m\n\u001b[1;32m      2\u001b[0m \u001b[38;5;28;01mfor\u001b[39;00m minSupCount \u001b[38;5;129;01min\u001b[39;00m minimumSupportCountList:\n\u001b[0;32m----> 3\u001b[0m     obj \u001b[38;5;241m=\u001b[39m \u001b[43malg\u001b[49m\u001b[38;5;241;43m.\u001b[39;49m\u001b[43mCSPGrowth\u001b[49m\u001b[43m(\u001b[49m\u001b[38;5;124;43m'\u001b[39;49m\u001b[38;5;124;43mtransactional_T10I4D100K.csv\u001b[39;49m\u001b[38;5;124;43m'\u001b[39;49m\u001b[43m,\u001b[49m\u001b[43m \u001b[49m\u001b[43mminSup\u001b[49m\u001b[38;5;241;43m=\u001b[39;49m\u001b[43mminSupCount\u001b[49m\u001b[43m,\u001b[49m\u001b[43mminAllConf\u001b[49m\u001b[38;5;241;43m=\u001b[39;49m\u001b[43mminAllConfCount\u001b[49m\u001b[43m \u001b[49m\u001b[43m,\u001b[49m\u001b[43m \u001b[49m\u001b[43msep\u001b[49m\u001b[38;5;241;43m=\u001b[39;49m\u001b[43mseperator\u001b[49m\u001b[43m)\u001b[49m\n\u001b[1;32m      4\u001b[0m     obj\u001b[38;5;241m.\u001b[39mstartMine()\n\u001b[1;32m      5\u001b[0m     \u001b[38;5;66;03m#store the results in the data frame\u001b[39;00m\n",
      "\u001b[0;31mTypeError\u001b[0m: CSPGrowth.__init__() missing 1 required positional argument: 'nFile'"
     ]
    }
   ],
   "source": [
    "algorithm = 'CSPGrowth'  #specify the algorithm name\n",
    "for minSupCount in minimumSupportCountList:\n",
    "    obj = alg.CSPGrowth('transactional_T10I4D100K.csv', minSup=minSupCount,minAllConf=minAllConfCount , sep=seperator)\n",
    "    obj.startMine()\n",
    "    #store the results in the data frame\n",
    "    result.loc[result.shape[0]] = [algorithm, minSupCount,minAllConfCount, len(obj.getPatterns()), obj.getRuntime(), obj.getMemoryRSS()]\n"
   ]
  },
  {
   "cell_type": "code",
   "execution_count": null,
   "id": "74c374fa-5269-4cdd-b2c8-6c684e59f915",
   "metadata": {},
   "outputs": [],
   "source": [
    "print(result)"
   ]
  },
  {
   "cell_type": "markdown",
   "id": "2da9f7bc-f1e2-4225-bc1b-8ba7e3a96f8d",
   "metadata": {},
   "source": [
    "#### Step 5: Visualizing the results"
   ]
  },
  {
   "cell_type": "markdown",
   "id": "677a1f49-fdf5-44f7-889b-dfb7891d5837",
   "metadata": {},
   "source": [
    "##### Step 5.1 Importing the plot library"
   ]
  },
  {
   "cell_type": "code",
   "execution_count": null,
   "id": "4a04c12b-33c2-42d5-9fb2-df563844f1b2",
   "metadata": {},
   "outputs": [],
   "source": [
    "from PAMI.extras.graph import plotLineGraphsFromDataFrame as plt"
   ]
  },
  {
   "cell_type": "markdown",
   "id": "bf37a8b6-a205-4d7f-86c6-81c41c90ebbf",
   "metadata": {},
   "source": [
    "##### Step 5.2. Plotting the number of patterns"
   ]
  },
  {
   "cell_type": "code",
   "execution_count": null,
   "id": "065029aa-9346-4d2b-a0a3-ec70ec4f9116",
   "metadata": {},
   "outputs": [],
   "source": [
    "ab = plt.plotGraphsFromDataFrame(result)\n",
    "ab.plotGraphsFromDataFrame() #drawPlots()"
   ]
  },
  {
   "cell_type": "markdown",
   "id": "d10b6e2d-e186-45c7-a143-d6733c5a901e",
   "metadata": {},
   "source": [
    "### Step 6: Saving the results as latex files"
   ]
  },
  {
   "cell_type": "code",
   "execution_count": null,
   "id": "687669cd-1183-4d1a-b262-5437af119662",
   "metadata": {},
   "outputs": [],
   "source": [
    "from PAMI.extras.graph import generateLatexFileFromDataFrame as gdf\n",
    "gdf.generateLatexCode(result)"
   ]
  },
  {
   "cell_type": "code",
   "execution_count": null,
   "id": "76b8d974-6e77-4002-8c1c-556b5dd99fe2",
   "metadata": {},
   "outputs": [],
   "source": []
  }
 ],
 "metadata": {
  "kernelspec": {
   "display_name": "Python 3 (ipykernel)",
   "language": "python",
   "name": "python3"
  },
  "language_info": {
   "codemirror_mode": {
    "name": "ipython",
    "version": 3
   },
   "file_extension": ".py",
   "mimetype": "text/x-python",
   "name": "python",
   "nbconvert_exporter": "python",
   "pygments_lexer": "ipython3",
   "version": "3.10.4"
  },
  "toc-autonumbering": false
 },
 "nbformat": 4,
 "nbformat_minor": 5
}
