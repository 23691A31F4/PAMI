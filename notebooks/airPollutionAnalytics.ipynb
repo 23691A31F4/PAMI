{
  "nbformat": 4,
  "nbformat_minor": 0,
  "metadata": {
    "colab": {
      "provenance": [],
      "authorship_tag": "ABX9TyMVV7uhXEvXzXuhjVddu455",
      "include_colab_link": true
    },
    "kernelspec": {
      "name": "python3",
      "display_name": "Python 3"
    },
    "language_info": {
      "name": "python"
    }
  },
  "cells": [
    {
      "cell_type": "markdown",
      "metadata": {
        "id": "view-in-github",
        "colab_type": "text"
      },
      "source": [
        "<a href=\"https://colab.research.google.com/github/UdayLab/PAMI/blob/main/notebooks/airPollutionAnalytics.ipynb\" target=\"_parent\"><img src=\"https://colab.research.google.com/assets/colab-badge.svg\" alt=\"Open In Colab\"/></a>"
      ]
    },
    {
      "cell_type": "markdown",
      "source": [
        "# Walk through: Discovering Frequent Patterns from Big Multiple Time Series Data\n",
        "\n",
        "\n",
        "> Illustration with 3-year nation-wide air pollution data of Japan\n",
        "\n"
      ],
      "metadata": {
        "id": "9kxtMcdavLld"
      }
    },
    {
      "cell_type": "markdown",
      "source": [
        "## Introduction\n",
        "\n",
        "Multiple time series data is ubiqutous. Beneficial patterns that can empower the users with competitive knowledge are hidden in this series. This article describe the process to discover frequently occurring patterns (or frequent patterns) in a multiple time series.  We use the 3-year nation-wide air pollution (PM2.5) data of Japan for illustration purposes."
      ],
      "metadata": {
        "id": "V_0ZTN7ExFVq"
      }
    },
    {
      "cell_type": "code",
      "execution_count": null,
      "metadata": {
        "id": "P6B2vwnWu6oa"
      },
      "outputs": [],
      "source": [
        "#Introduction"
      ]
    }
  ]
}