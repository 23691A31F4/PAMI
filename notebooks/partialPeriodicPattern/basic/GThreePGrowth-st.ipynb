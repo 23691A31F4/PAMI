{
 "cells": [
  {
   "cell_type": "raw",
   "id": "6a60630f-8eab-4989-a562-7a668bcb11ef",
   "metadata": {
    "tags": []
   },
   "source": [
    "# Advanced Tutorial on Implementing GThreePGrowth Algorithm"
   ]
  },
  {
   "cell_type": "markdown",
   "id": "f7fb1145-420c-4ce0-905e-383d013cb11f",
   "metadata": {},
   "source": [
    "***"
   ]
  },
  {
   "cell_type": "markdown",
   "id": "5ca6724f-2ee6-4a56-b1bb-a67b8b37a278",
   "metadata": {},
   "source": [
    "#### In this tutorial, we explain how the GThreePGrowth algorithm  can be implemented by varying the minimum support values"
   ]
  },
  {
   "cell_type": "markdown",
   "id": "039e1133-be4f-45bb-9aec-4cb4af3b537e",
   "metadata": {
    "tags": []
   },
   "source": [
    "#### Step 1: Import the GThreePGrowth algorithm and pandas data frame"
   ]
  },
  {
   "cell_type": "code",
   "execution_count": 1,
   "id": "1d312f6c-e7d9-482b-bb7a-821b600c057d",
   "metadata": {},
   "outputs": [],
   "source": [
    "from PAMI.partialPeriodicPattern.basic import GThreePGrowth  as alg\n",
    "import pandas as pd"
   ]
  },
  {
   "cell_type": "markdown",
   "id": "16316eaf-892f-4c4e-937d-73007b0bf803",
   "metadata": {},
   "source": [
    "#### Step 2: Specify the following input parameters"
   ]
  },
  {
   "cell_type": "code",
   "execution_count": 2,
   "id": "097f841f-dbf3-40d2-a3c9-130a3a8af003",
   "metadata": {},
   "outputs": [],
   "source": [
    "inputFile = 'temporal_T10I4D100K.csv'\n",
    "seperator='\\t'\n",
    "periodCount=500\n",
    "periodicSupportCountList = [100, 150, 200, 250, 300] \n",
    "#minimumSupport can also specified between 0 to 1. E.g., minSupList = [0.005, 0.006, 0.007, 0.008, 0.009]\n",
    "relativePSCount=0.2\n",
    "result = pd.DataFrame(columns=['algorithm', 'minSup', 'period','relativePS','patterns', 'runtime', 'memory']) \n",
    "#initialize a data frame to store the results of GThreePGrowth algorithm"
   ]
  },
  {
   "cell_type": "markdown",
   "id": "de4e94ed-b3b6-4b34-8a62-5d5f51d87d8f",
   "metadata": {},
   "source": [
    "#### Step 3: Execute the GThreePGrowth algorithm using a for loop"
   ]
  },
  {
   "cell_type": "code",
   "execution_count": 3,
   "id": "e6224480-20e8-4c77-8a8f-09bade313f2b",
   "metadata": {},
   "outputs": [
    {
     "name": "stdout",
     "output_type": "stream",
     "text": [
      "760\n",
      "100 500 0.2\n",
      "Partial Periodic Patterns were generated successfully using Generalized 3PGrowth algorithm \n",
      "       algorithm  minSup  period  relativePS  patterns    runtime     memory\n",
      "0  GThreePGrowth     100     500         0.2      8454  12.124357  574042112\n",
      "733\n",
      "150 500 0.2\n",
      "Partial Periodic Patterns were generated successfully using Generalized 3PGrowth algorithm \n",
      "       algorithm  minSup  period  relativePS  patterns    runtime     memory\n",
      "0  GThreePGrowth     100     500         0.2      8454  12.124357  574042112\n",
      "1  GThreePGrowth     150     500         0.2      6369  10.808095  571535360\n",
      "707\n",
      "200 500 0.2\n",
      "Partial Periodic Patterns were generated successfully using Generalized 3PGrowth algorithm \n",
      "       algorithm  minSup  period  relativePS  patterns    runtime     memory\n",
      "0  GThreePGrowth     100     500         0.2      8454  12.124357  574042112\n",
      "1  GThreePGrowth     150     500         0.2      6369  10.808095  571535360\n",
      "2  GThreePGrowth     200     500         0.2      4672  10.902376  567865344\n",
      "682\n",
      "250 500 0.2\n",
      "Partial Periodic Patterns were generated successfully using Generalized 3PGrowth algorithm \n",
      "       algorithm  minSup  period  relativePS  patterns    runtime     memory\n",
      "0  GThreePGrowth     100     500         0.2      8454  12.124357  574042112\n",
      "1  GThreePGrowth     150     500         0.2      6369  10.808095  571535360\n",
      "2  GThreePGrowth     200     500         0.2      4672  10.902376  567865344\n",
      "3  GThreePGrowth     250     500         0.2      2789   9.689085  564477952\n",
      "654\n",
      "300 500 0.2\n",
      "Partial Periodic Patterns were generated successfully using Generalized 3PGrowth algorithm \n",
      "       algorithm  minSup  period  relativePS  patterns    runtime     memory\n",
      "0  GThreePGrowth     100     500         0.2      8454  12.124357  574042112\n",
      "1  GThreePGrowth     150     500         0.2      6369  10.808095  571535360\n",
      "2  GThreePGrowth     200     500         0.2      4672  10.902376  567865344\n",
      "3  GThreePGrowth     250     500         0.2      2789   9.689085  564477952\n",
      "4  GThreePGrowth     300     500         0.2      1996   9.762537  559456256\n"
     ]
    }
   ],
   "source": [
    "algorithm = 'GThreePGrowth'  #specify the algorithm name\n",
    "for periodicSupportCount in periodicSupportCountList:\n",
    "    obj = alg.GThreePGrowth('temporal_T10I4D100K.csv', periodicSupport=periodicSupportCount, period=periodCount,relativePS=relativePSCount, sep=seperator)\n",
    "    obj.startMine()\n",
    "    #store the results in the data frame\n",
    "    result.loc[result.shape[0]] = [algorithm, periodicSupportCount,periodCount,relativePSCount, len(obj.getPatterns()), obj.getRuntime(), obj.getMemoryRSS()]\n",
    "    print(result)"
   ]
  },
  {
   "cell_type": "markdown",
   "id": "2da9f7bc-f1e2-4225-bc1b-8ba7e3a96f8d",
   "metadata": {},
   "source": [
    "#### Step 5: Visualizing the results"
   ]
  },
  {
   "cell_type": "markdown",
   "id": "677a1f49-fdf5-44f7-889b-dfb7891d5837",
   "metadata": {},
   "source": [
    "##### Step 5.1 Importing the plot library"
   ]
  },
  {
   "cell_type": "code",
   "execution_count": 4,
   "id": "4a04c12b-33c2-42d5-9fb2-df563844f1b2",
   "metadata": {},
   "outputs": [],
   "source": [
    "from PAMI.extras.graph import plotLineGraphsFromDataFrame as plt"
   ]
  },
  {
   "cell_type": "markdown",
   "id": "bf37a8b6-a205-4d7f-86c6-81c41c90ebbf",
   "metadata": {},
   "source": [
    "##### Step 5.2. Plotting the number of patterns"
   ]
  },
  {
   "cell_type": "code",
   "execution_count": 5,
   "id": "065029aa-9346-4d2b-a0a3-ec70ec4f9116",
   "metadata": {},
   "outputs": [
    {
     "data": {
      "image/png": "[encoded data removed]",
      "text/plain": [
       "<Figure size 432x288 with 1 Axes>"
      ]
     },
     "metadata": {
      "needs_background": "light"
     },
     "output_type": "display_data"
    },
    {
     "name": "stdout",
     "output_type": "stream",
     "text": [
      "Graph for No Of Patterns is successfully generated!\n"
     ]
    },
    {
     "data": {
      "image/png": "[encoded data removed]",
      "text/plain": [
       "<Figure size 432x288 with 1 Axes>"
      ]
     },
     "metadata": {
      "needs_background": "light"
     },
     "output_type": "display_data"
    },
    {
     "name": "stdout",
     "output_type": "stream",
     "text": [
      "Graph for Runtime taken is successfully generated!\n"
     ]
    },
    {
     "data": {
      "image/png": "[encoded data removed]",
      "text/plain": [
       "<Figure size 432x288 with 1 Axes>"
      ]
     },
     "metadata": {
      "needs_background": "light"
     },
     "output_type": "display_data"
    },
    {
     "name": "stdout",
     "output_type": "stream",
     "text": [
      "Graph for memory consumption is successfully generated!\n"
     ]
    }
   ],
   "source": [
    "ab = plt.plotGraphsFromDataFrame(result)\n",
    "ab.plotGraphsFromDataFrame() #drawPlots()"
   ]
  },
  {
   "cell_type": "markdown",
   "id": "d10b6e2d-e186-45c7-a143-d6733c5a901e",
   "metadata": {},
   "source": [
    "### Step 6: Saving the results as latex files"
   ]
  },
  {
   "cell_type": "code",
   "execution_count": 6,
   "id": "687669cd-1183-4d1a-b262-5437af119662",
   "metadata": {},
   "outputs": [
    {
     "name": "stdout",
     "output_type": "stream",
     "text": [
      "Latex files generated successfully\n"
     ]
    }
   ],
   "source": [
    "from PAMI.extras.graph import generateLatexFileFromDataFrame as gdf\n",
    "gdf.generateLatexCode(result)"
   ]
  }
 ],
 "metadata": {
  "kernelspec": {
   "display_name": "Python 3 (ipykernel)",
   "language": "python",
   "name": "python3"
  },
  "language_info": {
   "codemirror_mode": {
    "name": "ipython",
    "version": 3
   },
   "file_extension": ".py",
   "mimetype": "text/x-python",
   "name": "python",
   "nbconvert_exporter": "python",
   "pygments_lexer": "ipython3",
   "version": "3.10.4"
  },
  "toc-autonumbering": false
 },
 "nbformat": 4,
 "nbformat_minor": 5
}
