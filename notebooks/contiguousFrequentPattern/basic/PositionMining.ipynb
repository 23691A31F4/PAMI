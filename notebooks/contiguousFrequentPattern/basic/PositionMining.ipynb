{
 "cells": [
  {
   "cell_type": "code",
   "execution_count": 1,
   "metadata": {},
   "outputs": [],
   "source": [
    "from PAMI.contiguousFrequentPattern.basic import PositionMining as alg"
   ]
  },
  {
   "cell_type": "code",
   "execution_count": 2,
   "metadata": {},
   "outputs": [],
   "source": [
    "miner=alg.PositionMining(100,\"out.csv\")"
   ]
  },
  {
   "cell_type": "code",
   "execution_count": 3,
   "metadata": {},
   "outputs": [],
   "source": [
    "miner.startMine()"
   ]
  },
  {
   "cell_type": "code",
   "execution_count": 4,
   "metadata": {},
   "outputs": [
    {
     "name": "stdout",
     "output_type": "stream",
     "text": [
      "{'A': 30972, 'G': 30932, 'C': 31101, 'T': 30994, 'AG': 7589, 'AC': 7688, 'AT': 7758, 'GA': 7681, 'GC': 7710, 'GT': 7631, 'CA': 7672, 'CG': 7704, 'CT': 7845, 'TA': 7648, 'TG': 7749, 'TC': 7831, 'AGA': 1862, 'AGC': 1901, 'AGT': 1878, 'ACA': 1919, 'ACG': 1914, 'ACT': 1953, 'ATA': 2002, 'ATG': 1919, 'ATC': 1941, 'GAG': 1864, 'GAC': 1894, 'GAT': 1889, 'GCA': 1896, 'GCG': 1912, 'GCT': 1922, 'GTA': 1798, 'GTG': 1950, 'GTC': 1892, 'CAG': 1841, 'CAC': 1924, 'CAT': 1993, 'CGA': 1923, 'CGC': 1894, 'CGT': 1866, 'CTA': 1876, 'CTG': 1922, 'CTC': 2078, 'TAG': 1889, 'TAC': 1928, 'TAT': 1914, 'TGA': 1911, 'TGC': 1961, 'TGT': 1920, 'TCA': 1904, 'TCG': 1935, 'TCT': 1947, 'AGAG': 455, 'AGAC': 456, 'AGAT': 466, 'AGCA': 453, 'AGCG': 475, 'AGCT': 485, 'AGTA': 451, 'AGTG': 463, 'AGTC': 467, 'ACAG': 455, 'ACAC': 479, 'ACAT': 490, 'ACGA': 487, 'ACGC': 479, 'ACGT': 442, 'ACTA': 478, 'ACTG': 471, 'ACTC': 527, 'ATAG': 495, 'ATAC': 510, 'ATAT': 466, 'ATGA': 475, 'ATGC': 489, 'ATGT': 469, 'ATCA': 506, 'ATCG': 461, 'ATCT': 479, 'GAGA': 457, 'GAGC': 463, 'GAGT': 474, 'GACA': 463, 'GACG': 477, 'GACT': 491, 'GATA': 451, 'GATG': 522, 'GATC': 455, 'GCAG': 456, 'GCAC': 477, 'GCAT': 501, 'GCGA': 488, 'GCGC': 465, 'GCGT': 476, 'GCTA': 431, 'GCTG': 482, 'GCTC': 498, 'GTAG': 456, 'GTAC': 441, 'GTAT': 456, 'GTGA': 515, 'GTGC': 477, 'GTGT': 481, 'GTCA': 439, 'GTCG': 506, 'GTCT': 437, 'CAGA': 462, 'CAGC': 434, 'CAGT': 453, 'CACA': 459, 'CACG': 487, 'CACT': 473, 'CATA': 510, 'CATG': 500, 'CATC': 505, 'CGAG': 463, 'CGAC': 484, 'CGAT': 477, 'CGCA': 463, 'CGCG': 472, 'CGCT': 460, 'CGTA': 429, 'CGTG': 508, 'CGTC': 469, 'CTAG': 467, 'CTAC': 462, 'CTAT': 491, 'CTGA': 456, 'CTGC': 499, 'CTGT': 479, 'CTCA': 495, 'CTCG': 498, 'CTCT': 552, 'TAGA': 463, 'TAGC': 489, 'TAGT': 449, 'TACA': 474, 'TACG': 495, 'TACT': 502, 'TATA': 512, 'TATG': 441, 'TATC': 486, 'TGAG': 448, 'TGAC': 488, 'TGAT': 472, 'TGCA': 486, 'TGCG': 502, 'TGCT': 501, 'TGTA': 454, 'TGTG': 503, 'TGTC': 460, 'TCAG': 443, 'TCAC': 478, 'TCAT': 514, 'TCGA': 471, 'TCGC': 486, 'TCGT': 463, 'TCTA': 444, 'TCTG': 484, 'TCTC': 520, 'AGAGA': 118, 'AGAGC': 117, 'AGAGT': 114, 'AGACA': 118, 'AGACG': 110, 'AGACT': 123, 'AGATA': 111, 'AGATG': 143, 'AGATC': 107, 'AGCAG': 118, 'AGCAC': 108, 'AGCAT': 110, 'AGCGA': 133, 'AGCGC': 113, 'AGCGT': 124, 'AGCTA': 119, 'AGCTG': 120, 'AGCTC': 126, 'AGTAG': 109, 'AGTAT': 133, 'AGTGA': 134, 'AGTGC': 107, 'AGTGT': 120, 'AGTCA': 105, 'AGTCG': 116, 'AGTCT': 102, 'ACAGA': 107, 'ACAGC': 103, 'ACAGT': 112, 'ACACA': 112, 'ACACG': 115, 'ACACT': 122, 'ACATA': 117, 'ACATG': 125, 'ACATC': 114, 'ACGAG': 129, 'ACGAC': 109, 'ACGAT': 107, 'ACGCA': 122, 'ACGCG': 126, 'ACGCT': 119, 'ACGTA': 107, 'ACGTG': 134, 'ACGTC': 110, 'ACTAG': 127, 'ACTAC': 120, 'ACTAT': 116, 'ACTGA': 114, 'ACTGC': 118, 'ACTGT': 120, 'ACTCA': 124, 'ACTCG': 141, 'ACTCT': 130, 'ATAGA': 121, 'ATAGC': 127, 'ATAGT': 124, 'ATACA': 124, 'ATACG': 133, 'ATACT': 147, 'ATATA': 121, 'ATATG': 107, 'ATATC': 116, 'ATGAG': 111, 'ATGAC': 116, 'ATGAT': 131, 'ATGCA': 114, 'ATGCG': 126, 'ATGCT': 139, 'ATGTA': 112, 'ATGTG': 109, 'ATGTC': 126, 'ATCAG': 108, 'ATCAC': 117, 'ATCAT': 138, 'ATCGC': 125, 'ATCGT': 116, 'ATCTA': 106, 'ATCTG': 122, 'ATCTC': 130, 'GAGAG': 117, 'GAGAC': 115, 'GAGAT': 116, 'GAGCA': 132, 'GAGCG': 108, 'GAGCT': 115, 'GAGTA': 117, 'GAGTG': 114, 'GAGTC': 126, 'GACAG': 103, 'GACAT': 131, 'GACGA': 126, 'GACGC': 116, 'GACGT': 101, 'GACTA': 111, 'GACTG': 116, 'GACTC': 136, 'GATAG': 124, 'GATAC': 106, 'GATAT': 113, 'GATGA': 136, 'GATGC': 140, 'GATGT': 118, 'GATCA': 130, 'GATCG': 106, 'GATCT': 109, 'GCAGA': 120, 'GCAGC': 115, 'GCAGT': 105, 'GCACA': 112, 'GCACG': 114, 'GCACT': 115, 'GCATA': 127, 'GCATG': 136, 'GCATC': 125, 'GCGAG': 120, 'GCGAC': 124, 'GCGAT': 126, 'GCGCA': 112, 'GCGCG': 114, 'GCGCT': 115, 'GCGTG': 145, 'GCGTC': 117, 'GCTAC': 116, 'GCTAT': 103, 'GCTGA': 109, 'GCTGC': 138, 'GCTGT': 116, 'GCTCA': 126, 'GCTCG': 117, 'GCTCT': 125, 'GTAGA': 113, 'GTAGC': 111, 'GTAGT': 119, 'GTACA': 110, 'GTACG': 119, 'GTACT': 112, 'GTATA': 124, 'GTATG': 120, 'GTATC': 106, 'GTGAG': 123, 'GTGAC': 118, 'GTGAT': 135, 'GTGCA': 122, 'GTGCG': 131, 'GTGCT': 107, 'GTGTA': 106, 'GTGTG': 142, 'GTGTC': 103, 'GTCAC': 117, 'GTCAT': 119, 'GTCGA': 131, 'GTCGC': 123, 'GTCGT': 109, 'GTCTG': 114, 'GTCTC': 117, 'CAGAG': 107, 'CAGAC': 122, 'CAGAT': 114, 'CAGCG': 106, 'CAGCT': 104, 'CAGTA': 119, 'CAGTC': 116, 'CACAG': 117, 'CACAC': 127, 'CACAT': 109, 'CACGA': 143, 'CACGC': 113, 'CACGT': 114, 'CACTA': 109, 'CACTG': 112, 'CACTC': 129, 'CATAG': 125, 'CATAC': 142, 'CATAT': 109, 'CATGA': 120, 'CATGC': 120, 'CATGT': 130, 'CATCA': 131, 'CATCG': 119, 'CATCT': 137, 'CGAGA': 119, 'CGAGT': 125, 'CGACA': 120, 'CGACG': 118, 'CGACT': 118, 'CGATA': 109, 'CGATG': 137, 'CGATC': 120, 'CGCAG': 115, 'CGCAC': 138, 'CGCAT': 118, 'CGCGA': 119, 'CGCGC': 116, 'CGCGT': 118, 'CGCTA': 107, 'CGCTG': 121, 'CGCTC': 113, 'CGTAG': 112, 'CGTAC': 104, 'CGTAT': 105, 'CGTGA': 142, 'CGTGC': 118, 'CGTGT': 121, 'CGTCA': 120, 'CGTCG': 128, 'CGTCT': 109, 'CTAGA': 121, 'CTAGC': 134, 'CTACA': 114, 'CTACG': 108, 'CTACT': 114, 'CTATA': 128, 'CTATG': 105, 'CTATC': 136, 'CTGAG': 100, 'CTGAC': 130, 'CTGAT': 111, 'CTGCA': 133, 'CTGCG': 119, 'CTGCT': 117, 'CTGTA': 108, 'CTGTG': 127, 'CTGTC': 117, 'CTCAG': 128, 'CTCAC': 129, 'CTCAT': 132, 'CTCGA': 132, 'CTCGC': 115, 'CTCGT': 122, 'CTCTA': 133, 'CTCTG': 122, 'CTCTC': 139, 'TAGAG': 120, 'TAGAT': 117, 'TAGCA': 104, 'TAGCG': 131, 'TAGCT': 128, 'TAGTG': 127, 'TAGTC': 106, 'TACAG': 114, 'TACAC': 106, 'TACAT': 126, 'TACGA': 114, 'TACGC': 135, 'TACGT': 110, 'TACTA': 131, 'TACTG': 118, 'TACTC': 135, 'TATAG': 126, 'TATAC': 120, 'TATAT': 125, 'TATGC': 108, 'TATGT': 114, 'TATCA': 116, 'TATCG': 110, 'TATCT': 117, 'TGAGA': 109, 'TGAGC': 110, 'TGAGT': 121, 'TGACA': 130, 'TGACG': 119, 'TGACT': 127, 'TGATG': 126, 'TGATC': 119, 'TGCAG': 114, 'TGCAC': 113, 'TGCAT': 138, 'TGCGA': 120, 'TGCGC': 123, 'TGCGT': 127, 'TGCTA': 108, 'TGCTG': 118, 'TGCTC': 139, 'TGTAG': 124, 'TGTAC': 107, 'TGTAT': 111, 'TGTGA': 124, 'TGTGC': 116, 'TGTGT': 138, 'TGTCA': 111, 'TGTCG': 111, 'TGTCT': 122, 'TCAGA': 112, 'TCAGC': 111, 'TCAGT': 106, 'TCACA': 132, 'TCACG': 120, 'TCACT': 111, 'TCATA': 138, 'TCATG': 116, 'TCATC': 142, 'TCGAG': 103, 'TCGAC': 138, 'TCGAT': 123, 'TCGCA': 109, 'TCGCG': 124, 'TCGCT': 115, 'TCGTA': 113, 'TCGTG': 122, 'TCGTC': 122, 'TCTAG': 107, 'TCTAC': 103, 'TCTAT': 129, 'TCTGA': 117, 'TCTGC': 115, 'TCTGT': 122, 'TCTCA': 114, 'TCTCG': 125, 'TCTCT': 150}\n"
     ]
    }
   ],
   "source": [
    "allpatterns=miner.getPatterns()\n",
    "print(allpatterns)"
   ]
  },
  {
   "cell_type": "code",
   "execution_count": 5,
   "metadata": {},
   "outputs": [
    {
     "name": "stdout",
     "output_type": "stream",
     "text": [
      "{'AGAG': 455, 'AGAC': 456, 'AGAT': 466, 'AGCA': 453, 'AGCG': 475, 'AGCT': 485, 'AGTA': 451, 'AGTG': 463, 'AGTC': 467, 'ACAG': 455, 'ACAC': 479, 'ACAT': 490, 'ACGA': 487, 'ACGC': 479, 'ACGT': 442, 'ACTA': 478, 'ACTG': 471, 'ACTC': 527, 'ATAG': 495, 'ATAC': 510, 'ATAT': 466, 'ATGA': 475, 'ATGC': 489, 'ATGT': 469, 'ATCA': 506, 'ATCG': 461, 'ATCT': 479, 'GAGA': 457, 'GAGC': 463, 'GAGT': 474, 'GACA': 463, 'GACG': 477, 'GACT': 491, 'GATA': 451, 'GATG': 522, 'GATC': 455, 'GCAG': 456, 'GCAC': 477, 'GCAT': 501, 'GCGA': 488, 'GCGC': 465, 'GCGT': 476, 'GCTA': 431, 'GCTG': 482, 'GCTC': 498, 'GTAG': 456, 'GTAC': 441, 'GTAT': 456, 'GTGA': 515, 'GTGC': 477, 'GTGT': 481, 'GTCA': 439, 'GTCG': 506, 'GTCT': 437, 'CAGA': 462, 'CAGC': 434, 'CAGT': 453, 'CACA': 459, 'CACG': 487, 'CACT': 473, 'CATA': 510, 'CATG': 500, 'CATC': 505, 'CGAG': 463, 'CGAC': 484, 'CGAT': 477, 'CGCA': 463, 'CGCG': 472, 'CGCT': 460, 'CGTA': 429, 'CGTG': 508, 'CGTC': 469, 'CTAG': 467, 'CTAC': 462, 'CTAT': 491, 'CTGA': 456, 'CTGC': 499, 'CTGT': 479, 'CTCA': 495, 'CTCG': 498, 'CTCT': 552, 'TAGA': 463, 'TAGC': 489, 'TAGT': 449, 'TACA': 474, 'TACG': 495, 'TACT': 502, 'TATA': 512, 'TATG': 441, 'TATC': 486, 'TGAG': 448, 'TGAC': 488, 'TGAT': 472, 'TGCA': 486, 'TGCG': 502, 'TGCT': 501, 'TGTA': 454, 'TGTG': 503, 'TGTC': 460, 'TCAG': 443, 'TCAC': 478, 'TCAT': 514, 'TCGA': 471, 'TCGC': 486, 'TCGT': 463, 'TCTA': 444, 'TCTG': 484, 'TCTC': 520}\n"
     ]
    }
   ],
   "source": [
    "patterns_of_length_4=miner.get_Klength_patterns(4)\n",
    "print(patterns_of_length_4)"
   ]
  },
  {
   "cell_type": "code",
   "execution_count": 9,
   "metadata": {},
   "outputs": [
    {
     "name": "stdout",
     "output_type": "stream",
     "text": [
      "{'AGA': 1862, 'AGC': 1901, 'AGT': 1878, 'ACA': 1919, 'ACG': 1914, 'ACT': 1953, 'ATA': 2002, 'ATG': 1919, 'ATC': 1941, 'GAG': 1864, 'GAC': 1894, 'GAT': 1889, 'GCA': 1896, 'GCG': 1912, 'GCT': 1922, 'GTA': 1798, 'GTG': 1950, 'GTC': 1892, 'CAG': 1841, 'CAC': 1924, 'CAT': 1993, 'CGA': 1923, 'CGC': 1894, 'CGT': 1866, 'CTA': 1876, 'CTG': 1922, 'CTC': 2078, 'TAG': 1889, 'TAC': 1928, 'TAT': 1914, 'TGA': 1911, 'TGC': 1961, 'TGT': 1920, 'TCA': 1904, 'TCG': 1935, 'TCT': 1947}\n"
     ]
    }
   ],
   "source": [
    "patterns_of_length_5=miner.get_Klength_patterns(3)\n",
    "print(patterns_of_length_5)"
   ]
  },
  {
   "cell_type": "code",
   "execution_count": 12,
   "metadata": {},
   "outputs": [
    {
     "name": "stdout",
     "output_type": "stream",
     "text": [
      "{2061, 61454, 57360, 73745, 122898, 26649, 55329, 120868, 88101, 120878, 22577, 112690, 98361, 26682, 63550, 22591, 108616, 120906, 122961, 73810, 75867, 71771, 120925, 67681, 14434, 10349, 116846, 86130, 53364, 73845, 82037, 118905, 90240, 100484, 24709, 53382, 12424, 6293, 2202, 30897, 32953, 12473, 49339, 43205, 118983, 12501, 67806, 78066, 123123, 116979, 78073, 65786, 24831, 57599, 45316, 121093, 114955, 92434, 59668, 47385, 121113, 110878, 82210, 8500, 121153, 119107, 106832, 43344, 37212, 57697, 100705, 96613, 57715, 86390, 8568, 92536, 12668, 78210, 53635, 119178, 24976, 12695, 119201, 16802, 106919, 59818, 100779, 33196, 72112, 94646, 113082, 47550, 115135, 84418, 59856, 98771, 27093, 33239, 59867, 106977, 92644, 23013, 74216, 35307, 70124, 104945, 27143, 43534, 51729, 53779, 84508, 107041, 96801, 14887, 47660, 61997, 49710, 55855, 16946, 21043, 113210, 100933, 6742, 2647, 27228, 49757, 103006, 45664, 90721, 92775, 4716, 35442, 64115, 121466, 103037, 17023, 107142, 78470, 6793, 8848, 103069, 8869, 66216, 74418, 86707, 76480, 27328, 74455, 107227, 735, 86751, 47848, 10990, 23279, 109300, 51959, 4859, 70399, 76547, 21252, 115462, 21258, 17166, 103189, 107292, 49948, 49961, 92975, 17200, 52016, 97085, 78658, 15173, 41804, 62290, 66394, 52059, 101212, 95067, 4958, 105312, 4965, 111465, 2927, 9072, 90992, 86895, 52084, 119688, 41870, 115609, 113573, 88997, 105384, 80809, 121772, 19383, 5049, 52154, 7102, 33728, 19393, 68546, 91075, 29649, 109530, 31708, 990, 31713, 91120, 48114, 66547, 76804, 37893, 3081, 95242, 119824, 35859, 76829, 35877, 11308, 62510, 15407, 42035, 17472, 105540, 95311, 15450, 68711, 62570, 115819, 48235, 7276, 103535, 46194, 17526, 99447, 101510, 91272, 56458, 1165, 81039, 38033, 87192, 42150, 119976, 101549, 7341, 119986, 105655, 50368, 68804, 62663, 50380, 17625, 81113, 52443, 27870, 44256, 38119, 122090, 7405, 34032, 95474, 64755, 29945, 13562, 17661, 107777, 89349, 25863, 9481, 56590, 3345, 52510, 58655, 34082, 11560, 62763, 30000, 81204, 46390, 124216, 38205, 116030, 120131, 48452, 5445, 11590, 87370, 58701, 19793, 25942, 105826, 23909, 52589, 124272, 77169, 101744, 50550, 66939, 28037, 1417, 62858, 56716, 62870, 83376, 13746, 77240, 101817, 71104, 50627, 44483, 95687, 69066, 71114, 69075, 36308, 1493, 114139, 64990, 83426, 67043, 56803, 75238, 83435, 75244, 105963, 24045, 103920, 17907, 62963, 120309, 15865, 5637, 22027, 101904, 85528, 60952, 15903, 87595, 7726, 34351, 3631, 69171, 124470, 40503, 118328, 30275, 112196, 40516, 7749, 65097, 54860, 69198, 87630, 77392, 114264, 112223, 91748, 63080, 87671, 95863, 114301, 20094, 28299, 93847, 112280, 89752, 71328, 110241, 42663, 91825, 100021, 38586, 93886, 114378, 79566, 48846, 34517, 59094, 118487, 112351, 24287, 102114, 20200, 57064, 52974, 38641, 77556, 46838, 73462, 75513, 38655, 63236, 48906, 40717, 118542, 44816, 5904, 34582, 20250, 28446, 79651, 3876, 85800, 5933, 73517, 28468, 91961, 85818, 22340, 73541, 5960, 71496, 32585, 79692, 53070, 81745, 63317, 100185, 122732, 87922, 75637, 26485, 85885, 30606, 75666, 73623, 6041, 16281, 57243, 73633, 120743, 67496, 94121, 53162, 110507, 122794, 36785, 53176, 114623, 44994, 98247, 83918, 55252, 79838, 85995, 116718, 83952, 42995, 122869, 112631}\n"
     ]
    }
   ],
   "source": [
    "\" i will be changing the function to give id , and the position of the pattern in that sequence id\"\n",
    "positions_of_pattern=miner.getPattern_positions(\"CAGT\")\n",
    "print(positions_of_pattern)"
   ]
  },
  {
   "cell_type": "code",
   "execution_count": 14,
   "metadata": {},
   "outputs": [
    {
     "name": "stdout",
     "output_type": "stream",
     "text": [
      "142643200\n",
      "131657728\n",
      "0.31262826919555664\n"
     ]
    }
   ],
   "source": [
    "print(miner.getMemoryRSS())\n",
    "print(miner.getMemoryUSS())\n",
    "print(miner.getRuntime())\n"
   ]
  },
  {
   "cell_type": "code",
   "execution_count": 15,
   "metadata": {},
   "outputs": [],
   "source": [
    "dataframe=miner.getPatternsAsDataFrame()"
   ]
  },
  {
   "cell_type": "code",
   "execution_count": 17,
   "metadata": {},
   "outputs": [
    {
     "data": {
      "text/html": [
       "<div>\n",
       "<style scoped>\n",
       "    .dataframe tbody tr th:only-of-type {\n",
       "        vertical-align: middle;\n",
       "    }\n",
       "\n",
       "    .dataframe tbody tr th {\n",
       "        vertical-align: top;\n",
       "    }\n",
       "\n",
       "    .dataframe thead th {\n",
       "        text-align: right;\n",
       "    }\n",
       "</style>\n",
       "<table border=\"1\" class=\"dataframe\">\n",
       "  <thead>\n",
       "    <tr style=\"text-align: right;\">\n",
       "      <th></th>\n",
       "      <th>Patterns</th>\n",
       "      <th>Support</th>\n",
       "    </tr>\n",
       "  </thead>\n",
       "  <tbody>\n",
       "    <tr>\n",
       "      <th>0</th>\n",
       "      <td>A</td>\n",
       "      <td>30972</td>\n",
       "    </tr>\n",
       "    <tr>\n",
       "      <th>1</th>\n",
       "      <td>G</td>\n",
       "      <td>30932</td>\n",
       "    </tr>\n",
       "    <tr>\n",
       "      <th>2</th>\n",
       "      <td>C</td>\n",
       "      <td>31101</td>\n",
       "    </tr>\n",
       "    <tr>\n",
       "      <th>3</th>\n",
       "      <td>T</td>\n",
       "      <td>30994</td>\n",
       "    </tr>\n",
       "    <tr>\n",
       "      <th>4</th>\n",
       "      <td>AG</td>\n",
       "      <td>7589</td>\n",
       "    </tr>\n",
       "    <tr>\n",
       "      <th>...</th>\n",
       "      <td>...</td>\n",
       "      <td>...</td>\n",
       "    </tr>\n",
       "    <tr>\n",
       "      <th>464</th>\n",
       "      <td>TCTGC</td>\n",
       "      <td>115</td>\n",
       "    </tr>\n",
       "    <tr>\n",
       "      <th>465</th>\n",
       "      <td>TCTGT</td>\n",
       "      <td>122</td>\n",
       "    </tr>\n",
       "    <tr>\n",
       "      <th>466</th>\n",
       "      <td>TCTCA</td>\n",
       "      <td>114</td>\n",
       "    </tr>\n",
       "    <tr>\n",
       "      <th>467</th>\n",
       "      <td>TCTCG</td>\n",
       "      <td>125</td>\n",
       "    </tr>\n",
       "    <tr>\n",
       "      <th>468</th>\n",
       "      <td>TCTCT</td>\n",
       "      <td>150</td>\n",
       "    </tr>\n",
       "  </tbody>\n",
       "</table>\n",
       "<p>469 rows × 2 columns</p>\n",
       "</div>"
      ],
      "text/plain": [
       "    Patterns  Support\n",
       "0          A    30972\n",
       "1          G    30932\n",
       "2          C    31101\n",
       "3          T    30994\n",
       "4         AG     7589\n",
       "..       ...      ...\n",
       "464    TCTGC      115\n",
       "465    TCTGT      122\n",
       "466    TCTCA      114\n",
       "467    TCTCG      125\n",
       "468    TCTCT      150\n",
       "\n",
       "[469 rows x 2 columns]"
      ]
     },
     "execution_count": 17,
     "metadata": {},
     "output_type": "execute_result"
    }
   ],
   "source": [
    "dataframe"
   ]
  },
  {
   "cell_type": "code",
   "execution_count": 18,
   "metadata": {},
   "outputs": [],
   "source": [
    "miner.save(\"result.csv\")"
   ]
  }
 ],
 "metadata": {
  "interpreter": {
   "hash": "916dbcbb3f70747c44a77c7bcd40155683ae19c65e1c03b4aa3499c5328201f1"
  },
  "kernelspec": {
   "display_name": "Python 3.8.10 64-bit",
   "language": "python",
   "name": "python3"
  },
  "language_info": {
   "codemirror_mode": {
    "name": "ipython",
    "version": 3
   },
   "file_extension": ".py",
   "mimetype": "text/x-python",
   "name": "python",
   "nbconvert_exporter": "python",
   "pygments_lexer": "ipython3",
   "version": "3.8.10"
  },
  "orig_nbformat": 4
 },
 "nbformat": 4,
 "nbformat_minor": 2
}
