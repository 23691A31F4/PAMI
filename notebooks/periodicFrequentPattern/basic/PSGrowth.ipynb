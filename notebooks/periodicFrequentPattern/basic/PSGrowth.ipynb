{
 "cells": [
  {
   "cell_type": "markdown",
   "id": "e960ba75-7c84-45aa-bbca-f6eca0f8731b",
   "metadata": {
    "tags": []
   },
   "source": [
    "# Discovering Periodic Frequent patterns in Big Data Using PSGrowth Algorithm"
   ]
  },
  {
   "cell_type": "markdown",
   "id": "d71c53a8-9c59-4220-ad59-92ec26b39c42",
   "metadata": {},
   "source": [
    "In this tutorial, we will discuss the first approach to find Periodic Frequent patterns in big data using PSGrowth algorithm.\n",
    "\n",
    "[__Basic approach:__](#basicApproach) Here, we present the steps to discover Periodic Frequent patterns using a single minimum support value "
   ]
  },
  {
   "cell_type": "markdown",
   "id": "f7fb1145-420c-4ce0-905e-383d013cb11f",
   "metadata": {},
   "source": [
    "***"
   ]
  },
  {
   "cell_type": "markdown",
   "id": "1f5910aa-1ab5-4a86-bf02-69d3541dc453",
   "metadata": {},
   "source": [
    "## <a id='basicApproach'>Basic approach: Executing PSGrowth on a single dataset at a particular minimum support value</a>"
   ]
  },
  {
   "cell_type": "markdown",
   "source": [
    "#### Step 0 : Install latest version of PAMI library"
   ],
   "metadata": {
    "collapsed": false
   }
  },
  {
   "cell_type": "code",
   "execution_count": 1,
   "outputs": [
    {
     "name": "stdout",
     "output_type": "stream",
     "text": [
      "Requirement already satisfied: PAMI in /Users/udaykiranrage/Library/CloudStorage/Dropbox/Github/PAMI_new/venv/lib/python3.9/site-packages (2023.7.28.5)\r\n",
      "Requirement already satisfied: psutil in /Library/Python/3.9/site-packages (from PAMI) (5.9.5)\r\n",
      "Requirement already satisfied: pandas in /Library/Python/3.9/site-packages (from PAMI) (2.0.3)\r\n",
      "Requirement already satisfied: plotly in /Users/udaykiranrage/Library/Python/3.9/lib/python/site-packages (from PAMI) (5.15.0)\r\n",
      "Requirement already satisfied: matplotlib in /Library/Python/3.9/site-packages (from PAMI) (3.7.2)\r\n",
      "Requirement already satisfied: resource in /Users/udaykiranrage/Library/Python/3.9/lib/python/site-packages (from PAMI) (0.2.1)\r\n",
      "Requirement already satisfied: validators in /Users/udaykiranrage/Library/Python/3.9/lib/python/site-packages (from PAMI) (0.20.0)\r\n",
      "Requirement already satisfied: urllib3 in /Users/udaykiranrage/Library/Python/3.9/lib/python/site-packages (from PAMI) (2.0.3)\r\n",
      "Requirement already satisfied: Pillow in /Library/Python/3.9/site-packages (from PAMI) (10.0.0)\r\n",
      "Requirement already satisfied: numpy in /Library/Python/3.9/site-packages (from PAMI) (1.25.0)\r\n",
      "Requirement already satisfied: contourpy>=1.0.1 in /Library/Python/3.9/site-packages (from matplotlib->PAMI) (1.1.0)\r\n",
      "Requirement already satisfied: cycler>=0.10 in /Library/Python/3.9/site-packages (from matplotlib->PAMI) (0.11.0)\r\n",
      "Requirement already satisfied: fonttools>=4.22.0 in /Library/Python/3.9/site-packages (from matplotlib->PAMI) (4.40.0)\r\n",
      "Requirement already satisfied: kiwisolver>=1.0.1 in /Library/Python/3.9/site-packages (from matplotlib->PAMI) (1.4.4)\r\n",
      "Requirement already satisfied: packaging>=20.0 in /Library/Python/3.9/site-packages (from matplotlib->PAMI) (23.1)\r\n",
      "Requirement already satisfied: pyparsing<3.1,>=2.3.1 in /Library/Python/3.9/site-packages (from matplotlib->PAMI) (3.0.9)\r\n",
      "Requirement already satisfied: python-dateutil>=2.7 in /Library/Python/3.9/site-packages (from matplotlib->PAMI) (2.8.2)\r\n",
      "Requirement already satisfied: importlib-resources>=3.2.0 in /Library/Python/3.9/site-packages (from matplotlib->PAMI) (5.12.0)\r\n",
      "Requirement already satisfied: pytz>=2020.1 in /Library/Python/3.9/site-packages (from pandas->PAMI) (2023.3)\r\n",
      "Requirement already satisfied: tzdata>=2022.1 in /Library/Python/3.9/site-packages (from pandas->PAMI) (2023.3)\r\n",
      "Requirement already satisfied: tenacity>=6.2.0 in /Users/udaykiranrage/Library/Python/3.9/lib/python/site-packages (from plotly->PAMI) (8.2.2)\r\n",
      "Requirement already satisfied: JsonForm>=0.0.2 in /Users/udaykiranrage/Library/Python/3.9/lib/python/site-packages (from resource->PAMI) (0.0.2)\r\n",
      "Requirement already satisfied: JsonSir>=0.0.2 in /Users/udaykiranrage/Library/Python/3.9/lib/python/site-packages (from resource->PAMI) (0.0.2)\r\n",
      "Requirement already satisfied: python-easyconfig>=0.1.0 in /Users/udaykiranrage/Library/Python/3.9/lib/python/site-packages (from resource->PAMI) (0.1.7)\r\n",
      "Requirement already satisfied: decorator>=3.4.0 in /Library/Python/3.9/site-packages (from validators->PAMI) (5.1.1)\r\n",
      "Requirement already satisfied: zipp>=3.1.0 in /Users/udaykiranrage/Library/Python/3.9/lib/python/site-packages (from importlib-resources>=3.2.0->matplotlib->PAMI) (3.15.0)\r\n",
      "Requirement already satisfied: jsonschema in /Library/Python/3.9/site-packages (from JsonForm>=0.0.2->resource->PAMI) (4.18.4)\r\n",
      "Requirement already satisfied: six>=1.5 in /Library/Developer/CommandLineTools/Library/Frameworks/Python3.framework/Versions/3.9/lib/python3.9/site-packages (from python-dateutil>=2.7->matplotlib->PAMI) (1.15.0)\r\n",
      "Requirement already satisfied: PyYAML in /Library/Python/3.9/site-packages (from python-easyconfig>=0.1.0->resource->PAMI) (6.0.1)\r\n",
      "Requirement already satisfied: attrs>=22.2.0 in /Library/Python/3.9/site-packages (from jsonschema->JsonForm>=0.0.2->resource->PAMI) (23.1.0)\r\n",
      "Requirement already satisfied: jsonschema-specifications>=2023.03.6 in /Library/Python/3.9/site-packages (from jsonschema->JsonForm>=0.0.2->resource->PAMI) (2023.6.1)\r\n",
      "Requirement already satisfied: referencing>=0.28.4 in /Library/Python/3.9/site-packages (from jsonschema->JsonForm>=0.0.2->resource->PAMI) (0.29.3)\r\n",
      "Requirement already satisfied: rpds-py>=0.7.1 in /Library/Python/3.9/site-packages (from jsonschema->JsonForm>=0.0.2->resource->PAMI) (0.8.11)\r\n"
     ]
    }
   ],
   "source": [
    "!pip install -U PAMI"
   ],
   "metadata": {
    "collapsed": false
   }
  },
  {
   "cell_type": "markdown",
   "id": "de947b74-a287-4166-aeeb-050b9b9714f9",
   "metadata": {},
   "source": [
    "#### Step 1: Import the PSGrowth algorithm"
   ]
  },
  {
   "cell_type": "code",
   "execution_count": 1,
   "id": "042a4670-502c-417c-afa5-ce8f4620b8c6",
   "metadata": {},
   "outputs": [],
   "source": [
    "from PAMI.periodicFrequentPattern.basic import PSGrowth  as alg"
   ]
  },
  {
   "cell_type": "markdown",
   "id": "052b485e-ae76-477c-b423-7a9a8c49d153",
   "metadata": {},
   "source": [
    "#### Step 2: Specify the following input parameters"
   ]
  },
  {
   "cell_type": "code",
   "execution_count": 2,
   "id": "9d781abf-2a4b-499e-8725-454d99f4eb31",
   "metadata": {},
   "outputs": [],
   "source": [
    "inputFile = 'https://u-aizu.ac.jp/~udayrage/datasets/temporalDatabases/Temporal_T10I4D100K.csv'\n",
    "\n",
    "minimumSupportCount = 100  #Users can also specify this constraint between 0 to 1.\n",
    "maxmunPeriodCount = 5000\n",
    "seperator='\\t'       "
   ]
  },
  {
   "cell_type": "markdown",
   "id": "92fbc06c-8e5b-4396-82e9-0b337ba54865",
   "metadata": {},
   "source": [
    "#### Step 3: Execute the PSGrowth algorithm"
   ]
  },
  {
   "cell_type": "code",
   "execution_count": 3,
   "id": "38ee53a6-d1fd-4266-8c8c-06662540657d",
   "metadata": {},
   "outputs": [
    {
     "name": "stdout",
     "output_type": "stream",
     "text": [
      "Periodic-Frequent patterns were generated successfully using PS-Growth algorithm \n"
     ]
    }
   ],
   "source": [
    "obj = alg.PSGrowth(iFile=inputFile, minSup=minimumSupportCount,maxPer=maxmunPeriodCount, sep=seperator)    #initialize\n",
    "obj.startMine()            #Start the mining process"
   ]
  },
  {
   "cell_type": "markdown",
   "id": "3ee3603a-89da-44bb-bcd3-79cfa8db586a",
   "metadata": {},
   "source": [
    "#### Step 4: Storing the generated patterns"
   ]
  },
  {
   "cell_type": "markdown",
   "id": "8bee4a62-9478-46a3-a3a0-42bc4e2f1642",
   "metadata": {},
   "source": [
    "##### Step 4.1: Storing the generated patterns in a file"
   ]
  },
  {
   "cell_type": "code",
   "execution_count": 4,
   "id": "c18de728-5cb4-446b-adae-872846e30b74",
   "metadata": {},
   "outputs": [],
   "source": [
    "obj.save(outFile='periodicFrequentPatternsMinSupCount100.txt')"
   ]
  },
  {
   "cell_type": "markdown",
   "id": "62677159-e863-4233-858b-6b5359810c83",
   "metadata": {},
   "source": [
    "##### Step 4.2. Storing the generated patterns in a data frame"
   ]
  },
  {
   "cell_type": "code",
   "execution_count": 5,
   "id": "64bdeb08-e80c-4bdf-bb35-d7c67b30f21a",
   "metadata": {},
   "outputs": [],
   "source": [
    "periodicFrequentPatternsDF= obj.getPatternsAsDataFrame()"
   ]
  },
  {
   "cell_type": "markdown",
   "id": "afc25934-1fa4-42b9-a0b0-1977a4dbd95f",
   "metadata": {},
   "source": [
    "#### Step 5: Getting the statistics"
   ]
  },
  {
   "cell_type": "markdown",
   "id": "b6136a85-7820-4db8-8fbc-0395ab953aa3",
   "metadata": {},
   "source": [
    "##### Step 5.1: Total number of discovered patterns "
   ]
  },
  {
   "cell_type": "code",
   "execution_count": 6,
   "id": "6b5bc0d1-4241-4971-bb23-8ab13ccabdad",
   "metadata": {},
   "outputs": [
    {
     "name": "stdout",
     "output_type": "stream",
     "text": [
      "Total No of patterns: 25462\n"
     ]
    }
   ],
   "source": [
    "print('Total No of patterns: ' + str(len(periodicFrequentPatternsDF)))"
   ]
  },
  {
   "cell_type": "markdown",
   "id": "d0506690-7e8a-48a3-a012-33cfb7fb6351",
   "metadata": {},
   "source": [
    "##### Step 5.2: Runtime consumed by the mining algorithm"
   ]
  },
  {
   "cell_type": "code",
   "execution_count": 7,
   "id": "55912f44-d238-41f0-9fab-9ad60f08ab21",
   "metadata": {},
   "outputs": [
    {
     "name": "stdout",
     "output_type": "stream",
     "text": [
      "Runtime: 1665547945.9111629\n"
     ]
    }
   ],
   "source": [
    "print('Runtime: ' + str(obj.getRuntime()))"
   ]
  },
  {
   "cell_type": "markdown",
   "id": "45359501-32aa-44aa-a623-be0c875b6055",
   "metadata": {},
   "source": [
    "##### Step 5.3: Total Memory consumed by the mining algorithm"
   ]
  },
  {
   "cell_type": "code",
   "execution_count": 8,
   "id": "880ccc22-2606-4e55-a4ef-2a8deac28efc",
   "metadata": {},
   "outputs": [
    {
     "name": "stdout",
     "output_type": "stream",
     "text": [
      "Memory (RSS): 672718848\n",
      "Memory (USS): 634318848\n"
     ]
    }
   ],
   "source": [
    "print('Memory (RSS): ' + str(obj.getMemoryRSS()))\n",
    "print('Memory (USS): ' + str(obj.getMemoryUSS()))"
   ]
  },
  {
   "cell_type": "markdown",
   "id": "a3bc1c96-3e89-4ff2-952c-ede1706cbee7",
   "metadata": {},
   "source": [
    "***"
   ]
  },
  {
   "cell_type": "markdown",
   "source": [
    "# Advanced Tutorial on Implementing PSGrowth Algorithm\n"
   ],
   "metadata": {
    "collapsed": false
   }
  },
  {
   "cell_type": "markdown",
   "source": [
    "In this tutorial, we will discuss the second approach to find Periodic Frequent patterns in big data using PSGrowth algorithm.\n",
    "\n",
    "[__Advanced approach:__](#advApproach) Here, we generalize the basic approach by presenting the steps to discover Periodic Frequent patterns using multiple minimum support values."
   ],
   "metadata": {
    "collapsed": false
   }
  },
  {
   "cell_type": "markdown",
   "source": [
    "***"
   ],
   "metadata": {
    "collapsed": false
   }
  },
  {
   "cell_type": "markdown",
   "source": [
    "#### In this tutorial, we explain how the PSGrowth algorithm  can be implemented by varying the minimum support values"
   ],
   "metadata": {
    "collapsed": false
   }
  },
  {
   "cell_type": "markdown",
   "source": [
    "#### Step 1: Import the PSGrowth algorithm and pandas data frame"
   ],
   "metadata": {
    "collapsed": false
   }
  },
  {
   "cell_type": "code",
   "execution_count": 1,
   "outputs": [],
   "source": [
    "from PAMI.periodicFrequentPattern.basic import PSGrowth  as alg\n",
    "import pandas as pd"
   ],
   "metadata": {
    "collapsed": false
   }
  },
  {
   "cell_type": "markdown",
   "source": [
    "#### Step 2: Specify the following input parameters"
   ],
   "metadata": {
    "collapsed": false
   }
  },
  {
   "cell_type": "code",
   "execution_count": 2,
   "outputs": [],
   "source": [
    "inputFile = 'https://u-aizu.ac.jp/~udayrage/datasets/temporalDatabases/Temporal_T10I4D100K.csv'\n",
    "seperator = '\\t'\n",
    "maximumPeriodCount = 5000\n",
    "minimumSupportCountList = [100, 150, 200, 250, 300]\n",
    "#minimumSupport can also specified between 0 to 1. E.g., minSupList = [0.005, 0.006, 0.007, 0.008, 0.009]\n",
    "\n",
    "result = pd.DataFrame(columns=['algorithm', 'minSup','maxPer',  'patterns','runtime', 'memory'])\n",
    "#initialize a data frame to store the results of PSGrowth algorithm"
   ],
   "metadata": {
    "collapsed": false
   }
  },
  {
   "cell_type": "markdown",
   "source": [
    "#### Step 3: Execute the PSGrowth algorithm using a for loop"
   ],
   "metadata": {
    "collapsed": false
   }
  },
  {
   "cell_type": "code",
   "execution_count": 3,
   "outputs": [
    {
     "name": "stdout",
     "output_type": "stream",
     "text": [
      "Periodic-Frequent patterns were generated successfully using PS-Growth algorithm \n",
      "Periodic-Frequent patterns were generated successfully using PS-Growth algorithm \n",
      "Periodic-Frequent patterns were generated successfully using PS-Growth algorithm \n",
      "Periodic-Frequent patterns were generated successfully using PS-Growth algorithm \n",
      "Periodic-Frequent patterns were generated successfully using PS-Growth algorithm \n"
     ]
    }
   ],
   "source": [
    "algorithm = 'PSGrowth'  #specify the algorithm name\n",
    "for minSupCount in minimumSupportCountList:\n",
    "    obj = alg.PSGrowth(iFile=inputFile, minSup=minSupCount,maxPer=maximumPeriodCount, sep=seperator)\n",
    "    obj.startMine()\n",
    "    #store the results in the data frame\n",
    "    result.loc[result.shape[0]] = [algorithm, minSupCount,maximumPeriodCount, len(obj.getPatterns()), obj.getRuntime(), obj.getMemoryRSS()]\n"
   ],
   "metadata": {
    "collapsed": false
   }
  },
  {
   "cell_type": "markdown",
   "source": [
    "#### Step 4: Print the result"
   ],
   "metadata": {
    "collapsed": false
   }
  },
  {
   "cell_type": "code",
   "execution_count": 4,
   "outputs": [
    {
     "name": "stdout",
     "output_type": "stream",
     "text": [
      "  algorithm  minSup  maxPer  patterns       runtime     memory\n",
      "0  PSGrowth     100    5000     25462  1.665548e+09  673390592\n",
      "1  PSGrowth     150    5000     18982  1.665548e+09  670896128\n",
      "2  PSGrowth     200    5000     13251  1.665548e+09  668467200\n",
      "3  PSGrowth     250    5000      7702  1.665548e+09  665022464\n",
      "4  PSGrowth     300    5000      4552  1.665548e+09  653656064\n"
     ]
    }
   ],
   "source": [
    "print(result)"
   ],
   "metadata": {
    "collapsed": false
   }
  },
  {
   "cell_type": "markdown",
   "source": [
    "#### Step 5: Visualizing the results"
   ],
   "metadata": {
    "collapsed": false
   }
  },
  {
   "cell_type": "markdown",
   "source": [
    "##### Step 5.1 Importing the plot library"
   ],
   "metadata": {
    "collapsed": false
   }
  },
  {
   "cell_type": "code",
   "execution_count": 5,
   "outputs": [],
   "source": [
    "from PAMI.extras.graph import plotLineGraphsFromDataFrame as plt"
   ],
   "metadata": {
    "collapsed": false
   }
  },
  {
   "cell_type": "markdown",
   "source": [
    "##### Step 5.2. Plotting the number of patterns"
   ],
   "metadata": {
    "collapsed": false
   }
  },
  {
   "cell_type": "code",
   "execution_count": 6,
   "outputs": [
    {
     "data": {
      "image/png": "[encoded data removed]",
      "text/plain": [
       "<Figure size 432x288 with 1 Axes>"
      ]
     },
     "metadata": {
      "needs_background": "light"
     },
     "output_type": "display_data"
    },
    {
     "name": "stdout",
     "output_type": "stream",
     "text": [
      "Graph for No Of Patterns is successfully generated!\n"
     ]
    },
    {
     "data": {
      "image/png": "[encoded data removed]",
      "text/plain": [
       "<Figure size 432x288 with 1 Axes>"
      ]
     },
     "metadata": {
      "needs_background": "light"
     },
     "output_type": "display_data"
    },
    {
     "name": "stdout",
     "output_type": "stream",
     "text": [
      "Graph for Runtime taken is successfully generated!\n"
     ]
    },
    {
     "data": {
      "image/png": "[encoded data removed]",
      "text/plain": [
       "<Figure size 432x288 with 1 Axes>"
      ]
     },
     "metadata": {
      "needs_background": "light"
     },
     "output_type": "display_data"
    },
    {
     "name": "stdout",
     "output_type": "stream",
     "text": [
      "Graph for memory consumption is successfully generated!\n"
     ]
    }
   ],
   "source": [
    "ab = plt.plotGraphsFromDataFrame(result)\n",
    "ab.plotGraphsFromDataFrame() #drawPlots()"
   ],
   "metadata": {
    "collapsed": false
   }
  },
  {
   "cell_type": "markdown",
   "source": [
    "### Step 6: Saving the results as latex files"
   ],
   "metadata": {
    "collapsed": false
   }
  },
  {
   "cell_type": "code",
   "execution_count": 7,
   "outputs": [
    {
     "name": "stdout",
     "output_type": "stream",
     "text": [
      "Latex files generated successfully\n"
     ]
    }
   ],
   "source": [
    "from PAMI.extras.graph import generateLatexFileFromDataFrame as gdf\n",
    "gdf.generateLatexCode(result)"
   ],
   "metadata": {
    "collapsed": false
   }
  }
 ],
 "metadata": {
  "kernelspec": {
   "display_name": "Python 3 (ipykernel)",
   "language": "python",
   "name": "python3"
  },
  "language_info": {
   "codemirror_mode": {
    "name": "ipython",
    "version": 3
   },
   "file_extension": ".py",
   "mimetype": "text/x-python",
   "name": "python",
   "nbconvert_exporter": "python",
   "pygments_lexer": "ipython3",
   "version": "3.10.4"
  }
 },
 "nbformat": 4,
 "nbformat_minor": 5
}
