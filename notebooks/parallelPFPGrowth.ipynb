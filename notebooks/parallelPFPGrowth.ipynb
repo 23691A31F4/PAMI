{
  "nbformat": 4,
  "nbformat_minor": 0,
  "metadata": {
    "colab": {
      "provenance": [],
      "toc_visible": true,
      "include_colab_link": true
    },
    "kernelspec": {
      "name": "python3",
      "display_name": "Python 3"
    },
    "language_info": {
      "name": "python"
    }
  },
  "cells": [
    {
      "cell_type": "markdown",
      "metadata": {
        "id": "view-in-github",
        "colab_type": "text"
      },
      "source": [
        "<a href=\"https://colab.research.google.com/github/UdayLab/PAMI/blob/main/notebooks/parallelPFPGrowth.ipynb\" target=\"_parent\"><img src=\"https://colab.research.google.com/assets/colab-badge.svg\" alt=\"Open In Colab\"/></a>"
      ]
    },
    {
      "cell_type": "markdown",
      "source": [
        "# Finding periodic-frequent patterns in big temporal databases using Parallel PFP-growth"
      ],
      "metadata": {
        "id": "Aj6UkFAj3sHh"
      }
    },
    {
      "cell_type": "markdown",
      "source": [
        "This tutorial has two parts. In the first part, we describe the basic approach to find periodic-frequent patterns in a temporal database using the parallel PFP-growth algorithm. In the final part, we describe an advanced approach, where we evaluate the algorithm on a dataset at different *minimum support* threshold values using multiple cores (or worker machines)."
      ],
      "metadata": {
        "id": "X-YPyS6G4AVR"
      }
    },
    {
      "cell_type": "markdown",
      "source": [
        "***"
      ],
      "metadata": {
        "id": "XkW0ZZ276JtD"
      }
    },
    {
      "cell_type": "markdown",
      "source": [
        "## Prerequisites:"
      ],
      "metadata": {
        "id": "H8uDhbi55Use"
      }
    },
    {
      "cell_type": "markdown",
      "source": [
        "1. Installing the PAMI library"
      ],
      "metadata": {
        "id": "z-avjjpTZzbf"
      }
    },
    {
      "cell_type": "code",
      "source": [
        "!pip install -U 'pami[spark]' #install the pami repository"
      ],
      "metadata": {
        "id": "2PdVic4l3-DQ",
        "outputId": "6f856efb-c02b-4490-cf09-10e8914bf465",
        "colab": {
          "base_uri": "https://localhost:8080/"
        }
      },
      "execution_count": 1,
      "outputs": [
        {
          "output_type": "stream",
          "name": "stdout",
          "text": [
            "Requirement already satisfied: pami[spark] in /usr/local/lib/python3.10/dist-packages (2023.7.28.5)\n",
            "Requirement already satisfied: psutil in /usr/local/lib/python3.10/dist-packages (from pami[spark]) (5.9.5)\n",
            "Requirement already satisfied: pandas in /usr/local/lib/python3.10/dist-packages (from pami[spark]) (1.5.3)\n",
            "Requirement already satisfied: plotly in /usr/local/lib/python3.10/dist-packages (from pami[spark]) (5.13.1)\n",
            "Requirement already satisfied: matplotlib in /usr/local/lib/python3.10/dist-packages (from pami[spark]) (3.7.1)\n",
            "Requirement already satisfied: resource in /usr/local/lib/python3.10/dist-packages (from pami[spark]) (0.2.1)\n",
            "Requirement already satisfied: validators in /usr/local/lib/python3.10/dist-packages (from pami[spark]) (0.20.0)\n",
            "Requirement already satisfied: urllib3 in /usr/local/lib/python3.10/dist-packages (from pami[spark]) (1.26.16)\n",
            "Requirement already satisfied: Pillow in /usr/local/lib/python3.10/dist-packages (from pami[spark]) (9.4.0)\n",
            "Requirement already satisfied: numpy in /usr/local/lib/python3.10/dist-packages (from pami[spark]) (1.22.4)\n",
            "Requirement already satisfied: pyspark in /usr/local/lib/python3.10/dist-packages (from pami[spark]) (3.4.1)\n",
            "Requirement already satisfied: contourpy>=1.0.1 in /usr/local/lib/python3.10/dist-packages (from matplotlib->pami[spark]) (1.1.0)\n",
            "Requirement already satisfied: cycler>=0.10 in /usr/local/lib/python3.10/dist-packages (from matplotlib->pami[spark]) (0.11.0)\n",
            "Requirement already satisfied: fonttools>=4.22.0 in /usr/local/lib/python3.10/dist-packages (from matplotlib->pami[spark]) (4.41.1)\n",
            "Requirement already satisfied: kiwisolver>=1.0.1 in /usr/local/lib/python3.10/dist-packages (from matplotlib->pami[spark]) (1.4.4)\n",
            "Requirement already satisfied: packaging>=20.0 in /usr/local/lib/python3.10/dist-packages (from matplotlib->pami[spark]) (23.1)\n",
            "Requirement already satisfied: pyparsing>=2.3.1 in /usr/local/lib/python3.10/dist-packages (from matplotlib->pami[spark]) (3.1.0)\n",
            "Requirement already satisfied: python-dateutil>=2.7 in /usr/local/lib/python3.10/dist-packages (from matplotlib->pami[spark]) (2.8.2)\n",
            "Requirement already satisfied: pytz>=2020.1 in /usr/local/lib/python3.10/dist-packages (from pandas->pami[spark]) (2022.7.1)\n",
            "Requirement already satisfied: tenacity>=6.2.0 in /usr/local/lib/python3.10/dist-packages (from plotly->pami[spark]) (8.2.2)\n",
            "Requirement already satisfied: py4j==0.10.9.7 in /usr/local/lib/python3.10/dist-packages (from pyspark->pami[spark]) (0.10.9.7)\n",
            "Requirement already satisfied: JsonForm>=0.0.2 in /usr/local/lib/python3.10/dist-packages (from resource->pami[spark]) (0.0.2)\n",
            "Requirement already satisfied: JsonSir>=0.0.2 in /usr/local/lib/python3.10/dist-packages (from resource->pami[spark]) (0.0.2)\n",
            "Requirement already satisfied: python-easyconfig>=0.1.0 in /usr/local/lib/python3.10/dist-packages (from resource->pami[spark]) (0.1.7)\n",
            "Requirement already satisfied: decorator>=3.4.0 in /usr/local/lib/python3.10/dist-packages (from validators->pami[spark]) (4.4.2)\n",
            "Requirement already satisfied: jsonschema in /usr/local/lib/python3.10/dist-packages (from JsonForm>=0.0.2->resource->pami[spark]) (4.3.3)\n",
            "Requirement already satisfied: six>=1.5 in /usr/local/lib/python3.10/dist-packages (from python-dateutil>=2.7->matplotlib->pami[spark]) (1.16.0)\n",
            "Requirement already satisfied: PyYAML in /usr/local/lib/python3.10/dist-packages (from python-easyconfig>=0.1.0->resource->pami[spark]) (6.0.1)\n",
            "Requirement already satisfied: attrs>=17.4.0 in /usr/local/lib/python3.10/dist-packages (from jsonschema->JsonForm>=0.0.2->resource->pami[spark]) (23.1.0)\n",
            "Requirement already satisfied: pyrsistent!=0.17.0,!=0.17.1,!=0.17.2,>=0.14.0 in /usr/local/lib/python3.10/dist-packages (from jsonschema->JsonForm>=0.0.2->resource->pami[spark]) (0.19.3)\n"
          ]
        }
      ]
    },
    {
      "cell_type": "markdown",
      "source": [
        "2. Downloading a sample dataset"
      ],
      "metadata": {
        "id": "KZMafFx1Z7pn"
      }
    },
    {
      "cell_type": "code",
      "source": [
        "!wget -nc https://u-aizu.ac.jp/~udayrage/datasets/temporalDatabases/Temporal_T10I4D100K.csv #download a sample transactional database"
      ],
      "metadata": {
        "id": "SCtq3Erc5nEo",
        "outputId": "d097fa1a-fd0a-411b-f5f2-99a2e10cc428",
        "colab": {
          "base_uri": "https://localhost:8080/"
        }
      },
      "execution_count": 2,
      "outputs": [
        {
          "output_type": "stream",
          "name": "stdout",
          "text": [
            "File ‘Temporal_T10I4D100K.csv’ already there; not retrieving.\n",
            "\n"
          ]
        }
      ]
    },
    {
      "cell_type": "markdown",
      "source": [
        "3. Printing few lines of a dataset to know its format."
      ],
      "metadata": {
        "id": "nXgP5F4eaBTW"
      }
    },
    {
      "cell_type": "code",
      "source": [
        "!head -2 Temporal_T10I4D100K.csv"
      ],
      "metadata": {
        "id": "7cHiIW59aS2T",
        "outputId": "d8fab0a7-b1c6-4584-e61b-7e55f989eb3f",
        "colab": {
          "base_uri": "https://localhost:8080/"
        }
      },
      "execution_count": 3,
      "outputs": [
        {
          "output_type": "stream",
          "name": "stdout",
          "text": [
            "1\t25\t52\t164\t240\t274\t328\t368\t448\t538\t561\t630\t687\t730\t775\t825\t834\r\n",
            "2\t39\t120\t124\t205\t401\t581\t704\t814\t825\t834\r\n"
          ]
        }
      ]
    },
    {
      "cell_type": "markdown",
      "source": [
        "_format:_ every row contains a timestamp followed by a set of items seperated by a seperator.\n",
        "\n",
        "__Example:__\n",
        "\n",
        "timestamp1 item1 item2 item3 item4\n",
        "\n",
        "timestamp2 item1 item4 item6"
      ],
      "metadata": {
        "id": "8HnTnR6MaebG"
      }
    },
    {
      "cell_type": "markdown",
      "source": [
        "***"
      ],
      "metadata": {
        "id": "uJ8Z0ey_6FhV"
      }
    },
    {
      "cell_type": "markdown",
      "source": [
        "## Part 1: Finding periodic-frequent patterns using parallel PFP-growth"
      ],
      "metadata": {
        "id": "pCnHao5L6PRR"
      }
    },
    {
      "cell_type": "markdown",
      "source": [
        "### Step 1: Understanding the statistics of a database to choose an appropriate *minimum support* (*minSup*) value."
      ],
      "metadata": {
        "id": "XzsAMOgb6jjQ"
      }
    },
    {
      "cell_type": "code",
      "source": [
        "#specify the file name\n",
        "inputFile = 'Temporal_T10I4D100K.csv'"
      ],
      "metadata": {
        "id": "CkzdL-8lrCmk"
      },
      "execution_count": 4,
      "outputs": []
    },
    {
      "cell_type": "code",
      "source": [
        "#import the class file\n",
        "import PAMI.extras.dbStats.temporalDatabaseStats as stats\n",
        "\n",
        "\n",
        "#initialize the class\n",
        "obj=stats.temporalDatabaseStats(inputFile,sep='\\t')\n",
        "\n",
        "#execute the class\n",
        "obj.run()\n",
        "\n",
        "#Printing each of the database statistics\n",
        "print(f'Database size : {obj.getDatabaseSize()}')\n",
        "print(f'Total number of items : {obj.getTotalNumberOfItems()}')\n",
        "print(f'Database sparsity : {obj.getSparsity()}')\n",
        "print(f'Minimum Transaction Size : {obj.getMinimumTransactionLength()}')\n",
        "print(f'Average Transaction Size : {obj.getAverageTransactionLength()}')\n",
        "print(f'Maximum Transaction Size : {obj.getMaximumTransactionLength()}')\n",
        "print(f'Standard Deviation Transaction Size : {obj.getStandardDeviationTransactionLength()}')\n",
        "print(f'Variance in Transaction Sizes : {obj. getVarianceTransactionLength()}')\n",
        "print(f'Minimum period : {obj.getMinimumPeriod()}')\n",
        "print(f'Average period : {obj.getAveragePeriod()}')\n",
        "print(f'Maximum period : {obj.getMaximumPeriod()}')\n",
        "\n",
        "itemFrequencies = obj.getSortedListOfItemFrequencies()\n",
        "transactionLength = obj.getTransanctionalLengthDistribution()\n",
        "numberOfTransactionPerTimeStamp = obj.getNumberOfTransactionsPerTimestamp()\n",
        "obj.save(itemFrequencies,'itemFrequency.csv')\n",
        "obj.save(transactionLength, 'transactionSize.csv')\n",
        "obj.save(numberOfTransactionPerTimeStamp, 'numberOfTransaction.csv')\n",
        "\n",
        "#Alternative apporach to derive the database statistics and plot the graphs\n",
        "# obj.printStats()\n",
        "# obj.plotGraphs()"
      ],
      "metadata": {
        "id": "3isxz2qx54te",
        "outputId": "e5dc344b-2461-4e38-99c9-11e7f65992a9",
        "colab": {
          "base_uri": "https://localhost:8080/"
        }
      },
      "execution_count": 4,
      "outputs": [
        {
          "output_type": "stream",
          "name": "stdout",
          "text": [
            "Database size : 99913\n",
            "Total number of items : 870\n",
            "Database sparsity : 0.9883887027691103\n",
            "Minimum Transaction Size : 1\n",
            "Average Transaction Size : 10.10182859087406\n",
            "Maximum Transaction Size : 29\n",
            "Standard Deviation Transaction Size : 3.667115963877195\n",
            "Variance in Transaction Sizes : 13.447874088362232\n",
            "Minimum period : 1\n",
            "Average period : 1.0\n",
            "Maximum period : 1\n"
          ]
        }
      ]
    },
    {
      "cell_type": "markdown",
      "source": [
        "### Step 2: Draw the items' frequency graph and transaction length's distribution graphs for more information"
      ],
      "metadata": {
        "id": "CnoHNwAC-kJQ"
      }
    },
    {
      "cell_type": "code",
      "source": [
        "import PAMI.extras.graph.plotLineGraphFromDictionary as plt\n",
        "\n",
        "plt.plotLineGraphFromDictionary(itemFrequencies, 100, 'Items\\' frequency graph', 'No of items', 'frequency')\n",
        "plt.plotLineGraphFromDictionary(transactionLength, 100, 'transaction distribution graph', 'transaction length', 'frequency')"
      ],
      "metadata": {
        "id": "xwZmfh4H7XSR"
      },
      "execution_count": null,
      "outputs": []
    },
    {
      "cell_type": "markdown",
      "source": [
        "### Step 3: Choosing an appropriate *minSup* and *maxPer* value\n",
        "\n",
        "_Observations_\n",
        "\n",
        "  1. The input dataset is sparse as the sparsity value is 0.988 (=98.8%)\n",
        "  2. Many items have low frequencies as seen in the items' frequency graph\n",
        "  3. The dataset is not high dimensional as the inverted curve is around 10.\n",
        "\n",
        "  Based on the above observations, let us choose a _minSup_ value of 300 (in count). We can increase or decrease the _minSup_ based on the number of patterns being generated.\n",
        "\n",
        "\n",
        "  Similarly, let us choose a _maxPer_ value of 5000. That is, every periodic-frequent pattern must appear at least once in every 5000 transactions."
      ],
      "metadata": {
        "id": "BtnhlIfLAEHR"
      }
    },
    {
      "cell_type": "code",
      "source": [
        "minSupValue=300 #minSup is specified in count. However, the users can also specify minSup between 0 and 1.\n",
        "maxPerValue=5000"
      ],
      "metadata": {
        "id": "MHGkrW5e-zYR"
      },
      "execution_count": 6,
      "outputs": []
    },
    {
      "cell_type": "markdown",
      "source": [
        "### Step 4: Choosing the number of worker machines\n",
        "\n",
        "Let us choose the number of worker machines equal to 2"
      ],
      "metadata": {
        "id": "IJOBcmTm3zKO"
      }
    },
    {
      "cell_type": "code",
      "source": [
        "noWorkerMachines=2"
      ],
      "metadata": {
        "id": "LjnMgn3S3-bE"
      },
      "execution_count": 7,
      "outputs": []
    },
    {
      "cell_type": "markdown",
      "source": [
        "### Step 5: Mining frequent patterns using parallel FP-growth"
      ],
      "metadata": {
        "id": "PlLmo9ZXDJkX"
      }
    },
    {
      "cell_type": "code",
      "source": [
        "from PAMI.periodicFrequentPattern.pyspark import parallelPFPGrowth as alg  #import the algorithm\n",
        "\n",
        "obj = alg.parallelPFPGrowth(iFile=inputFile, minSup=minSupValue, maxPer=maxPerValue, numWorker=noWorkerMachines, sep='\\t')    #initialize\n",
        "obj.startMine()            #start the mining process\n",
        "\n",
        "obj.save('periodicFrequentPatterns300_5000.txt') #save the patterns\n",
        "\n",
        "\n",
        "patternsDF= obj.getPatternsAsDataFrame() #get the generated frequent patterns as a dataframe\n",
        "print('Total No of patterns: ' + str(len(patternsDF))) #print the total number of patterns\n",
        "print('Runtime: ' + str(obj.getRuntime())) #measure the runtime\n",
        "\n",
        "print('Memory (RSS): ' + str(obj.getMemoryRSS()))\n",
        "print('Memory (USS): ' + str(obj.getMemoryUSS()))"
      ],
      "metadata": {
        "id": "pLV84IYcDHe3",
        "outputId": "c0a25624-9ef6-4958-a0bc-73814a57b395",
        "colab": {
          "base_uri": "https://localhost:8080/"
        }
      },
      "execution_count": 8,
      "outputs": [
        {
          "output_type": "stream",
          "name": "stdout",
          "text": [
            "Total No of patterns: 4529\n",
            "Runtime: 233.28595542907715\n",
            "Memory (RSS): 157249536\n",
            "Memory (USS): 109367296\n"
          ]
        }
      ]
    },
    {
      "cell_type": "markdown",
      "source": [
        "### Step 6: Investigating the generated patterns\n",
        "\n",
        "Open the patterns' file and investigate the generated patterns. If the generated patterns were interesting, use them; otherwise, redo the Steps 3 and 4 with a different _minSup_ value."
      ],
      "metadata": {
        "id": "wE3A15V3FHjO"
      }
    },
    {
      "cell_type": "code",
      "source": [
        "!head periodicFrequentPatterns300_5000.txt"
      ],
      "metadata": {
        "id": "nZ6dfQshDc9E",
        "outputId": "97fb4eb0-afbf-4330-cf38-2c8a2fec906a",
        "colab": {
          "base_uri": "https://localhost:8080/"
        }
      },
      "execution_count": 9,
      "outputs": [
        {
          "output_type": "stream",
          "name": "stdout",
          "text": [
            "88:303 \n",
            "916:306 \n",
            "301:309 \n",
            "301\t930:301 \n",
            "301\t118:302 \n",
            "301\t489:306 \n",
            "301\t362:302 \n",
            "437:313 \n",
            "67:316 \n",
            "67\t746:307 \n"
          ]
        }
      ]
    },
    {
      "cell_type": "markdown",
      "source": [
        "The storage format is: _periodicFrequentPattern:support:periodicity_\n",
        "\n"
      ],
      "metadata": {
        "id": "OSrlE5hwGEnH"
      }
    },
    {
      "cell_type": "markdown",
      "source": [
        "***"
      ],
      "metadata": {
        "id": "HcaEFLGCHBjP"
      }
    },
    {
      "cell_type": "markdown",
      "source": [
        "## Part 2: Evaluating the FP-growth algorithm on a dataset at different minSup values and worker machines"
      ],
      "metadata": {
        "id": "FUO1nBPoHXJN"
      }
    },
    {
      "cell_type": "markdown",
      "source": [
        "### Step 1: Import the libraries and specify the input parameters"
      ],
      "metadata": {
        "id": "g90LiLg1Hzb-"
      }
    },
    {
      "cell_type": "code",
      "source": [
        "#Specify the input parameters\n",
        "seperator='\\t'\n",
        "minimumSupportCountList = [100, 150, 200, 250, 300]\n",
        "#minimumSupport can also specified between 0 to 1. E.g., minSupList = [0.005, 0.006, 0.007, 0.008, 0.009]\n",
        "\n",
        "numWorkers = [1,2, 3, 4]"
      ],
      "metadata": {
        "id": "FfYBLxBPG5n_"
      },
      "execution_count": 10,
      "outputs": []
    },
    {
      "cell_type": "markdown",
      "source": [
        "### Step 2: Create a data frame to store the results of FP-growth"
      ],
      "metadata": {
        "id": "2lvGcqTKJDee"
      }
    },
    {
      "cell_type": "code",
      "source": [
        "import pandas as pd\n",
        "\n",
        "result = pd.DataFrame(columns=['#workerMachines', 'minSup', 'patterns', 'runtime'])\n",
        "#initialize a data frame to store the results of FPGrowth algorithm"
      ],
      "metadata": {
        "id": "9Hl47i3ZICpp"
      },
      "execution_count": 12,
      "outputs": []
    },
    {
      "cell_type": "markdown",
      "source": [
        "### Step 3: Execute the algorithm at different minSup values"
      ],
      "metadata": {
        "id": "Hah3RHNNJf0f"
      }
    },
    {
      "cell_type": "code",
      "source": [
        "#Import the libraries\n",
        "from PAMI.periodicFrequentPattern.pyspark import parallelPFPGrowth as alg  #import the algorithm\n",
        "\n",
        "for minSupValue in minimumSupportCountList:\n",
        "  for workers in numWorkers:\n",
        "    obj = alg.parallelPFPGrowth(iFile=inputFile, minSup=minSupValue, maxPer=maxPerValue, numWorker=workers, sep='\\t')    #initialize\n",
        "    obj.startMine()            #start the mining process\n",
        "    result.loc[result.shape[0]] = [workers, minSupValue, len(obj.getPatterns()),obj.getRuntime()]"
      ],
      "metadata": {
        "id": "9ivJHoSEJlky"
      },
      "execution_count": 13,
      "outputs": []
    },
    {
      "cell_type": "markdown",
      "source": [
        "### Step 4: Print the result"
      ],
      "metadata": {
        "id": "qs3jpnTBJSd6"
      }
    },
    {
      "cell_type": "code",
      "source": [
        "print(result)"
      ],
      "metadata": {
        "id": "MReBFwDFJ_3x",
        "outputId": "ddd41dc7-c6e0-42ed-f332-6763838dca9e",
        "colab": {
          "base_uri": "https://localhost:8080/"
        }
      },
      "execution_count": 14,
      "outputs": [
        {
          "output_type": "stream",
          "name": "stdout",
          "text": [
            "    #workerMachines  minSup  patterns     runtime\n",
            "0               1.0   100.0   25454.0  287.483394\n",
            "1               2.0   100.0   25455.0  268.805671\n",
            "2               3.0   100.0   25457.0  376.376910\n",
            "3               4.0   100.0   25457.0  351.052995\n",
            "4               5.0   100.0   25457.0  276.688836\n",
            "5               6.0   100.0   25457.0  229.173701\n",
            "6               7.0   100.0   25457.0  243.146675\n",
            "7               8.0   100.0   25457.0  237.311443\n",
            "8               9.0   100.0   25457.0  247.807653\n",
            "9              10.0   100.0   25457.0  244.153801\n",
            "10              1.0   150.0   25457.0  274.678433\n",
            "11              2.0   150.0   25457.0  255.091034\n",
            "12              3.0   150.0   25457.0  335.258194\n",
            "13              4.0   150.0   25457.0  338.473147\n",
            "14              5.0   150.0   25457.0  265.813371\n",
            "15              6.0   150.0   25457.0  213.617335\n",
            "16              7.0   150.0   25457.0  230.604153\n",
            "17              8.0   150.0   25457.0  221.430903\n",
            "18              9.0   150.0   25457.0  236.001616\n",
            "19             10.0   150.0   25457.0  230.453704\n",
            "20              1.0   200.0   25457.0  258.557297\n",
            "21              2.0   200.0   25457.0  239.887953\n",
            "22              3.0   200.0   25457.0  317.624678\n",
            "23              4.0   200.0   25457.0  318.957440\n",
            "24              5.0   200.0   25457.0  245.568537\n",
            "25              6.0   200.0   25457.0  199.761284\n",
            "26              7.0   200.0   25457.0  220.139179\n",
            "27              8.0   200.0   25457.0  209.474587\n",
            "28              9.0   200.0   25457.0  222.212832\n",
            "29             10.0   200.0   25457.0  210.105144\n",
            "30              1.0   250.0   25457.0  230.513641\n",
            "31              2.0   250.0   25457.0  221.371173\n",
            "32              3.0   250.0   25457.0  317.408155\n",
            "33              4.0   250.0   25457.0  306.712078\n",
            "34              5.0   250.0   25457.0  230.925884\n",
            "35              6.0   250.0   25457.0  177.599180\n",
            "36              7.0   250.0   25457.0  197.828111\n",
            "37              8.0   250.0   25457.0  182.651038\n",
            "38              9.0   250.0   25457.0  197.354614\n",
            "39             10.0   250.0   25457.0  194.822553\n",
            "40              1.0   300.0   25457.0  204.419644\n",
            "41              2.0   300.0   25457.0  207.254872\n",
            "42              3.0   300.0   25457.0  303.487077\n",
            "43              4.0   300.0   25457.0  217.663208\n",
            "44              5.0   300.0   25457.0  211.284912\n",
            "45              6.0   300.0   25457.0  165.208382\n",
            "46              7.0   300.0   25457.0  172.602902\n",
            "47              8.0   300.0   25457.0  172.119099\n",
            "48              9.0   300.0   25457.0  187.272733\n",
            "49             10.0   300.0   25457.0  181.047893\n"
          ]
        }
      ]
    },
    {
      "cell_type": "markdown",
      "source": [
        "### Step 5: Visualizing the results"
      ],
      "metadata": {
        "id": "6ELjr0iPKDSY"
      }
    },
    {
      "cell_type": "code",
      "source": [
        "import plotly.express as pe\n",
        "\n",
        "pe.line(result, x='minSup', y='patterns', color='#workerMachines').show()\n",
        "pe.line(result, x='minSup', y='runtime', color='#workerMachines').show()"
      ],
      "metadata": {
        "id": "mGET50RTasLT",
        "outputId": "a1d1dd91-2b38-4b14-8417-1094688f30fa",
        "colab": {
          "base_uri": "https://localhost:8080/",
          "height": 1000
        }
      },
      "execution_count": 15,
      "outputs": [
        {
          "output_type": "display_data",
          "data": {
            "text/html": [
              "<html>\n",
              "<head><meta charset=\"utf-8\" /></head>\n",
              "<body>\n",
              "    <div>            <script src=\"https://cdnjs.cloudflare.com/ajax/libs/mathjax/2.7.5/MathJax.js?config=TeX-AMS-MML_SVG\"></script><script type=\"text/javascript\">if (window.MathJax && window.MathJax.Hub && window.MathJax.Hub.Config) {window.MathJax.Hub.Config({SVG: {font: \"STIX-Web\"}});}</script>                <script type=\"text/javascript\">window.PlotlyConfig = {MathJaxConfig: 'local'};</script>\n",
              "        <script src=\"https://cdn.plot.ly/plotly-2.18.2.min.js\"></script>                <div id=\"49b214c6-1264-48f0-8c89-9338fad7afa6\" class=\"plotly-graph-div\" style=\"height:525px; width:100%;\"></div>            <script type=\"text/javascript\">                                    window.PLOTLYENV=window.PLOTLYENV || {};                                    if (document.getElementById(\"49b214c6-1264-48f0-8c89-9338fad7afa6\")) {                    Plotly.newPlot(                        \"49b214c6-1264-48f0-8c89-9338fad7afa6\",                        [{\"hovertemplate\":\"#workerMachines=1.0<br>minSup=%{x}<br>patterns=%{y}<extra></extra>\",\"legendgroup\":\"1.0\",\"line\":{\"color\":\"#636efa\",\"dash\":\"solid\"},\"marker\":{\"symbol\":\"circle\"},\"mode\":\"lines\",\"name\":\"1.0\",\"orientation\":\"v\",\"showlegend\":true,\"x\":[100.0,150.0,200.0,250.0,300.0],\"xaxis\":\"x\",\"y\":[25454.0,25457.0,25457.0,25457.0,25457.0],\"yaxis\":\"y\",\"type\":\"scatter\"},{\"hovertemplate\":\"#workerMachines=2.0<br>minSup=%{x}<br>patterns=%{y}<extra></extra>\",\"legendgroup\":\"2.0\",\"line\":{\"color\":\"#EF553B\",\"dash\":\"solid\"},\"marker\":{\"symbol\":\"circle\"},\"mode\":\"lines\",\"name\":\"2.0\",\"orientation\":\"v\",\"showlegend\":true,\"x\":[100.0,150.0,200.0,250.0,300.0],\"xaxis\":\"x\",\"y\":[25455.0,25457.0,25457.0,25457.0,25457.0],\"yaxis\":\"y\",\"type\":\"scatter\"},{\"hovertemplate\":\"#workerMachines=3.0<br>minSup=%{x}<br>patterns=%{y}<extra></extra>\",\"legendgroup\":\"3.0\",\"line\":{\"color\":\"#00cc96\",\"dash\":\"solid\"},\"marker\":{\"symbol\":\"circle\"},\"mode\":\"lines\",\"name\":\"3.0\",\"orientation\":\"v\",\"showlegend\":true,\"x\":[100.0,150.0,200.0,250.0,300.0],\"xaxis\":\"x\",\"y\":[25457.0,25457.0,25457.0,25457.0,25457.0],\"yaxis\":\"y\",\"type\":\"scatter\"},{\"hovertemplate\":\"#workerMachines=4.0<br>minSup=%{x}<br>patterns=%{y}<extra></extra>\",\"legendgroup\":\"4.0\",\"line\":{\"color\":\"#ab63fa\",\"dash\":\"solid\"},\"marker\":{\"symbol\":\"circle\"},\"mode\":\"lines\",\"name\":\"4.0\",\"orientation\":\"v\",\"showlegend\":true,\"x\":[100.0,150.0,200.0,250.0,300.0],\"xaxis\":\"x\",\"y\":[25457.0,25457.0,25457.0,25457.0,25457.0],\"yaxis\":\"y\",\"type\":\"scatter\"},{\"hovertemplate\":\"#workerMachines=5.0<br>minSup=%{x}<br>patterns=%{y}<extra></extra>\",\"legendgroup\":\"5.0\",\"line\":{\"color\":\"#FFA15A\",\"dash\":\"solid\"},\"marker\":{\"symbol\":\"circle\"},\"mode\":\"lines\",\"name\":\"5.0\",\"orientation\":\"v\",\"showlegend\":true,\"x\":[100.0,150.0,200.0,250.0,300.0],\"xaxis\":\"x\",\"y\":[25457.0,25457.0,25457.0,25457.0,25457.0],\"yaxis\":\"y\",\"type\":\"scatter\"},{\"hovertemplate\":\"#workerMachines=6.0<br>minSup=%{x}<br>patterns=%{y}<extra></extra>\",\"legendgroup\":\"6.0\",\"line\":{\"color\":\"#19d3f3\",\"dash\":\"solid\"},\"marker\":{\"symbol\":\"circle\"},\"mode\":\"lines\",\"name\":\"6.0\",\"orientation\":\"v\",\"showlegend\":true,\"x\":[100.0,150.0,200.0,250.0,300.0],\"xaxis\":\"x\",\"y\":[25457.0,25457.0,25457.0,25457.0,25457.0],\"yaxis\":\"y\",\"type\":\"scatter\"},{\"hovertemplate\":\"#workerMachines=7.0<br>minSup=%{x}<br>patterns=%{y}<extra></extra>\",\"legendgroup\":\"7.0\",\"line\":{\"color\":\"#FF6692\",\"dash\":\"solid\"},\"marker\":{\"symbol\":\"circle\"},\"mode\":\"lines\",\"name\":\"7.0\",\"orientation\":\"v\",\"showlegend\":true,\"x\":[100.0,150.0,200.0,250.0,300.0],\"xaxis\":\"x\",\"y\":[25457.0,25457.0,25457.0,25457.0,25457.0],\"yaxis\":\"y\",\"type\":\"scatter\"},{\"hovertemplate\":\"#workerMachines=8.0<br>minSup=%{x}<br>patterns=%{y}<extra></extra>\",\"legendgroup\":\"8.0\",\"line\":{\"color\":\"#B6E880\",\"dash\":\"solid\"},\"marker\":{\"symbol\":\"circle\"},\"mode\":\"lines\",\"name\":\"8.0\",\"orientation\":\"v\",\"showlegend\":true,\"x\":[100.0,150.0,200.0,250.0,300.0],\"xaxis\":\"x\",\"y\":[25457.0,25457.0,25457.0,25457.0,25457.0],\"yaxis\":\"y\",\"type\":\"scatter\"},{\"hovertemplate\":\"#workerMachines=9.0<br>minSup=%{x}<br>patterns=%{y}<extra></extra>\",\"legendgroup\":\"9.0\",\"line\":{\"color\":\"#FF97FF\",\"dash\":\"solid\"},\"marker\":{\"symbol\":\"circle\"},\"mode\":\"lines\",\"name\":\"9.0\",\"orientation\":\"v\",\"showlegend\":true,\"x\":[100.0,150.0,200.0,250.0,300.0],\"xaxis\":\"x\",\"y\":[25457.0,25457.0,25457.0,25457.0,25457.0],\"yaxis\":\"y\",\"type\":\"scatter\"},{\"hovertemplate\":\"#workerMachines=10.0<br>minSup=%{x}<br>patterns=%{y}<extra></extra>\",\"legendgroup\":\"10.0\",\"line\":{\"color\":\"#FECB52\",\"dash\":\"solid\"},\"marker\":{\"symbol\":\"circle\"},\"mode\":\"lines\",\"name\":\"10.0\",\"orientation\":\"v\",\"showlegend\":true,\"x\":[100.0,150.0,200.0,250.0,300.0],\"xaxis\":\"x\",\"y\":[25457.0,25457.0,25457.0,25457.0,25457.0],\"yaxis\":\"y\",\"type\":\"scatter\"}],                        {\"template\":{\"data\":{\"histogram2dcontour\":[{\"type\":\"histogram2dcontour\",\"colorbar\":{\"outlinewidth\":0,\"ticks\":\"\"},\"colorscale\":[[0.0,\"#0d0887\"],[0.1111111111111111,\"#46039f\"],[0.2222222222222222,\"#7201a8\"],[0.3333333333333333,\"#9c179e\"],[0.4444444444444444,\"#bd3786\"],[0.5555555555555556,\"#d8576b\"],[0.6666666666666666,\"#ed7953\"],[0.7777777777777778,\"#fb9f3a\"],[0.8888888888888888,\"#fdca26\"],[1.0,\"#f0f921\"]]}],\"choropleth\":[{\"type\":\"choropleth\",\"colorbar\":{\"outlinewidth\":0,\"ticks\":\"\"}}],\"histogram2d\":[{\"type\":\"histogram2d\",\"colorbar\":{\"outlinewidth\":0,\"ticks\":\"\"},\"colorscale\":[[0.0,\"#0d0887\"],[0.1111111111111111,\"#46039f\"],[0.2222222222222222,\"#7201a8\"],[0.3333333333333333,\"#9c179e\"],[0.4444444444444444,\"#bd3786\"],[0.5555555555555556,\"#d8576b\"],[0.6666666666666666,\"#ed7953\"],[0.7777777777777778,\"#fb9f3a\"],[0.8888888888888888,\"#fdca26\"],[1.0,\"#f0f921\"]]}],\"heatmap\":[{\"type\":\"heatmap\",\"colorbar\":{\"outlinewidth\":0,\"ticks\":\"\"},\"colorscale\":[[0.0,\"#0d0887\"],[0.1111111111111111,\"#46039f\"],[0.2222222222222222,\"#7201a8\"],[0.3333333333333333,\"#9c179e\"],[0.4444444444444444,\"#bd3786\"],[0.5555555555555556,\"#d8576b\"],[0.6666666666666666,\"#ed7953\"],[0.7777777777777778,\"#fb9f3a\"],[0.8888888888888888,\"#fdca26\"],[1.0,\"#f0f921\"]]}],\"heatmapgl\":[{\"type\":\"heatmapgl\",\"colorbar\":{\"outlinewidth\":0,\"ticks\":\"\"},\"colorscale\":[[0.0,\"#0d0887\"],[0.1111111111111111,\"#46039f\"],[0.2222222222222222,\"#7201a8\"],[0.3333333333333333,\"#9c179e\"],[0.4444444444444444,\"#bd3786\"],[0.5555555555555556,\"#d8576b\"],[0.6666666666666666,\"#ed7953\"],[0.7777777777777778,\"#fb9f3a\"],[0.8888888888888888,\"#fdca26\"],[1.0,\"#f0f921\"]]}],\"contourcarpet\":[{\"type\":\"contourcarpet\",\"colorbar\":{\"outlinewidth\":0,\"ticks\":\"\"}}],\"contour\":[{\"type\":\"contour\",\"colorbar\":{\"outlinewidth\":0,\"ticks\":\"\"},\"colorscale\":[[0.0,\"#0d0887\"],[0.1111111111111111,\"#46039f\"],[0.2222222222222222,\"#7201a8\"],[0.3333333333333333,\"#9c179e\"],[0.4444444444444444,\"#bd3786\"],[0.5555555555555556,\"#d8576b\"],[0.6666666666666666,\"#ed7953\"],[0.7777777777777778,\"#fb9f3a\"],[0.8888888888888888,\"#fdca26\"],[1.0,\"#f0f921\"]]}],\"surface\":[{\"type\":\"surface\",\"colorbar\":{\"outlinewidth\":0,\"ticks\":\"\"},\"colorscale\":[[0.0,\"#0d0887\"],[0.1111111111111111,\"#46039f\"],[0.2222222222222222,\"#7201a8\"],[0.3333333333333333,\"#9c179e\"],[0.4444444444444444,\"#bd3786\"],[0.5555555555555556,\"#d8576b\"],[0.6666666666666666,\"#ed7953\"],[0.7777777777777778,\"#fb9f3a\"],[0.8888888888888888,\"#fdca26\"],[1.0,\"#f0f921\"]]}],\"mesh3d\":[{\"type\":\"mesh3d\",\"colorbar\":{\"outlinewidth\":0,\"ticks\":\"\"}}],\"scatter\":[{\"fillpattern\":{\"fillmode\":\"overlay\",\"size\":10,\"solidity\":0.2},\"type\":\"scatter\"}],\"parcoords\":[{\"type\":\"parcoords\",\"line\":{\"colorbar\":{\"outlinewidth\":0,\"ticks\":\"\"}}}],\"scatterpolargl\":[{\"type\":\"scatterpolargl\",\"marker\":{\"colorbar\":{\"outlinewidth\":0,\"ticks\":\"\"}}}],\"bar\":[{\"error_x\":{\"color\":\"#2a3f5f\"},\"error_y\":{\"color\":\"#2a3f5f\"},\"marker\":{\"line\":{\"color\":\"#E5ECF6\",\"width\":0.5},\"pattern\":{\"fillmode\":\"overlay\",\"size\":10,\"solidity\":0.2}},\"type\":\"bar\"}],\"scattergeo\":[{\"type\":\"scattergeo\",\"marker\":{\"colorbar\":{\"outlinewidth\":0,\"ticks\":\"\"}}}],\"scatterpolar\":[{\"type\":\"scatterpolar\",\"marker\":{\"colorbar\":{\"outlinewidth\":0,\"ticks\":\"\"}}}],\"histogram\":[{\"marker\":{\"pattern\":{\"fillmode\":\"overlay\",\"size\":10,\"solidity\":0.2}},\"type\":\"histogram\"}],\"scattergl\":[{\"type\":\"scattergl\",\"marker\":{\"colorbar\":{\"outlinewidth\":0,\"ticks\":\"\"}}}],\"scatter3d\":[{\"type\":\"scatter3d\",\"line\":{\"colorbar\":{\"outlinewidth\":0,\"ticks\":\"\"}},\"marker\":{\"colorbar\":{\"outlinewidth\":0,\"ticks\":\"\"}}}],\"scattermapbox\":[{\"type\":\"scattermapbox\",\"marker\":{\"colorbar\":{\"outlinewidth\":0,\"ticks\":\"\"}}}],\"scatterternary\":[{\"type\":\"scatterternary\",\"marker\":{\"colorbar\":{\"outlinewidth\":0,\"ticks\":\"\"}}}],\"scattercarpet\":[{\"type\":\"scattercarpet\",\"marker\":{\"colorbar\":{\"outlinewidth\":0,\"ticks\":\"\"}}}],\"carpet\":[{\"aaxis\":{\"endlinecolor\":\"#2a3f5f\",\"gridcolor\":\"white\",\"linecolor\":\"white\",\"minorgridcolor\":\"white\",\"startlinecolor\":\"#2a3f5f\"},\"baxis\":{\"endlinecolor\":\"#2a3f5f\",\"gridcolor\":\"white\",\"linecolor\":\"white\",\"minorgridcolor\":\"white\",\"startlinecolor\":\"#2a3f5f\"},\"type\":\"carpet\"}],\"table\":[{\"cells\":{\"fill\":{\"color\":\"#EBF0F8\"},\"line\":{\"color\":\"white\"}},\"header\":{\"fill\":{\"color\":\"#C8D4E3\"},\"line\":{\"color\":\"white\"}},\"type\":\"table\"}],\"barpolar\":[{\"marker\":{\"line\":{\"color\":\"#E5ECF6\",\"width\":0.5},\"pattern\":{\"fillmode\":\"overlay\",\"size\":10,\"solidity\":0.2}},\"type\":\"barpolar\"}],\"pie\":[{\"automargin\":true,\"type\":\"pie\"}]},\"layout\":{\"autotypenumbers\":\"strict\",\"colorway\":[\"#636efa\",\"#EF553B\",\"#00cc96\",\"#ab63fa\",\"#FFA15A\",\"#19d3f3\",\"#FF6692\",\"#B6E880\",\"#FF97FF\",\"#FECB52\"],\"font\":{\"color\":\"#2a3f5f\"},\"hovermode\":\"closest\",\"hoverlabel\":{\"align\":\"left\"},\"paper_bgcolor\":\"white\",\"plot_bgcolor\":\"#E5ECF6\",\"polar\":{\"bgcolor\":\"#E5ECF6\",\"angularaxis\":{\"gridcolor\":\"white\",\"linecolor\":\"white\",\"ticks\":\"\"},\"radialaxis\":{\"gridcolor\":\"white\",\"linecolor\":\"white\",\"ticks\":\"\"}},\"ternary\":{\"bgcolor\":\"#E5ECF6\",\"aaxis\":{\"gridcolor\":\"white\",\"linecolor\":\"white\",\"ticks\":\"\"},\"baxis\":{\"gridcolor\":\"white\",\"linecolor\":\"white\",\"ticks\":\"\"},\"caxis\":{\"gridcolor\":\"white\",\"linecolor\":\"white\",\"ticks\":\"\"}},\"coloraxis\":{\"colorbar\":{\"outlinewidth\":0,\"ticks\":\"\"}},\"colorscale\":{\"sequential\":[[0.0,\"#0d0887\"],[0.1111111111111111,\"#46039f\"],[0.2222222222222222,\"#7201a8\"],[0.3333333333333333,\"#9c179e\"],[0.4444444444444444,\"#bd3786\"],[0.5555555555555556,\"#d8576b\"],[0.6666666666666666,\"#ed7953\"],[0.7777777777777778,\"#fb9f3a\"],[0.8888888888888888,\"#fdca26\"],[1.0,\"#f0f921\"]],\"sequentialminus\":[[0.0,\"#0d0887\"],[0.1111111111111111,\"#46039f\"],[0.2222222222222222,\"#7201a8\"],[0.3333333333333333,\"#9c179e\"],[0.4444444444444444,\"#bd3786\"],[0.5555555555555556,\"#d8576b\"],[0.6666666666666666,\"#ed7953\"],[0.7777777777777778,\"#fb9f3a\"],[0.8888888888888888,\"#fdca26\"],[1.0,\"#f0f921\"]],\"diverging\":[[0,\"#8e0152\"],[0.1,\"#c51b7d\"],[0.2,\"#de77ae\"],[0.3,\"#f1b6da\"],[0.4,\"#fde0ef\"],[0.5,\"#f7f7f7\"],[0.6,\"#e6f5d0\"],[0.7,\"#b8e186\"],[0.8,\"#7fbc41\"],[0.9,\"#4d9221\"],[1,\"#276419\"]]},\"xaxis\":{\"gridcolor\":\"white\",\"linecolor\":\"white\",\"ticks\":\"\",\"title\":{\"standoff\":15},\"zerolinecolor\":\"white\",\"automargin\":true,\"zerolinewidth\":2},\"yaxis\":{\"gridcolor\":\"white\",\"linecolor\":\"white\",\"ticks\":\"\",\"title\":{\"standoff\":15},\"zerolinecolor\":\"white\",\"automargin\":true,\"zerolinewidth\":2},\"scene\":{\"xaxis\":{\"backgroundcolor\":\"#E5ECF6\",\"gridcolor\":\"white\",\"linecolor\":\"white\",\"showbackground\":true,\"ticks\":\"\",\"zerolinecolor\":\"white\",\"gridwidth\":2},\"yaxis\":{\"backgroundcolor\":\"#E5ECF6\",\"gridcolor\":\"white\",\"linecolor\":\"white\",\"showbackground\":true,\"ticks\":\"\",\"zerolinecolor\":\"white\",\"gridwidth\":2},\"zaxis\":{\"backgroundcolor\":\"#E5ECF6\",\"gridcolor\":\"white\",\"linecolor\":\"white\",\"showbackground\":true,\"ticks\":\"\",\"zerolinecolor\":\"white\",\"gridwidth\":2}},\"shapedefaults\":{\"line\":{\"color\":\"#2a3f5f\"}},\"annotationdefaults\":{\"arrowcolor\":\"#2a3f5f\",\"arrowhead\":0,\"arrowwidth\":1},\"geo\":{\"bgcolor\":\"white\",\"landcolor\":\"#E5ECF6\",\"subunitcolor\":\"white\",\"showland\":true,\"showlakes\":true,\"lakecolor\":\"white\"},\"title\":{\"x\":0.05},\"mapbox\":{\"style\":\"light\"}}},\"xaxis\":{\"anchor\":\"y\",\"domain\":[0.0,1.0],\"title\":{\"text\":\"minSup\"}},\"yaxis\":{\"anchor\":\"x\",\"domain\":[0.0,1.0],\"title\":{\"text\":\"patterns\"}},\"legend\":{\"title\":{\"text\":\"#workerMachines\"},\"tracegroupgap\":0},\"margin\":{\"t\":60}},                        {\"responsive\": true}                    ).then(function(){\n",
              "                            \n",
              "var gd = document.getElementById('49b214c6-1264-48f0-8c89-9338fad7afa6');\n",
              "var x = new MutationObserver(function (mutations, observer) {{\n",
              "        var display = window.getComputedStyle(gd).display;\n",
              "        if (!display || display === 'none') {{\n",
              "            console.log([gd, 'removed!']);\n",
              "            Plotly.purge(gd);\n",
              "            observer.disconnect();\n",
              "        }}\n",
              "}});\n",
              "\n",
              "// Listen for the removal of the full notebook cells\n",
              "var notebookContainer = gd.closest('#notebook-container');\n",
              "if (notebookContainer) {{\n",
              "    x.observe(notebookContainer, {childList: true});\n",
              "}}\n",
              "\n",
              "// Listen for the clearing of the current output cell\n",
              "var outputEl = gd.closest('.output');\n",
              "if (outputEl) {{\n",
              "    x.observe(outputEl, {childList: true});\n",
              "}}\n",
              "\n",
              "                        })                };                            </script>        </div>\n",
              "</body>\n",
              "</html>"
            ]
          },
          "metadata": {}
        },
        {
          "output_type": "display_data",
          "data": {
            "text/html": [
              "<html>\n",
              "<head><meta charset=\"utf-8\" /></head>\n",
              "<body>\n",
              "    <div>            <script src=\"https://cdnjs.cloudflare.com/ajax/libs/mathjax/2.7.5/MathJax.js?config=TeX-AMS-MML_SVG\"></script><script type=\"text/javascript\">if (window.MathJax && window.MathJax.Hub && window.MathJax.Hub.Config) {window.MathJax.Hub.Config({SVG: {font: \"STIX-Web\"}});}</script>                <script type=\"text/javascript\">window.PlotlyConfig = {MathJaxConfig: 'local'};</script>\n",
              "        <script src=\"https://cdn.plot.ly/plotly-2.18.2.min.js\"></script>                <div id=\"4b5c0766-e0ac-4cf3-961d-28dbdceaa1a2\" class=\"plotly-graph-div\" style=\"height:525px; width:100%;\"></div>            <script type=\"text/javascript\">                                    window.PLOTLYENV=window.PLOTLYENV || {};                                    if (document.getElementById(\"4b5c0766-e0ac-4cf3-961d-28dbdceaa1a2\")) {                    Plotly.newPlot(                        \"4b5c0766-e0ac-4cf3-961d-28dbdceaa1a2\",                        [{\"hovertemplate\":\"#workerMachines=1.0<br>minSup=%{x}<br>runtime=%{y}<extra></extra>\",\"legendgroup\":\"1.0\",\"line\":{\"color\":\"#636efa\",\"dash\":\"solid\"},\"marker\":{\"symbol\":\"circle\"},\"mode\":\"lines\",\"name\":\"1.0\",\"orientation\":\"v\",\"showlegend\":true,\"x\":[100.0,150.0,200.0,250.0,300.0],\"xaxis\":\"x\",\"y\":[287.48339438438416,274.67843317985535,258.5572967529297,230.51364135742188,204.41964411735535],\"yaxis\":\"y\",\"type\":\"scatter\"},{\"hovertemplate\":\"#workerMachines=2.0<br>minSup=%{x}<br>runtime=%{y}<extra></extra>\",\"legendgroup\":\"2.0\",\"line\":{\"color\":\"#EF553B\",\"dash\":\"solid\"},\"marker\":{\"symbol\":\"circle\"},\"mode\":\"lines\",\"name\":\"2.0\",\"orientation\":\"v\",\"showlegend\":true,\"x\":[100.0,150.0,200.0,250.0,300.0],\"xaxis\":\"x\",\"y\":[268.8056707382202,255.09103441238403,239.8879532814026,221.37117338180542,207.25487160682678],\"yaxis\":\"y\",\"type\":\"scatter\"},{\"hovertemplate\":\"#workerMachines=3.0<br>minSup=%{x}<br>runtime=%{y}<extra></extra>\",\"legendgroup\":\"3.0\",\"line\":{\"color\":\"#00cc96\",\"dash\":\"solid\"},\"marker\":{\"symbol\":\"circle\"},\"mode\":\"lines\",\"name\":\"3.0\",\"orientation\":\"v\",\"showlegend\":true,\"x\":[100.0,150.0,200.0,250.0,300.0],\"xaxis\":\"x\",\"y\":[376.37691044807434,335.258193731308,317.62467789649963,317.4081554412842,303.48707723617554],\"yaxis\":\"y\",\"type\":\"scatter\"},{\"hovertemplate\":\"#workerMachines=4.0<br>minSup=%{x}<br>runtime=%{y}<extra></extra>\",\"legendgroup\":\"4.0\",\"line\":{\"color\":\"#ab63fa\",\"dash\":\"solid\"},\"marker\":{\"symbol\":\"circle\"},\"mode\":\"lines\",\"name\":\"4.0\",\"orientation\":\"v\",\"showlegend\":true,\"x\":[100.0,150.0,200.0,250.0,300.0],\"xaxis\":\"x\",\"y\":[351.05299520492554,338.47314715385437,318.95744013786316,306.7120780944824,217.66320824623108],\"yaxis\":\"y\",\"type\":\"scatter\"},{\"hovertemplate\":\"#workerMachines=5.0<br>minSup=%{x}<br>runtime=%{y}<extra></extra>\",\"legendgroup\":\"5.0\",\"line\":{\"color\":\"#FFA15A\",\"dash\":\"solid\"},\"marker\":{\"symbol\":\"circle\"},\"mode\":\"lines\",\"name\":\"5.0\",\"orientation\":\"v\",\"showlegend\":true,\"x\":[100.0,150.0,200.0,250.0,300.0],\"xaxis\":\"x\",\"y\":[276.6888358592987,265.81337094306946,245.56853652000427,230.925883769989,211.284912109375],\"yaxis\":\"y\",\"type\":\"scatter\"},{\"hovertemplate\":\"#workerMachines=6.0<br>minSup=%{x}<br>runtime=%{y}<extra></extra>\",\"legendgroup\":\"6.0\",\"line\":{\"color\":\"#19d3f3\",\"dash\":\"solid\"},\"marker\":{\"symbol\":\"circle\"},\"mode\":\"lines\",\"name\":\"6.0\",\"orientation\":\"v\",\"showlegend\":true,\"x\":[100.0,150.0,200.0,250.0,300.0],\"xaxis\":\"x\",\"y\":[229.17370128631592,213.61733508110046,199.76128363609314,177.59917974472046,165.2083818912506],\"yaxis\":\"y\",\"type\":\"scatter\"},{\"hovertemplate\":\"#workerMachines=7.0<br>minSup=%{x}<br>runtime=%{y}<extra></extra>\",\"legendgroup\":\"7.0\",\"line\":{\"color\":\"#FF6692\",\"dash\":\"solid\"},\"marker\":{\"symbol\":\"circle\"},\"mode\":\"lines\",\"name\":\"7.0\",\"orientation\":\"v\",\"showlegend\":true,\"x\":[100.0,150.0,200.0,250.0,300.0],\"xaxis\":\"x\",\"y\":[243.14667534828186,230.60415267944336,220.1391785144806,197.82811069488525,172.60290241241455],\"yaxis\":\"y\",\"type\":\"scatter\"},{\"hovertemplate\":\"#workerMachines=8.0<br>minSup=%{x}<br>runtime=%{y}<extra></extra>\",\"legendgroup\":\"8.0\",\"line\":{\"color\":\"#B6E880\",\"dash\":\"solid\"},\"marker\":{\"symbol\":\"circle\"},\"mode\":\"lines\",\"name\":\"8.0\",\"orientation\":\"v\",\"showlegend\":true,\"x\":[100.0,150.0,200.0,250.0,300.0],\"xaxis\":\"x\",\"y\":[237.31144332885742,221.43090343475342,209.47458720207214,182.65103816986084,172.11909866333008],\"yaxis\":\"y\",\"type\":\"scatter\"},{\"hovertemplate\":\"#workerMachines=9.0<br>minSup=%{x}<br>runtime=%{y}<extra></extra>\",\"legendgroup\":\"9.0\",\"line\":{\"color\":\"#FF97FF\",\"dash\":\"solid\"},\"marker\":{\"symbol\":\"circle\"},\"mode\":\"lines\",\"name\":\"9.0\",\"orientation\":\"v\",\"showlegend\":true,\"x\":[100.0,150.0,200.0,250.0,300.0],\"xaxis\":\"x\",\"y\":[247.80765318870544,236.0016164779663,222.21283197402954,197.35461449623108,187.2727334499359],\"yaxis\":\"y\",\"type\":\"scatter\"},{\"hovertemplate\":\"#workerMachines=10.0<br>minSup=%{x}<br>runtime=%{y}<extra></extra>\",\"legendgroup\":\"10.0\",\"line\":{\"color\":\"#FECB52\",\"dash\":\"solid\"},\"marker\":{\"symbol\":\"circle\"},\"mode\":\"lines\",\"name\":\"10.0\",\"orientation\":\"v\",\"showlegend\":true,\"x\":[100.0,150.0,200.0,250.0,300.0],\"xaxis\":\"x\",\"y\":[244.1538007259369,230.45370388031006,210.10514426231384,194.82255291938782,181.04789280891418],\"yaxis\":\"y\",\"type\":\"scatter\"}],                        {\"template\":{\"data\":{\"histogram2dcontour\":[{\"type\":\"histogram2dcontour\",\"colorbar\":{\"outlinewidth\":0,\"ticks\":\"\"},\"colorscale\":[[0.0,\"#0d0887\"],[0.1111111111111111,\"#46039f\"],[0.2222222222222222,\"#7201a8\"],[0.3333333333333333,\"#9c179e\"],[0.4444444444444444,\"#bd3786\"],[0.5555555555555556,\"#d8576b\"],[0.6666666666666666,\"#ed7953\"],[0.7777777777777778,\"#fb9f3a\"],[0.8888888888888888,\"#fdca26\"],[1.0,\"#f0f921\"]]}],\"choropleth\":[{\"type\":\"choropleth\",\"colorbar\":{\"outlinewidth\":0,\"ticks\":\"\"}}],\"histogram2d\":[{\"type\":\"histogram2d\",\"colorbar\":{\"outlinewidth\":0,\"ticks\":\"\"},\"colorscale\":[[0.0,\"#0d0887\"],[0.1111111111111111,\"#46039f\"],[0.2222222222222222,\"#7201a8\"],[0.3333333333333333,\"#9c179e\"],[0.4444444444444444,\"#bd3786\"],[0.5555555555555556,\"#d8576b\"],[0.6666666666666666,\"#ed7953\"],[0.7777777777777778,\"#fb9f3a\"],[0.8888888888888888,\"#fdca26\"],[1.0,\"#f0f921\"]]}],\"heatmap\":[{\"type\":\"heatmap\",\"colorbar\":{\"outlinewidth\":0,\"ticks\":\"\"},\"colorscale\":[[0.0,\"#0d0887\"],[0.1111111111111111,\"#46039f\"],[0.2222222222222222,\"#7201a8\"],[0.3333333333333333,\"#9c179e\"],[0.4444444444444444,\"#bd3786\"],[0.5555555555555556,\"#d8576b\"],[0.6666666666666666,\"#ed7953\"],[0.7777777777777778,\"#fb9f3a\"],[0.8888888888888888,\"#fdca26\"],[1.0,\"#f0f921\"]]}],\"heatmapgl\":[{\"type\":\"heatmapgl\",\"colorbar\":{\"outlinewidth\":0,\"ticks\":\"\"},\"colorscale\":[[0.0,\"#0d0887\"],[0.1111111111111111,\"#46039f\"],[0.2222222222222222,\"#7201a8\"],[0.3333333333333333,\"#9c179e\"],[0.4444444444444444,\"#bd3786\"],[0.5555555555555556,\"#d8576b\"],[0.6666666666666666,\"#ed7953\"],[0.7777777777777778,\"#fb9f3a\"],[0.8888888888888888,\"#fdca26\"],[1.0,\"#f0f921\"]]}],\"contourcarpet\":[{\"type\":\"contourcarpet\",\"colorbar\":{\"outlinewidth\":0,\"ticks\":\"\"}}],\"contour\":[{\"type\":\"contour\",\"colorbar\":{\"outlinewidth\":0,\"ticks\":\"\"},\"colorscale\":[[0.0,\"#0d0887\"],[0.1111111111111111,\"#46039f\"],[0.2222222222222222,\"#7201a8\"],[0.3333333333333333,\"#9c179e\"],[0.4444444444444444,\"#bd3786\"],[0.5555555555555556,\"#d8576b\"],[0.6666666666666666,\"#ed7953\"],[0.7777777777777778,\"#fb9f3a\"],[0.8888888888888888,\"#fdca26\"],[1.0,\"#f0f921\"]]}],\"surface\":[{\"type\":\"surface\",\"colorbar\":{\"outlinewidth\":0,\"ticks\":\"\"},\"colorscale\":[[0.0,\"#0d0887\"],[0.1111111111111111,\"#46039f\"],[0.2222222222222222,\"#7201a8\"],[0.3333333333333333,\"#9c179e\"],[0.4444444444444444,\"#bd3786\"],[0.5555555555555556,\"#d8576b\"],[0.6666666666666666,\"#ed7953\"],[0.7777777777777778,\"#fb9f3a\"],[0.8888888888888888,\"#fdca26\"],[1.0,\"#f0f921\"]]}],\"mesh3d\":[{\"type\":\"mesh3d\",\"colorbar\":{\"outlinewidth\":0,\"ticks\":\"\"}}],\"scatter\":[{\"fillpattern\":{\"fillmode\":\"overlay\",\"size\":10,\"solidity\":0.2},\"type\":\"scatter\"}],\"parcoords\":[{\"type\":\"parcoords\",\"line\":{\"colorbar\":{\"outlinewidth\":0,\"ticks\":\"\"}}}],\"scatterpolargl\":[{\"type\":\"scatterpolargl\",\"marker\":{\"colorbar\":{\"outlinewidth\":0,\"ticks\":\"\"}}}],\"bar\":[{\"error_x\":{\"color\":\"#2a3f5f\"},\"error_y\":{\"color\":\"#2a3f5f\"},\"marker\":{\"line\":{\"color\":\"#E5ECF6\",\"width\":0.5},\"pattern\":{\"fillmode\":\"overlay\",\"size\":10,\"solidity\":0.2}},\"type\":\"bar\"}],\"scattergeo\":[{\"type\":\"scattergeo\",\"marker\":{\"colorbar\":{\"outlinewidth\":0,\"ticks\":\"\"}}}],\"scatterpolar\":[{\"type\":\"scatterpolar\",\"marker\":{\"colorbar\":{\"outlinewidth\":0,\"ticks\":\"\"}}}],\"histogram\":[{\"marker\":{\"pattern\":{\"fillmode\":\"overlay\",\"size\":10,\"solidity\":0.2}},\"type\":\"histogram\"}],\"scattergl\":[{\"type\":\"scattergl\",\"marker\":{\"colorbar\":{\"outlinewidth\":0,\"ticks\":\"\"}}}],\"scatter3d\":[{\"type\":\"scatter3d\",\"line\":{\"colorbar\":{\"outlinewidth\":0,\"ticks\":\"\"}},\"marker\":{\"colorbar\":{\"outlinewidth\":0,\"ticks\":\"\"}}}],\"scattermapbox\":[{\"type\":\"scattermapbox\",\"marker\":{\"colorbar\":{\"outlinewidth\":0,\"ticks\":\"\"}}}],\"scatterternary\":[{\"type\":\"scatterternary\",\"marker\":{\"colorbar\":{\"outlinewidth\":0,\"ticks\":\"\"}}}],\"scattercarpet\":[{\"type\":\"scattercarpet\",\"marker\":{\"colorbar\":{\"outlinewidth\":0,\"ticks\":\"\"}}}],\"carpet\":[{\"aaxis\":{\"endlinecolor\":\"#2a3f5f\",\"gridcolor\":\"white\",\"linecolor\":\"white\",\"minorgridcolor\":\"white\",\"startlinecolor\":\"#2a3f5f\"},\"baxis\":{\"endlinecolor\":\"#2a3f5f\",\"gridcolor\":\"white\",\"linecolor\":\"white\",\"minorgridcolor\":\"white\",\"startlinecolor\":\"#2a3f5f\"},\"type\":\"carpet\"}],\"table\":[{\"cells\":{\"fill\":{\"color\":\"#EBF0F8\"},\"line\":{\"color\":\"white\"}},\"header\":{\"fill\":{\"color\":\"#C8D4E3\"},\"line\":{\"color\":\"white\"}},\"type\":\"table\"}],\"barpolar\":[{\"marker\":{\"line\":{\"color\":\"#E5ECF6\",\"width\":0.5},\"pattern\":{\"fillmode\":\"overlay\",\"size\":10,\"solidity\":0.2}},\"type\":\"barpolar\"}],\"pie\":[{\"automargin\":true,\"type\":\"pie\"}]},\"layout\":{\"autotypenumbers\":\"strict\",\"colorway\":[\"#636efa\",\"#EF553B\",\"#00cc96\",\"#ab63fa\",\"#FFA15A\",\"#19d3f3\",\"#FF6692\",\"#B6E880\",\"#FF97FF\",\"#FECB52\"],\"font\":{\"color\":\"#2a3f5f\"},\"hovermode\":\"closest\",\"hoverlabel\":{\"align\":\"left\"},\"paper_bgcolor\":\"white\",\"plot_bgcolor\":\"#E5ECF6\",\"polar\":{\"bgcolor\":\"#E5ECF6\",\"angularaxis\":{\"gridcolor\":\"white\",\"linecolor\":\"white\",\"ticks\":\"\"},\"radialaxis\":{\"gridcolor\":\"white\",\"linecolor\":\"white\",\"ticks\":\"\"}},\"ternary\":{\"bgcolor\":\"#E5ECF6\",\"aaxis\":{\"gridcolor\":\"white\",\"linecolor\":\"white\",\"ticks\":\"\"},\"baxis\":{\"gridcolor\":\"white\",\"linecolor\":\"white\",\"ticks\":\"\"},\"caxis\":{\"gridcolor\":\"white\",\"linecolor\":\"white\",\"ticks\":\"\"}},\"coloraxis\":{\"colorbar\":{\"outlinewidth\":0,\"ticks\":\"\"}},\"colorscale\":{\"sequential\":[[0.0,\"#0d0887\"],[0.1111111111111111,\"#46039f\"],[0.2222222222222222,\"#7201a8\"],[0.3333333333333333,\"#9c179e\"],[0.4444444444444444,\"#bd3786\"],[0.5555555555555556,\"#d8576b\"],[0.6666666666666666,\"#ed7953\"],[0.7777777777777778,\"#fb9f3a\"],[0.8888888888888888,\"#fdca26\"],[1.0,\"#f0f921\"]],\"sequentialminus\":[[0.0,\"#0d0887\"],[0.1111111111111111,\"#46039f\"],[0.2222222222222222,\"#7201a8\"],[0.3333333333333333,\"#9c179e\"],[0.4444444444444444,\"#bd3786\"],[0.5555555555555556,\"#d8576b\"],[0.6666666666666666,\"#ed7953\"],[0.7777777777777778,\"#fb9f3a\"],[0.8888888888888888,\"#fdca26\"],[1.0,\"#f0f921\"]],\"diverging\":[[0,\"#8e0152\"],[0.1,\"#c51b7d\"],[0.2,\"#de77ae\"],[0.3,\"#f1b6da\"],[0.4,\"#fde0ef\"],[0.5,\"#f7f7f7\"],[0.6,\"#e6f5d0\"],[0.7,\"#b8e186\"],[0.8,\"#7fbc41\"],[0.9,\"#4d9221\"],[1,\"#276419\"]]},\"xaxis\":{\"gridcolor\":\"white\",\"linecolor\":\"white\",\"ticks\":\"\",\"title\":{\"standoff\":15},\"zerolinecolor\":\"white\",\"automargin\":true,\"zerolinewidth\":2},\"yaxis\":{\"gridcolor\":\"white\",\"linecolor\":\"white\",\"ticks\":\"\",\"title\":{\"standoff\":15},\"zerolinecolor\":\"white\",\"automargin\":true,\"zerolinewidth\":2},\"scene\":{\"xaxis\":{\"backgroundcolor\":\"#E5ECF6\",\"gridcolor\":\"white\",\"linecolor\":\"white\",\"showbackground\":true,\"ticks\":\"\",\"zerolinecolor\":\"white\",\"gridwidth\":2},\"yaxis\":{\"backgroundcolor\":\"#E5ECF6\",\"gridcolor\":\"white\",\"linecolor\":\"white\",\"showbackground\":true,\"ticks\":\"\",\"zerolinecolor\":\"white\",\"gridwidth\":2},\"zaxis\":{\"backgroundcolor\":\"#E5ECF6\",\"gridcolor\":\"white\",\"linecolor\":\"white\",\"showbackground\":true,\"ticks\":\"\",\"zerolinecolor\":\"white\",\"gridwidth\":2}},\"shapedefaults\":{\"line\":{\"color\":\"#2a3f5f\"}},\"annotationdefaults\":{\"arrowcolor\":\"#2a3f5f\",\"arrowhead\":0,\"arrowwidth\":1},\"geo\":{\"bgcolor\":\"white\",\"landcolor\":\"#E5ECF6\",\"subunitcolor\":\"white\",\"showland\":true,\"showlakes\":true,\"lakecolor\":\"white\"},\"title\":{\"x\":0.05},\"mapbox\":{\"style\":\"light\"}}},\"xaxis\":{\"anchor\":\"y\",\"domain\":[0.0,1.0],\"title\":{\"text\":\"minSup\"}},\"yaxis\":{\"anchor\":\"x\",\"domain\":[0.0,1.0],\"title\":{\"text\":\"runtime\"}},\"legend\":{\"title\":{\"text\":\"#workerMachines\"},\"tracegroupgap\":0},\"margin\":{\"t\":60}},                        {\"responsive\": true}                    ).then(function(){\n",
              "                            \n",
              "var gd = document.getElementById('4b5c0766-e0ac-4cf3-961d-28dbdceaa1a2');\n",
              "var x = new MutationObserver(function (mutations, observer) {{\n",
              "        var display = window.getComputedStyle(gd).display;\n",
              "        if (!display || display === 'none') {{\n",
              "            console.log([gd, 'removed!']);\n",
              "            Plotly.purge(gd);\n",
              "            observer.disconnect();\n",
              "        }}\n",
              "}});\n",
              "\n",
              "// Listen for the removal of the full notebook cells\n",
              "var notebookContainer = gd.closest('#notebook-container');\n",
              "if (notebookContainer) {{\n",
              "    x.observe(notebookContainer, {childList: true});\n",
              "}}\n",
              "\n",
              "// Listen for the clearing of the current output cell\n",
              "var outputEl = gd.closest('.output');\n",
              "if (outputEl) {{\n",
              "    x.observe(outputEl, {childList: true});\n",
              "}}\n",
              "\n",
              "                        })                };                            </script>        </div>\n",
              "</body>\n",
              "</html>"
            ]
          },
          "metadata": {}
        }
      ]
    }
  ]
}