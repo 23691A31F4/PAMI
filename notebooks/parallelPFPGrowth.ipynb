{
  "nbformat": 4,
  "nbformat_minor": 0,
  "metadata": {
    "colab": {
      "provenance": [],
      "toc_visible": true,
      "include_colab_link": true
    },
    "kernelspec": {
      "name": "python3",
      "display_name": "Python 3"
    },
    "language_info": {
      "name": "python"
    }
  },
  "cells": [
    {
      "cell_type": "markdown",
      "metadata": {
        "id": "view-in-github",
        "colab_type": "text"
      },
      "source": [
        "<a href=\"https://colab.research.google.com/github/UdayLab/PAMI/blob/main/notebooks/parallelPFPGrowth.ipynb\" target=\"_parent\"><img src=\"https://colab.research.google.com/assets/colab-badge.svg\" alt=\"Open In Colab\"/></a>"
      ]
    },
    {
      "cell_type": "markdown",
      "source": [
        "# Finding periodic-frequent patterns in big temporal databases using Parallel PFP-growth"
      ],
      "metadata": {
        "id": "Aj6UkFAj3sHh"
      }
    },
    {
      "cell_type": "markdown",
      "source": [
        "This tutorial has two parts. In the first part, we describe the basic approach to find periodic-frequent patterns in a temporal database using the parallel PFP-growth algorithm. In the final part, we describe an advanced approach, where we evaluate the algorithm on a dataset at different *minimum support* threshold values using multiple cores (or worker machines)."
      ],
      "metadata": {
        "id": "X-YPyS6G4AVR"
      }
    },
    {
      "cell_type": "markdown",
      "source": [
        "***"
      ],
      "metadata": {
        "id": "XkW0ZZ276JtD"
      }
    },
    {
      "cell_type": "markdown",
      "source": [
        "## Prerequisites:"
      ],
      "metadata": {
        "id": "H8uDhbi55Use"
      }
    },
    {
      "cell_type": "markdown",
      "source": [
        "1. Installing the PAMI library"
      ],
      "metadata": {
        "id": "z-avjjpTZzbf"
      }
    },
    {
      "cell_type": "code",
      "source": [
        "!pip install -U 'pami[spark]' #install the pami repository"
      ],
      "metadata": {
        "id": "2PdVic4l3-DQ",
        "outputId": "6f856efb-c02b-4490-cf09-10e8914bf465",
        "colab": {
          "base_uri": "https://localhost:8080/"
        }
      },
      "execution_count": 1,
      "outputs": [
        {
          "output_type": "stream",
          "name": "stdout",
          "text": [
            "Requirement already satisfied: pami[spark] in /usr/local/lib/python3.10/dist-packages (2023.7.28.5)\n",
            "Requirement already satisfied: psutil in /usr/local/lib/python3.10/dist-packages (from pami[spark]) (5.9.5)\n",
            "Requirement already satisfied: pandas in /usr/local/lib/python3.10/dist-packages (from pami[spark]) (1.5.3)\n",
            "Requirement already satisfied: plotly in /usr/local/lib/python3.10/dist-packages (from pami[spark]) (5.13.1)\n",
            "Requirement already satisfied: matplotlib in /usr/local/lib/python3.10/dist-packages (from pami[spark]) (3.7.1)\n",
            "Requirement already satisfied: resource in /usr/local/lib/python3.10/dist-packages (from pami[spark]) (0.2.1)\n",
            "Requirement already satisfied: validators in /usr/local/lib/python3.10/dist-packages (from pami[spark]) (0.20.0)\n",
            "Requirement already satisfied: urllib3 in /usr/local/lib/python3.10/dist-packages (from pami[spark]) (1.26.16)\n",
            "Requirement already satisfied: Pillow in /usr/local/lib/python3.10/dist-packages (from pami[spark]) (9.4.0)\n",
            "Requirement already satisfied: numpy in /usr/local/lib/python3.10/dist-packages (from pami[spark]) (1.22.4)\n",
            "Requirement already satisfied: pyspark in /usr/local/lib/python3.10/dist-packages (from pami[spark]) (3.4.1)\n",
            "Requirement already satisfied: contourpy>=1.0.1 in /usr/local/lib/python3.10/dist-packages (from matplotlib->pami[spark]) (1.1.0)\n",
            "Requirement already satisfied: cycler>=0.10 in /usr/local/lib/python3.10/dist-packages (from matplotlib->pami[spark]) (0.11.0)\n",
            "Requirement already satisfied: fonttools>=4.22.0 in /usr/local/lib/python3.10/dist-packages (from matplotlib->pami[spark]) (4.41.1)\n",
            "Requirement already satisfied: kiwisolver>=1.0.1 in /usr/local/lib/python3.10/dist-packages (from matplotlib->pami[spark]) (1.4.4)\n",
            "Requirement already satisfied: packaging>=20.0 in /usr/local/lib/python3.10/dist-packages (from matplotlib->pami[spark]) (23.1)\n",
            "Requirement already satisfied: pyparsing>=2.3.1 in /usr/local/lib/python3.10/dist-packages (from matplotlib->pami[spark]) (3.1.0)\n",
            "Requirement already satisfied: python-dateutil>=2.7 in /usr/local/lib/python3.10/dist-packages (from matplotlib->pami[spark]) (2.8.2)\n",
            "Requirement already satisfied: pytz>=2020.1 in /usr/local/lib/python3.10/dist-packages (from pandas->pami[spark]) (2022.7.1)\n",
            "Requirement already satisfied: tenacity>=6.2.0 in /usr/local/lib/python3.10/dist-packages (from plotly->pami[spark]) (8.2.2)\n",
            "Requirement already satisfied: py4j==0.10.9.7 in /usr/local/lib/python3.10/dist-packages (from pyspark->pami[spark]) (0.10.9.7)\n",
            "Requirement already satisfied: JsonForm>=0.0.2 in /usr/local/lib/python3.10/dist-packages (from resource->pami[spark]) (0.0.2)\n",
            "Requirement already satisfied: JsonSir>=0.0.2 in /usr/local/lib/python3.10/dist-packages (from resource->pami[spark]) (0.0.2)\n",
            "Requirement already satisfied: python-easyconfig>=0.1.0 in /usr/local/lib/python3.10/dist-packages (from resource->pami[spark]) (0.1.7)\n",
            "Requirement already satisfied: decorator>=3.4.0 in /usr/local/lib/python3.10/dist-packages (from validators->pami[spark]) (4.4.2)\n",
            "Requirement already satisfied: jsonschema in /usr/local/lib/python3.10/dist-packages (from JsonForm>=0.0.2->resource->pami[spark]) (4.3.3)\n",
            "Requirement already satisfied: six>=1.5 in /usr/local/lib/python3.10/dist-packages (from python-dateutil>=2.7->matplotlib->pami[spark]) (1.16.0)\n",
            "Requirement already satisfied: PyYAML in /usr/local/lib/python3.10/dist-packages (from python-easyconfig>=0.1.0->resource->pami[spark]) (6.0.1)\n",
            "Requirement already satisfied: attrs>=17.4.0 in /usr/local/lib/python3.10/dist-packages (from jsonschema->JsonForm>=0.0.2->resource->pami[spark]) (23.1.0)\n",
            "Requirement already satisfied: pyrsistent!=0.17.0,!=0.17.1,!=0.17.2,>=0.14.0 in /usr/local/lib/python3.10/dist-packages (from jsonschema->JsonForm>=0.0.2->resource->pami[spark]) (0.19.3)\n"
          ]
        }
      ]
    },
    {
      "cell_type": "markdown",
      "source": [
        "2. Downloading a sample dataset"
      ],
      "metadata": {
        "id": "KZMafFx1Z7pn"
      }
    },
    {
      "cell_type": "code",
      "source": [
        "!wget -nc https://u-aizu.ac.jp/~udayrage/datasets/temporalDatabases/Temporal_T10I4D100K.csv #download a sample transactional database"
      ],
      "metadata": {
        "id": "SCtq3Erc5nEo",
        "outputId": "d097fa1a-fd0a-411b-f5f2-99a2e10cc428",
        "colab": {
          "base_uri": "https://localhost:8080/"
        }
      },
      "execution_count": 2,
      "outputs": [
        {
          "output_type": "stream",
          "name": "stdout",
          "text": [
            "File ‘Temporal_T10I4D100K.csv’ already there; not retrieving.\n",
            "\n"
          ]
        }
      ]
    },
    {
      "cell_type": "markdown",
      "source": [
        "3. Printing few lines of a dataset to know its format."
      ],
      "metadata": {
        "id": "nXgP5F4eaBTW"
      }
    },
    {
      "cell_type": "code",
      "source": [
        "!head -2 Temporal_T10I4D100K.csv"
      ],
      "metadata": {
        "id": "7cHiIW59aS2T",
        "outputId": "d8fab0a7-b1c6-4584-e61b-7e55f989eb3f",
        "colab": {
          "base_uri": "https://localhost:8080/"
        }
      },
      "execution_count": 3,
      "outputs": [
        {
          "output_type": "stream",
          "name": "stdout",
          "text": [
            "1\t25\t52\t164\t240\t274\t328\t368\t448\t538\t561\t630\t687\t730\t775\t825\t834\r\n",
            "2\t39\t120\t124\t205\t401\t581\t704\t814\t825\t834\r\n"
          ]
        }
      ]
    },
    {
      "cell_type": "markdown",
      "source": [
        "_format:_ every row contains a timestamp followed by a set of items seperated by a seperator.\n",
        "\n",
        "__Example:__\n",
        "\n",
        "timestamp1 item1 item2 item3 item4\n",
        "\n",
        "timestamp2 item1 item4 item6"
      ],
      "metadata": {
        "id": "8HnTnR6MaebG"
      }
    },
    {
      "cell_type": "markdown",
      "source": [
        "***"
      ],
      "metadata": {
        "id": "uJ8Z0ey_6FhV"
      }
    },
    {
      "cell_type": "markdown",
      "source": [
        "## Part 1: Finding periodic-frequent patterns using parallel PFP-growth"
      ],
      "metadata": {
        "id": "pCnHao5L6PRR"
      }
    },
    {
      "cell_type": "markdown",
      "source": [
        "### Step 1: Understanding the statistics of a database to choose an appropriate *minimum support* (*minSup*) value."
      ],
      "metadata": {
        "id": "XzsAMOgb6jjQ"
      }
    },
    {
      "cell_type": "code",
      "source": [
        "#specify the file name\n",
        "inputFile = 'Temporal_T10I4D100K.csv'"
      ],
      "metadata": {
        "id": "CkzdL-8lrCmk"
      },
      "execution_count": 4,
      "outputs": []
    },
    {
      "cell_type": "code",
      "source": [
        "#import the class file\n",
        "import PAMI.extras.dbStats.temporalDatabaseStats as stats\n",
        "\n",
        "\n",
        "#initialize the class\n",
        "obj=stats.temporalDatabaseStats(inputFile,sep='\\t')\n",
        "\n",
        "#execute the class\n",
        "obj.run()\n",
        "\n",
        "#Printing each of the database statistics\n",
        "print(f'Database size : {obj.getDatabaseSize()}')\n",
        "print(f'Total number of items : {obj.getTotalNumberOfItems()}')\n",
        "print(f'Database sparsity : {obj.getSparsity()}')\n",
        "print(f'Minimum Transaction Size : {obj.getMinimumTransactionLength()}')\n",
        "print(f'Average Transaction Size : {obj.getAverageTransactionLength()}')\n",
        "print(f'Maximum Transaction Size : {obj.getMaximumTransactionLength()}')\n",
        "print(f'Standard Deviation Transaction Size : {obj.getStandardDeviationTransactionLength()}')\n",
        "print(f'Variance in Transaction Sizes : {obj. getVarianceTransactionLength()}')\n",
        "print(f'Minimum period : {obj.getMinimumPeriod()}')\n",
        "print(f'Average period : {obj.getAveragePeriod()}')\n",
        "print(f'Maximum period : {obj.getMaximumPeriod()}')\n",
        "\n",
        "itemFrequencies = obj.getSortedListOfItemFrequencies()\n",
        "transactionLength = obj.getTransanctionalLengthDistribution()\n",
        "numberOfTransactionPerTimeStamp = obj.getNumberOfTransactionsPerTimestamp()\n",
        "obj.save(itemFrequencies,'itemFrequency.csv')\n",
        "obj.save(transactionLength, 'transactionSize.csv')\n",
        "obj.save(numberOfTransactionPerTimeStamp, 'numberOfTransaction.csv')\n",
        "\n",
        "#Alternative apporach to derive the database statistics and plot the graphs\n",
        "# obj.printStats()\n",
        "# obj.plotGraphs()"
      ],
      "metadata": {
        "id": "3isxz2qx54te",
        "outputId": "e5dc344b-2461-4e38-99c9-11e7f65992a9",
        "colab": {
          "base_uri": "https://localhost:8080/"
        }
      },
      "execution_count": 4,
      "outputs": [
        {
          "output_type": "stream",
          "name": "stdout",
          "text": [
            "Database size : 99913\n",
            "Total number of items : 870\n",
            "Database sparsity : 0.9883887027691103\n",
            "Minimum Transaction Size : 1\n",
            "Average Transaction Size : 10.10182859087406\n",
            "Maximum Transaction Size : 29\n",
            "Standard Deviation Transaction Size : 3.667115963877195\n",
            "Variance in Transaction Sizes : 13.447874088362232\n",
            "Minimum period : 1\n",
            "Average period : 1.0\n",
            "Maximum period : 1\n"
          ]
        }
      ]
    },
    {
      "cell_type": "markdown",
      "source": [
        "### Step 2: Draw the items' frequency graph and transaction length's distribution graphs for more information"
      ],
      "metadata": {
        "id": "CnoHNwAC-kJQ"
      }
    },
    {
      "cell_type": "code",
      "source": [
        "import PAMI.extras.graph.plotLineGraphFromDictionary as plt\n",
        "\n",
        "plt.plotLineGraphFromDictionary(itemFrequencies, 100, 'Items\\' frequency graph', 'No of items', 'frequency')\n",
        "plt.plotLineGraphFromDictionary(transactionLength, 100, 'transaction distribution graph', 'transaction length', 'frequency')"
      ],
      "metadata": {
        "id": "xwZmfh4H7XSR"
      },
      "execution_count": null,
      "outputs": []
    },
    {
      "cell_type": "markdown",
      "source": [
        "### Step 3: Choosing an appropriate *minSup* and *maxPer* value\n",
        "\n",
        "_Observations_\n",
        "\n",
        "  1. The input dataset is sparse as the sparsity value is 0.988 (=98.8%)\n",
        "  2. Many items have low frequencies as seen in the items' frequency graph\n",
        "  3. The dataset is not high dimensional as the inverted curve is around 10.\n",
        "\n",
        "  Based on the above observations, let us choose a _minSup_ value of 300 (in count). We can increase or decrease the _minSup_ based on the number of patterns being generated.\n",
        "\n",
        "\n",
        "  Similarly, let us choose a _maxPer_ value of 5000. That is, every periodic-frequent pattern must appear at least once in every 5000 transactions."
      ],
      "metadata": {
        "id": "BtnhlIfLAEHR"
      }
    },
    {
      "cell_type": "code",
      "source": [
        "minSupValue=300 #minSup is specified in count. However, the users can also specify minSup between 0 and 1.\n",
        "maxPerValue=5000"
      ],
      "metadata": {
        "id": "MHGkrW5e-zYR"
      },
      "execution_count": 6,
      "outputs": []
    },
    {
      "cell_type": "markdown",
      "source": [
        "### Step 4: Choosing the number of worker machines\n",
        "\n",
        "Let us choose the number of worker machines equal to 2"
      ],
      "metadata": {
        "id": "IJOBcmTm3zKO"
      }
    },
    {
      "cell_type": "code",
      "source": [
        "noWorkerMachines=2"
      ],
      "metadata": {
        "id": "LjnMgn3S3-bE"
      },
      "execution_count": 7,
      "outputs": []
    },
    {
      "cell_type": "markdown",
      "source": [
        "### Step 5: Mining frequent patterns using parallel FP-growth"
      ],
      "metadata": {
        "id": "PlLmo9ZXDJkX"
      }
    },
    {
      "cell_type": "code",
      "source": [
        "from PAMI.periodicFrequentPattern.pyspark import parallelPFPGrowth as alg  #import the algorithm\n",
        "\n",
        "obj = alg.parallelPFPGrowth(iFile=inputFile, minSup=minSupValue, maxPer=maxPerValue, numWorker=noWorkerMachines, sep='\\t')    #initialize\n",
        "obj.startMine()            #start the mining process\n",
        "\n",
        "obj.save('periodicFrequentPatterns300_5000.txt') #save the patterns\n",
        "\n",
        "\n",
        "patternsDF= obj.getPatternsAsDataFrame() #get the generated frequent patterns as a dataframe\n",
        "print('Total No of patterns: ' + str(len(patternsDF))) #print the total number of patterns\n",
        "print('Runtime: ' + str(obj.getRuntime())) #measure the runtime\n",
        "\n",
        "print('Memory (RSS): ' + str(obj.getMemoryRSS()))\n",
        "print('Memory (USS): ' + str(obj.getMemoryUSS()))"
      ],
      "metadata": {
        "id": "pLV84IYcDHe3",
        "outputId": "c0a25624-9ef6-4958-a0bc-73814a57b395",
        "colab": {
          "base_uri": "https://localhost:8080/"
        }
      },
      "execution_count": 8,
      "outputs": [
        {
          "output_type": "stream",
          "name": "stdout",
          "text": [
            "Total No of patterns: 4529\n",
            "Runtime: 233.28595542907715\n",
            "Memory (RSS): 157249536\n",
            "Memory (USS): 109367296\n"
          ]
        }
      ]
    },
    {
      "cell_type": "markdown",
      "source": [
        "### Step 6: Investigating the generated patterns\n",
        "\n",
        "Open the patterns' file and investigate the generated patterns. If the generated patterns were interesting, use them; otherwise, redo the Steps 3 and 4 with a different _minSup_ value."
      ],
      "metadata": {
        "id": "wE3A15V3FHjO"
      }
    },
    {
      "cell_type": "code",
      "source": [
        "!head periodicFrequentPatterns300_5000.txt"
      ],
      "metadata": {
        "id": "nZ6dfQshDc9E",
        "outputId": "97fb4eb0-afbf-4330-cf38-2c8a2fec906a",
        "colab": {
          "base_uri": "https://localhost:8080/"
        }
      },
      "execution_count": 9,
      "outputs": [
        {
          "output_type": "stream",
          "name": "stdout",
          "text": [
            "88:303 \n",
            "916:306 \n",
            "301:309 \n",
            "301\t930:301 \n",
            "301\t118:302 \n",
            "301\t489:306 \n",
            "301\t362:302 \n",
            "437:313 \n",
            "67:316 \n",
            "67\t746:307 \n"
          ]
        }
      ]
    },
    {
      "cell_type": "markdown",
      "source": [
        "The storage format is: _periodicFrequentPattern:support:periodicity_\n",
        "\n"
      ],
      "metadata": {
        "id": "OSrlE5hwGEnH"
      }
    },
    {
      "cell_type": "markdown",
      "source": [
        "***"
      ],
      "metadata": {
        "id": "HcaEFLGCHBjP"
      }
    },
    {
      "cell_type": "markdown",
      "source": [
        "## Part 2: Evaluating the FP-growth algorithm on a dataset at different minSup values and worker machines"
      ],
      "metadata": {
        "id": "FUO1nBPoHXJN"
      }
    },
    {
      "cell_type": "markdown",
      "source": [
        "### Step 1: Import the libraries and specify the input parameters"
      ],
      "metadata": {
        "id": "g90LiLg1Hzb-"
      }
    },
    {
      "cell_type": "code",
      "source": [
        "#Specify the input parameters\n",
        "seperator='\\t'\n",
        "minimumSupportCountList = [100, 150, 200, 250, 300]\n",
        "#minimumSupport can also specified between 0 to 1. E.g., minSupList = [0.005, 0.006, 0.007, 0.008, 0.009]\n",
        "\n",
        "numWorkers = [1,2, 3, 4, 5, 6, 7, 8, 9, 10]"
      ],
      "metadata": {
        "id": "FfYBLxBPG5n_"
      },
      "execution_count": 10,
      "outputs": []
    },
    {
      "cell_type": "markdown",
      "source": [
        "### Step 2: Create a data frame to store the results of FP-growth"
      ],
      "metadata": {
        "id": "2lvGcqTKJDee"
      }
    },
    {
      "cell_type": "code",
      "source": [
        "import pandas as pd\n",
        "\n",
        "result = pd.DataFrame(columns=['#workerMachines', 'minSup', 'patterns', 'runtime'])\n",
        "#initialize a data frame to store the results of FPGrowth algorithm"
      ],
      "metadata": {
        "id": "9Hl47i3ZICpp"
      },
      "execution_count": 12,
      "outputs": []
    },
    {
      "cell_type": "markdown",
      "source": [
        "### Step 3: Execute the algorithm at different minSup values"
      ],
      "metadata": {
        "id": "Hah3RHNNJf0f"
      }
    },
    {
      "cell_type": "code",
      "source": [
        "#Import the libraries\n",
        "from PAMI.periodicFrequentPattern.pyspark import parallelPFPGrowth as alg  #import the algorithm\n",
        "\n",
        "for minSupValue in minimumSupportCountList:\n",
        "  for workers in numWorkers:\n",
        "    obj = alg.parallelPFPGrowth(iFile=inputFile, minSup=minSupValue, maxPer=maxPerValue, numWorker=workers, sep='\\t')    #initialize\n",
        "    obj.startMine()            #start the mining process\n",
        "    result.loc[result.shape[0]] = [workers, minSupValue, len(obj.getPatterns()),obj.getRuntime()]"
      ],
      "metadata": {
        "id": "9ivJHoSEJlky"
      },
      "execution_count": null,
      "outputs": []
    },
    {
      "cell_type": "markdown",
      "source": [
        "### Step 4: Print the result"
      ],
      "metadata": {
        "id": "qs3jpnTBJSd6"
      }
    },
    {
      "cell_type": "code",
      "source": [
        "print(result)"
      ],
      "metadata": {
        "id": "MReBFwDFJ_3x"
      },
      "execution_count": null,
      "outputs": []
    },
    {
      "cell_type": "markdown",
      "source": [
        "### Step 5: Visualizing the results"
      ],
      "metadata": {
        "id": "6ELjr0iPKDSY"
      }
    },
    {
      "cell_type": "code",
      "source": [
        "result.plot(x='minSup',y='runtime')"
      ],
      "metadata": {
        "id": "mGET50RTasLT"
      },
      "execution_count": null,
      "outputs": []
    },
    {
      "cell_type": "code",
      "source": [
        "from PAMI.extras.graph import dataFrameInToFigures as dif\n",
        "ab = dif.dataFrameInToFigures(result)\n",
        "ab.plotGraphsFromDataFrame()"
      ],
      "metadata": {
        "id": "DvTQdsGLKJIU"
      },
      "execution_count": null,
      "outputs": []
    }
  ]
}