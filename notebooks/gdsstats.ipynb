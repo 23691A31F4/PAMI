{
 "cells": [
  {
   "cell_type": "markdown",
   "metadata": {},
   "source": [
    "# Import modules"
   ]
  },
  {
   "cell_type": "code",
   "execution_count": 1,
   "metadata": {},
   "outputs": [],
   "source": [
    "import time\n",
    "import csv\n",
    "import cudf\n",
    "import cupy as cp\n",
    "import numpy as np\n",
    "import pandas as pd\n",
    "from csvToInteger import csvToInteger\n",
    "from csvToBitInteger import csvToBitInteger"
   ]
  },
  {
   "cell_type": "markdown",
   "metadata": {},
   "source": [
    "# Set a file to test on"
   ]
  },
  {
   "cell_type": "code",
   "execution_count": 2,
   "metadata": {},
   "outputs": [],
   "source": [
    "fileName = '/home/tarun/test.csv'"
   ]
  },
  {
   "cell_type": "markdown",
   "metadata": {},
   "source": [
    "# Simplify the reading the database reading functions for benchmarking"
   ]
  },
  {
   "cell_type": "code",
   "execution_count": 3,
   "metadata": {},
   "outputs": [],
   "source": [
    "def cpugpudf(file):\n",
    "    start = time.time()\n",
    "    df = pd.read_parquet(file)\n",
    "\n",
    "    gpudf = cudf.DataFrame.from_pandas(df)\n",
    "\n",
    "    end = time.time()\n",
    "\n",
    "    print(\"Read time + transfer to GPU: \", end - start)\n",
    "    print(\"memory usage of df:\",df.memory_usage(deep=True).sum())\n",
    "\n",
    "    return gpudf\n",
    "\n",
    "def gpudf(file, bytes = 0):\n",
    "    start = time.time()\n",
    "    if bytes > 0:\n",
    "        df = cudf.read_parquet(file, bytes)\n",
    "    else:\n",
    "        df = cudf.read_parquet(file)\n",
    "    end = time.time()\n",
    "\n",
    "\n",
    "    print(\"Read time on GPU: \", end - start)\n",
    "    print(\"memory usage of df:\",df.memory_usage(deep=True).sum())\n",
    "\n",
    "\n",
    "    return df"
   ]
  },
  {
   "cell_type": "markdown",
   "metadata": {},
   "source": [
    "# Create a synthetic database to test additional performance"
   ]
  },
  {
   "cell_type": "code",
   "execution_count": 4,
   "metadata": {},
   "outputs": [],
   "source": [
    "from PAMI.extras.generateDatabase.generateTemporalDatabase import generateTemporalDatabase as gtd\n",
    "\n",
    "a = gtd(50000, 20, 10, fileName, 50, '\\t', \"Database\")\n",
    "a.createTemporalFile()"
   ]
  },
  {
   "cell_type": "markdown",
   "metadata": {},
   "source": [
    "# Get the synthetic database stats"
   ]
  },
  {
   "cell_type": "markdown",
   "metadata": {},
   "source": [
    "# Run the tests"
   ]
  },
  {
   "cell_type": "code",
   "execution_count": 5,
   "metadata": {},
   "outputs": [
    {
     "name": "stdout",
     "output_type": "stream",
     "text": [
      "Database size : 50000\n",
      "Number of items : 20\n",
      "Minimum Transaction Size : 1\n",
      "Average Transaction Size : 5.51876\n",
      "Maximum Transaction Size : 10\n",
      "Minimum Inter Arrival Period : 1\n",
      "Average Inter Arrival Period : 1.0\n",
      "Maximum Inter Arrival Period : 1\n",
      "Minimum periodicity : 27\n",
      "Average periodicity : 31.1\n",
      "Maximum periodicicty : 44\n",
      "Standard Deviation Transaction Size : 2.872568199782209\n",
      "Variance : 8.251813098661973\n",
      "Sparsity : 0.724062\n"
     ]
    }
   ],
   "source": [
    "from PAMI.extras.dbStats.temporalDatabaseStats import temporalDatabaseStats as alg\n",
    "\n",
    "obj = alg(fileName)\n",
    "obj.run()\n",
    "obj.printStats()"
   ]
  },
  {
   "cell_type": "code",
   "execution_count": 6,
   "metadata": {},
   "outputs": [],
   "source": [
    "from csvToInteger import csvToInteger\n",
    "from csvToBitInteger import csvToBitInteger"
   ]
  },
  {
   "cell_type": "code",
   "execution_count": 7,
   "metadata": {},
   "outputs": [
    {
     "name": "stdout",
     "output_type": "stream",
     "text": [
      "No output file specified. Using default name. /home/tarun/Temporal_kosarak.csv\n",
      "Done creating integer representation. fileName: /home/tarun/Temporal_kosarak.csv_int\n",
      "No output file specified. Using default name. /home/tarun/Temporal_kosarak.csv\n",
      "Done creating bit integer representation. fileName: /home/tarun/Temporal_kosarak.csv_bitInt\n"
     ]
    }
   ],
   "source": [
    "intpar = csvToInteger(fileName)\n",
    "bitpar = csvToBitInteger(fileName)"
   ]
  },
  {
   "cell_type": "code",
   "execution_count": 8,
   "metadata": {},
   "outputs": [
    {
     "name": "stdout",
     "output_type": "stream",
     "text": [
      "Read time + transfer to GPU:  0.6050150394439697\n",
      "memory usage of df: 187840\n",
      "Read time on GPU:  0.579683780670166\n",
      "memory usage of df: 187840\n"
     ]
    }
   ],
   "source": [
    "df = cpugpudf(intpar)\n",
    "df = gpudf(intpar)"
   ]
  },
  {
   "cell_type": "code",
   "execution_count": 9,
   "metadata": {},
   "outputs": [],
   "source": [
    "df = cpugpudf(bitpar)\n",
    "df = gpudf(bitpar)"
   ]
  },
  {
   "cell_type": "code",
   "execution_count": null,
   "metadata": {},
   "outputs": [
    {
     "name": "stdout",
     "output_type": "stream",
     "text": [
      "0.8496224880218506\n",
      "memory usage of df: 2400000\n"
     ]
    }
   ],
   "source": [
    "start = time.time()\n",
    "\n",
    "# Open the CSV file and read the first few lines to determine the maximum number of columns\n",
    "max_cols = 0\n",
    "with open(fileName, 'r') as f:\n",
    "    reader = csv.reader(f)\n",
    "    for row in reader:\n",
    "        max_cols = max(max_cols, len(row[0].split('\\t')))\n",
    "\n",
    "# Define column names based on the maximum number of columns\n",
    "col_names = [f'col{i+1}' for i in range(max_cols)]\n",
    "\n",
    "# Read the CSV file with the determined column names\n",
    "df = pd.read_csv(fileName, names=col_names, delimiter= \"\\t\",header=None, engine='python')\n",
    "# print(df)\n",
    "\n",
    "# replace NA to 0\n",
    "df = df.fillna(0)\n",
    "\n",
    "df = df.astype('int32')\n",
    "\n",
    "\n",
    "df = cudf.from_pandas(df)\n",
    "\n",
    "# Now, you can work with the DataFrame 'df'\n",
    "end = time.time()\n",
    "print(end - start)\n",
    "print(\"memory usage of df:\",df.memory_usage(deep=True).sum())"
   ]
  },
  {
   "cell_type": "code",
   "execution_count": null,
   "metadata": {},
   "outputs": [
    {
     "name": "stdout",
     "output_type": "stream",
     "text": [
      "0.01169443130493164\n",
      "memory usage of df: 2050176\n"
     ]
    }
   ],
   "source": [
    "start = time.time()\n",
    "\n",
    "# Read the CSV file using cuDF\n",
    "df = cudf.read_csv(fileName, delimiter='\\t', header = None)\n",
    "# print(df.head())\n",
    "end = time.time()\n",
    "for col in df.columns:\n",
    "    df[col] = df[col].astype('int32')\n",
    "print(end - start)\n",
    "\n",
    "print(\"memory usage of df:\",df.memory_usage(deep=True).sum())"
   ]
  },
  {
   "cell_type": "code",
   "execution_count": null,
   "metadata": {},
   "outputs": [],
   "source": [
    "# convert cells in df to numeric\n",
    "# df = cudf.to_numeric(df, errors='coerce')\n"
   ]
  },
  {
   "cell_type": "code",
   "execution_count": null,
   "metadata": {},
   "outputs": [],
   "source": []
  }
 ],
 "metadata": {
  "kernelspec": {
   "display_name": "Python 3 (ipykernel)",
   "language": "python",
   "name": "python3"
  },
  "language_info": {
   "codemirror_mode": {
    "name": "ipython",
    "version": 3
   },
   "file_extension": ".py",
   "mimetype": "text/x-python",
   "name": "python",
   "nbconvert_exporter": "python",
   "pygments_lexer": "ipython3",
   "version": "3.10.12"
  },
  "orig_nbformat": 4
 },
 "nbformat": 4,
 "nbformat_minor": 2
}
