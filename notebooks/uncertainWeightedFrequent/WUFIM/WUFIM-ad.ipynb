{
 "cells": [
  {
   "cell_type": "markdown",
   "id": "e960ba75-7c84-45aa-bbca-f6eca0f8731b",
   "metadata": {
    "tags": []
   },
   "source": [
    "# Advanced Tutorial on Implementing WUFIM Algorithm"
   ]
  },
  {
   "cell_type": "markdown",
   "id": "f7fb1145-420c-4ce0-905e-383d013cb11f",
   "metadata": {},
   "source": [
    "***"
   ]
  },
  {
   "cell_type": "markdown",
   "id": "af8250de-3089-4c77-868d-eb7befde3381",
   "metadata": {},
   "source": [
    "#### In this tutorial, we explain how the WUFIM algorithm  can be implemented by varying the minimum support values"
   ]
  },
  {
   "cell_type": "markdown",
   "id": "039e1133-be4f-45bb-9aec-4cb4af3b537e",
   "metadata": {},
   "source": [
    "#### Step 1: Import the WUFIM algorithm and pandas data frame"
   ]
  },
  {
   "cell_type": "code",
   "execution_count": 1,
   "id": "1d312f6c-e7d9-482b-bb7a-821b600c057d",
   "metadata": {},
   "outputs": [],
   "source": [
    "from PAMI.weightedUncertainFrequentPattern.basic import WUFIM as alg\n",
    "import pandas as pd"
   ]
  },
  {
   "cell_type": "markdown",
   "id": "16316eaf-892f-4c4e-937d-73007b0bf803",
   "metadata": {},
   "source": [
    "#### Step 2: Specify the following input parameters"
   ]
  },
  {
   "cell_type": "code",
   "execution_count": 2,
   "id": "097f841f-dbf3-40d2-a3c9-130a3a8af003",
   "metadata": {},
   "outputs": [],
   "source": [
    "inputFile = 'uncertainTransaction_T10I4D200K.csv'\n",
    "weightFile = 'T10_weights.txt'\n",
    "seperator = '\\t'\n",
    "minimumSupportCountList = [120, 140, 160, 180, 200] \n",
    "expWSup = 500\n",
    "#minimumSupport can also specified between 0 to 1. E.g., minSupList = [0.005, 0.006, 0.007, 0.008, 0.009]\n",
    "result = pd.DataFrame(columns=['algorithm', 'minSup', 'patterns', 'runtime', 'memory']) \n"
   ]
  },
  {
   "cell_type": "markdown",
   "id": "de4e94ed-b3b6-4b34-8a62-5d5f51d87d8f",
   "metadata": {},
   "source": [
    "#### Step 3: Execute the WUFIM algorithm using a for loop"
   ]
  },
  {
   "cell_type": "code",
   "execution_count": null,
   "id": "e6224480-20e8-4c77-8a8f-09bade313f2b",
   "metadata": {},
   "outputs": [
    {
     "name": "stdout",
     "output_type": "stream",
     "text": [
      "Weighted Frequent patterns were generated  successfully using WUFIM algorithm\n",
      "Weighted Frequent patterns were generated  successfully using WUFIM algorithm\n"
     ]
    }
   ],
   "source": [
    "algorithm = 'WUFIM'  #specify the algorithm name\n",
    "for expSupCount in minimumSupportCountList:\n",
    "    obj = alg.WUFIM(inputFile, weightFile, expSupCount, expWSup, sep=seperator)\n",
    "    obj.startMine()\n",
    "    #store the results in the data frame\n",
    "    result.loc[result.shape[0]] = [algorithm, expSupCount, len(obj.getPatterns()), obj.getRuntime(), obj.getMemoryRSS()]\n"
   ]
  },
  {
   "cell_type": "code",
   "execution_count": null,
   "id": "74c374fa-5269-4cdd-b2c8-6c684e59f915",
   "metadata": {},
   "outputs": [],
   "source": [
    "print(result)"
   ]
  },
  {
   "cell_type": "markdown",
   "id": "2da9f7bc-f1e2-4225-bc1b-8ba7e3a96f8d",
   "metadata": {},
   "source": [
    "#### Step 5: Visualizing the results"
   ]
  },
  {
   "cell_type": "markdown",
   "id": "677a1f49-fdf5-44f7-889b-dfb7891d5837",
   "metadata": {},
   "source": [
    "##### Step 5.1 Importing the plot library"
   ]
  },
  {
   "cell_type": "code",
   "execution_count": null,
   "id": "4a04c12b-33c2-42d5-9fb2-df563844f1b2",
   "metadata": {},
   "outputs": [],
   "source": [
    "from PAMI.extras.graph import plotLineGraphsFromDataFrame as plt"
   ]
  },
  {
   "cell_type": "markdown",
   "id": "bf37a8b6-a205-4d7f-86c6-81c41c90ebbf",
   "metadata": {},
   "source": [
    "##### Step 5.2. Plotting the number of patterns"
   ]
  },
  {
   "cell_type": "code",
   "execution_count": null,
   "id": "065029aa-9346-4d2b-a0a3-ec70ec4f9116",
   "metadata": {},
   "outputs": [],
   "source": [
    "ab = plt.plotGraphsFromDataFrame(result)\n",
    "ab.plotGraphsFromDataFrame() #drawPlots()"
   ]
  },
  {
   "cell_type": "markdown",
   "id": "d10b6e2d-e186-45c7-a143-d6733c5a901e",
   "metadata": {},
   "source": [
    "### Step 6: Saving the results as latex files"
   ]
  },
  {
   "cell_type": "code",
   "execution_count": null,
   "id": "687669cd-1183-4d1a-b262-5437af119662",
   "metadata": {},
   "outputs": [],
   "source": [
    "from PAMI.extras.graph import generateLatexFileFromDataFrame as gdf\n",
    "gdf.generateLatexCode(result)"
   ]
  },
  {
   "cell_type": "code",
   "execution_count": null,
   "id": "76b8d974-6e77-4002-8c1c-556b5dd99fe2",
   "metadata": {},
   "outputs": [],
   "source": []
  }
 ],
 "metadata": {
  "kernelspec": {
   "display_name": "Python 3 (ipykernel)",
   "language": "python",
   "name": "python3"
  },
  "language_info": {
   "codemirror_mode": {
    "name": "ipython",
    "version": 3
   },
   "file_extension": ".py",
   "mimetype": "text/x-python",
   "name": "python",
   "nbconvert_exporter": "python",
   "pygments_lexer": "ipython3",
   "version": "3.10.4"
  },
  "toc-autonumbering": false
 },
 "nbformat": 4,
 "nbformat_minor": 5
}
