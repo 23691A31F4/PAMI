{
  "cells": [
    {
      "cell_type": "markdown",
      "metadata": {
        "id": "view-in-github",
        "colab_type": "text"
      },
      "source": [
        "<a href=\"https://colab.research.google.com/github/udayLab/PAMI/blob/main/notebooks/fuzzyFrequentPattern/basic/FFIMiner.ipynb\" target=\"_parent\"><img src=\"https://colab.research.google.com/assets/colab-badge.svg\" alt=\"Open In Colab\"/></a>"
      ]
    },
    {
      "cell_type": "markdown",
      "metadata": {
        "id": "XZ4vrXSQ1yEs"
      },
      "source": [
        "# Finding Frequent patterns in Fuzzy Databases using FFIMiner"
      ]
    },
    {
      "cell_type": "markdown",
      "metadata": {
        "id": "roOSCMZX2Eb2"
      },
      "source": [
        "This tutorial has two parts. In the first part, we describe the basic approach to find Frequent patterns in a fuzzy database using the FFIMiner algorithm. In the final part, we describe an advanced approach, where we evaluate the FFIMiner algorithm on a dataset at different minimum support threshold values.\n",
        "***"
      ]
    },
    {
      "cell_type": "markdown",
      "metadata": {
        "id": "TFlIIF_X2SzU"
      },
      "source": [
        "# Prerequisites:"
      ]
    },
    {
      "cell_type": "markdown",
      "metadata": {
        "id": "TqMwpaLw2XLu"
      },
      "source": [
        "1.   Installing the PAMI library"
      ]
    },
    {
      "cell_type": "code",
      "execution_count": 8,
      "metadata": {
        "colab": {
          "base_uri": "https://localhost:8080/"
        },
        "id": "EubusNOv2Zcv",
        "outputId": "92ea9475-66cd-4d91-fd61-07b0f9ada2c2"
      },
      "outputs": [
        {
          "output_type": "stream",
          "name": "stdout",
          "text": [
            "Requirement already satisfied: pami in /usr/local/lib/python3.10/dist-packages (2023.10.31.1)\n",
            "Requirement already satisfied: psutil in /usr/local/lib/python3.10/dist-packages (from pami) (5.9.5)\n",
            "Requirement already satisfied: pandas in /usr/local/lib/python3.10/dist-packages (from pami) (1.5.3)\n",
            "Requirement already satisfied: plotly in /usr/local/lib/python3.10/dist-packages (from pami) (5.15.0)\n",
            "Requirement already satisfied: matplotlib in /usr/local/lib/python3.10/dist-packages (from pami) (3.7.1)\n",
            "Requirement already satisfied: resource in /usr/local/lib/python3.10/dist-packages (from pami) (0.2.1)\n",
            "Requirement already satisfied: validators in /usr/local/lib/python3.10/dist-packages (from pami) (0.22.0)\n",
            "Requirement already satisfied: urllib3 in /usr/local/lib/python3.10/dist-packages (from pami) (2.0.7)\n",
            "Requirement already satisfied: Pillow in /usr/local/lib/python3.10/dist-packages (from pami) (9.4.0)\n",
            "Requirement already satisfied: numpy in /usr/local/lib/python3.10/dist-packages (from pami) (1.23.5)\n",
            "Requirement already satisfied: sphinx-rtd-theme in /usr/local/lib/python3.10/dist-packages (from pami) (1.3.0)\n",
            "Requirement already satisfied: contourpy>=1.0.1 in /usr/local/lib/python3.10/dist-packages (from matplotlib->pami) (1.1.1)\n",
            "Requirement already satisfied: cycler>=0.10 in /usr/local/lib/python3.10/dist-packages (from matplotlib->pami) (0.12.1)\n",
            "Requirement already satisfied: fonttools>=4.22.0 in /usr/local/lib/python3.10/dist-packages (from matplotlib->pami) (4.43.1)\n",
            "Requirement already satisfied: kiwisolver>=1.0.1 in /usr/local/lib/python3.10/dist-packages (from matplotlib->pami) (1.4.5)\n",
            "Requirement already satisfied: packaging>=20.0 in /usr/local/lib/python3.10/dist-packages (from matplotlib->pami) (23.2)\n",
            "Requirement already satisfied: pyparsing>=2.3.1 in /usr/local/lib/python3.10/dist-packages (from matplotlib->pami) (3.1.1)\n",
            "Requirement already satisfied: python-dateutil>=2.7 in /usr/local/lib/python3.10/dist-packages (from matplotlib->pami) (2.8.2)\n",
            "Requirement already satisfied: pytz>=2020.1 in /usr/local/lib/python3.10/dist-packages (from pandas->pami) (2023.3.post1)\n",
            "Requirement already satisfied: tenacity>=6.2.0 in /usr/local/lib/python3.10/dist-packages (from plotly->pami) (8.2.3)\n",
            "Requirement already satisfied: JsonForm>=0.0.2 in /usr/local/lib/python3.10/dist-packages (from resource->pami) (0.0.2)\n",
            "Requirement already satisfied: JsonSir>=0.0.2 in /usr/local/lib/python3.10/dist-packages (from resource->pami) (0.0.2)\n",
            "Requirement already satisfied: python-easyconfig>=0.1.0 in /usr/local/lib/python3.10/dist-packages (from resource->pami) (0.1.7)\n",
            "Requirement already satisfied: sphinx<8,>=1.6 in /usr/local/lib/python3.10/dist-packages (from sphinx-rtd-theme->pami) (5.0.2)\n",
            "Requirement already satisfied: docutils<0.19 in /usr/local/lib/python3.10/dist-packages (from sphinx-rtd-theme->pami) (0.18.1)\n",
            "Requirement already satisfied: sphinxcontrib-jquery<5,>=4 in /usr/local/lib/python3.10/dist-packages (from sphinx-rtd-theme->pami) (4.1)\n",
            "Requirement already satisfied: jsonschema in /usr/local/lib/python3.10/dist-packages (from JsonForm>=0.0.2->resource->pami) (4.19.1)\n",
            "Requirement already satisfied: six>=1.5 in /usr/local/lib/python3.10/dist-packages (from python-dateutil>=2.7->matplotlib->pami) (1.16.0)\n",
            "Requirement already satisfied: PyYAML in /usr/local/lib/python3.10/dist-packages (from python-easyconfig>=0.1.0->resource->pami) (6.0.1)\n",
            "Requirement already satisfied: sphinxcontrib-applehelp in /usr/local/lib/python3.10/dist-packages (from sphinx<8,>=1.6->sphinx-rtd-theme->pami) (1.0.7)\n",
            "Requirement already satisfied: sphinxcontrib-devhelp in /usr/local/lib/python3.10/dist-packages (from sphinx<8,>=1.6->sphinx-rtd-theme->pami) (1.0.5)\n",
            "Requirement already satisfied: sphinxcontrib-jsmath in /usr/local/lib/python3.10/dist-packages (from sphinx<8,>=1.6->sphinx-rtd-theme->pami) (1.0.1)\n",
            "Requirement already satisfied: sphinxcontrib-htmlhelp>=2.0.0 in /usr/local/lib/python3.10/dist-packages (from sphinx<8,>=1.6->sphinx-rtd-theme->pami) (2.0.4)\n",
            "Requirement already satisfied: sphinxcontrib-serializinghtml>=1.1.5 in /usr/local/lib/python3.10/dist-packages (from sphinx<8,>=1.6->sphinx-rtd-theme->pami) (1.1.9)\n",
            "Requirement already satisfied: sphinxcontrib-qthelp in /usr/local/lib/python3.10/dist-packages (from sphinx<8,>=1.6->sphinx-rtd-theme->pami) (1.0.6)\n",
            "Requirement already satisfied: Jinja2>=2.3 in /usr/local/lib/python3.10/dist-packages (from sphinx<8,>=1.6->sphinx-rtd-theme->pami) (3.1.2)\n",
            "Requirement already satisfied: Pygments>=2.0 in /usr/local/lib/python3.10/dist-packages (from sphinx<8,>=1.6->sphinx-rtd-theme->pami) (2.16.1)\n",
            "Requirement already satisfied: snowballstemmer>=1.1 in /usr/local/lib/python3.10/dist-packages (from sphinx<8,>=1.6->sphinx-rtd-theme->pami) (2.2.0)\n",
            "Requirement already satisfied: babel>=1.3 in /usr/local/lib/python3.10/dist-packages (from sphinx<8,>=1.6->sphinx-rtd-theme->pami) (2.13.1)\n",
            "Requirement already satisfied: alabaster<0.8,>=0.7 in /usr/local/lib/python3.10/dist-packages (from sphinx<8,>=1.6->sphinx-rtd-theme->pami) (0.7.13)\n",
            "Requirement already satisfied: imagesize in /usr/local/lib/python3.10/dist-packages (from sphinx<8,>=1.6->sphinx-rtd-theme->pami) (1.4.1)\n",
            "Requirement already satisfied: requests>=2.5.0 in /usr/local/lib/python3.10/dist-packages (from sphinx<8,>=1.6->sphinx-rtd-theme->pami) (2.31.0)\n",
            "Requirement already satisfied: MarkupSafe>=2.0 in /usr/local/lib/python3.10/dist-packages (from Jinja2>=2.3->sphinx<8,>=1.6->sphinx-rtd-theme->pami) (2.1.3)\n",
            "Requirement already satisfied: charset-normalizer<4,>=2 in /usr/local/lib/python3.10/dist-packages (from requests>=2.5.0->sphinx<8,>=1.6->sphinx-rtd-theme->pami) (3.3.1)\n",
            "Requirement already satisfied: idna<4,>=2.5 in /usr/local/lib/python3.10/dist-packages (from requests>=2.5.0->sphinx<8,>=1.6->sphinx-rtd-theme->pami) (3.4)\n",
            "Requirement already satisfied: certifi>=2017.4.17 in /usr/local/lib/python3.10/dist-packages (from requests>=2.5.0->sphinx<8,>=1.6->sphinx-rtd-theme->pami) (2023.7.22)\n",
            "Requirement already satisfied: attrs>=22.2.0 in /usr/local/lib/python3.10/dist-packages (from jsonschema->JsonForm>=0.0.2->resource->pami) (23.1.0)\n",
            "Requirement already satisfied: jsonschema-specifications>=2023.03.6 in /usr/local/lib/python3.10/dist-packages (from jsonschema->JsonForm>=0.0.2->resource->pami) (2023.7.1)\n",
            "Requirement already satisfied: referencing>=0.28.4 in /usr/local/lib/python3.10/dist-packages (from jsonschema->JsonForm>=0.0.2->resource->pami) (0.30.2)\n",
            "Requirement already satisfied: rpds-py>=0.7.1 in /usr/local/lib/python3.10/dist-packages (from jsonschema->JsonForm>=0.0.2->resource->pami) (0.10.6)\n"
          ]
        }
      ],
      "source": [
        "!pip install -U pami #install the pami repository"
      ]
    },
    {
      "cell_type": "markdown",
      "metadata": {
        "id": "rYfvWHRN2oBs"
      },
      "source": [
        "2.   Downloading a sample dataset"
      ]
    },
    {
      "cell_type": "code",
      "execution_count": 9,
      "metadata": {
        "colab": {
          "base_uri": "https://localhost:8080/"
        },
        "id": "t1-ej6SX2x8q",
        "outputId": "f92784f0-54a6-4081-f449-578b6b073059"
      },
      "outputs": [
        {
          "output_type": "stream",
          "name": "stdout",
          "text": [
            "File ‘Fuzzy_T10I4D100K.csv’ already there; not retrieving.\n",
            "\n"
          ]
        }
      ],
      "source": [
        "!wget -nc https://u-aizu.ac.jp/~udayrage/datasets/fuzzyDatabases/Fuzzy_T10I4D100K.csv #download a sample fuzzy database"
      ]
    },
    {
      "cell_type": "markdown",
      "metadata": {
        "id": "USUJbpXu3Gkw"
      },
      "source": [
        "3.   Printing few lines of a dataset to know its format."
      ]
    },
    {
      "cell_type": "code",
      "execution_count": 10,
      "metadata": {
        "colab": {
          "base_uri": "https://localhost:8080/"
        },
        "id": "Qcwg4qNE3MQc",
        "outputId": "718817bb-7a27-422a-a4dc-7f722ea6c230"
      },
      "outputs": [
        {
          "output_type": "stream",
          "name": "stdout",
          "text": [
            "25.L\t25.M\t52.H\t164.H\t240.H\t274.H\t328.L\t368.H\t448.H\t538.H\t561.H\t630.H\t687.H\t730.H\t775.H\t825.H\t834.H:0.4\t0.6\t1\t1\t1\t1\t1\t1\t1\t1\t1\t1\t1\t1\t1\t1\t1\t \n",
            "39.H\t120.H\t124.H\t205.H\t401.H\t581.H\t704.H\t814.H\t825.H\t834.H:1\t1\t1\t1\t1\t1\t1\t1\t1\t1\t \n"
          ]
        }
      ],
      "source": [
        "!head -2 Fuzzy_T10I4D100K.csv"
      ]
    },
    {
      "cell_type": "markdown",
      "metadata": {
        "id": "oQQdz3qn3Qwz"
      },
      "source": [
        "format: every row contains items seperated by a seperator.\n",
        "\n",
        "Example:\n",
        "\n",
        "item1 item2 item3 item4\n",
        "\n",
        "item1 item4 item6\n",
        "***"
      ]
    },
    {
      "cell_type": "markdown",
      "metadata": {
        "id": "62Vkqg-C3WVZ"
      },
      "source": [
        "## Part 1: Finding Frequent patterns using FFIMiner"
      ]
    },
    {
      "cell_type": "markdown",
      "source": [
        "### Step 1: Import the FFIMiner algorithm"
      ],
      "metadata": {
        "id": "WehRZ3FChOIM"
      }
    },
    {
      "cell_type": "code",
      "source": [
        "from PAMI.fuzzyFrequentPattern.basic import FFIMiner  as alg #import the algorithm"
      ],
      "metadata": {
        "id": "d7Z6DSw6hIR7"
      },
      "execution_count": 14,
      "outputs": []
    },
    {
      "cell_type": "markdown",
      "metadata": {
        "id": "gaxxPgXv3ecW"
      },
      "source": [
        "### Step 2: Specify the input parameters"
      ]
    },
    {
      "cell_type": "code",
      "execution_count": 17,
      "metadata": {
        "id": "RP9ynbti4L48"
      },
      "outputs": [],
      "source": [
        "inputFile = 'Fuzzy_T10I4D100K.csv'\n",
        "minimumSupportCount = 1000  #minSup is specified in count. However, the users can also specify minSup between 0 and 1."
      ]
    },
    {
      "cell_type": "markdown",
      "metadata": {
        "id": "-Yr0r7zw4Q85"
      },
      "source": [
        "### Step 3: Execute the FFIMiner algorithm"
      ]
    },
    {
      "cell_type": "code",
      "execution_count": 18,
      "metadata": {
        "id": "BZzrC2Pl4XGJ"
      },
      "outputs": [],
      "source": [
        "obj = alg.FFIMiner(iFile=inputFile, minSup=minimumSupportCount, sep='\\t') #initialize\n",
        "obj.mine()            #start the mining process"
      ]
    },
    {
      "cell_type": "markdown",
      "source": [
        "### Step 4: Storing the generated patterns"
      ],
      "metadata": {
        "id": "5yFrAuu3ho0D"
      }
    },
    {
      "cell_type": "markdown",
      "source": [
        "#### Step 4.1: Storing the generated patterns in a file"
      ],
      "metadata": {
        "id": "i3tmVo62htM2"
      }
    },
    {
      "cell_type": "code",
      "source": [
        "obj.save('frequentPatternsAtMinSupCount1000.txt')"
      ],
      "metadata": {
        "id": "L7ffdNsAiKmT"
      },
      "execution_count": 19,
      "outputs": []
    },
    {
      "cell_type": "markdown",
      "source": [
        "#### Step 4.2. Storing the generated patterns in a data frame"
      ],
      "metadata": {
        "id": "dzRJUk9lhyxh"
      }
    },
    {
      "cell_type": "code",
      "source": [
        "frequentPatternsDF= obj.getPatternsAsDataFrame()"
      ],
      "metadata": {
        "id": "e3WHdlZxiP8d"
      },
      "execution_count": 20,
      "outputs": []
    },
    {
      "cell_type": "markdown",
      "source": [
        "### Step 5: Getting the statistics"
      ],
      "metadata": {
        "id": "WaUkNwxLh4j5"
      }
    },
    {
      "cell_type": "markdown",
      "source": [
        "#### Step 5.1: Total number of discovered patterns"
      ],
      "metadata": {
        "id": "_yO79CPnh8v2"
      }
    },
    {
      "cell_type": "code",
      "source": [
        "print('Total No of patterns: ' + str(len(frequentPatternsDF)))"
      ],
      "metadata": {
        "id": "zoe1x_g3iUMp",
        "outputId": "8a49859b-4565-4f7a-b987-e4fea7a17afa",
        "colab": {
          "base_uri": "https://localhost:8080/"
        }
      },
      "execution_count": 21,
      "outputs": [
        {
          "output_type": "stream",
          "name": "stdout",
          "text": [
            "Total No of patterns: 359\n"
          ]
        }
      ]
    },
    {
      "cell_type": "markdown",
      "source": [
        "#### Step 5.2: Runtime consumed by the mining algorithm"
      ],
      "metadata": {
        "id": "GyzW4OGfiBnS"
      }
    },
    {
      "cell_type": "code",
      "source": [
        "print('Runtime: ' + str(obj.getRuntime()))"
      ],
      "metadata": {
        "id": "bFuU3KNMiXtZ",
        "outputId": "cb85db7e-e5a4-4850-a209-5ddfdb191aed",
        "colab": {
          "base_uri": "https://localhost:8080/"
        }
      },
      "execution_count": 22,
      "outputs": [
        {
          "output_type": "stream",
          "name": "stdout",
          "text": [
            "Runtime: 284.6766936779022\n"
          ]
        }
      ]
    },
    {
      "cell_type": "markdown",
      "source": [
        "#### Step 5.3: Total Memory consumed by the mining algorithm"
      ],
      "metadata": {
        "id": "qPJpOvkNiFgp"
      }
    },
    {
      "cell_type": "code",
      "source": [
        "print('Memory (RSS): ' + str(obj.getMemoryRSS()))\n",
        "print('Memory (USS): ' + str(obj.getMemoryUSS()))"
      ],
      "metadata": {
        "id": "FQ8Wup4Nia3x",
        "outputId": "5d9678c3-f26f-4563-c85d-41c170bc7215",
        "colab": {
          "base_uri": "https://localhost:8080/"
        }
      },
      "execution_count": 23,
      "outputs": [
        {
          "output_type": "stream",
          "name": "stdout",
          "text": [
            "Memory (RSS): 443850752\n",
            "Memory (USS): 397139968\n"
          ]
        }
      ]
    },
    {
      "cell_type": "markdown",
      "metadata": {
        "id": "kC71sBV74qY0"
      },
      "source": [
        "## Part 2: Evaluating the FFIMiner algorithm on a dataset at different minSup values"
      ]
    },
    {
      "cell_type": "markdown",
      "metadata": {
        "id": "EobpZCdu6G0Z"
      },
      "source": [
        "### Step 1: Import the libraries and specify the input parameters"
      ]
    },
    {
      "cell_type": "code",
      "execution_count": 24,
      "metadata": {
        "id": "W96B78JT6KT2"
      },
      "outputs": [],
      "source": [
        "#Import the libraries\n",
        "from PAMI.fuzzyFrequentPattern.basic import FFIMiner  as alg #import the algorithm\n",
        "import pandas as pd\n",
        "\n",
        "#Specify the input parameters\n",
        "inputFile = 'Fuzzy_T10I4D100K.csv'\n",
        "seperator='\\t'\n",
        "minimumSupportCountList = [1000, 1500, 2000, 2500, 3000]\n",
        "#minimumSupport can also specified between 0 to 1. E.g., minSupList = [0.005, 0.006, 0.007, 0.008, 0.009]"
      ]
    },
    {
      "cell_type": "markdown",
      "metadata": {
        "id": "gS09HRlY6PPR"
      },
      "source": [
        "### Step 2: Create a data frame to store the results of FFIMiner"
      ]
    },
    {
      "cell_type": "code",
      "execution_count": 25,
      "metadata": {
        "id": "0tbQu3re6VGI"
      },
      "outputs": [],
      "source": [
        "result = pd.DataFrame(columns=['algorithm', 'minSup', 'patterns', 'runtime', 'memory'])\n",
        "#initialize a data frame to store the results of FFIMiner algorithm"
      ]
    },
    {
      "cell_type": "markdown",
      "metadata": {
        "id": "kn2TtrbW6awD"
      },
      "source": [
        "### Step 3: Execute the algorithm at different minSup values"
      ]
    },
    {
      "cell_type": "code",
      "execution_count": 26,
      "metadata": {
        "id": "cZNXmKqp6ea1"
      },
      "outputs": [],
      "source": [
        "for minSupCount in minimumSupportCountList:\n",
        "    obj = alg.FFIMiner(inputFile, minSup=minSupCount, sep=seperator)\n",
        "    obj.mine()\n",
        "    #store the results in the data frame\n",
        "    result.loc[result.shape[0]] = ['FFIMiner', minSupCount, len(obj.getPatterns()), obj.getRuntime(), obj.getMemoryRSS()]"
      ]
    },
    {
      "cell_type": "markdown",
      "metadata": {
        "id": "NCQLc9pn7BYG"
      },
      "source": [
        "### Step 4: Print the Result"
      ]
    },
    {
      "cell_type": "code",
      "execution_count": 27,
      "metadata": {
        "colab": {
          "base_uri": "https://localhost:8080/"
        },
        "id": "kpkdWbyQ6j6M",
        "outputId": "e5b86f0b-2b27-40d0-8cca-1588e8a0bbe2"
      },
      "outputs": [
        {
          "output_type": "stream",
          "name": "stdout",
          "text": [
            "  algorithm  minSup  patterns     runtime     memory\n",
            "0  FFIMiner    1000       359  283.778925  446255104\n",
            "1  FFIMiner    1500       208  126.854201  407474176\n",
            "2  FFIMiner    2000       130   61.927413  380592128\n",
            "3  FFIMiner    2500        86   31.117553  360353792\n",
            "4  FFIMiner    3000        46   11.347489  338923520\n"
          ]
        }
      ],
      "source": [
        "print(result)"
      ]
    },
    {
      "cell_type": "markdown",
      "metadata": {
        "id": "S-prY3W27U4Z"
      },
      "source": [
        "### Step 5: Visualizing the results"
      ]
    },
    {
      "cell_type": "code",
      "execution_count": 28,
      "metadata": {
        "colab": {
          "base_uri": "https://localhost:8080/",
          "height": 1000
        },
        "id": "zVEtHn5j7aYE",
        "outputId": "ec2f5216-608a-4af7-ed91-194db54bf9a0"
      },
      "outputs": [
        {
          "output_type": "execute_result",
          "data": {
            "text/plain": [
              "<Axes: xlabel='minSup'>"
            ]
          },
          "metadata": {},
          "execution_count": 28
        },
        {
          "output_type": "display_data",
          "data": {
            "text/plain": [
              "<Figure size 640x480 with 1 Axes>"
            ],
            "image/png": "[encoded data removed]"
          },
          "metadata": {}
        },
        {
          "output_type": "display_data",
          "data": {
            "text/plain": [
              "<Figure size 640x480 with 1 Axes>"
            ],
            "image/png": "[encoded data removed]"
          },
          "metadata": {}
        },
        {
          "output_type": "display_data",
          "data": {
            "text/plain": [
              "<Figure size 640x480 with 1 Axes>"
            ],
            "image/png": "[encoded data removed]"
          },
          "metadata": {}
        }
      ],
      "source": [
        "result.plot(x='minSup', y='patterns', kind='line')\n",
        "result.plot(x='minSup', y='runtime', kind='line')\n",
        "result.plot(x='minSup', y='memory', kind='line')\n",
        "\n",
        "#Graphs can be improved further by using additional packages, such as plotly and matplotlib"
      ]
    }
  ],
  "metadata": {
    "colab": {
      "provenance": [],
      "include_colab_link": true
    },
    "kernelspec": {
      "display_name": "Python 3",
      "name": "python3"
    },
    "language_info": {
      "name": "python"
    }
  },
  "nbformat": 4,
  "nbformat_minor": 0
}