{
 "cells": [
  {
   "cell_type": "markdown",
   "id": "e960ba75-7c84-45aa-bbca-f6eca0f8731b",
   "metadata": {
    "tags": []
   },
   "source": [
    "# Discovering Fuzzy Periodic Frequent Pattern in Big Data Using FPFPMiner Algorithm"
   ]
  },
  {
   "cell_type": "markdown",
   "id": "d71c53a8-9c59-4220-ad59-92ec26b39c42",
   "metadata": {},
   "source": [
    "In this tutorial, we will discuss the first approach to find Fuzzy Periodic Frequent Pattern in big data using FPFPMiner algorithm.\n",
    "\n",
    "[__Basic approach:__](#basicApproach) Here, we present the steps to discover Fuzzy Periodic Frequent Pattern using a single minimum support value\n"
   ]
  },
  {
   "cell_type": "markdown",
   "id": "f7fb1145-420c-4ce0-905e-383d013cb11f",
   "metadata": {},
   "source": [
    "***"
   ]
  },
  {
   "cell_type": "markdown",
   "id": "1f5910aa-1ab5-4a86-bf02-69d3541dc453",
   "metadata": {},
   "source": [
    "## <a id='basicApproach'>Basic approach: Executing FPFPMiner on a single dataset at a particular minimum support value</a>"
   ]
  },
  {
   "cell_type": "markdown",
   "id": "de947b74-a287-4166-aeeb-050b9b9714f9",
   "metadata": {},
   "source": [
    "#### Step 1: Import the FPFPMiner algorithm"
   ]
  },
  {
   "cell_type": "code",
   "execution_count": 1,
   "id": "042a4670-502c-417c-afa5-ce8f4620b8c6",
   "metadata": {},
   "outputs": [],
   "source": [
    "from PAMI.fuzzyPeriodicFrequentPattern.basic import FPFPMiner  as alg"
   ]
  },
  {
   "cell_type": "markdown",
   "id": "052b485e-ae76-477c-b423-7a9a8c49d153",
   "metadata": {},
   "source": [
    "#### Step 2: Specify the following input parameters"
   ]
  },
  {
   "cell_type": "code",
   "execution_count": 2,
   "id": "9d781abf-2a4b-499e-8725-454d99f4eb31",
   "metadata": {},
   "outputs": [],
   "source": [
    "inputFile = 'Fuzzy_T10I4D100K.csv'\n",
    "periodCount=1000\n",
    "minimumSupportCount=1000  #Users can also specify this constraint between 0 to 1.\n",
    "\n",
    "seperator='\\t'"
   ]
  },
  {
   "cell_type": "markdown",
   "id": "92fbc06c-8e5b-4396-82e9-0b337ba54865",
   "metadata": {},
   "source": [
    "#### Step 3: Execute the FPFPMiner algorithm"
   ]
  },
  {
   "cell_type": "code",
   "execution_count": 3,
   "id": "38ee53a6-d1fd-4266-8c8c-06662540657d",
   "metadata": {},
   "outputs": [
    {
     "ename": "ValueError",
     "evalue": "invalid literal for int() with base 10: '25.L'",
     "output_type": "error",
     "traceback": [
      "\u001b[0;31m---------------------------------------------------------------------------\u001b[0m",
      "\u001b[0;31mValueError\u001b[0m                                Traceback (most recent call last)",
      "Input \u001b[0;32mIn [3]\u001b[0m, in \u001b[0;36m<cell line: 2>\u001b[0;34m()\u001b[0m\n\u001b[1;32m      1\u001b[0m obj \u001b[38;5;241m=\u001b[39m alg\u001b[38;5;241m.\u001b[39mFPFPMiner(iFile\u001b[38;5;241m=\u001b[39minputFile, minSup\u001b[38;5;241m=\u001b[39mminimumSupportCount,period\u001b[38;5;241m=\u001b[39mperiodCount, sep\u001b[38;5;241m=\u001b[39mseperator)    \u001b[38;5;66;03m#initialize\u001b[39;00m\n\u001b[0;32m----> 2\u001b[0m \u001b[43mobj\u001b[49m\u001b[38;5;241;43m.\u001b[39;49m\u001b[43mstartMine\u001b[49m\u001b[43m(\u001b[49m\u001b[43m)\u001b[49m\n",
      "File \u001b[0;32m~/.local/lib/python3.10/site-packages/PAMI/fuzzyPeriodicFrequentPattern/basic/FPFPMiner.py:352\u001b[0m, in \u001b[0;36mFPFPMiner.startMine\u001b[0;34m(self)\u001b[0m\n\u001b[1;32m    350\u001b[0m lastTIDs \u001b[38;5;241m=\u001b[39m {}\n\u001b[1;32m    351\u001b[0m \u001b[38;5;28mself\u001b[39m\u001b[38;5;241m.\u001b[39m_startTime \u001b[38;5;241m=\u001b[39m _ab\u001b[38;5;241m.\u001b[39m_time\u001b[38;5;241m.\u001b[39mtime()\n\u001b[0;32m--> 352\u001b[0m \u001b[38;5;28;43mself\u001b[39;49m\u001b[38;5;241;43m.\u001b[39;49m\u001b[43m_creatingItemSets\u001b[49m\u001b[43m(\u001b[49m\u001b[43m)\u001b[49m\n\u001b[1;32m    353\u001b[0m \u001b[38;5;28mself\u001b[39m\u001b[38;5;241m.\u001b[39m_finalPatterns \u001b[38;5;241m=\u001b[39m {}\n\u001b[1;32m    354\u001b[0m tid \u001b[38;5;241m=\u001b[39m \u001b[38;5;28mint\u001b[39m()\n",
      "File \u001b[0;32m~/.local/lib/python3.10/site-packages/PAMI/fuzzyPeriodicFrequentPattern/basic/FPFPMiner.py:337\u001b[0m, in \u001b[0;36mFPFPMiner._creatingItemSets\u001b[0;34m(self)\u001b[0m\n\u001b[1;32m    335\u001b[0m items \u001b[38;5;241m=\u001b[39m parts[\u001b[38;5;241m0\u001b[39m]\u001b[38;5;241m.\u001b[39msplit(\u001b[38;5;28mself\u001b[39m\u001b[38;5;241m.\u001b[39m_sep)\n\u001b[1;32m    336\u001b[0m quantities \u001b[38;5;241m=\u001b[39m parts[\u001b[38;5;241m1\u001b[39m]\u001b[38;5;241m.\u001b[39msplit(\u001b[38;5;28mself\u001b[39m\u001b[38;5;241m.\u001b[39m_sep)\n\u001b[0;32m--> 337\u001b[0m \u001b[38;5;28mself\u001b[39m\u001b[38;5;241m.\u001b[39m_ts\u001b[38;5;241m.\u001b[39mappend(\u001b[38;5;28;43mint\u001b[39;49m\u001b[43m(\u001b[49m\u001b[43mitems\u001b[49m\u001b[43m[\u001b[49m\u001b[38;5;241;43m0\u001b[39;49m\u001b[43m]\u001b[49m\u001b[43m)\u001b[49m)\n\u001b[1;32m    338\u001b[0m \u001b[38;5;28mself\u001b[39m\u001b[38;5;241m.\u001b[39m_transactions\u001b[38;5;241m.\u001b[39mappend([x \u001b[38;5;28;01mfor\u001b[39;00m x \u001b[38;5;129;01min\u001b[39;00m items[\u001b[38;5;241m1\u001b[39m:]])\n\u001b[1;32m    339\u001b[0m \u001b[38;5;28mself\u001b[39m\u001b[38;5;241m.\u001b[39m_fuzzyValues\u001b[38;5;241m.\u001b[39mappend([\u001b[38;5;28mfloat\u001b[39m(x) \u001b[38;5;28;01mfor\u001b[39;00m x \u001b[38;5;129;01min\u001b[39;00m quantities])\n",
      "\u001b[0;31mValueError\u001b[0m: invalid literal for int() with base 10: '25.L'"
     ]
    }
   ],
   "source": [
    "obj = alg.FPFPMiner(iFile=inputFile, minSup=minimumSupportCount,period=periodCount, sep=seperator)    #initialize\n",
    "obj.startMine()            #Start the mining process"
   ]
  },
  {
   "cell_type": "markdown",
   "id": "3ee3603a-89da-44bb-bcd3-79cfa8db586a",
   "metadata": {},
   "source": [
    "#### Step 4: Storing the generated patterns"
   ]
  },
  {
   "cell_type": "markdown",
   "id": "8bee4a62-9478-46a3-a3a0-42bc4e2f1642",
   "metadata": {},
   "source": [
    "##### Step 4.1: Storing the generated patterns in a file"
   ]
  },
  {
   "cell_type": "code",
   "execution_count": null,
   "id": "c18de728-5cb4-446b-adae-872846e30b74",
   "metadata": {},
   "outputs": [],
   "source": [
    "obj.save(outFile='frequentPatternsMinSupCount1000.txt')"
   ]
  },
  {
   "cell_type": "markdown",
   "id": "62677159-e863-4233-858b-6b5359810c83",
   "metadata": {},
   "source": [
    "##### Step 4.2. Storing the generated patterns in a data frame"
   ]
  },
  {
   "cell_type": "code",
   "execution_count": null,
   "id": "64bdeb08-e80c-4bdf-bb35-d7c67b30f21a",
   "metadata": {},
   "outputs": [],
   "source": [
    "frequentPatternsDF= obj.getPatternsAsDataFrame()"
   ]
  },
  {
   "cell_type": "markdown",
   "id": "afc25934-1fa4-42b9-a0b0-1977a4dbd95f",
   "metadata": {},
   "source": [
    "#### Step 5: Getting the statistics"
   ]
  },
  {
   "cell_type": "markdown",
   "id": "b6136a85-7820-4db8-8fbc-0395ab953aa3",
   "metadata": {},
   "source": [
    "##### Step 5.1: Total number of discovered patterns "
   ]
  },
  {
   "cell_type": "code",
   "execution_count": null,
   "id": "6b5bc0d1-4241-4971-bb23-8ab13ccabdad",
   "metadata": {},
   "outputs": [],
   "source": [
    "print('Total No of patterns: ' + str(len(frequentPatternsDF)))"
   ]
  },
  {
   "cell_type": "markdown",
   "id": "d0506690-7e8a-48a3-a012-33cfb7fb6351",
   "metadata": {},
   "source": [
    "##### Step 5.2: Runtime consumed by the mining algorithm"
   ]
  },
  {
   "cell_type": "code",
   "execution_count": null,
   "id": "55912f44-d238-41f0-9fab-9ad60f08ab21",
   "metadata": {},
   "outputs": [],
   "source": [
    "print('Runtime: ' + str(obj.getRuntime()))"
   ]
  },
  {
   "cell_type": "markdown",
   "id": "8b623c7e-0d93-422e-9f76-67f87cac83cf",
   "metadata": {},
   "source": [
    "##### Step 5.3: Total Memory consumed by the mining algorithm"
   ]
  },
  {
   "cell_type": "code",
   "execution_count": null,
   "id": "880ccc22-2606-4e55-a4ef-2a8deac28efc",
   "metadata": {},
   "outputs": [],
   "source": [
    "print('Memory (RSS): ' + str(obj.getMemoryRSS()))\n",
    "print('Memory (USS): ' + str(obj.getMemoryUSS()))"
   ]
  }
 ],
 "metadata": {
  "kernelspec": {
   "display_name": "Python 3 (ipykernel)",
   "language": "python",
   "name": "python3"
  },
  "language_info": {
   "codemirror_mode": {
    "name": "ipython",
    "version": 3
   },
   "file_extension": ".py",
   "mimetype": "text/x-python",
   "name": "python",
   "nbconvert_exporter": "python",
   "pygments_lexer": "ipython3",
   "version": "3.10.4"
  }
 },
 "nbformat": 4,
 "nbformat_minor": 5
}
