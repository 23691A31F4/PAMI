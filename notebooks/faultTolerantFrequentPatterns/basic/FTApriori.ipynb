{
  "cells": [
    {
      "cell_type": "markdown",
      "metadata": {
        "id": "view-in-github",
        "colab_type": "text"
      },
      "source": [
        "<a href=\"https://colab.research.google.com/github/UdayLab/PAMI/blob/main/notebooks/faultTolerantFrequentPatterns/basic/FTApriori.ipynb\" target=\"_parent\"><img src=\"https://colab.research.google.com/assets/colab-badge.svg\" alt=\"Open In Colab\"/></a>"
      ]
    },
    {
      "cell_type": "markdown",
      "id": "e960ba75-7c84-45aa-bbca-f6eca0f8731b",
      "metadata": {
        "tags": [],
        "id": "e960ba75-7c84-45aa-bbca-f6eca0f8731b"
      },
      "source": [
        "# Discovering Fault Tolerant Frequent Patterns in Big Data Using FTApriori Algorithm"
      ]
    },
    {
      "cell_type": "markdown",
      "id": "d71c53a8-9c59-4220-ad59-92ec26b39c42",
      "metadata": {
        "id": "d71c53a8-9c59-4220-ad59-92ec26b39c42"
      },
      "source": [
        "In this tutorial, we will discuss the first approaches to find fault tolerant frequent patterns in big data using FTApriori algorithm."
      ]
    },
    {
      "cell_type": "markdown",
      "id": "f7fb1145-420c-4ce0-905e-383d013cb11f",
      "metadata": {
        "id": "f7fb1145-420c-4ce0-905e-383d013cb11f"
      },
      "source": [
        "***"
      ]
    },
    {
      "cell_type": "markdown",
      "id": "1f5910aa-1ab5-4a86-bf02-69d3541dc453",
      "metadata": {
        "id": "1f5910aa-1ab5-4a86-bf02-69d3541dc453"
      },
      "source": [
        "## <a id='basicApproach'>Basic approach: Executing FTApriori on a single dataset at a particular minimum support value</a>"
      ]
    },
    {
      "cell_type": "markdown",
      "source": [
        "#### Step 0 : Install latest version of PAMI library"
      ],
      "metadata": {
        "collapsed": false,
        "id": "_x95CAzitmq3"
      },
      "id": "_x95CAzitmq3"
    },
    {
      "cell_type": "code",
      "execution_count": null,
      "outputs": [
        {
          "name": "stdout",
          "output_type": "stream",
          "text": [
            "Requirement already satisfied: PAMI in /Users/udaykiranrage/Library/CloudStorage/Dropbox/Github/PAMI_new/venv/lib/python3.9/site-packages (2023.7.28.5)\r\n",
            "Requirement already satisfied: psutil in /Library/Python/3.9/site-packages (from PAMI) (5.9.5)\r\n",
            "Requirement already satisfied: pandas in /Library/Python/3.9/site-packages (from PAMI) (2.0.3)\r\n",
            "Requirement already satisfied: plotly in /Users/udaykiranrage/Library/Python/3.9/lib/python/site-packages (from PAMI) (5.15.0)\r\n",
            "Requirement already satisfied: matplotlib in /Library/Python/3.9/site-packages (from PAMI) (3.7.2)\r\n",
            "Requirement already satisfied: resource in /Users/udaykiranrage/Library/Python/3.9/lib/python/site-packages (from PAMI) (0.2.1)\r\n",
            "Requirement already satisfied: validators in /Users/udaykiranrage/Library/Python/3.9/lib/python/site-packages (from PAMI) (0.20.0)\r\n",
            "Requirement already satisfied: urllib3 in /Users/udaykiranrage/Library/Python/3.9/lib/python/site-packages (from PAMI) (2.0.3)\r\n",
            "Requirement already satisfied: Pillow in /Library/Python/3.9/site-packages (from PAMI) (10.0.0)\r\n",
            "Requirement already satisfied: numpy in /Library/Python/3.9/site-packages (from PAMI) (1.25.0)\r\n",
            "Requirement already satisfied: contourpy>=1.0.1 in /Library/Python/3.9/site-packages (from matplotlib->PAMI) (1.1.0)\r\n",
            "Requirement already satisfied: cycler>=0.10 in /Library/Python/3.9/site-packages (from matplotlib->PAMI) (0.11.0)\r\n",
            "Requirement already satisfied: fonttools>=4.22.0 in /Library/Python/3.9/site-packages (from matplotlib->PAMI) (4.40.0)\r\n",
            "Requirement already satisfied: kiwisolver>=1.0.1 in /Library/Python/3.9/site-packages (from matplotlib->PAMI) (1.4.4)\r\n",
            "Requirement already satisfied: packaging>=20.0 in /Library/Python/3.9/site-packages (from matplotlib->PAMI) (23.1)\r\n",
            "Requirement already satisfied: pyparsing<3.1,>=2.3.1 in /Library/Python/3.9/site-packages (from matplotlib->PAMI) (3.0.9)\r\n",
            "Requirement already satisfied: python-dateutil>=2.7 in /Library/Python/3.9/site-packages (from matplotlib->PAMI) (2.8.2)\r\n",
            "Requirement already satisfied: importlib-resources>=3.2.0 in /Library/Python/3.9/site-packages (from matplotlib->PAMI) (5.12.0)\r\n",
            "Requirement already satisfied: pytz>=2020.1 in /Library/Python/3.9/site-packages (from pandas->PAMI) (2023.3)\r\n",
            "Requirement already satisfied: tzdata>=2022.1 in /Library/Python/3.9/site-packages (from pandas->PAMI) (2023.3)\r\n",
            "Requirement already satisfied: tenacity>=6.2.0 in /Users/udaykiranrage/Library/Python/3.9/lib/python/site-packages (from plotly->PAMI) (8.2.2)\r\n",
            "Requirement already satisfied: JsonForm>=0.0.2 in /Users/udaykiranrage/Library/Python/3.9/lib/python/site-packages (from resource->PAMI) (0.0.2)\r\n",
            "Requirement already satisfied: JsonSir>=0.0.2 in /Users/udaykiranrage/Library/Python/3.9/lib/python/site-packages (from resource->PAMI) (0.0.2)\r\n",
            "Requirement already satisfied: python-easyconfig>=0.1.0 in /Users/udaykiranrage/Library/Python/3.9/lib/python/site-packages (from resource->PAMI) (0.1.7)\r\n",
            "Requirement already satisfied: decorator>=3.4.0 in /Library/Python/3.9/site-packages (from validators->PAMI) (5.1.1)\r\n",
            "Requirement already satisfied: zipp>=3.1.0 in /Users/udaykiranrage/Library/Python/3.9/lib/python/site-packages (from importlib-resources>=3.2.0->matplotlib->PAMI) (3.15.0)\r\n",
            "Requirement already satisfied: jsonschema in /Library/Python/3.9/site-packages (from JsonForm>=0.0.2->resource->PAMI) (4.18.4)\r\n",
            "Requirement already satisfied: six>=1.5 in /Library/Developer/CommandLineTools/Library/Frameworks/Python3.framework/Versions/3.9/lib/python3.9/site-packages (from python-dateutil>=2.7->matplotlib->PAMI) (1.15.0)\r\n",
            "Requirement already satisfied: PyYAML in /Library/Python/3.9/site-packages (from python-easyconfig>=0.1.0->resource->PAMI) (6.0.1)\r\n",
            "Requirement already satisfied: attrs>=22.2.0 in /Library/Python/3.9/site-packages (from jsonschema->JsonForm>=0.0.2->resource->PAMI) (23.1.0)\r\n",
            "Requirement already satisfied: jsonschema-specifications>=2023.03.6 in /Library/Python/3.9/site-packages (from jsonschema->JsonForm>=0.0.2->resource->PAMI) (2023.6.1)\r\n",
            "Requirement already satisfied: referencing>=0.28.4 in /Library/Python/3.9/site-packages (from jsonschema->JsonForm>=0.0.2->resource->PAMI) (0.29.3)\r\n",
            "Requirement already satisfied: rpds-py>=0.7.1 in /Library/Python/3.9/site-packages (from jsonschema->JsonForm>=0.0.2->resource->PAMI) (0.8.11)\r\n"
          ]
        }
      ],
      "source": [
        "!pip install -U PAMI"
      ],
      "metadata": {
        "id": "Gn14LHPrtmq3",
        "outputId": "b7736886-f91a-4e62-976b-fedef8061725"
      },
      "id": "Gn14LHPrtmq3"
    },
    {
      "cell_type": "markdown",
      "id": "de947b74-a287-4166-aeeb-050b9b9714f9",
      "metadata": {
        "id": "de947b74-a287-4166-aeeb-050b9b9714f9"
      },
      "source": [
        "#### Step 1: Import the FTApriori algorithm"
      ]
    },
    {
      "cell_type": "code",
      "execution_count": null,
      "id": "042a4670-502c-417c-afa5-ce8f4620b8c6",
      "metadata": {
        "id": "042a4670-502c-417c-afa5-ce8f4620b8c6"
      },
      "outputs": [],
      "source": [
        "from PAMI.faultTolerantFrequentPattern.basic import FTApriori as alg"
      ]
    },
    {
      "cell_type": "markdown",
      "id": "052b485e-ae76-477c-b423-7a9a8c49d153",
      "metadata": {
        "id": "052b485e-ae76-477c-b423-7a9a8c49d153"
      },
      "source": [
        "#### Step 2: Specify the following input parameters"
      ]
    },
    {
      "cell_type": "code",
      "execution_count": null,
      "id": "9d781abf-2a4b-499e-8725-454d99f4eb31",
      "metadata": {
        "id": "9d781abf-2a4b-499e-8725-454d99f4eb31"
      },
      "outputs": [],
      "source": [
        "inputFile = 'https://u-aizu.ac.jp/~udayrage/datasets/transactionalDatabases/Transactional_T10I4D100K.csv'\n",
        "\n",
        "minimumSupportCount = 1000  #Users can also specify this constraint between 0 to 1.\n",
        "ItemSup = 1000\n",
        "minLength = 4\n",
        "faultTolerance = 2\n",
        "\n",
        "seperator='\\t'"
      ]
    },
    {
      "cell_type": "markdown",
      "id": "92fbc06c-8e5b-4396-82e9-0b337ba54865",
      "metadata": {
        "id": "92fbc06c-8e5b-4396-82e9-0b337ba54865"
      },
      "source": [
        "#### Step 3: Execute the FTApriori algorithm"
      ]
    },
    {
      "cell_type": "code",
      "execution_count": null,
      "id": "38ee53a6-d1fd-4266-8c8c-06662540657d",
      "metadata": {
        "id": "38ee53a6-d1fd-4266-8c8c-06662540657d",
        "outputId": "0863cda4-f8c2-4c26-e5bd-d8830a509494"
      },
      "outputs": [
        {
          "ename": "KeyboardInterrupt",
          "evalue": "",
          "output_type": "error",
          "traceback": [
            "\u001b[0;31m---------------------------------------------------------------------------\u001b[0m",
            "\u001b[0;31mKeyboardInterrupt\u001b[0m                         Traceback (most recent call last)",
            "Cell \u001b[0;32mIn[3], line 3\u001b[0m\n\u001b[1;32m      1\u001b[0m obj \u001b[38;5;241m=\u001b[39m alg\u001b[38;5;241m.\u001b[39mFTApriori(iFile\u001b[38;5;241m=\u001b[39minputFile, minSup\u001b[38;5;241m=\u001b[39mminimumSupportCount, itemSup\u001b[38;5;241m=\u001b[39mItemSup, \n\u001b[1;32m      2\u001b[0m                     minLength\u001b[38;5;241m=\u001b[39mminLength, faultTolerance\u001b[38;5;241m=\u001b[39mfaultTolerance, sep\u001b[38;5;241m=\u001b[39mseperator)    \u001b[38;5;66;03m#initialize\u001b[39;00m\n\u001b[0;32m----> 3\u001b[0m \u001b[43mobj\u001b[49m\u001b[38;5;241;43m.\u001b[39;49m\u001b[43mstartMine\u001b[49m\u001b[43m(\u001b[49m\u001b[43m)\u001b[49m            \u001b[38;5;66;03m#Start the mining process\u001b[39;00m\n",
            "File \u001b[0;32m~/Library/CloudStorage/Dropbox/Github/PAMI_new/PAMI/faultTolerantFrequentPattern/basic/FTApriori.py:281\u001b[0m, in \u001b[0;36mFTApriori.startMine\u001b[0;34m(self)\u001b[0m\n\u001b[1;32m    278\u001b[0m \u001b[38;5;28mself\u001b[39m\u001b[38;5;241m.\u001b[39m_faultTolerance \u001b[38;5;241m=\u001b[39m \u001b[38;5;28mint\u001b[39m(\u001b[38;5;28mself\u001b[39m\u001b[38;5;241m.\u001b[39m_faultTolerance)\n\u001b[1;32m    279\u001b[0m \u001b[38;5;28mself\u001b[39m\u001b[38;5;241m.\u001b[39m_oneLengthFrequentItems()\n\u001b[0;32m--> 281\u001b[0m \u001b[38;5;28;43mself\u001b[39;49m\u001b[38;5;241;43m.\u001b[39;49m\u001b[43m_getFaultPatterns\u001b[49m\u001b[43m(\u001b[49m\u001b[43m)\u001b[49m\n\u001b[1;32m    282\u001b[0m \u001b[38;5;28mself\u001b[39m\u001b[38;5;241m.\u001b[39m_endTime \u001b[38;5;241m=\u001b[39m _ab\u001b[38;5;241m.\u001b[39m_time\u001b[38;5;241m.\u001b[39mtime()\n\u001b[1;32m    283\u001b[0m process \u001b[38;5;241m=\u001b[39m _ab\u001b[38;5;241m.\u001b[39m_psutil\u001b[38;5;241m.\u001b[39mProcess(_ab\u001b[38;5;241m.\u001b[39m_os\u001b[38;5;241m.\u001b[39mgetpid())\n",
            "File \u001b[0;32m~/Library/CloudStorage/Dropbox/Github/PAMI_new/PAMI/faultTolerantFrequentPattern/basic/FTApriori.py:264\u001b[0m, in \u001b[0;36mFTApriori._getFaultPatterns\u001b[0;34m(self)\u001b[0m\n\u001b[1;32m    262\u001b[0m c \u001b[38;5;241m=\u001b[39m _ab\u001b[38;5;241m.\u001b[39m_itertools\u001b[38;5;241m.\u001b[39mcombinations(l, i)\n\u001b[1;32m    263\u001b[0m \u001b[38;5;28;01mfor\u001b[39;00m j \u001b[38;5;129;01min\u001b[39;00m c:\n\u001b[0;32m--> 264\u001b[0m     res \u001b[38;5;241m=\u001b[39m \u001b[38;5;28;43mself\u001b[39;49m\u001b[38;5;241;43m.\u001b[39;49m\u001b[43m_countItemSupport\u001b[49m\u001b[43m(\u001b[49m\u001b[43mj\u001b[49m\u001b[43m)\u001b[49m\n\u001b[1;32m    265\u001b[0m     \u001b[38;5;28;01mif\u001b[39;00m \u001b[38;5;28mlen\u001b[39m(j) \u001b[38;5;241m>\u001b[39m\u001b[38;5;241m=\u001b[39m \u001b[38;5;28mself\u001b[39m\u001b[38;5;241m.\u001b[39m_minLength \u001b[38;5;129;01mand\u001b[39;00m res \u001b[38;5;241m>\u001b[39m\u001b[38;5;241m=\u001b[39m \u001b[38;5;28mself\u001b[39m\u001b[38;5;241m.\u001b[39m_minSup:\n\u001b[1;32m    266\u001b[0m         \u001b[38;5;28mself\u001b[39m\u001b[38;5;241m.\u001b[39m_finalPatterns[\u001b[38;5;28mtuple\u001b[39m(j)] \u001b[38;5;241m=\u001b[39m res\n",
            "File \u001b[0;32m~/Library/CloudStorage/Dropbox/Github/PAMI_new/PAMI/faultTolerantFrequentPattern/basic/FTApriori.py:255\u001b[0m, in \u001b[0;36mFTApriori._countItemSupport\u001b[0;34m(self, itemset)\u001b[0m\n\u001b[1;32m    253\u001b[0m count \u001b[38;5;241m=\u001b[39m \u001b[38;5;241m0\u001b[39m\n\u001b[1;32m    254\u001b[0m \u001b[38;5;28;01mfor\u001b[39;00m x \u001b[38;5;129;01min\u001b[39;00m \u001b[38;5;28mself\u001b[39m\u001b[38;5;241m.\u001b[39m_Database:\n\u001b[0;32m--> 255\u001b[0m     \u001b[38;5;28;01mif\u001b[39;00m \u001b[38;5;28mabs\u001b[39m(\u001b[38;5;28mlen\u001b[39m(itemset) \u001b[38;5;241m-\u001b[39m \u001b[38;5;28;43mlen\u001b[39;49m\u001b[43m(\u001b[49m\u001b[38;5;28;43mset\u001b[39;49m\u001b[43m(\u001b[49m\u001b[43mx\u001b[49m\u001b[43m)\u001b[49m\u001b[43m \u001b[49m\u001b[38;5;241;43m&\u001b[39;49m\u001b[43m \u001b[49m\u001b[38;5;28;43mset\u001b[39;49m\u001b[43m(\u001b[49m\u001b[43mitemset\u001b[49m\u001b[43m)\u001b[49m\u001b[43m)\u001b[49m) \u001b[38;5;241m<\u001b[39m\u001b[38;5;241m=\u001b[39m \u001b[38;5;28mself\u001b[39m\u001b[38;5;241m.\u001b[39m_faultTolerance:\n\u001b[1;32m    256\u001b[0m         count \u001b[38;5;241m+\u001b[39m\u001b[38;5;241m=\u001b[39m \u001b[38;5;241m1\u001b[39m\n\u001b[1;32m    257\u001b[0m \u001b[38;5;28;01mreturn\u001b[39;00m count\n",
            "\u001b[0;31mKeyboardInterrupt\u001b[0m: "
          ]
        }
      ],
      "source": [
        "obj = alg.FTApriori(iFile=inputFile, minSup=minimumSupportCount, itemSup=ItemSup,\n",
        "                    minLength=minLength, faultTolerance=faultTolerance, sep=seperator)    #initialize\n",
        "obj.startMine()            #Start the mining process"
      ]
    },
    {
      "cell_type": "markdown",
      "id": "3ee3603a-89da-44bb-bcd3-79cfa8db586a",
      "metadata": {
        "id": "3ee3603a-89da-44bb-bcd3-79cfa8db586a"
      },
      "source": [
        "#### Step 4: Storing the generated patterns"
      ]
    },
    {
      "cell_type": "markdown",
      "id": "8bee4a62-9478-46a3-a3a0-42bc4e2f1642",
      "metadata": {
        "id": "8bee4a62-9478-46a3-a3a0-42bc4e2f1642"
      },
      "source": [
        "##### Step 4.1: Storing the generated patterns in a file"
      ]
    },
    {
      "cell_type": "code",
      "execution_count": null,
      "id": "c18de728-5cb4-446b-adae-872846e30b74",
      "metadata": {
        "id": "c18de728-5cb4-446b-adae-872846e30b74"
      },
      "outputs": [],
      "source": [
        "obj.save(outFile='faultTolerantFrequentPatterns100.txt')"
      ]
    },
    {
      "cell_type": "markdown",
      "id": "62677159-e863-4233-858b-6b5359810c83",
      "metadata": {
        "id": "62677159-e863-4233-858b-6b5359810c83"
      },
      "source": [
        "##### Step 4.2. Storing the generated patterns in a data frame"
      ]
    },
    {
      "cell_type": "code",
      "execution_count": null,
      "id": "64bdeb08-e80c-4bdf-bb35-d7c67b30f21a",
      "metadata": {
        "id": "64bdeb08-e80c-4bdf-bb35-d7c67b30f21a"
      },
      "outputs": [],
      "source": [
        "frequentPatternsDF= obj.getPatternsAsDataFrame()"
      ]
    },
    {
      "cell_type": "markdown",
      "id": "afc25934-1fa4-42b9-a0b0-1977a4dbd95f",
      "metadata": {
        "id": "afc25934-1fa4-42b9-a0b0-1977a4dbd95f"
      },
      "source": [
        "#### Step 5: Getting the statistics"
      ]
    },
    {
      "cell_type": "markdown",
      "id": "b6136a85-7820-4db8-8fbc-0395ab953aa3",
      "metadata": {
        "id": "b6136a85-7820-4db8-8fbc-0395ab953aa3"
      },
      "source": [
        "##### Step 5.1: Total number of discovered patterns"
      ]
    },
    {
      "cell_type": "code",
      "execution_count": null,
      "id": "6b5bc0d1-4241-4971-bb23-8ab13ccabdad",
      "metadata": {
        "id": "6b5bc0d1-4241-4971-bb23-8ab13ccabdad"
      },
      "outputs": [],
      "source": [
        "print('Total No of patterns: ' + str(len(frequentPatternsDF)))"
      ]
    },
    {
      "cell_type": "markdown",
      "id": "d0506690-7e8a-48a3-a012-33cfb7fb6351",
      "metadata": {
        "id": "d0506690-7e8a-48a3-a012-33cfb7fb6351"
      },
      "source": [
        "##### Step 5.2: Runtime consumed by the mining algorithm"
      ]
    },
    {
      "cell_type": "code",
      "execution_count": null,
      "id": "55912f44-d238-41f0-9fab-9ad60f08ab21",
      "metadata": {
        "id": "55912f44-d238-41f0-9fab-9ad60f08ab21"
      },
      "outputs": [],
      "source": [
        "print('Runtime: ' + str(obj.getRuntime()))"
      ]
    },
    {
      "cell_type": "markdown",
      "id": "d794fce7-aaad-45f5-a583-21c5939b1022",
      "metadata": {
        "id": "d794fce7-aaad-45f5-a583-21c5939b1022"
      },
      "source": [
        "##### Step 5.3: Total Memory consumed by the mining algorithm"
      ]
    },
    {
      "cell_type": "code",
      "execution_count": null,
      "id": "880ccc22-2606-4e55-a4ef-2a8deac28efc",
      "metadata": {
        "id": "880ccc22-2606-4e55-a4ef-2a8deac28efc"
      },
      "outputs": [],
      "source": [
        "print('Memory (RSS): ' + str(obj.getMemoryRSS()))\n",
        "print('Memory (USS): ' + str(obj.getMemoryUSS()))"
      ]
    },
    {
      "cell_type": "markdown",
      "source": [
        "***"
      ],
      "metadata": {
        "collapsed": false,
        "id": "pohsCIOktmq6"
      },
      "id": "pohsCIOktmq6"
    },
    {
      "cell_type": "markdown",
      "source": [
        "# Advanced Tutorial on Implementing ECLAT Algorithm"
      ],
      "metadata": {
        "collapsed": false,
        "id": "GvmL76vutmq6"
      },
      "id": "GvmL76vutmq6"
    },
    {
      "cell_type": "markdown",
      "source": [
        "In this tutorial, we will discuss the second approach to find frequent patterns in big data using ECLAT algorithm.\n",
        "\n",
        "[__Advanced approach:__](#advApproach) Here, we generalize the basic approach by presenting the steps to discover frequent patterns using multiple minimum support values."
      ],
      "metadata": {
        "collapsed": false,
        "id": "25ULH3T8tmq7"
      },
      "id": "25ULH3T8tmq7"
    },
    {
      "cell_type": "markdown",
      "source": [
        "***"
      ],
      "metadata": {
        "collapsed": false,
        "id": "f1DakJmltmq7"
      },
      "id": "f1DakJmltmq7"
    },
    {
      "cell_type": "markdown",
      "source": [
        "#### In this tutorial, we explain how the ECLAT algorithm  can be implemented by varying the minimum support values"
      ],
      "metadata": {
        "collapsed": false,
        "id": "zq9FKIU2tmq7"
      },
      "id": "zq9FKIU2tmq7"
    },
    {
      "cell_type": "markdown",
      "source": [
        "#### Step 1: Import the ECLAT algorithm and pandas data frame"
      ],
      "metadata": {
        "collapsed": false,
        "id": "8m5R7S03tmq7"
      },
      "id": "8m5R7S03tmq7"
    },
    {
      "cell_type": "code",
      "execution_count": null,
      "outputs": [],
      "source": [
        "from PAMI.frequentPattern.basic import ECLAT  as alg\n",
        "import pandas as pd"
      ],
      "metadata": {
        "id": "FSBeWsldtmq7"
      },
      "id": "FSBeWsldtmq7"
    },
    {
      "cell_type": "markdown",
      "source": [
        "#### Step 2: Specify the following input parameters"
      ],
      "metadata": {
        "collapsed": false,
        "id": "vvs9IpdCtmq7"
      },
      "id": "vvs9IpdCtmq7"
    },
    {
      "cell_type": "code",
      "execution_count": null,
      "outputs": [],
      "source": [
        "inputFile = 'https://u-aizu.ac.jp/~udayrage/datasets/transactionalDatabases/Transactional_T10I4D100K.csv'\n",
        "seperator='\\t'\n",
        "minimumSupportCountList = [100, 150, 200, 250, 300]\n",
        "#minimumSupport can also specified between 0 to 1. E.g., minSupList = [0.005, 0.006, 0.007, 0.008, 0.009]\n",
        "\n",
        "result = pd.DataFrame(columns=['algorithm', 'minSup', 'patterns', 'runtime', 'memory'])\n",
        "#initialize a data frame to store the results of ECLAT algorithm"
      ],
      "metadata": {
        "id": "QkiN0Cj3tmq7"
      },
      "id": "QkiN0Cj3tmq7"
    },
    {
      "cell_type": "markdown",
      "source": [
        "#### Step 3: Execute the ECLAT algorithm using a for loop"
      ],
      "metadata": {
        "collapsed": false,
        "id": "qusO5SIJtmq7"
      },
      "id": "qusO5SIJtmq7"
    },
    {
      "cell_type": "code",
      "execution_count": null,
      "outputs": [
        {
          "name": "stdout",
          "output_type": "stream",
          "text": [
            "Frequent patterns were generated successfully using ECLAT algorithm\n",
            "Frequent patterns were generated successfully using ECLAT algorithm\n",
            "Frequent patterns were generated successfully using ECLAT algorithm\n",
            "Frequent patterns were generated successfully using ECLAT algorithm\n",
            "Frequent patterns were generated successfully using ECLAT algorithm\n"
          ]
        }
      ],
      "source": [
        "algorithm = 'ECLAT'  #specify the algorithm name\n",
        "for minSupCount in minimumSupportCountList:\n",
        "    obj = alg.ECLAT(inputFile, minSup=minSupCount, sep=seperator)\n",
        "    obj.startMine()\n",
        "    #store the results in the data frame\n",
        "    result.loc[result.shape[0]] = [algorithm, minSupCount, len(obj.getPatterns()), obj.getRuntime(), obj.getMemoryRSS()]\n"
      ],
      "metadata": {
        "id": "kaehkgdMtmq7",
        "outputId": "f75a61ee-39dd-41e4-ebbe-2f6fafc32b29"
      },
      "id": "kaehkgdMtmq7"
    },
    {
      "cell_type": "code",
      "execution_count": null,
      "outputs": [],
      "source": [
        "print(result)"
      ],
      "metadata": {
        "id": "oeiaem2ntmq7"
      },
      "id": "oeiaem2ntmq7"
    },
    {
      "cell_type": "markdown",
      "source": [
        "#### Step 5: Visualizing the results"
      ],
      "metadata": {
        "collapsed": false,
        "id": "plG4By9rtmq7"
      },
      "id": "plG4By9rtmq7"
    },
    {
      "cell_type": "markdown",
      "source": [
        "##### Step 5.1 Importing the plot library"
      ],
      "metadata": {
        "collapsed": false,
        "id": "8_88dxI6tmq7"
      },
      "id": "8_88dxI6tmq7"
    },
    {
      "cell_type": "code",
      "execution_count": null,
      "outputs": [],
      "source": [
        "from PAMI.extras.graph import plotLineGraphsFromDataFrame as plt"
      ],
      "metadata": {
        "id": "DBNZC4mDtmq8"
      },
      "id": "DBNZC4mDtmq8"
    },
    {
      "cell_type": "markdown",
      "source": [
        "##### Step 5.2. Plotting the number of patterns"
      ],
      "metadata": {
        "collapsed": false,
        "id": "0WW8jjOytmq8"
      },
      "id": "0WW8jjOytmq8"
    },
    {
      "cell_type": "code",
      "execution_count": null,
      "outputs": [],
      "source": [
        "ab = plt.plotGraphsFromDataFrame(result)\n",
        "ab.plotGraphsFromDataFrame() #drawPlots()"
      ],
      "metadata": {
        "id": "swKFygHftmq8"
      },
      "id": "swKFygHftmq8"
    },
    {
      "cell_type": "markdown",
      "source": [
        "### Step 6: Saving the results as latex files"
      ],
      "metadata": {
        "collapsed": false,
        "id": "sbmwGePztmq8"
      },
      "id": "sbmwGePztmq8"
    },
    {
      "cell_type": "code",
      "execution_count": null,
      "outputs": [],
      "source": [
        "from PAMI.extras.graph import generateLatexFileFromDataFrame as gdf\n",
        "gdf.generateLatexCode(result)"
      ],
      "metadata": {
        "id": "2E8G3aZCtmq8"
      },
      "id": "2E8G3aZCtmq8"
    }
  ],
  "metadata": {
    "kernelspec": {
      "display_name": "Python 3 (ipykernel)",
      "language": "python",
      "name": "python3"
    },
    "language_info": {
      "codemirror_mode": {
        "name": "ipython",
        "version": 3
      },
      "file_extension": ".py",
      "mimetype": "text/x-python",
      "name": "python",
      "nbconvert_exporter": "python",
      "pygments_lexer": "ipython3",
      "version": "3.10.4"
    },
    "colab": {
      "provenance": [],
      "include_colab_link": true
    }
  },
  "nbformat": 4,
  "nbformat_minor": 5
}