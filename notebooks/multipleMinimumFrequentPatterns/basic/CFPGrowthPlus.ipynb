{
  "cells": [
    {
      "cell_type": "markdown",
      "metadata": {
        "colab_type": "text",
        "id": "view-in-github"
      },
      "source": [
        "<a href=\"https://colab.research.google.com/github/UdayLab/PAMI/blob/main/notebooks/multipleMinimumFrequentPatterns/basic/CFPGrowthPlus.ipynb\" target=\"_parent\"><img src=\"https://colab.research.google.com/assets/colab-badge.svg\" alt=\"Open In Colab\"/></a>"
      ]
    },
    {
      "cell_type": "markdown",
      "id": "e960ba75-7c84-45aa-bbca-f6eca0f8731b",
      "metadata": {
        "id": "e960ba75-7c84-45aa-bbca-f6eca0f8731b",
        "tags": []
      },
      "source": [
        "# Discovering Frequent Patterns based on multiple minimum supports in Big Data Using CFPGrowth++ Algorithm"
      ]
    },
    {
      "cell_type": "markdown",
      "id": "d71c53a8-9c59-4220-ad59-92ec26b39c42",
      "metadata": {
        "id": "d71c53a8-9c59-4220-ad59-92ec26b39c42"
      },
      "source": [
        "In this tutorial, we will discuss the first approaches to find frequent patterns in big data using CFPGrowth++ algorithm.\n",
        "\n",
        "[__Basic approach:__](#basicApproach) Here, we present the steps to discover frequent patterns using a multiple minimum support file"
      ]
    },
    {
      "cell_type": "markdown",
      "id": "f7fb1145-420c-4ce0-905e-383d013cb11f",
      "metadata": {
        "id": "f7fb1145-420c-4ce0-905e-383d013cb11f"
      },
      "source": [
        "***"
      ]
    },
    {
      "cell_type": "markdown",
      "id": "1f5910aa-1ab5-4a86-bf02-69d3541dc453",
      "metadata": {
        "id": "1f5910aa-1ab5-4a86-bf02-69d3541dc453"
      },
      "source": [
        "## <a id='basicApproach'>Basic approach: Executing CFPGrowth++ on a single dataset at a particular minimum support value</a>"
      ]
    },
    {
      "cell_type": "markdown",
      "id": "WGkSKCvrNNt9",
      "metadata": {
        "collapsed": false,
        "id": "WGkSKCvrNNt9"
      },
      "source": [
        "#### Step 0 : Install latest version of PAMI library"
      ]
    },
    {
      "cell_type": "code",
      "execution_count": 9,
      "id": "bUhZQeQHNNt9",
      "metadata": {
        "colab": {
          "base_uri": "https://localhost:8080/"
        },
        "id": "bUhZQeQHNNt9",
        "outputId": "f1f7ec8e-f656-46c6-b65d-62d3e92486b8"
      },
      "outputs": [
        {
          "name": "stdout",
          "output_type": "stream",
          "text": [
            "\u001b[33mWARNING: Ignoring invalid distribution ~etuptools (/home/jupyter/anaconda3/envs/jupyterHub/lib/python3.11/site-packages)\u001b[0m\u001b[33m\n",
            "\u001b[0m\u001b[33mWARNING: Ignoring invalid distribution ~etuptools (/home/jupyter/anaconda3/envs/jupyterHub/lib/python3.11/site-packages)\u001b[0m\u001b[33m\n",
            "\u001b[0mRequirement already satisfied: PAMI in /home/jupyter/anaconda3/envs/jupyterHub/lib/python3.11/site-packages (2023.10.31.1)\n",
            "Collecting PAMI\n",
            "  Obtaining dependency information for PAMI from https://files.pythonhosted.org/packages/e8/5f/124eaa2f95f1fa8bdb757a42cbb951aa89d892475db0c06a33e8ceec56a6/pami-2023.11.15.3-py3-none-any.whl.metadata\n",
            "  Downloading pami-2023.11.15.3-py3-none-any.whl.metadata (62 kB)\n",
            "\u001b[2K     \u001b[90m━━━━━━━━━━━━━━━━━━━━━━━━━━━━━━━━━━━━━━━━\u001b[0m \u001b[32m62.4/62.4 kB\u001b[0m \u001b[31m4.6 MB/s\u001b[0m eta \u001b[36m0:00:00\u001b[0m\n",
            "\u001b[?25hRequirement already satisfied: psutil in /home/jupyter/anaconda3/envs/jupyterHub/lib/python3.11/site-packages (from PAMI) (5.9.0)\n",
            "Requirement already satisfied: pandas in /home/jupyter/anaconda3/envs/jupyterHub/lib/python3.11/site-packages (from PAMI) (2.1.1)\n",
            "Requirement already satisfied: plotly in /home/jupyter/anaconda3/envs/jupyterHub/lib/python3.11/site-packages (from PAMI) (5.17.0)\n",
            "Requirement already satisfied: matplotlib in /home/jupyter/anaconda3/envs/jupyterHub/lib/python3.11/site-packages (from PAMI) (3.8.0)\n",
            "Requirement already satisfied: resource in /home/jupyter/anaconda3/envs/jupyterHub/lib/python3.11/site-packages (from PAMI) (0.2.1)\n",
            "Requirement already satisfied: validators in /home/jupyter/anaconda3/envs/jupyterHub/lib/python3.11/site-packages (from PAMI) (0.22.0)\n",
            "Requirement already satisfied: urllib3 in /home/jupyter/anaconda3/envs/jupyterHub/lib/python3.11/site-packages (from PAMI) (1.26.16)\n",
            "Requirement already satisfied: Pillow in /home/jupyter/anaconda3/envs/jupyterHub/lib/python3.11/site-packages (from PAMI) (9.3.0)\n",
            "Requirement already satisfied: numpy in /home/jupyter/anaconda3/envs/jupyterHub/lib/python3.11/site-packages (from PAMI) (1.26.0)\n",
            "Requirement already satisfied: sphinx-rtd-theme in /home/jupyter/anaconda3/envs/jupyterHub/lib/python3.11/site-packages (from PAMI) (1.3.0)\n",
            "Requirement already satisfied: contourpy>=1.0.1 in /home/jupyter/anaconda3/envs/jupyterHub/lib/python3.11/site-packages (from matplotlib->PAMI) (1.1.1)\n",
            "Requirement already satisfied: cycler>=0.10 in /home/jupyter/anaconda3/envs/jupyterHub/lib/python3.11/site-packages (from matplotlib->PAMI) (0.12.0)\n",
            "Requirement already satisfied: fonttools>=4.22.0 in /home/jupyter/anaconda3/envs/jupyterHub/lib/python3.11/site-packages (from matplotlib->PAMI) (4.43.0)\n",
            "Requirement already satisfied: kiwisolver>=1.0.1 in /home/jupyter/anaconda3/envs/jupyterHub/lib/python3.11/site-packages (from matplotlib->PAMI) (1.4.5)\n",
            "Requirement already satisfied: packaging>=20.0 in /home/jupyter/anaconda3/envs/jupyterHub/lib/python3.11/site-packages (from matplotlib->PAMI) (23.1)\n",
            "Requirement already satisfied: pyparsing>=2.3.1 in /home/jupyter/anaconda3/envs/jupyterHub/lib/python3.11/site-packages (from matplotlib->PAMI) (3.1.1)\n",
            "Requirement already satisfied: python-dateutil>=2.7 in /home/jupyter/anaconda3/envs/jupyterHub/lib/python3.11/site-packages (from matplotlib->PAMI) (2.8.2)\n",
            "Requirement already satisfied: pytz>=2020.1 in /home/jupyter/anaconda3/envs/jupyterHub/lib/python3.11/site-packages (from pandas->PAMI) (2023.3.post1)\n",
            "Requirement already satisfied: tzdata>=2022.1 in /home/jupyter/anaconda3/envs/jupyterHub/lib/python3.11/site-packages (from pandas->PAMI) (2023.3)\n",
            "Requirement already satisfied: tenacity>=6.2.0 in /home/jupyter/anaconda3/envs/jupyterHub/lib/python3.11/site-packages (from plotly->PAMI) (8.2.3)\n",
            "Requirement already satisfied: JsonForm>=0.0.2 in /home/jupyter/anaconda3/envs/jupyterHub/lib/python3.11/site-packages (from resource->PAMI) (0.0.2)\n",
            "Requirement already satisfied: JsonSir>=0.0.2 in /home/jupyter/anaconda3/envs/jupyterHub/lib/python3.11/site-packages (from resource->PAMI) (0.0.2)\n",
            "Requirement already satisfied: python-easyconfig>=0.1.0 in /home/jupyter/anaconda3/envs/jupyterHub/lib/python3.11/site-packages (from resource->PAMI) (0.1.7)\n",
            "Requirement already satisfied: sphinx<8,>=1.6 in /home/jupyter/anaconda3/envs/jupyterHub/lib/python3.11/site-packages (from sphinx-rtd-theme->PAMI) (7.2.6)\n",
            "Requirement already satisfied: docutils<0.19 in /home/jupyter/anaconda3/envs/jupyterHub/lib/python3.11/site-packages (from sphinx-rtd-theme->PAMI) (0.18.1)\n",
            "Requirement already satisfied: sphinxcontrib-jquery<5,>=4 in /home/jupyter/anaconda3/envs/jupyterHub/lib/python3.11/site-packages (from sphinx-rtd-theme->PAMI) (4.1)\n",
            "Requirement already satisfied: jsonschema in /home/jupyter/anaconda3/envs/jupyterHub/lib/python3.11/site-packages (from JsonForm>=0.0.2->resource->PAMI) (4.17.3)\n",
            "Requirement already satisfied: six>=1.5 in /home/jupyter/anaconda3/envs/jupyterHub/lib/python3.11/site-packages (from python-dateutil>=2.7->matplotlib->PAMI) (1.16.0)\n",
            "Requirement already satisfied: PyYAML in /home/jupyter/anaconda3/envs/jupyterHub/lib/python3.11/site-packages (from python-easyconfig>=0.1.0->resource->PAMI) (6.0)\n",
            "Requirement already satisfied: sphinxcontrib-applehelp in /home/jupyter/anaconda3/envs/jupyterHub/lib/python3.11/site-packages (from sphinx<8,>=1.6->sphinx-rtd-theme->PAMI) (1.0.7)\n",
            "Requirement already satisfied: sphinxcontrib-devhelp in /home/jupyter/anaconda3/envs/jupyterHub/lib/python3.11/site-packages (from sphinx<8,>=1.6->sphinx-rtd-theme->PAMI) (1.0.5)\n",
            "Requirement already satisfied: sphinxcontrib-jsmath in /home/jupyter/anaconda3/envs/jupyterHub/lib/python3.11/site-packages (from sphinx<8,>=1.6->sphinx-rtd-theme->PAMI) (1.0.1)\n",
            "Requirement already satisfied: sphinxcontrib-htmlhelp>=2.0.0 in /home/jupyter/anaconda3/envs/jupyterHub/lib/python3.11/site-packages (from sphinx<8,>=1.6->sphinx-rtd-theme->PAMI) (2.0.4)\n",
            "Requirement already satisfied: sphinxcontrib-serializinghtml>=1.1.9 in /home/jupyter/anaconda3/envs/jupyterHub/lib/python3.11/site-packages (from sphinx<8,>=1.6->sphinx-rtd-theme->PAMI) (1.1.9)\n",
            "Requirement already satisfied: sphinxcontrib-qthelp in /home/jupyter/anaconda3/envs/jupyterHub/lib/python3.11/site-packages (from sphinx<8,>=1.6->sphinx-rtd-theme->PAMI) (1.0.6)\n",
            "Requirement already satisfied: Jinja2>=3.0 in /home/jupyter/anaconda3/envs/jupyterHub/lib/python3.11/site-packages (from sphinx<8,>=1.6->sphinx-rtd-theme->PAMI) (3.1.2)\n",
            "Requirement already satisfied: Pygments>=2.14 in /home/jupyter/anaconda3/envs/jupyterHub/lib/python3.11/site-packages (from sphinx<8,>=1.6->sphinx-rtd-theme->PAMI) (2.16.1)\n",
            "Requirement already satisfied: snowballstemmer>=2.0 in /home/jupyter/anaconda3/envs/jupyterHub/lib/python3.11/site-packages (from sphinx<8,>=1.6->sphinx-rtd-theme->PAMI) (2.2.0)\n",
            "Requirement already satisfied: babel>=2.9 in /home/jupyter/anaconda3/envs/jupyterHub/lib/python3.11/site-packages (from sphinx<8,>=1.6->sphinx-rtd-theme->PAMI) (2.12.1)\n",
            "Requirement already satisfied: alabaster<0.8,>=0.7 in /home/jupyter/anaconda3/envs/jupyterHub/lib/python3.11/site-packages (from sphinx<8,>=1.6->sphinx-rtd-theme->PAMI) (0.7.13)\n",
            "Requirement already satisfied: imagesize>=1.3 in /home/jupyter/anaconda3/envs/jupyterHub/lib/python3.11/site-packages (from sphinx<8,>=1.6->sphinx-rtd-theme->PAMI) (1.4.1)\n",
            "Requirement already satisfied: requests>=2.25.0 in /home/jupyter/anaconda3/envs/jupyterHub/lib/python3.11/site-packages (from sphinx<8,>=1.6->sphinx-rtd-theme->PAMI) (2.28.2)\n",
            "Requirement already satisfied: MarkupSafe>=2.0 in /home/jupyter/anaconda3/envs/jupyterHub/lib/python3.11/site-packages (from Jinja2>=3.0->sphinx<8,>=1.6->sphinx-rtd-theme->PAMI) (2.1.1)\n",
            "Requirement already satisfied: charset-normalizer<4,>=2 in /home/jupyter/anaconda3/envs/jupyterHub/lib/python3.11/site-packages (from requests>=2.25.0->sphinx<8,>=1.6->sphinx-rtd-theme->PAMI) (3.2.0)\n",
            "Requirement already satisfied: idna<4,>=2.5 in /home/jupyter/anaconda3/envs/jupyterHub/lib/python3.11/site-packages (from requests>=2.25.0->sphinx<8,>=1.6->sphinx-rtd-theme->PAMI) (3.4)\n",
            "Requirement already satisfied: certifi>=2017.4.17 in /home/jupyter/anaconda3/envs/jupyterHub/lib/python3.11/site-packages (from requests>=2.25.0->sphinx<8,>=1.6->sphinx-rtd-theme->PAMI) (2023.7.22)\n",
            "Requirement already satisfied: attrs>=17.4.0 in /home/jupyter/anaconda3/envs/jupyterHub/lib/python3.11/site-packages (from jsonschema->JsonForm>=0.0.2->resource->PAMI) (23.1.0)\n",
            "Requirement already satisfied: pyrsistent!=0.17.0,!=0.17.1,!=0.17.2,>=0.14.0 in /home/jupyter/anaconda3/envs/jupyterHub/lib/python3.11/site-packages (from jsonschema->JsonForm>=0.0.2->resource->PAMI) (0.18.0)\n",
            "Downloading pami-2023.11.15.3-py3-none-any.whl (883 kB)\n",
            "\u001b[2K   \u001b[90m━━━━━━━━━━━━━━━━━━━━━━━━━━━━━━━━━━━━━━━━\u001b[0m \u001b[32m883.9/883.9 kB\u001b[0m \u001b[31m31.4 MB/s\u001b[0m eta \u001b[36m0:00:00\u001b[0m\n",
            "\u001b[?25h\u001b[33mWARNING: Ignoring invalid distribution ~etuptools (/home/jupyter/anaconda3/envs/jupyterHub/lib/python3.11/site-packages)\u001b[0m\u001b[33m\n",
            "\u001b[0mInstalling collected packages: PAMI\n",
            "  Attempting uninstall: PAMI\n",
            "    Found existing installation: pami 2023.10.31.1\n",
            "    Uninstalling pami-2023.10.31.1:\n",
            "      Successfully uninstalled pami-2023.10.31.1\n",
            "\u001b[31mERROR: Could not install packages due to an OSError: [Errno 13] Permission denied: '__init__.cpython-311.pyc'\n",
            "Consider using the `--user` option or check the permissions.\n",
            "\u001b[0m\u001b[31m\n",
            "\u001b[0m\u001b[33mWARNING: Ignoring invalid distribution ~etuptools (/home/jupyter/anaconda3/envs/jupyterHub/lib/python3.11/site-packages)\u001b[0m\u001b[33m\n",
            "\u001b[0m\u001b[33mWARNING: Ignoring invalid distribution ~ami (/home/jupyter/anaconda3/envs/jupyterHub/lib/python3.11/site-packages)\u001b[0m\u001b[33m\n",
            "\u001b[0m"
          ]
        }
      ],
      "source": [
        "!pip install -U PAMI"
      ]
    },
    {
      "cell_type": "markdown",
      "id": "t4r3uNlsr3OT",
      "metadata": {
        "id": "t4r3uNlsr3OT"
      },
      "source": [
        "Step 1: Download the \"Transactional_T10I4D100K\" dataset"
      ]
    },
    {
      "cell_type": "code",
      "execution_count": 10,
      "id": "Y1O-Nun9r-Wf",
      "metadata": {
        "colab": {
          "base_uri": "https://localhost:8080/"
        },
        "id": "Y1O-Nun9r-Wf",
        "outputId": "a9845f7f-1a21-442c-d23c-8f15bd1d21ef"
      },
      "outputs": [
        {
          "name": "stdout",
          "output_type": "stream",
          "text": [
            "--2023-11-15 07:59:10--  https://u-aizu.ac.jp/~udayrage/datasets/transactionalDatabases/Transactional_T10I4D100K.csv\n",
            "Resolving u-aizu.ac.jp (u-aizu.ac.jp)... 150.95.161.176, 150.31.244.160\n",
            "Connecting to u-aizu.ac.jp (u-aizu.ac.jp)|150.95.161.176|:443... connected.\n",
            "HTTP request sent, awaiting response... 200 OK\n",
            "Length: 4019277 (3.8M) [text/csv]\n",
            "Saving to: ‘Transactional_T10I4D100K.csv.1’\n",
            "\n",
            "Transactional_T10I4 100%[===================>]   3.83M  22.2MB/s    in 0.2s    \n",
            "\n",
            "2023-11-15 07:59:11 (22.2 MB/s) - ‘Transactional_T10I4D100K.csv.1’ saved [4019277/4019277]\n",
            "\n"
          ]
        }
      ],
      "source": [
        "!wget https://u-aizu.ac.jp/~udayrage/datasets/transactionalDatabases/Transactional_T10I4D100K.csv"
      ]
    },
    {
      "cell_type": "markdown",
      "id": "ZdfCZaUSsDuA",
      "metadata": {
        "id": "ZdfCZaUSsDuA"
      },
      "source": [
        "Step 2: Create the multiple minimum support file for donwloaded dataset"
      ]
    },
    {
      "cell_type": "code",
      "execution_count": 11,
      "id": "KuVAA2spsJ91",
      "metadata": {
        "colab": {
          "base_uri": "https://localhost:8080/",
          "height": 232
        },
        "id": "KuVAA2spsJ91",
        "outputId": "d0468419-5400-4f10-97c5-897cd9f2ab8b"
      },
      "outputs": [],
      "source": [
        "from PAMI.extras.calculateMISValues import usingBeta as ub\n",
        "inputFile = \"Transactional_T10I4D100K.csv\"\n",
        "beta = 0.8\n",
        "LS = 100\n",
        "sep = \"\\t\"\n",
        "output = \"MIS_T10.txt\"\n",
        "cd = ub.usingBeta(inputFile, beta, LS, sep)\n",
        "cd.calculateMIS()\n",
        "cd.save(output)"
      ]
    },
    {
      "cell_type": "markdown",
      "id": "AZlTB1dXs_40",
      "metadata": {
        "id": "AZlTB1dXs_40"
      },
      "source": [
        "Use the above create \"MIS_T10\" file as multiple minimum support file for T10I4D100K dataset"
      ]
    },
    {
      "cell_type": "markdown",
      "id": "de947b74-a287-4166-aeeb-050b9b9714f9",
      "metadata": {
        "id": "de947b74-a287-4166-aeeb-050b9b9714f9"
      },
      "source": [
        "#### Step 3: Import the CFPGrowth algorithm"
      ]
    },
    {
      "cell_type": "code",
      "execution_count": 12,
      "id": "042a4670-502c-417c-afa5-ce8f4620b8c6",
      "metadata": {
        "id": "042a4670-502c-417c-afa5-ce8f4620b8c6"
      },
      "outputs": [],
      "source": [
        "from PAMI.multipleMinimumSupportBasedFrequentPattern.basic import CFPGrowthPlus as alg"
      ]
    },
    {
      "cell_type": "markdown",
      "id": "052b485e-ae76-477c-b423-7a9a8c49d153",
      "metadata": {
        "id": "052b485e-ae76-477c-b423-7a9a8c49d153"
      },
      "source": [
        "#### Step 4: Specify the following input parameters"
      ]
    },
    {
      "cell_type": "code",
      "execution_count": 13,
      "id": "9d781abf-2a4b-499e-8725-454d99f4eb31",
      "metadata": {
        "id": "9d781abf-2a4b-499e-8725-454d99f4eb31"
      },
      "outputs": [],
      "source": [
        "inputFile = 'Transactional_T10I4D100K.csv'\n",
        "\n",
        "MIS = 'MIS_T10.txt' #Create this program using your own Python code.\n",
        "\n",
        "seperator='\\t'"
      ]
    },
    {
      "cell_type": "markdown",
      "id": "92fbc06c-8e5b-4396-82e9-0b337ba54865",
      "metadata": {
        "id": "92fbc06c-8e5b-4396-82e9-0b337ba54865"
      },
      "source": [
        "#### Step 5: Execute the CFPGrowth algorithm"
      ]
    },
    {
      "cell_type": "code",
      "execution_count": 14,
      "id": "38ee53a6-d1fd-4266-8c8c-06662540657d",
      "metadata": {
        "id": "38ee53a6-d1fd-4266-8c8c-06662540657d"
      },
      "outputs": [
        {
          "name": "stdout",
          "output_type": "stream",
          "text": [
            "Frequent patterns were generated successfully using frequentPatternGrowth algorithm\n"
          ]
        }
      ],
      "source": [
        "obj = alg.CFPGrowthPlus(iFile=inputFile, MIS=MIS, sep=seperator)    #initialize\n",
        "obj.startMine()            #Start the mining process"
      ]
    },
    {
      "cell_type": "markdown",
      "id": "3ee3603a-89da-44bb-bcd3-79cfa8db586a",
      "metadata": {
        "id": "3ee3603a-89da-44bb-bcd3-79cfa8db586a"
      },
      "source": [
        "#### Step 6: Storing the generated patterns"
      ]
    },
    {
      "cell_type": "markdown",
      "id": "8bee4a62-9478-46a3-a3a0-42bc4e2f1642",
      "metadata": {
        "id": "8bee4a62-9478-46a3-a3a0-42bc4e2f1642"
      },
      "source": [
        "##### Step 6.1: Storing the generated patterns in a file"
      ]
    },
    {
      "cell_type": "code",
      "execution_count": 15,
      "id": "c18de728-5cb4-446b-adae-872846e30b74",
      "metadata": {
        "id": "c18de728-5cb4-446b-adae-872846e30b74"
      },
      "outputs": [],
      "source": [
        "obj.save(outFile='frequentPatternsMinSupCount100.txt')"
      ]
    },
    {
      "cell_type": "markdown",
      "id": "62677159-e863-4233-858b-6b5359810c83",
      "metadata": {
        "id": "62677159-e863-4233-858b-6b5359810c83"
      },
      "source": [
        "##### Step 6.2. Storing the generated patterns in a data frame"
      ]
    },
    {
      "cell_type": "code",
      "execution_count": 16,
      "id": "64bdeb08-e80c-4bdf-bb35-d7c67b30f21a",
      "metadata": {
        "id": "64bdeb08-e80c-4bdf-bb35-d7c67b30f21a"
      },
      "outputs": [],
      "source": [
        "frequentPatternsDF= obj.getPatternsAsDataFrame()"
      ]
    },
    {
      "cell_type": "markdown",
      "id": "afc25934-1fa4-42b9-a0b0-1977a4dbd95f",
      "metadata": {
        "id": "afc25934-1fa4-42b9-a0b0-1977a4dbd95f"
      },
      "source": [
        "#### Step 7: Getting the statistics"
      ]
    },
    {
      "cell_type": "markdown",
      "id": "b6136a85-7820-4db8-8fbc-0395ab953aa3",
      "metadata": {
        "id": "b6136a85-7820-4db8-8fbc-0395ab953aa3"
      },
      "source": [
        "##### Step 7.1: Total number of discovered patterns"
      ]
    },
    {
      "cell_type": "code",
      "execution_count": 17,
      "id": "6b5bc0d1-4241-4971-bb23-8ab13ccabdad",
      "metadata": {
        "id": "6b5bc0d1-4241-4971-bb23-8ab13ccabdad"
      },
      "outputs": [
        {
          "name": "stdout",
          "output_type": "stream",
          "text": [
            "Total No of patterns: 936\n"
          ]
        }
      ],
      "source": [
        "print('Total No of patterns: ' + str(len(frequentPatternsDF)))"
      ]
    },
    {
      "cell_type": "markdown",
      "id": "d0506690-7e8a-48a3-a012-33cfb7fb6351",
      "metadata": {
        "id": "d0506690-7e8a-48a3-a012-33cfb7fb6351"
      },
      "source": [
        "##### Step 7.2: Runtime consumed by the mining algorithm"
      ]
    },
    {
      "cell_type": "code",
      "execution_count": 18,
      "id": "55912f44-d238-41f0-9fab-9ad60f08ab21",
      "metadata": {
        "id": "55912f44-d238-41f0-9fab-9ad60f08ab21"
      },
      "outputs": [
        {
          "name": "stdout",
          "output_type": "stream",
          "text": [
            "Runtime: 8.514466047286987\n"
          ]
        }
      ],
      "source": [
        "print('Runtime: ' + str(obj.getRuntime()))"
      ]
    },
    {
      "cell_type": "markdown",
      "id": "d794fce7-aaad-45f5-a583-21c5939b1022",
      "metadata": {
        "id": "d794fce7-aaad-45f5-a583-21c5939b1022"
      },
      "source": [
        "##### Step 7.3: Total Memory consumed by the mining algorithm"
      ]
    },
    {
      "cell_type": "code",
      "execution_count": 19,
      "id": "880ccc22-2606-4e55-a4ef-2a8deac28efc",
      "metadata": {
        "id": "880ccc22-2606-4e55-a4ef-2a8deac28efc"
      },
      "outputs": [
        {
          "name": "stdout",
          "output_type": "stream",
          "text": [
            "Memory (RSS): 659742720\n",
            "Memory (USS): 606474240\n"
          ]
        }
      ],
      "source": [
        "print('Memory (RSS): ' + str(obj.getMemoryRSS()))\n",
        "print('Memory (USS): ' + str(obj.getMemoryUSS()))"
      ]
    },
    {
      "cell_type": "code",
      "execution_count": null,
      "id": "14c4fa4e-252b-4ec4-9101-dd81698c6afa",
      "metadata": {
        "id": "14c4fa4e-252b-4ec4-9101-dd81698c6afa"
      },
      "outputs": [],
      "source": []
    }
  ],
  "metadata": {
    "colab": {
      "include_colab_link": true,
      "provenance": []
    },
    "kernelspec": {
      "display_name": "Python 3 (ipykernel)",
      "language": "python",
      "name": "python3"
    },
    "language_info": {
      "codemirror_mode": {
        "name": "ipython",
        "version": 3
      },
      "file_extension": ".py",
      "mimetype": "text/x-python",
      "name": "python",
      "nbconvert_exporter": "python",
      "pygments_lexer": "ipython3",
      "version": "3.11.5"
    }
  },
  "nbformat": 4,
  "nbformat_minor": 5
}
