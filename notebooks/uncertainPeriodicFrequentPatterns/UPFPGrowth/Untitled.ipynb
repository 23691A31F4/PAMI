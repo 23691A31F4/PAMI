{
 "cells": [
  {
   "cell_type": "code",
   "execution_count": 5,
   "id": "24e1e454-e833-4c92-afa3-901f691a134c",
   "metadata": {},
   "outputs": [
    {
     "name": "stdout",
     "output_type": "stream",
     "text": [
      "Hey\n",
      "100000\n"
     ]
    }
   ],
   "source": [
    "import random\n",
    "writer = open('uncertainTemporal_T10I4D100K.txt', 'w+')\n",
    "count = 0\n",
    "with open('uncertain_Temporal_T10I4D200K.csv', 'r') as f:\n",
    "    for line in f:\n",
    "        if count == 100000:\n",
    "            print(\"Hey\")\n",
    "            break\n",
    "        count += 1\n",
    "        writer.write(\"%s\" % line) \n",
    "    writer.close()\n",
    "print(count)"
   ]
  },
  {
   "cell_type": "code",
   "execution_count": null,
   "id": "aee929c2-7d61-4766-951d-5183803dc889",
   "metadata": {},
   "outputs": [],
   "source": []
  }
 ],
 "metadata": {
  "kernelspec": {
   "display_name": "Python 3 (ipykernel)",
   "language": "python",
   "name": "python3"
  },
  "language_info": {
   "codemirror_mode": {
    "name": "ipython",
    "version": 3
   },
   "file_extension": ".py",
   "mimetype": "text/x-python",
   "name": "python",
   "nbconvert_exporter": "python",
   "pygments_lexer": "ipython3",
   "version": "3.10.4"
  }
 },
 "nbformat": 4,
 "nbformat_minor": 5
}
