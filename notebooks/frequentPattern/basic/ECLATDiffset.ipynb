{
 "cells": [
  {
   "cell_type": "markdown",
   "id": "e960ba75-7c84-45aa-bbca-f6eca0f8731b",
   "metadata": {
    "tags": []
   },
   "source": [
    "# Discovering Frequent Patterns in Big Data Using ECLATDiffset Algorithm"
   ]
  },
  {
   "cell_type": "markdown",
   "id": "ae689e49-f7eb-408c-81ac-ce16ceb46d4b",
   "metadata": {},
   "source": [
    "In this tutorial, we will discuss the first approach to find frequent patterns in big data using ECLATDiffset algorithm.\n",
    "\n",
    "[__Basic approach:__](#basicApproach) Here, we present the steps to discover frequent patterns using a single minimum support value"
   ]
  },
  {
   "cell_type": "markdown",
   "id": "f7fb1145-420c-4ce0-905e-383d013cb11f",
   "metadata": {},
   "source": [
    "***"
   ]
  },
  {
   "cell_type": "markdown",
   "id": "1f5910aa-1ab5-4a86-bf02-69d3541dc453",
   "metadata": {},
   "source": [
    "## <a id='basicApproach'>Basic approach: Executing ECLATDiffset on a single dataset at a particular minimum support value</a>"
   ]
  },
  {
   "cell_type": "markdown",
   "source": [
    "#### Step 0: install pami repository"
   ],
   "metadata": {
    "collapsed": false
   }
  },
  {
   "cell_type": "code",
   "execution_count": 1,
   "outputs": [
    {
     "name": "stdout",
     "output_type": "stream",
     "text": [
      "Requirement already satisfied: pami in /Users/udaykiranrage/Library/CloudStorage/Dropbox/Github/PAMI_new/venv/lib/python3.9/site-packages (2023.7.28.5)\r\n",
      "Requirement already satisfied: psutil in /Library/Python/3.9/site-packages (from pami) (5.9.5)\r\n",
      "Requirement already satisfied: pandas in /Library/Python/3.9/site-packages (from pami) (2.0.3)\r\n",
      "Requirement already satisfied: plotly in /Users/udaykiranrage/Library/Python/3.9/lib/python/site-packages (from pami) (5.15.0)\r\n",
      "Requirement already satisfied: matplotlib in /Library/Python/3.9/site-packages (from pami) (3.7.2)\r\n",
      "Requirement already satisfied: resource in /Users/udaykiranrage/Library/Python/3.9/lib/python/site-packages (from pami) (0.2.1)\r\n",
      "Requirement already satisfied: validators in /Users/udaykiranrage/Library/Python/3.9/lib/python/site-packages (from pami) (0.20.0)\r\n",
      "Requirement already satisfied: urllib3 in /Users/udaykiranrage/Library/Python/3.9/lib/python/site-packages (from pami) (2.0.3)\r\n",
      "Requirement already satisfied: Pillow in /Library/Python/3.9/site-packages (from pami) (10.0.0)\r\n",
      "Requirement already satisfied: numpy in /Library/Python/3.9/site-packages (from pami) (1.25.0)\r\n",
      "Requirement already satisfied: contourpy>=1.0.1 in /Library/Python/3.9/site-packages (from matplotlib->pami) (1.1.0)\r\n",
      "Requirement already satisfied: cycler>=0.10 in /Library/Python/3.9/site-packages (from matplotlib->pami) (0.11.0)\r\n",
      "Requirement already satisfied: fonttools>=4.22.0 in /Library/Python/3.9/site-packages (from matplotlib->pami) (4.40.0)\r\n",
      "Requirement already satisfied: kiwisolver>=1.0.1 in /Library/Python/3.9/site-packages (from matplotlib->pami) (1.4.4)\r\n",
      "Requirement already satisfied: packaging>=20.0 in /Library/Python/3.9/site-packages (from matplotlib->pami) (23.1)\r\n",
      "Requirement already satisfied: pyparsing<3.1,>=2.3.1 in /Library/Python/3.9/site-packages (from matplotlib->pami) (3.0.9)\r\n",
      "Requirement already satisfied: python-dateutil>=2.7 in /Library/Python/3.9/site-packages (from matplotlib->pami) (2.8.2)\r\n",
      "Requirement already satisfied: importlib-resources>=3.2.0 in /Library/Python/3.9/site-packages (from matplotlib->pami) (5.12.0)\r\n",
      "Requirement already satisfied: pytz>=2020.1 in /Library/Python/3.9/site-packages (from pandas->pami) (2023.3)\r\n",
      "Requirement already satisfied: tzdata>=2022.1 in /Library/Python/3.9/site-packages (from pandas->pami) (2023.3)\r\n",
      "Requirement already satisfied: tenacity>=6.2.0 in /Users/udaykiranrage/Library/Python/3.9/lib/python/site-packages (from plotly->pami) (8.2.2)\r\n",
      "Requirement already satisfied: JsonForm>=0.0.2 in /Users/udaykiranrage/Library/Python/3.9/lib/python/site-packages (from resource->pami) (0.0.2)\r\n",
      "Requirement already satisfied: JsonSir>=0.0.2 in /Users/udaykiranrage/Library/Python/3.9/lib/python/site-packages (from resource->pami) (0.0.2)\r\n",
      "Requirement already satisfied: python-easyconfig>=0.1.0 in /Users/udaykiranrage/Library/Python/3.9/lib/python/site-packages (from resource->pami) (0.1.7)\r\n",
      "Requirement already satisfied: decorator>=3.4.0 in /Library/Python/3.9/site-packages (from validators->pami) (5.1.1)\r\n",
      "Requirement already satisfied: zipp>=3.1.0 in /Users/udaykiranrage/Library/Python/3.9/lib/python/site-packages (from importlib-resources>=3.2.0->matplotlib->pami) (3.15.0)\r\n",
      "Requirement already satisfied: jsonschema in /Library/Python/3.9/site-packages (from JsonForm>=0.0.2->resource->pami) (4.18.4)\r\n",
      "Requirement already satisfied: six>=1.5 in /Library/Developer/CommandLineTools/Library/Frameworks/Python3.framework/Versions/3.9/lib/python3.9/site-packages (from python-dateutil>=2.7->matplotlib->pami) (1.15.0)\r\n",
      "Requirement already satisfied: PyYAML in /Library/Python/3.9/site-packages (from python-easyconfig>=0.1.0->resource->pami) (6.0.1)\r\n",
      "Requirement already satisfied: attrs>=22.2.0 in /Library/Python/3.9/site-packages (from jsonschema->JsonForm>=0.0.2->resource->pami) (23.1.0)\r\n",
      "Requirement already satisfied: jsonschema-specifications>=2023.03.6 in /Library/Python/3.9/site-packages (from jsonschema->JsonForm>=0.0.2->resource->pami) (2023.6.1)\r\n",
      "Requirement already satisfied: referencing>=0.28.4 in /Library/Python/3.9/site-packages (from jsonschema->JsonForm>=0.0.2->resource->pami) (0.29.3)\r\n",
      "Requirement already satisfied: rpds-py>=0.7.1 in /Library/Python/3.9/site-packages (from jsonschema->JsonForm>=0.0.2->resource->pami) (0.8.11)\r\n"
     ]
    }
   ],
   "source": [
    "!pip install -U pami"
   ],
   "metadata": {
    "collapsed": false
   }
  },
  {
   "cell_type": "markdown",
   "id": "de947b74-a287-4166-aeeb-050b9b9714f9",
   "metadata": {},
   "source": [
    "#### Step 1: Import the ECLATDiffset algorithm"
   ]
  },
  {
   "cell_type": "code",
   "execution_count": 2,
   "id": "042a4670-502c-417c-afa5-ce8f4620b8c6",
   "metadata": {},
   "outputs": [],
   "source": [
    "from PAMI.frequentPattern.basic import ECLATDiffset  as alg"
   ]
  },
  {
   "cell_type": "markdown",
   "id": "052b485e-ae76-477c-b423-7a9a8c49d153",
   "metadata": {},
   "source": [
    "#### Step 2: Specify the following input parameters"
   ]
  },
  {
   "cell_type": "code",
   "execution_count": 3,
   "id": "9d781abf-2a4b-499e-8725-454d99f4eb31",
   "metadata": {},
   "outputs": [],
   "source": [
    "inputFile = 'https://u-aizu.ac.jp/~udayrage/datasets/transactionalDatabases/Transactional_T10I4D100K.csv'\n",
    "\n",
    "minimumSupportCount = 1000  #Users can also specify this constraint between 0 to 1.\n",
    "\n",
    "seperator='\\t'       "
   ]
  },
  {
   "cell_type": "markdown",
   "id": "92fbc06c-8e5b-4396-82e9-0b337ba54865",
   "metadata": {},
   "source": [
    "#### Step 3: Execute the ECLATDiffset algorithm"
   ]
  },
  {
   "cell_type": "code",
   "execution_count": 4,
   "id": "38ee53a6-d1fd-4266-8c8c-06662540657d",
   "metadata": {},
   "outputs": [
    {
     "name": "stdout",
     "output_type": "stream",
     "text": [
      "Frequent patterns were generated successfully using ECLAT Diffset algorithm\n"
     ]
    }
   ],
   "source": [
    "obj = alg.ECLATDiffset(iFile=inputFile, minSup=minimumSupportCount, sep=seperator)    #initialize\n",
    "obj.startMine()            #Start the mining process"
   ]
  },
  {
   "cell_type": "markdown",
   "id": "3ee3603a-89da-44bb-bcd3-79cfa8db586a",
   "metadata": {},
   "source": [
    "#### Step 4: Storing the generated patterns"
   ]
  },
  {
   "cell_type": "markdown",
   "id": "8bee4a62-9478-46a3-a3a0-42bc4e2f1642",
   "metadata": {},
   "source": [
    "##### Step 4.1: Storing the generated patterns in a file"
   ]
  },
  {
   "cell_type": "code",
   "execution_count": 5,
   "id": "c18de728-5cb4-446b-adae-872846e30b74",
   "metadata": {},
   "outputs": [],
   "source": [
    "obj.save(outFile='frequentPatternsMinSupCount1000.txt')"
   ]
  },
  {
   "cell_type": "markdown",
   "id": "62677159-e863-4233-858b-6b5359810c83",
   "metadata": {},
   "source": [
    "##### Step 4.2. Storing the generated patterns in a data frame"
   ]
  },
  {
   "cell_type": "code",
   "execution_count": 6,
   "id": "64bdeb08-e80c-4bdf-bb35-d7c67b30f21a",
   "metadata": {},
   "outputs": [],
   "source": [
    "frequentPatternsDF= obj.getPatternsAsDataFrame()"
   ]
  },
  {
   "cell_type": "markdown",
   "id": "afc25934-1fa4-42b9-a0b0-1977a4dbd95f",
   "metadata": {},
   "source": [
    "#### Step 5: Getting the statistics"
   ]
  },
  {
   "cell_type": "markdown",
   "id": "b6136a85-7820-4db8-8fbc-0395ab953aa3",
   "metadata": {},
   "source": [
    "##### Step 5.1: Total number of discovered patterns "
   ]
  },
  {
   "cell_type": "code",
   "execution_count": 7,
   "id": "6b5bc0d1-4241-4971-bb23-8ab13ccabdad",
   "metadata": {},
   "outputs": [
    {
     "name": "stdout",
     "output_type": "stream",
     "text": [
      "Total No of patterns: 375\n"
     ]
    }
   ],
   "source": [
    "print('Total No of patterns: ' + str(len(frequentPatternsDF)))"
   ]
  },
  {
   "cell_type": "markdown",
   "id": "d0506690-7e8a-48a3-a012-33cfb7fb6351",
   "metadata": {},
   "source": [
    "##### Step 5.2: Runtime consumed by the mining algorithm"
   ]
  },
  {
   "cell_type": "code",
   "execution_count": 8,
   "id": "55912f44-d238-41f0-9fab-9ad60f08ab21",
   "metadata": {},
   "outputs": [
    {
     "name": "stdout",
     "output_type": "stream",
     "text": [
      "Runtime: 23869.793538093567\n"
     ]
    }
   ],
   "source": [
    "print('Runtime: ' + str(obj.getRuntime()))"
   ]
  },
  {
   "cell_type": "markdown",
   "id": "057ad1a1-a17d-4447-b411-3360c7ca9e72",
   "metadata": {},
   "source": [
    "##### Step 5.3: Total Memory consumed by the mining algorithm"
   ]
  },
  {
   "cell_type": "code",
   "execution_count": 9,
   "id": "880ccc22-2606-4e55-a4ef-2a8deac28efc",
   "metadata": {},
   "outputs": [
    {
     "name": "stdout",
     "output_type": "stream",
     "text": [
      "Memory (RSS): 838205440\n",
      "Memory (USS): 843087872\n"
     ]
    }
   ],
   "source": [
    "print('Memory (RSS): ' + str(obj.getMemoryRSS()))\n",
    "print('Memory (USS): ' + str(obj.getMemoryUSS()))"
   ]
  }
 ],
 "metadata": {
  "kernelspec": {
   "display_name": "Python 3 (ipykernel)",
   "language": "python",
   "name": "python3"
  },
  "language_info": {
   "codemirror_mode": {
    "name": "ipython",
    "version": 3
   },
   "file_extension": ".py",
   "mimetype": "text/x-python",
   "name": "python",
   "nbconvert_exporter": "python",
   "pygments_lexer": "ipython3",
   "version": "3.10.4"
  }
 },
 "nbformat": 4,
 "nbformat_minor": 5
}
