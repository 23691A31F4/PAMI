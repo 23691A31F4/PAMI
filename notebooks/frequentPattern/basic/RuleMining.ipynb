{
 "cells": [
  {
   "cell_type": "code",
   "execution_count": null,
   "id": "01893c4a-994b-4b70-a200-e51ac286de3f",
   "metadata": {},
   "outputs": [],
   "source": [
    "from PAMI.AssociationRules.basic import RuleMiner as alg\n",
    "obj = alg.RuleMiner('frequentPatternsMinSupCount1000.txt', \"confidence\", 0.9, '\\t')\n",
    "obj.startMine()\n",
    "obj.save('RuleMiner_output.txt')\n",
    "obj.printResults()"
   ]
  },
  {
   "cell_type": "code",
   "execution_count": null,
   "id": "82f5249d-ea1e-4f86-aa6d-1fe58b9b3835",
   "metadata": {},
   "outputs": [],
   "source": []
  }
 ],
 "metadata": {
  "kernelspec": {
   "display_name": "Python 3 (ipykernel)",
   "language": "python",
   "name": "python3"
  },
  "language_info": {
   "codemirror_mode": {
    "name": "ipython",
    "version": 3
   },
   "file_extension": ".py",
   "mimetype": "text/x-python",
   "name": "python",
   "nbconvert_exporter": "python",
   "pygments_lexer": "ipython3",
   "version": "3.10.4"
  }
 },
 "nbformat": 4,
 "nbformat_minor": 5
}
