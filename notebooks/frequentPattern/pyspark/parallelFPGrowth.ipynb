{
  "cells": [
    {
      "cell_type": "markdown",
      "metadata": {
        "id": "view-in-github",
        "colab_type": "text"
      },
      "source": [
        "<a href=\"https://colab.research.google.com/github/udayLab/PAMI/blob/main/notebooks/frequentPattern/pyspark/parallelFPGrowth.ipynb\" target=\"_parent\"><img src=\"https://colab.research.google.com/assets/colab-badge.svg\" alt=\"Open In Colab\"/></a>"
      ]
    },
    {
      "cell_type": "markdown",
      "id": "e960ba75-7c84-45aa-bbca-f6eca0f8731b",
      "metadata": {
        "tags": [],
        "id": "e960ba75-7c84-45aa-bbca-f6eca0f8731b"
      },
      "source": [
        "# Discovering Frequent Patterns in Big Data Using parallelFPGrowth Algorithm"
      ]
    },
    {
      "cell_type": "markdown",
      "id": "d71c53a8-9c59-4220-ad59-92ec26b39c42",
      "metadata": {
        "id": "d71c53a8-9c59-4220-ad59-92ec26b39c42"
      },
      "source": [
        "In this tutorial, we will discuss the first approach to find frequent patterns in big data using parallelFPGrowth algorithm.\n",
        "\n",
        "[__Basic approach:__](#basicApproach) Here, we present the steps to discover frequent patterns using a single minimum support value"
      ]
    },
    {
      "cell_type": "markdown",
      "id": "f7fb1145-420c-4ce0-905e-383d013cb11f",
      "metadata": {
        "id": "f7fb1145-420c-4ce0-905e-383d013cb11f"
      },
      "source": [
        "***"
      ]
    },
    {
      "cell_type": "markdown",
      "id": "1f5910aa-1ab5-4a86-bf02-69d3541dc453",
      "metadata": {
        "id": "1f5910aa-1ab5-4a86-bf02-69d3541dc453"
      },
      "source": [
        "## <a id='basicApproach'>Basic approach: Executing parallelFPGrowth on a single dataset at a particular minimum support value</a>"
      ]
    },
    {
      "cell_type": "markdown",
      "source": [
        "#### Step 0: install required respositories and inputs"
      ],
      "metadata": {
        "id": "Dv-Hl-pgfTKH"
      },
      "id": "Dv-Hl-pgfTKH"
    },
    {
      "cell_type": "markdown",
      "source": [
        "##### Step 0.1: Mounting to the drive"
      ],
      "metadata": {
        "id": "N3DikJFlfTWK"
      },
      "id": "N3DikJFlfTWK"
    },
    {
      "cell_type": "code",
      "source": [
        "from google.colab import drive\n",
        "drive.mount('/content/drive')"
      ],
      "metadata": {
        "id": "Wvir1qh3ewXQ",
        "outputId": "076147b2-22c1-4a90-b4da-26aa150731c0",
        "colab": {
          "base_uri": "https://localhost:8080/"
        }
      },
      "id": "Wvir1qh3ewXQ",
      "execution_count": 1,
      "outputs": [
        {
          "output_type": "stream",
          "name": "stdout",
          "text": [
            "Mounted at /content/drive\n"
          ]
        }
      ]
    },
    {
      "cell_type": "markdown",
      "source": [
        "##### Step 0.2: Dowloading the transactional dataset"
      ],
      "metadata": {
        "id": "DnzN-VKCfgEk"
      },
      "id": "DnzN-VKCfgEk"
    },
    {
      "cell_type": "code",
      "source": [
        "!wget 'https://u-aizu.ac.jp/~udayrage/datasets/transactionalDatabases/Transactional_T10I4D100K.csv'"
      ],
      "metadata": {
        "id": "vrBQdrVwexZc",
        "outputId": "236e5c30-fd48-4393-f111-e517cf253677",
        "colab": {
          "base_uri": "https://localhost:8080/"
        }
      },
      "id": "vrBQdrVwexZc",
      "execution_count": 2,
      "outputs": [
        {
          "output_type": "stream",
          "name": "stdout",
          "text": [
            "--2023-11-07 01:54:50--  https://u-aizu.ac.jp/~udayrage/datasets/transactionalDatabases/Transactional_T10I4D100K.csv\n",
            "Resolving u-aizu.ac.jp (u-aizu.ac.jp)... 150.31.244.160, 150.95.161.176\n",
            "Connecting to u-aizu.ac.jp (u-aizu.ac.jp)|150.31.244.160|:443... connected.\n",
            "HTTP request sent, awaiting response... 200 OK\n",
            "Length: 4019277 (3.8M) [text/csv]\n",
            "Saving to: ‘Transactional_T10I4D100K.csv’\n",
            "\n",
            "Transactional_T10I4 100%[===================>]   3.83M   835KB/s    in 7.3s    \n",
            "\n",
            "2023-11-07 01:54:59 (539 KB/s) - ‘Transactional_T10I4D100K.csv’ saved [4019277/4019277]\n",
            "\n"
          ]
        }
      ]
    },
    {
      "cell_type": "markdown",
      "source": [
        "##### Step 0.3: install pami repository"
      ],
      "metadata": {
        "id": "g5vZDuKRfkU5"
      },
      "id": "g5vZDuKRfkU5"
    },
    {
      "cell_type": "code",
      "source": [
        "!pip install -U 'pami[spark]'"
      ],
      "metadata": {
        "id": "_OugYMiVe1AO",
        "outputId": "127d0730-46b8-4473-86c0-e4b103a15901",
        "colab": {
          "base_uri": "https://localhost:8080/"
        }
      },
      "id": "_OugYMiVe1AO",
      "execution_count": 3,
      "outputs": [
        {
          "output_type": "stream",
          "name": "stdout",
          "text": [
            "Collecting pami[spark]\n",
            "  Downloading pami-2023.10.31.1-py3-none-any.whl (882 kB)\n",
            "\u001b[2K     \u001b[90m━━━━━━━━━━━━━━━━━━━━━━━━━━━━━━━━━━━━━━━━\u001b[0m \u001b[32m882.7/882.7 kB\u001b[0m \u001b[31m6.5 MB/s\u001b[0m eta \u001b[36m0:00:00\u001b[0m\n",
            "\u001b[?25hRequirement already satisfied: psutil in /usr/local/lib/python3.10/dist-packages (from pami[spark]) (5.9.5)\n",
            "Requirement already satisfied: pandas in /usr/local/lib/python3.10/dist-packages (from pami[spark]) (1.5.3)\n",
            "Requirement already satisfied: plotly in /usr/local/lib/python3.10/dist-packages (from pami[spark]) (5.15.0)\n",
            "Requirement already satisfied: matplotlib in /usr/local/lib/python3.10/dist-packages (from pami[spark]) (3.7.1)\n",
            "Collecting resource (from pami[spark])\n",
            "  Downloading Resource-0.2.1-py2.py3-none-any.whl (25 kB)\n",
            "Collecting validators (from pami[spark])\n",
            "  Downloading validators-0.22.0-py3-none-any.whl (26 kB)\n",
            "Requirement already satisfied: urllib3 in /usr/local/lib/python3.10/dist-packages (from pami[spark]) (2.0.7)\n",
            "Requirement already satisfied: Pillow in /usr/local/lib/python3.10/dist-packages (from pami[spark]) (9.4.0)\n",
            "Requirement already satisfied: numpy in /usr/local/lib/python3.10/dist-packages (from pami[spark]) (1.23.5)\n",
            "Collecting sphinx-rtd-theme (from pami[spark])\n",
            "  Downloading sphinx_rtd_theme-1.3.0-py2.py3-none-any.whl (2.8 MB)\n",
            "\u001b[2K     \u001b[90m━━━━━━━━━━━━━━━━━━━━━━━━━━━━━━━━━━━━━━━━\u001b[0m \u001b[32m2.8/2.8 MB\u001b[0m \u001b[31m14.8 MB/s\u001b[0m eta \u001b[36m0:00:00\u001b[0m\n",
            "\u001b[?25hCollecting pyspark (from pami[spark])\n",
            "  Downloading pyspark-3.5.0.tar.gz (316.9 MB)\n",
            "\u001b[2K     \u001b[90m━━━━━━━━━━━━━━━━━━━━━━━━━━━━━━━━━━━━━━━━\u001b[0m \u001b[32m316.9/316.9 MB\u001b[0m \u001b[31m4.7 MB/s\u001b[0m eta \u001b[36m0:00:00\u001b[0m\n",
            "\u001b[?25h  Preparing metadata (setup.py) ... \u001b[?25l\u001b[?25hdone\n",
            "Requirement already satisfied: contourpy>=1.0.1 in /usr/local/lib/python3.10/dist-packages (from matplotlib->pami[spark]) (1.1.1)\n",
            "Requirement already satisfied: cycler>=0.10 in /usr/local/lib/python3.10/dist-packages (from matplotlib->pami[spark]) (0.12.1)\n",
            "Requirement already satisfied: fonttools>=4.22.0 in /usr/local/lib/python3.10/dist-packages (from matplotlib->pami[spark]) (4.43.1)\n",
            "Requirement already satisfied: kiwisolver>=1.0.1 in /usr/local/lib/python3.10/dist-packages (from matplotlib->pami[spark]) (1.4.5)\n",
            "Requirement already satisfied: packaging>=20.0 in /usr/local/lib/python3.10/dist-packages (from matplotlib->pami[spark]) (23.2)\n",
            "Requirement already satisfied: pyparsing>=2.3.1 in /usr/local/lib/python3.10/dist-packages (from matplotlib->pami[spark]) (3.1.1)\n",
            "Requirement already satisfied: python-dateutil>=2.7 in /usr/local/lib/python3.10/dist-packages (from matplotlib->pami[spark]) (2.8.2)\n",
            "Requirement already satisfied: pytz>=2020.1 in /usr/local/lib/python3.10/dist-packages (from pandas->pami[spark]) (2023.3.post1)\n",
            "Requirement already satisfied: tenacity>=6.2.0 in /usr/local/lib/python3.10/dist-packages (from plotly->pami[spark]) (8.2.3)\n",
            "Requirement already satisfied: py4j==0.10.9.7 in /usr/local/lib/python3.10/dist-packages (from pyspark->pami[spark]) (0.10.9.7)\n",
            "Collecting JsonForm>=0.0.2 (from resource->pami[spark])\n",
            "  Downloading JsonForm-0.0.2.tar.gz (2.4 kB)\n",
            "  Preparing metadata (setup.py) ... \u001b[?25l\u001b[?25hdone\n",
            "Collecting JsonSir>=0.0.2 (from resource->pami[spark])\n",
            "  Downloading JsonSir-0.0.2.tar.gz (2.2 kB)\n",
            "  Preparing metadata (setup.py) ... \u001b[?25l\u001b[?25hdone\n",
            "Collecting python-easyconfig>=0.1.0 (from resource->pami[spark])\n",
            "  Downloading Python_EasyConfig-0.1.7-py2.py3-none-any.whl (5.4 kB)\n",
            "Requirement already satisfied: sphinx<8,>=1.6 in /usr/local/lib/python3.10/dist-packages (from sphinx-rtd-theme->pami[spark]) (5.0.2)\n",
            "Requirement already satisfied: docutils<0.19 in /usr/local/lib/python3.10/dist-packages (from sphinx-rtd-theme->pami[spark]) (0.18.1)\n",
            "Collecting sphinxcontrib-jquery<5,>=4 (from sphinx-rtd-theme->pami[spark])\n",
            "  Downloading sphinxcontrib_jquery-4.1-py2.py3-none-any.whl (121 kB)\n",
            "\u001b[2K     \u001b[90m━━━━━━━━━━━━━━━━━━━━━━━━━━━━━━━━━━━━━━━━\u001b[0m \u001b[32m121.1/121.1 kB\u001b[0m \u001b[31m14.3 MB/s\u001b[0m eta \u001b[36m0:00:00\u001b[0m\n",
            "\u001b[?25hRequirement already satisfied: jsonschema in /usr/local/lib/python3.10/dist-packages (from JsonForm>=0.0.2->resource->pami[spark]) (4.19.1)\n",
            "Requirement already satisfied: six>=1.5 in /usr/local/lib/python3.10/dist-packages (from python-dateutil>=2.7->matplotlib->pami[spark]) (1.16.0)\n",
            "Requirement already satisfied: PyYAML in /usr/local/lib/python3.10/dist-packages (from python-easyconfig>=0.1.0->resource->pami[spark]) (6.0.1)\n",
            "Requirement already satisfied: sphinxcontrib-applehelp in /usr/local/lib/python3.10/dist-packages (from sphinx<8,>=1.6->sphinx-rtd-theme->pami[spark]) (1.0.7)\n",
            "Requirement already satisfied: sphinxcontrib-devhelp in /usr/local/lib/python3.10/dist-packages (from sphinx<8,>=1.6->sphinx-rtd-theme->pami[spark]) (1.0.5)\n",
            "Requirement already satisfied: sphinxcontrib-jsmath in /usr/local/lib/python3.10/dist-packages (from sphinx<8,>=1.6->sphinx-rtd-theme->pami[spark]) (1.0.1)\n",
            "Requirement already satisfied: sphinxcontrib-htmlhelp>=2.0.0 in /usr/local/lib/python3.10/dist-packages (from sphinx<8,>=1.6->sphinx-rtd-theme->pami[spark]) (2.0.4)\n",
            "Requirement already satisfied: sphinxcontrib-serializinghtml>=1.1.5 in /usr/local/lib/python3.10/dist-packages (from sphinx<8,>=1.6->sphinx-rtd-theme->pami[spark]) (1.1.9)\n",
            "Requirement already satisfied: sphinxcontrib-qthelp in /usr/local/lib/python3.10/dist-packages (from sphinx<8,>=1.6->sphinx-rtd-theme->pami[spark]) (1.0.6)\n",
            "Requirement already satisfied: Jinja2>=2.3 in /usr/local/lib/python3.10/dist-packages (from sphinx<8,>=1.6->sphinx-rtd-theme->pami[spark]) (3.1.2)\n",
            "Requirement already satisfied: Pygments>=2.0 in /usr/local/lib/python3.10/dist-packages (from sphinx<8,>=1.6->sphinx-rtd-theme->pami[spark]) (2.16.1)\n",
            "Requirement already satisfied: snowballstemmer>=1.1 in /usr/local/lib/python3.10/dist-packages (from sphinx<8,>=1.6->sphinx-rtd-theme->pami[spark]) (2.2.0)\n",
            "Requirement already satisfied: babel>=1.3 in /usr/local/lib/python3.10/dist-packages (from sphinx<8,>=1.6->sphinx-rtd-theme->pami[spark]) (2.13.1)\n",
            "Requirement already satisfied: alabaster<0.8,>=0.7 in /usr/local/lib/python3.10/dist-packages (from sphinx<8,>=1.6->sphinx-rtd-theme->pami[spark]) (0.7.13)\n",
            "Requirement already satisfied: imagesize in /usr/local/lib/python3.10/dist-packages (from sphinx<8,>=1.6->sphinx-rtd-theme->pami[spark]) (1.4.1)\n",
            "Requirement already satisfied: requests>=2.5.0 in /usr/local/lib/python3.10/dist-packages (from sphinx<8,>=1.6->sphinx-rtd-theme->pami[spark]) (2.31.0)\n",
            "Requirement already satisfied: MarkupSafe>=2.0 in /usr/local/lib/python3.10/dist-packages (from Jinja2>=2.3->sphinx<8,>=1.6->sphinx-rtd-theme->pami[spark]) (2.1.3)\n",
            "Requirement already satisfied: charset-normalizer<4,>=2 in /usr/local/lib/python3.10/dist-packages (from requests>=2.5.0->sphinx<8,>=1.6->sphinx-rtd-theme->pami[spark]) (3.3.1)\n",
            "Requirement already satisfied: idna<4,>=2.5 in /usr/local/lib/python3.10/dist-packages (from requests>=2.5.0->sphinx<8,>=1.6->sphinx-rtd-theme->pami[spark]) (3.4)\n",
            "Requirement already satisfied: certifi>=2017.4.17 in /usr/local/lib/python3.10/dist-packages (from requests>=2.5.0->sphinx<8,>=1.6->sphinx-rtd-theme->pami[spark]) (2023.7.22)\n",
            "Requirement already satisfied: attrs>=22.2.0 in /usr/local/lib/python3.10/dist-packages (from jsonschema->JsonForm>=0.0.2->resource->pami[spark]) (23.1.0)\n",
            "Requirement already satisfied: jsonschema-specifications>=2023.03.6 in /usr/local/lib/python3.10/dist-packages (from jsonschema->JsonForm>=0.0.2->resource->pami[spark]) (2023.7.1)\n",
            "Requirement already satisfied: referencing>=0.28.4 in /usr/local/lib/python3.10/dist-packages (from jsonschema->JsonForm>=0.0.2->resource->pami[spark]) (0.30.2)\n",
            "Requirement already satisfied: rpds-py>=0.7.1 in /usr/local/lib/python3.10/dist-packages (from jsonschema->JsonForm>=0.0.2->resource->pami[spark]) (0.10.6)\n",
            "Building wheels for collected packages: pyspark, JsonForm, JsonSir\n",
            "  Building wheel for pyspark (setup.py) ... \u001b[?25l\u001b[?25hdone\n",
            "  Created wheel for pyspark: filename=pyspark-3.5.0-py2.py3-none-any.whl size=317425344 sha256=3461041e0cbfc0e54ca33208c05b0a552cb8931b3cf2ba531eac24630c33baef\n",
            "  Stored in directory: /root/.cache/pip/wheels/41/4e/10/c2cf2467f71c678cfc8a6b9ac9241e5e44a01940da8fbb17fc\n",
            "  Building wheel for JsonForm (setup.py) ... \u001b[?25l\u001b[?25hdone\n",
            "  Created wheel for JsonForm: filename=JsonForm-0.0.2-py3-none-any.whl size=3313 sha256=a4cf9e5e78d11b6abb28e8da293b385c5e9aefca795f90098ccda0b3af2a2651\n",
            "  Stored in directory: /root/.cache/pip/wheels/b6/e5/87/11026246d3bd4ad67c0615682d2d6748bbd9a40ac0490882bd\n",
            "  Building wheel for JsonSir (setup.py) ... \u001b[?25l\u001b[?25hdone\n",
            "  Created wheel for JsonSir: filename=JsonSir-0.0.2-py3-none-any.whl size=4750 sha256=b331cebdf311126e0a2d5cf37d6d7657b0937b391a3783c65164524ec96dbd59\n",
            "  Stored in directory: /root/.cache/pip/wheels/1d/4c/d3/4d9757425983b43eb709be1043d82cd03fb863ce5f56f117e6\n",
            "Successfully built pyspark JsonForm JsonSir\n",
            "Installing collected packages: JsonSir, validators, python-easyconfig, pyspark, JsonForm, resource, sphinxcontrib-jquery, sphinx-rtd-theme, pami\n",
            "Successfully installed JsonForm-0.0.2 JsonSir-0.0.2 pami-2023.10.31.1 pyspark-3.5.0 python-easyconfig-0.1.7 resource-0.2.1 sphinx-rtd-theme-1.3.0 sphinxcontrib-jquery-4.1 validators-0.22.0\n"
          ]
        }
      ]
    },
    {
      "cell_type": "markdown",
      "id": "de947b74-a287-4166-aeeb-050b9b9714f9",
      "metadata": {
        "id": "de947b74-a287-4166-aeeb-050b9b9714f9"
      },
      "source": [
        "#### Step 1: Import the parallelFPGrowth algorithm"
      ]
    },
    {
      "cell_type": "code",
      "execution_count": 4,
      "id": "042a4670-502c-417c-afa5-ce8f4620b8c6",
      "metadata": {
        "id": "042a4670-502c-417c-afa5-ce8f4620b8c6"
      },
      "outputs": [],
      "source": [
        "from PAMI.frequentPattern.pyspark import parallelFPGrowth  as alg"
      ]
    },
    {
      "cell_type": "markdown",
      "id": "052b485e-ae76-477c-b423-7a9a8c49d153",
      "metadata": {
        "id": "052b485e-ae76-477c-b423-7a9a8c49d153"
      },
      "source": [
        "#### Step 2: Specify the following input parameters"
      ]
    },
    {
      "cell_type": "code",
      "execution_count": 5,
      "id": "9d781abf-2a4b-499e-8725-454d99f4eb31",
      "metadata": {
        "id": "9d781abf-2a4b-499e-8725-454d99f4eb31"
      },
      "outputs": [],
      "source": [
        "inputFile = 'Transactional_T10I4D100K.csv'\n",
        "\n",
        "minimumSupportCount=1000  #Users can also specify this constraint between 0 to 1.\n",
        "mumberWorkersCount=4\n",
        "seperator='\\t'"
      ]
    },
    {
      "cell_type": "markdown",
      "id": "92fbc06c-8e5b-4396-82e9-0b337ba54865",
      "metadata": {
        "id": "92fbc06c-8e5b-4396-82e9-0b337ba54865"
      },
      "source": [
        "#### Step 3: Execute the parallelFPGrowth algorithm"
      ]
    },
    {
      "cell_type": "code",
      "execution_count": 6,
      "id": "38ee53a6-d1fd-4266-8c8c-06662540657d",
      "metadata": {
        "id": "38ee53a6-d1fd-4266-8c8c-06662540657d",
        "outputId": "3d3dab6f-6010-40db-db31-6e606fb55d11",
        "colab": {
          "base_uri": "https://localhost:8080/"
        }
      },
      "outputs": [
        {
          "output_type": "stream",
          "name": "stdout",
          "text": [
            "Frequent patterns were generated successfully using Parallel FPGrowth algorithm\n"
          ]
        }
      ],
      "source": [
        "obj = alg.parallelFPGrowth(iFile=inputFile, minSup=minimumSupportCount,numWorkers=mumberWorkersCount, sep=seperator)    #initialize\n",
        "obj.mine()            #Start the mining process"
      ]
    },
    {
      "cell_type": "markdown",
      "id": "3ee3603a-89da-44bb-bcd3-79cfa8db586a",
      "metadata": {
        "id": "3ee3603a-89da-44bb-bcd3-79cfa8db586a"
      },
      "source": [
        "#### Step 4: Storing the generated patterns"
      ]
    },
    {
      "cell_type": "markdown",
      "id": "8bee4a62-9478-46a3-a3a0-42bc4e2f1642",
      "metadata": {
        "id": "8bee4a62-9478-46a3-a3a0-42bc4e2f1642"
      },
      "source": [
        "##### Step 4.1: Storing the generated patterns in a file"
      ]
    },
    {
      "cell_type": "code",
      "execution_count": 7,
      "id": "c18de728-5cb4-446b-adae-872846e30b74",
      "metadata": {
        "id": "c18de728-5cb4-446b-adae-872846e30b74"
      },
      "outputs": [],
      "source": [
        "obj.save(outFile='frequentPatternsMinSupCount1000.txt')"
      ]
    },
    {
      "cell_type": "markdown",
      "id": "62677159-e863-4233-858b-6b5359810c83",
      "metadata": {
        "id": "62677159-e863-4233-858b-6b5359810c83"
      },
      "source": [
        "##### Step 4.2. Storing the generated patterns in a data frame"
      ]
    },
    {
      "cell_type": "code",
      "execution_count": 8,
      "id": "64bdeb08-e80c-4bdf-bb35-d7c67b30f21a",
      "metadata": {
        "id": "64bdeb08-e80c-4bdf-bb35-d7c67b30f21a"
      },
      "outputs": [],
      "source": [
        "frequentPatternsDF= obj.getPatternsAsDataFrame()"
      ]
    },
    {
      "cell_type": "markdown",
      "id": "afc25934-1fa4-42b9-a0b0-1977a4dbd95f",
      "metadata": {
        "id": "afc25934-1fa4-42b9-a0b0-1977a4dbd95f"
      },
      "source": [
        "#### Step 5: Getting the statistics"
      ]
    },
    {
      "cell_type": "markdown",
      "id": "b6136a85-7820-4db8-8fbc-0395ab953aa3",
      "metadata": {
        "id": "b6136a85-7820-4db8-8fbc-0395ab953aa3"
      },
      "source": [
        "##### Step 5.1: Total number of discovered patterns"
      ]
    },
    {
      "cell_type": "code",
      "execution_count": 9,
      "id": "6b5bc0d1-4241-4971-bb23-8ab13ccabdad",
      "metadata": {
        "id": "6b5bc0d1-4241-4971-bb23-8ab13ccabdad",
        "outputId": "d78ae218-ae95-43ef-85c3-eb4725241a41",
        "colab": {
          "base_uri": "https://localhost:8080/"
        }
      },
      "outputs": [
        {
          "output_type": "stream",
          "name": "stdout",
          "text": [
            "Total No of patterns: 385\n"
          ]
        }
      ],
      "source": [
        "print('Total No of patterns: ' + str(len(frequentPatternsDF)))"
      ]
    },
    {
      "cell_type": "markdown",
      "id": "d0506690-7e8a-48a3-a012-33cfb7fb6351",
      "metadata": {
        "id": "d0506690-7e8a-48a3-a012-33cfb7fb6351"
      },
      "source": [
        "##### Step 5.2: Runtime consumed by the mining algorithm"
      ]
    },
    {
      "cell_type": "code",
      "execution_count": 10,
      "id": "55912f44-d238-41f0-9fab-9ad60f08ab21",
      "metadata": {
        "id": "55912f44-d238-41f0-9fab-9ad60f08ab21",
        "outputId": "6fb25bad-0bff-4c04-bd43-d90b2ecf6482",
        "colab": {
          "base_uri": "https://localhost:8080/"
        }
      },
      "outputs": [
        {
          "output_type": "stream",
          "name": "stdout",
          "text": [
            "Runtime: 52.74297761917114\n"
          ]
        }
      ],
      "source": [
        "print('Runtime: ' + str(obj.getRuntime()))"
      ]
    },
    {
      "cell_type": "markdown",
      "id": "ed4866c1-1d34-4be3-9a1b-430710ea296e",
      "metadata": {
        "id": "ed4866c1-1d34-4be3-9a1b-430710ea296e"
      },
      "source": [
        "##### Step 5.3: Total Memory consumed by the mining algorithm"
      ]
    },
    {
      "cell_type": "code",
      "execution_count": 11,
      "id": "880ccc22-2606-4e55-a4ef-2a8deac28efc",
      "metadata": {
        "id": "880ccc22-2606-4e55-a4ef-2a8deac28efc",
        "outputId": "9a792614-1cdf-4e39-9d88-c8966087ca65",
        "colab": {
          "base_uri": "https://localhost:8080/"
        }
      },
      "outputs": [
        {
          "output_type": "stream",
          "name": "stdout",
          "text": [
            "Memory (RSS): 156061696\n",
            "Memory (USS): 107044864\n"
          ]
        }
      ],
      "source": [
        "print('Memory (RSS): ' + str(obj.getMemoryRSS()))\n",
        "print('Memory (USS): ' + str(obj.getMemoryUSS()))"
      ]
    },
    {
      "cell_type": "markdown",
      "source": [
        "# Advanced Tutorial on Implementing parallelFPGrowth Algorithm"
      ],
      "metadata": {
        "collapsed": false,
        "id": "cci0s_fUek_6"
      },
      "id": "cci0s_fUek_6"
    },
    {
      "cell_type": "markdown",
      "source": [
        " In this tutorial, we will discuss the second  approach to find frequent patterns in big data using parallelFPGrowth algorithm.\n",
        "\n",
        "\n",
        "\n",
        " [__Advanced approach:__](#advApproach) Here, we generalize the basic approach by presenting the steps to discover frequent patterns using multiple minimum support values."
      ],
      "metadata": {
        "collapsed": false,
        "id": "kYu-2QKVek_6"
      },
      "id": "kYu-2QKVek_6"
    },
    {
      "cell_type": "markdown",
      "source": [
        "***"
      ],
      "metadata": {
        "collapsed": false,
        "id": "ubeGixe0ek_6"
      },
      "id": "ubeGixe0ek_6"
    },
    {
      "cell_type": "markdown",
      "source": [
        "#### In this tutorial, we explain how the parallel Frequent Pattern Growth (parallelFPGrowth) algorithm  can be implemented by varying the minimum support values"
      ],
      "metadata": {
        "collapsed": false,
        "id": "95_0iS5Eek_7"
      },
      "id": "95_0iS5Eek_7"
    },
    {
      "cell_type": "markdown",
      "source": [
        "#### Step 1: Import the parallelFPGrowth algorithm and pandas data frame"
      ],
      "metadata": {
        "collapsed": false,
        "id": "0V9QMgm8ek_7"
      },
      "id": "0V9QMgm8ek_7"
    },
    {
      "cell_type": "code",
      "execution_count": 12,
      "outputs": [],
      "source": [
        "from PAMI.frequentPattern.pyspark import parallelFPGrowth  as alg\n",
        "import pandas as pd"
      ],
      "metadata": {
        "id": "zrxnNEsrek_7"
      },
      "id": "zrxnNEsrek_7"
    },
    {
      "cell_type": "markdown",
      "source": [
        "#### Step 2: Specify the following input parameters"
      ],
      "metadata": {
        "collapsed": false,
        "id": "qdPm8rgyek_7"
      },
      "id": "qdPm8rgyek_7"
    },
    {
      "cell_type": "code",
      "execution_count": 13,
      "outputs": [],
      "source": [
        "inputFile = 'Transactional_T10I4D100K.csv'\n",
        "seperator='\\t'\n",
        "mumberWorkersCount=4\n",
        "minimumSupportCountList = [1000, 1500, 2000, 2500, 3000]\n",
        "#minimumSupport can also specified between 0 to 1. E.g., minSupList = [0.005, 0.006, 0.007, 0.008, 0.009]\n",
        "\n",
        "result = pd.DataFrame(columns=['algorithm', 'minSup', 'patterns', 'runtime', 'memory'])\n",
        "#initialize a data frame to store the results of parallelFPGrowth algorithm"
      ],
      "metadata": {
        "id": "FH2TMfCdek_8"
      },
      "id": "FH2TMfCdek_8"
    },
    {
      "cell_type": "markdown",
      "source": [
        "#### Step 3: Execute the parallelFPGrowth algorithm using a for loop"
      ],
      "metadata": {
        "collapsed": false,
        "id": "IXjJwCGgek_8"
      },
      "id": "IXjJwCGgek_8"
    },
    {
      "cell_type": "code",
      "execution_count": 14,
      "outputs": [
        {
          "output_type": "stream",
          "name": "stdout",
          "text": [
            "Frequent patterns were generated successfully using Parallel FPGrowth algorithm\n",
            "Frequent patterns were generated successfully using Parallel FPGrowth algorithm\n",
            "Frequent patterns were generated successfully using Parallel FPGrowth algorithm\n",
            "Frequent patterns were generated successfully using Parallel FPGrowth algorithm\n",
            "Frequent patterns were generated successfully using Parallel FPGrowth algorithm\n"
          ]
        }
      ],
      "source": [
        "algorithm = 'parallelFPGrowth'  #specify the algorithm name\n",
        "for minSupCount in minimumSupportCountList:\n",
        "    obj = alg.parallelFPGrowth(inputFile, minSup=minSupCount,numWorkers=mumberWorkersCount, sep=seperator)\n",
        "    obj.mine()\n",
        "    #store the results in the data frame\n",
        "    result.loc[result.shape[0]] = [algorithm, minSupCount, len(obj.getPatterns()), obj.getRuntime(), obj.getMemoryRSS()]\n"
      ],
      "metadata": {
        "id": "mibT7253ek_9",
        "outputId": "e596060c-4d0f-4453-fe4b-17f97330c434",
        "colab": {
          "base_uri": "https://localhost:8080/"
        }
      },
      "id": "mibT7253ek_9"
    },
    {
      "cell_type": "code",
      "execution_count": 15,
      "outputs": [
        {
          "output_type": "stream",
          "name": "stdout",
          "text": [
            "          algorithm  minSup  patterns    runtime     memory\n",
            "0  parallelFPGrowth    1000       385  37.890740  157667328\n",
            "1  parallelFPGrowth    1500       237  23.511300  158306304\n",
            "2  parallelFPGrowth    2000       155  17.560783  158720000\n",
            "3  parallelFPGrowth    2500       107  14.560368  158720000\n",
            "4  parallelFPGrowth    3000        60  10.852414  158720000\n"
          ]
        }
      ],
      "source": [
        "print(result)"
      ],
      "metadata": {
        "id": "ElJEwCWzek_9",
        "outputId": "4415cb59-9215-4ace-d39b-58435c6226e4",
        "colab": {
          "base_uri": "https://localhost:8080/"
        }
      },
      "id": "ElJEwCWzek_9"
    },
    {
      "cell_type": "markdown",
      "source": [
        "#### Step 5: Visualizing the results"
      ],
      "metadata": {
        "collapsed": false,
        "id": "67nJ4Bfeek_-"
      },
      "id": "67nJ4Bfeek_-"
    },
    {
      "cell_type": "markdown",
      "source": [
        "##### Step 5.1 Importing the plot library"
      ],
      "metadata": {
        "collapsed": false,
        "id": "PHXYMoNtek__"
      },
      "id": "PHXYMoNtek__"
    },
    {
      "cell_type": "code",
      "execution_count": 16,
      "outputs": [],
      "source": [
        "from PAMI.extras.graph import plotLineGraphsFromDataFrame as plt"
      ],
      "metadata": {
        "id": "tLE91cQZek__"
      },
      "id": "tLE91cQZek__"
    },
    {
      "cell_type": "markdown",
      "source": [
        "##### Step 5.2. Plotting the number of patterns"
      ],
      "metadata": {
        "collapsed": false,
        "id": "SZD8wVuRelAA"
      },
      "id": "SZD8wVuRelAA"
    },
    {
      "cell_type": "code",
      "execution_count": 17,
      "outputs": [
        {
          "output_type": "display_data",
          "data": {
            "text/plain": [
              "<Figure size 640x480 with 1 Axes>"
            ],
            "image/png": "[encoded data removed]"
          },
          "metadata": {}
        },
        {
          "output_type": "stream",
          "name": "stdout",
          "text": [
            "Graph for No Of Patterns is successfully generated!\n"
          ]
        },
        {
          "output_type": "display_data",
          "data": {
            "text/plain": [
              "<Figure size 640x480 with 1 Axes>"
            ],
            "image/png": "[encoded data removed]"
          },
          "metadata": {}
        },
        {
          "output_type": "stream",
          "name": "stdout",
          "text": [
            "Graph for Runtime taken is successfully generated!\n"
          ]
        },
        {
          "output_type": "display_data",
          "data": {
            "text/plain": [
              "<Figure size 640x480 with 1 Axes>"
            ],
            "image/png": "[encoded data removed]"
          },
          "metadata": {}
        },
        {
          "output_type": "stream",
          "name": "stdout",
          "text": [
            "Graph for memory consumption is successfully generated!\n"
          ]
        }
      ],
      "source": [
        "ab = plt.plotGraphsFromDataFrame(result)\n",
        "ab.plotGraphsFromDataFrame() #drawPlots()"
      ],
      "metadata": {
        "id": "_CDEOjuQelAA",
        "outputId": "1dabf56b-cda9-43d5-84bc-36befe029c94",
        "colab": {
          "base_uri": "https://localhost:8080/",
          "height": 1000
        }
      },
      "id": "_CDEOjuQelAA"
    },
    {
      "cell_type": "markdown",
      "source": [
        "### Step 6: Saving the results as latex files"
      ],
      "metadata": {
        "collapsed": false,
        "id": "cRJ1MQGyelAA"
      },
      "id": "cRJ1MQGyelAA"
    },
    {
      "cell_type": "code",
      "execution_count": 18,
      "outputs": [
        {
          "output_type": "stream",
          "name": "stdout",
          "text": [
            "Latex files generated successfully\n"
          ]
        }
      ],
      "source": [
        "from PAMI.extras.graph import generateLatexFileFromDataFrame as gdf\n",
        "gdf.generateLatexCode(result)"
      ],
      "metadata": {
        "id": "kSXHdFi8elAB",
        "outputId": "9455eac6-6801-400e-eaf4-49354d65fc43",
        "colab": {
          "base_uri": "https://localhost:8080/"
        }
      },
      "id": "kSXHdFi8elAB"
    }
  ],
  "metadata": {
    "kernelspec": {
      "display_name": "Python 3 (ipykernel)",
      "language": "python",
      "name": "python3"
    },
    "language_info": {
      "codemirror_mode": {
        "name": "ipython",
        "version": 3
      },
      "file_extension": ".py",
      "mimetype": "text/x-python",
      "name": "python",
      "nbconvert_exporter": "python",
      "pygments_lexer": "ipython3",
      "version": "3.10.4"
    },
    "colab": {
      "provenance": [],
      "include_colab_link": true
    }
  },
  "nbformat": 4,
  "nbformat_minor": 5
}