{
 "cells": [
  {
   "cell_type": "markdown",
   "id": "e960ba75-7c84-45aa-bbca-f6eca0f8731b",
   "metadata": {
    "tags": []
   },
   "source": [
    "# Advanced Tutorial on Implementing parallel Apriori Algorithm"
   ]
  },
  {
   "cell_type": "markdown",
   "id": "febfd4e8-638f-44cc-802f-f79bfd89d59e",
   "metadata": {},
   "source": [
    "In this tutorial, we will discuss the second approach to find frequent patterns in big data using parallelApriori algorithm.\n",
    "\n",
    "\n",
    "\n",
    "[__Advanced approach:__](#advApproach) Here, we generalize the basic approach by presenting the steps to discover frequent patterns using multiple minimum support values."
   ]
  },
  {
   "cell_type": "markdown",
   "id": "f7fb1145-420c-4ce0-905e-383d013cb11f",
   "metadata": {},
   "source": [
    "***"
   ]
  },
  {
   "cell_type": "markdown",
   "id": "5ca6724f-2ee6-4a56-b1bb-a67b8b37a278",
   "metadata": {},
   "source": [
    "#### In this tutorial, we explain how the parallelApriori algorithm  can be implemented by varying the minimum support values"
   ]
  },
  {
   "cell_type": "markdown",
   "id": "039e1133-be4f-45bb-9aec-4cb4af3b537e",
   "metadata": {},
   "source": [
    "#### Step 1: Import the parallelApriori algorithm and pandas data frame"
   ]
  },
  {
   "cell_type": "code",
   "execution_count": 1,
   "id": "1d312f6c-e7d9-482b-bb7a-821b600c057d",
   "metadata": {},
   "outputs": [],
   "source": [
    "from PAMI.frequentPattern.pyspark import parallelApriori  as alg\n",
    "import pandas as pd"
   ]
  },
  {
   "cell_type": "markdown",
   "id": "16316eaf-892f-4c4e-937d-73007b0bf803",
   "metadata": {},
   "source": [
    "#### Step 2: Specify the following input parameters"
   ]
  },
  {
   "cell_type": "code",
   "execution_count": 2,
   "id": "097f841f-dbf3-40d2-a3c9-130a3a8af003",
   "metadata": {},
   "outputs": [],
   "source": [
    "inputFile = 'transactional_T10I4D100K.csv'\n",
    "seperator='\\t'\n",
    "mumberWorkersCount=4\n",
    "minimumSupportCountList = [1000, 1500, 2000, 2500, 3000] \n",
    "#minimumSupport can also specified between 0 to 1. E.g., minSupList = [0.005, 0.006, 0.007, 0.008, 0.009]\n",
    "\n",
    "result = pd.DataFrame(columns=['algorithm', 'minSup', 'patterns', 'runtime', 'memory']) \n",
    "#initialize a data frame to store the results of parallelApriori algorithm"
   ]
  },
  {
   "cell_type": "markdown",
   "id": "de4e94ed-b3b6-4b34-8a62-5d5f51d87d8f",
   "metadata": {},
   "source": [
    "#### Step 3: Execute the parallelApriori algorithm using a for loop"
   ]
  },
  {
   "cell_type": "code",
   "execution_count": 3,
   "id": "e6224480-20e8-4c77-8a8f-09bade313f2b",
   "metadata": {},
   "outputs": [
    {
     "name": "stderr",
     "output_type": "stream",
     "text": [
      "Using Spark's default log4j profile: org/apache/spark/log4j-defaults.properties\n",
      "Setting default log level to \"WARN\".\n",
      "To adjust logging level use sc.setLogLevel(newLevel). For SparkR, use setLogLevel(newLevel).\n",
      "22/10/10 10:51:42 WARN NativeCodeLoader: Unable to load native-hadoop library for your platform... using builtin-java classes where applicable\n",
      "                                                                                \r"
     ]
    },
    {
     "name": "stdout",
     "output_type": "stream",
     "text": [
      "Frequent patterns were generated successfully using Parallel Apriori algorithm\n"
     ]
    },
    {
     "name": "stderr",
     "output_type": "stream",
     "text": [
      "                                                                                \r"
     ]
    },
    {
     "name": "stdout",
     "output_type": "stream",
     "text": [
      "Frequent patterns were generated successfully using Parallel Apriori algorithm\n"
     ]
    },
    {
     "name": "stderr",
     "output_type": "stream",
     "text": [
      "                                                                                \r"
     ]
    },
    {
     "name": "stdout",
     "output_type": "stream",
     "text": [
      "Frequent patterns were generated successfully using Parallel Apriori algorithm\n"
     ]
    },
    {
     "name": "stderr",
     "output_type": "stream",
     "text": [
      "                                                                                \r"
     ]
    },
    {
     "name": "stdout",
     "output_type": "stream",
     "text": [
      "Frequent patterns were generated successfully using Parallel Apriori algorithm\n"
     ]
    },
    {
     "name": "stderr",
     "output_type": "stream",
     "text": [
      "                                                                                \r"
     ]
    },
    {
     "name": "stdout",
     "output_type": "stream",
     "text": [
      "Frequent patterns were generated successfully using Parallel Apriori algorithm\n"
     ]
    }
   ],
   "source": [
    "algorithm = 'parallelApriori'  #specify the algorithm name\n",
    "for minSupCount in minimumSupportCountList:\n",
    "    obj = alg.parallelApriori('transactional_T10I4D100K.csv', minSup=minSupCount,numWorkers=mumberWorkersCount, sep=seperator)\n",
    "    obj.startMine()\n",
    "    #store the results in the data frame\n",
    "    result.loc[result.shape[0]] = [algorithm, minSupCount, len(obj.getPatterns()), obj.getRuntime(), obj.getMemoryRSS()]\n"
   ]
  },
  {
   "cell_type": "code",
   "execution_count": 4,
   "id": "74c374fa-5269-4cdd-b2c8-6c684e59f915",
   "metadata": {},
   "outputs": [
    {
     "name": "stdout",
     "output_type": "stream",
     "text": [
      "         algorithm  minSup  patterns     runtime     memory\n",
      "0  parallelApriori    1000       385  264.446701  130207744\n",
      "1  parallelApriori    1500       237  104.576302  131133440\n",
      "2  parallelApriori    2000       155   45.308732  131284992\n",
      "3  parallelApriori    2500       107   22.472406  131424256\n",
      "4  parallelApriori    3000        60    8.102086  131424256\n"
     ]
    }
   ],
   "source": [
    "print(result)"
   ]
  },
  {
   "cell_type": "markdown",
   "id": "2da9f7bc-f1e2-4225-bc1b-8ba7e3a96f8d",
   "metadata": {},
   "source": [
    "#### Step 5: Visualizing the results"
   ]
  },
  {
   "cell_type": "markdown",
   "id": "677a1f49-fdf5-44f7-889b-dfb7891d5837",
   "metadata": {},
   "source": [
    "##### Step 5.1 Importing the plot library"
   ]
  },
  {
   "cell_type": "code",
   "execution_count": 5,
   "id": "4a04c12b-33c2-42d5-9fb2-df563844f1b2",
   "metadata": {},
   "outputs": [],
   "source": [
    "from PAMI.extras.graph import plotLineGraphsFromDataFrame as plt"
   ]
  },
  {
   "cell_type": "markdown",
   "id": "bf37a8b6-a205-4d7f-86c6-81c41c90ebbf",
   "metadata": {},
   "source": [
    "##### Step 5.2. Plotting the number of patterns"
   ]
  },
  {
   "cell_type": "code",
   "execution_count": 6,
   "id": "065029aa-9346-4d2b-a0a3-ec70ec4f9116",
   "metadata": {},
   "outputs": [
    {
     "data": {
      "image/png": "[encoded data removed]",
      "text/plain": [
       "<Figure size 432x288 with 1 Axes>"
      ]
     },
     "metadata": {
      "needs_background": "light"
     },
     "output_type": "display_data"
    },
    {
     "name": "stdout",
     "output_type": "stream",
     "text": [
      "Graph for No Of Patterns is successfully generated!\n"
     ]
    },
    {
     "data": {
      "image/png": "[encoded data removed]",
      "text/plain": [
       "<Figure size 432x288 with 1 Axes>"
      ]
     },
     "metadata": {
      "needs_background": "light"
     },
     "output_type": "display_data"
    },
    {
     "name": "stdout",
     "output_type": "stream",
     "text": [
      "Graph for Runtime taken is successfully generated!\n"
     ]
    },
    {
     "data": {
      "image/png": "[encoded data removed]",
      "text/plain": [
       "<Figure size 432x288 with 1 Axes>"
      ]
     },
     "metadata": {
      "needs_background": "light"
     },
     "output_type": "display_data"
    },
    {
     "name": "stdout",
     "output_type": "stream",
     "text": [
      "Graph for memory consumption is successfully generated!\n"
     ]
    }
   ],
   "source": [
    "ab = plt.plotGraphsFromDataFrame(result)\n",
    "ab.plotGraphsFromDataFrame() #drawPlots()"
   ]
  },
  {
   "cell_type": "markdown",
   "id": "d10b6e2d-e186-45c7-a143-d6733c5a901e",
   "metadata": {},
   "source": [
    "### Step 6: Saving the results as latex files"
   ]
  },
  {
   "cell_type": "code",
   "execution_count": 7,
   "id": "687669cd-1183-4d1a-b262-5437af119662",
   "metadata": {},
   "outputs": [
    {
     "name": "stdout",
     "output_type": "stream",
     "text": [
      "Latex files generated successfully\n"
     ]
    }
   ],
   "source": [
    "from PAMI.extras.graph import generateLatexFileFromDataFrame as gdf\n",
    "gdf.generateLatexCode(result)"
   ]
  }
 ],
 "metadata": {
  "kernelspec": {
   "display_name": "Python 3 (ipykernel)",
   "language": "python",
   "name": "python3"
  },
  "language_info": {
   "codemirror_mode": {
    "name": "ipython",
    "version": 3
   },
   "file_extension": ".py",
   "mimetype": "text/x-python",
   "name": "python",
   "nbconvert_exporter": "python",
   "pygments_lexer": "ipython3",
   "version": "3.10.4"
  },
  "toc-autonumbering": false
 },
 "nbformat": 4,
 "nbformat_minor": 5
}
