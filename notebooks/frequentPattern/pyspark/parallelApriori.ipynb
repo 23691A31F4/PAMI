{
  "cells": [
    {
      "cell_type": "markdown",
      "metadata": {
        "id": "view-in-github",
        "colab_type": "text"
      },
      "source": [
        "<a href=\"https://colab.research.google.com/github/vanithakattumuri/PAMI/blob/main/notebooks/frequentPattern/pyspark/parallelApriori.ipynb\" target=\"_parent\"><img src=\"https://colab.research.google.com/assets/colab-badge.svg\" alt=\"Open In Colab\"/></a>"
      ]
    },
    {
      "cell_type": "markdown",
      "id": "e960ba75-7c84-45aa-bbca-f6eca0f8731b",
      "metadata": {
        "tags": [],
        "id": "e960ba75-7c84-45aa-bbca-f6eca0f8731b"
      },
      "source": [
        "# Discovering Frequent Patterns in Big Data Using parallelApriori Algorithm"
      ]
    },
    {
      "cell_type": "markdown",
      "id": "d71c53a8-9c59-4220-ad59-92ec26b39c42",
      "metadata": {
        "id": "d71c53a8-9c59-4220-ad59-92ec26b39c42"
      },
      "source": [
        "In this tutorial, we will discuss the first approach to find frequent patterns in big data using parallelApriori algorithm.\n",
        "\n",
        "[__Basic approach:__](#basicApproach) Here, we present the steps to discover frequent patterns using a single minimum support value"
      ]
    },
    {
      "cell_type": "markdown",
      "id": "f7fb1145-420c-4ce0-905e-383d013cb11f",
      "metadata": {
        "id": "f7fb1145-420c-4ce0-905e-383d013cb11f"
      },
      "source": [
        "***"
      ]
    },
    {
      "cell_type": "markdown",
      "id": "1f5910aa-1ab5-4a86-bf02-69d3541dc453",
      "metadata": {
        "id": "1f5910aa-1ab5-4a86-bf02-69d3541dc453"
      },
      "source": [
        "## <a id='basicApproach'>Basic approach: Executing parallelApriori on a single dataset at a particular minimum support value</a>"
      ]
    },
    {
      "cell_type": "markdown",
      "source": [
        "#### Step 0: install required respositories and inputs"
      ],
      "metadata": {
        "collapsed": false,
        "id": "etcOBfTVRq2Z"
      },
      "id": "etcOBfTVRq2Z"
    },
    {
      "cell_type": "markdown",
      "source": [
        "##### Step 0.1: Mounting to the drive"
      ],
      "metadata": {
        "id": "o4FxAh8K585R"
      },
      "id": "o4FxAh8K585R"
    },
    {
      "cell_type": "code",
      "source": [
        "from google.colab import drive\n",
        "drive.mount('/content/drive')"
      ],
      "metadata": {
        "id": "R0X6y7DuCpHv",
        "outputId": "c6520772-f20f-46a7-d12b-82709ec29ddf",
        "colab": {
          "base_uri": "https://localhost:8080/"
        }
      },
      "id": "R0X6y7DuCpHv",
      "execution_count": 1,
      "outputs": [
        {
          "output_type": "stream",
          "name": "stdout",
          "text": [
            "Drive already mounted at /content/drive; to attempt to forcibly remount, call drive.mount(\"/content/drive\", force_remount=True).\n"
          ]
        }
      ]
    },
    {
      "cell_type": "markdown",
      "source": [
        "##### Step 0.2: Dowloading the transactional dataset"
      ],
      "metadata": {
        "id": "44UrwZAo5Isa"
      },
      "id": "44UrwZAo5Isa"
    },
    {
      "cell_type": "code",
      "source": [
        "!wget 'https://u-aizu.ac.jp/~udayrage/datasets/transactionalDatabases/Transactional_T10I4D100K.csv'"
      ],
      "metadata": {
        "id": "LyuiyVMdC5Je",
        "outputId": "19efd116-412d-4ba7-8419-54708e4d13e1",
        "colab": {
          "base_uri": "https://localhost:8080/"
        }
      },
      "id": "LyuiyVMdC5Je",
      "execution_count": 2,
      "outputs": [
        {
          "output_type": "stream",
          "name": "stdout",
          "text": [
            "--2023-11-06 22:53:49--  https://u-aizu.ac.jp/~udayrage/datasets/transactionalDatabases/Transactional_T10I4D100K.csv\n",
            "Resolving u-aizu.ac.jp (u-aizu.ac.jp)... 150.95.161.176, 150.31.244.160\n",
            "Connecting to u-aizu.ac.jp (u-aizu.ac.jp)|150.95.161.176|:443... connected.\n",
            "HTTP request sent, awaiting response... 200 OK\n",
            "Length: 4019277 (3.8M) [text/csv]\n",
            "Saving to: ‘Transactional_T10I4D100K.csv’\n",
            "\n",
            "Transactional_T10I4 100%[===================>]   3.83M  1014KB/s    in 3.9s    \n",
            "\n",
            "2023-11-06 22:53:54 (1014 KB/s) - ‘Transactional_T10I4D100K.csv’ saved [4019277/4019277]\n",
            "\n"
          ]
        }
      ]
    },
    {
      "cell_type": "markdown",
      "source": [
        "##### Step 0.3: install pami repository"
      ],
      "metadata": {
        "id": "8zVfvlae5j70"
      },
      "id": "8zVfvlae5j70"
    },
    {
      "cell_type": "code",
      "execution_count": 3,
      "outputs": [
        {
          "output_type": "stream",
          "name": "stdout",
          "text": [
            "Requirement already satisfied: pami[spark] in /usr/local/lib/python3.10/dist-packages (2023.10.31.1)\n",
            "Requirement already satisfied: psutil in /usr/local/lib/python3.10/dist-packages (from pami[spark]) (5.9.5)\n",
            "Requirement already satisfied: pandas in /usr/local/lib/python3.10/dist-packages (from pami[spark]) (1.5.3)\n",
            "Requirement already satisfied: plotly in /usr/local/lib/python3.10/dist-packages (from pami[spark]) (5.15.0)\n",
            "Requirement already satisfied: matplotlib in /usr/local/lib/python3.10/dist-packages (from pami[spark]) (3.7.1)\n",
            "Requirement already satisfied: resource in /usr/local/lib/python3.10/dist-packages (from pami[spark]) (0.2.1)\n",
            "Requirement already satisfied: validators in /usr/local/lib/python3.10/dist-packages (from pami[spark]) (0.22.0)\n",
            "Requirement already satisfied: urllib3 in /usr/local/lib/python3.10/dist-packages (from pami[spark]) (2.0.7)\n",
            "Requirement already satisfied: Pillow in /usr/local/lib/python3.10/dist-packages (from pami[spark]) (9.4.0)\n",
            "Requirement already satisfied: numpy in /usr/local/lib/python3.10/dist-packages (from pami[spark]) (1.23.5)\n",
            "Requirement already satisfied: sphinx-rtd-theme in /usr/local/lib/python3.10/dist-packages (from pami[spark]) (1.3.0)\n",
            "Requirement already satisfied: pyspark in /usr/local/lib/python3.10/dist-packages (from pami[spark]) (3.5.0)\n",
            "Requirement already satisfied: contourpy>=1.0.1 in /usr/local/lib/python3.10/dist-packages (from matplotlib->pami[spark]) (1.1.1)\n",
            "Requirement already satisfied: cycler>=0.10 in /usr/local/lib/python3.10/dist-packages (from matplotlib->pami[spark]) (0.12.1)\n",
            "Requirement already satisfied: fonttools>=4.22.0 in /usr/local/lib/python3.10/dist-packages (from matplotlib->pami[spark]) (4.43.1)\n",
            "Requirement already satisfied: kiwisolver>=1.0.1 in /usr/local/lib/python3.10/dist-packages (from matplotlib->pami[spark]) (1.4.5)\n",
            "Requirement already satisfied: packaging>=20.0 in /usr/local/lib/python3.10/dist-packages (from matplotlib->pami[spark]) (23.2)\n",
            "Requirement already satisfied: pyparsing>=2.3.1 in /usr/local/lib/python3.10/dist-packages (from matplotlib->pami[spark]) (3.1.1)\n",
            "Requirement already satisfied: python-dateutil>=2.7 in /usr/local/lib/python3.10/dist-packages (from matplotlib->pami[spark]) (2.8.2)\n",
            "Requirement already satisfied: pytz>=2020.1 in /usr/local/lib/python3.10/dist-packages (from pandas->pami[spark]) (2023.3.post1)\n",
            "Requirement already satisfied: tenacity>=6.2.0 in /usr/local/lib/python3.10/dist-packages (from plotly->pami[spark]) (8.2.3)\n",
            "Requirement already satisfied: py4j==0.10.9.7 in /usr/local/lib/python3.10/dist-packages (from pyspark->pami[spark]) (0.10.9.7)\n",
            "Requirement already satisfied: JsonForm>=0.0.2 in /usr/local/lib/python3.10/dist-packages (from resource->pami[spark]) (0.0.2)\n",
            "Requirement already satisfied: JsonSir>=0.0.2 in /usr/local/lib/python3.10/dist-packages (from resource->pami[spark]) (0.0.2)\n",
            "Requirement already satisfied: python-easyconfig>=0.1.0 in /usr/local/lib/python3.10/dist-packages (from resource->pami[spark]) (0.1.7)\n",
            "Requirement already satisfied: sphinx<8,>=1.6 in /usr/local/lib/python3.10/dist-packages (from sphinx-rtd-theme->pami[spark]) (5.0.2)\n",
            "Requirement already satisfied: docutils<0.19 in /usr/local/lib/python3.10/dist-packages (from sphinx-rtd-theme->pami[spark]) (0.18.1)\n",
            "Requirement already satisfied: sphinxcontrib-jquery<5,>=4 in /usr/local/lib/python3.10/dist-packages (from sphinx-rtd-theme->pami[spark]) (4.1)\n",
            "Requirement already satisfied: jsonschema in /usr/local/lib/python3.10/dist-packages (from JsonForm>=0.0.2->resource->pami[spark]) (4.19.1)\n",
            "Requirement already satisfied: six>=1.5 in /usr/local/lib/python3.10/dist-packages (from python-dateutil>=2.7->matplotlib->pami[spark]) (1.16.0)\n",
            "Requirement already satisfied: PyYAML in /usr/local/lib/python3.10/dist-packages (from python-easyconfig>=0.1.0->resource->pami[spark]) (6.0.1)\n",
            "Requirement already satisfied: sphinxcontrib-applehelp in /usr/local/lib/python3.10/dist-packages (from sphinx<8,>=1.6->sphinx-rtd-theme->pami[spark]) (1.0.7)\n",
            "Requirement already satisfied: sphinxcontrib-devhelp in /usr/local/lib/python3.10/dist-packages (from sphinx<8,>=1.6->sphinx-rtd-theme->pami[spark]) (1.0.5)\n",
            "Requirement already satisfied: sphinxcontrib-jsmath in /usr/local/lib/python3.10/dist-packages (from sphinx<8,>=1.6->sphinx-rtd-theme->pami[spark]) (1.0.1)\n",
            "Requirement already satisfied: sphinxcontrib-htmlhelp>=2.0.0 in /usr/local/lib/python3.10/dist-packages (from sphinx<8,>=1.6->sphinx-rtd-theme->pami[spark]) (2.0.4)\n",
            "Requirement already satisfied: sphinxcontrib-serializinghtml>=1.1.5 in /usr/local/lib/python3.10/dist-packages (from sphinx<8,>=1.6->sphinx-rtd-theme->pami[spark]) (1.1.9)\n",
            "Requirement already satisfied: sphinxcontrib-qthelp in /usr/local/lib/python3.10/dist-packages (from sphinx<8,>=1.6->sphinx-rtd-theme->pami[spark]) (1.0.6)\n",
            "Requirement already satisfied: Jinja2>=2.3 in /usr/local/lib/python3.10/dist-packages (from sphinx<8,>=1.6->sphinx-rtd-theme->pami[spark]) (3.1.2)\n",
            "Requirement already satisfied: Pygments>=2.0 in /usr/local/lib/python3.10/dist-packages (from sphinx<8,>=1.6->sphinx-rtd-theme->pami[spark]) (2.16.1)\n",
            "Requirement already satisfied: snowballstemmer>=1.1 in /usr/local/lib/python3.10/dist-packages (from sphinx<8,>=1.6->sphinx-rtd-theme->pami[spark]) (2.2.0)\n",
            "Requirement already satisfied: babel>=1.3 in /usr/local/lib/python3.10/dist-packages (from sphinx<8,>=1.6->sphinx-rtd-theme->pami[spark]) (2.13.1)\n",
            "Requirement already satisfied: alabaster<0.8,>=0.7 in /usr/local/lib/python3.10/dist-packages (from sphinx<8,>=1.6->sphinx-rtd-theme->pami[spark]) (0.7.13)\n",
            "Requirement already satisfied: imagesize in /usr/local/lib/python3.10/dist-packages (from sphinx<8,>=1.6->sphinx-rtd-theme->pami[spark]) (1.4.1)\n",
            "Requirement already satisfied: requests>=2.5.0 in /usr/local/lib/python3.10/dist-packages (from sphinx<8,>=1.6->sphinx-rtd-theme->pami[spark]) (2.31.0)\n",
            "Requirement already satisfied: MarkupSafe>=2.0 in /usr/local/lib/python3.10/dist-packages (from Jinja2>=2.3->sphinx<8,>=1.6->sphinx-rtd-theme->pami[spark]) (2.1.3)\n",
            "Requirement already satisfied: charset-normalizer<4,>=2 in /usr/local/lib/python3.10/dist-packages (from requests>=2.5.0->sphinx<8,>=1.6->sphinx-rtd-theme->pami[spark]) (3.3.1)\n",
            "Requirement already satisfied: idna<4,>=2.5 in /usr/local/lib/python3.10/dist-packages (from requests>=2.5.0->sphinx<8,>=1.6->sphinx-rtd-theme->pami[spark]) (3.4)\n",
            "Requirement already satisfied: certifi>=2017.4.17 in /usr/local/lib/python3.10/dist-packages (from requests>=2.5.0->sphinx<8,>=1.6->sphinx-rtd-theme->pami[spark]) (2023.7.22)\n",
            "Requirement already satisfied: attrs>=22.2.0 in /usr/local/lib/python3.10/dist-packages (from jsonschema->JsonForm>=0.0.2->resource->pami[spark]) (23.1.0)\n",
            "Requirement already satisfied: jsonschema-specifications>=2023.03.6 in /usr/local/lib/python3.10/dist-packages (from jsonschema->JsonForm>=0.0.2->resource->pami[spark]) (2023.7.1)\n",
            "Requirement already satisfied: referencing>=0.28.4 in /usr/local/lib/python3.10/dist-packages (from jsonschema->JsonForm>=0.0.2->resource->pami[spark]) (0.30.2)\n",
            "Requirement already satisfied: rpds-py>=0.7.1 in /usr/local/lib/python3.10/dist-packages (from jsonschema->JsonForm>=0.0.2->resource->pami[spark]) (0.10.6)\n"
          ]
        }
      ],
      "source": [
        "!pip install -U 'pami[spark]'"
      ],
      "metadata": {
        "id": "Kz5f6ohqRq2a",
        "outputId": "53d90dc9-6e90-41b5-a853-3b1505a43f6c",
        "colab": {
          "base_uri": "https://localhost:8080/"
        }
      },
      "id": "Kz5f6ohqRq2a"
    },
    {
      "cell_type": "markdown",
      "source": [
        "#### Step 1: Import the parallelApriori algorithm"
      ],
      "metadata": {
        "collapsed": false,
        "id": "_HBhM50VRq2c"
      },
      "id": "_HBhM50VRq2c"
    },
    {
      "cell_type": "code",
      "execution_count": 4,
      "id": "042a4670-502c-417c-afa5-ce8f4620b8c6",
      "metadata": {
        "id": "042a4670-502c-417c-afa5-ce8f4620b8c6"
      },
      "outputs": [],
      "source": [
        "from PAMI.frequentPattern.pyspark import parallelApriori  as alg"
      ]
    },
    {
      "cell_type": "markdown",
      "id": "052b485e-ae76-477c-b423-7a9a8c49d153",
      "metadata": {
        "id": "052b485e-ae76-477c-b423-7a9a8c49d153"
      },
      "source": [
        "#### Step 2: Specify the following input parameters"
      ]
    },
    {
      "cell_type": "code",
      "execution_count": 5,
      "id": "9d781abf-2a4b-499e-8725-454d99f4eb31",
      "metadata": {
        "id": "9d781abf-2a4b-499e-8725-454d99f4eb31"
      },
      "outputs": [],
      "source": [
        "inputFile = \"Transactional_T10I4D100K.csv\"\n",
        "\n",
        "minimumSupportCount=2000  #Users can also specify this constraint between 0 to 1.\n",
        "mumberWorkersCount=4\n",
        "seperator='\\t'"
      ]
    },
    {
      "cell_type": "markdown",
      "id": "92fbc06c-8e5b-4396-82e9-0b337ba54865",
      "metadata": {
        "id": "92fbc06c-8e5b-4396-82e9-0b337ba54865"
      },
      "source": [
        "#### Step 3: Execute the parallelApriori algorithm"
      ]
    },
    {
      "cell_type": "code",
      "execution_count": 6,
      "id": "38ee53a6-d1fd-4266-8c8c-06662540657d",
      "metadata": {
        "id": "38ee53a6-d1fd-4266-8c8c-06662540657d",
        "outputId": "df945827-904a-4482-e67c-1c3995ea3b83",
        "colab": {
          "base_uri": "https://localhost:8080/"
        }
      },
      "outputs": [
        {
          "output_type": "stream",
          "name": "stdout",
          "text": [
            "Frequent patterns were generated successfully using Parallel Apriori algorithm\n"
          ]
        }
      ],
      "source": [
        "obj = alg.parallelApriori(iFile=inputFile, minSup=minimumSupportCount,numWorkers=mumberWorkersCount, sep=seperator)    #initialize\n",
        "obj.mine()            #Start the mining process"
      ]
    },
    {
      "cell_type": "markdown",
      "id": "3ee3603a-89da-44bb-bcd3-79cfa8db586a",
      "metadata": {
        "id": "3ee3603a-89da-44bb-bcd3-79cfa8db586a"
      },
      "source": [
        "#### Step 4: Storing the generated patterns"
      ]
    },
    {
      "cell_type": "markdown",
      "id": "8bee4a62-9478-46a3-a3a0-42bc4e2f1642",
      "metadata": {
        "id": "8bee4a62-9478-46a3-a3a0-42bc4e2f1642"
      },
      "source": [
        "##### Step 4.1: Storing the generated patterns in a file"
      ]
    },
    {
      "cell_type": "code",
      "execution_count": 7,
      "id": "c18de728-5cb4-446b-adae-872846e30b74",
      "metadata": {
        "id": "c18de728-5cb4-446b-adae-872846e30b74"
      },
      "outputs": [],
      "source": [
        "obj.save(outFile='frequentPatternsMinSupCount2000.txt')"
      ]
    },
    {
      "cell_type": "markdown",
      "id": "62677159-e863-4233-858b-6b5359810c83",
      "metadata": {
        "id": "62677159-e863-4233-858b-6b5359810c83"
      },
      "source": [
        "##### Step 4.2. Storing the generated patterns in a data frame"
      ]
    },
    {
      "cell_type": "code",
      "execution_count": 8,
      "id": "64bdeb08-e80c-4bdf-bb35-d7c67b30f21a",
      "metadata": {
        "id": "64bdeb08-e80c-4bdf-bb35-d7c67b30f21a"
      },
      "outputs": [],
      "source": [
        "frequentPatternsDF= obj.getPatternsAsDataFrame()"
      ]
    },
    {
      "cell_type": "markdown",
      "id": "afc25934-1fa4-42b9-a0b0-1977a4dbd95f",
      "metadata": {
        "id": "afc25934-1fa4-42b9-a0b0-1977a4dbd95f"
      },
      "source": [
        "#### Step 5: Getting the statistics"
      ]
    },
    {
      "cell_type": "markdown",
      "id": "b6136a85-7820-4db8-8fbc-0395ab953aa3",
      "metadata": {
        "id": "b6136a85-7820-4db8-8fbc-0395ab953aa3"
      },
      "source": [
        "##### Step 5.1: Total number of discovered patterns"
      ]
    },
    {
      "cell_type": "code",
      "execution_count": 9,
      "id": "6b5bc0d1-4241-4971-bb23-8ab13ccabdad",
      "metadata": {
        "id": "6b5bc0d1-4241-4971-bb23-8ab13ccabdad",
        "outputId": "0d906e87-bac4-4979-d9b1-81eceea3be1c",
        "colab": {
          "base_uri": "https://localhost:8080/"
        }
      },
      "outputs": [
        {
          "output_type": "stream",
          "name": "stdout",
          "text": [
            "Total No of patterns: 155\n"
          ]
        }
      ],
      "source": [
        "print('Total No of patterns: ' + str(len(frequentPatternsDF)))"
      ]
    },
    {
      "cell_type": "markdown",
      "id": "d0506690-7e8a-48a3-a012-33cfb7fb6351",
      "metadata": {
        "id": "d0506690-7e8a-48a3-a012-33cfb7fb6351"
      },
      "source": [
        "##### Step 5.2: Runtime consumed by the mining algorithm"
      ]
    },
    {
      "cell_type": "code",
      "execution_count": 10,
      "id": "55912f44-d238-41f0-9fab-9ad60f08ab21",
      "metadata": {
        "id": "55912f44-d238-41f0-9fab-9ad60f08ab21",
        "outputId": "014a3fbc-4212-4a18-8c0c-11cf2eb26c81",
        "colab": {
          "base_uri": "https://localhost:8080/"
        }
      },
      "outputs": [
        {
          "output_type": "stream",
          "name": "stdout",
          "text": [
            "Runtime: 324.14917278289795\n"
          ]
        }
      ],
      "source": [
        "print('Runtime: ' + str(obj.getRuntime()))"
      ]
    },
    {
      "cell_type": "markdown",
      "id": "365cd0af-edf2-4fea-86b3-58209245ea1c",
      "metadata": {
        "id": "365cd0af-edf2-4fea-86b3-58209245ea1c"
      },
      "source": [
        "##### Step 5.3: Total Memory consumed by the mining algorithm"
      ]
    },
    {
      "cell_type": "code",
      "execution_count": 11,
      "id": "880ccc22-2606-4e55-a4ef-2a8deac28efc",
      "metadata": {
        "id": "880ccc22-2606-4e55-a4ef-2a8deac28efc",
        "outputId": "95479924-9c15-42a2-e03f-8cf048e049ea",
        "colab": {
          "base_uri": "https://localhost:8080/"
        }
      },
      "outputs": [
        {
          "output_type": "stream",
          "name": "stdout",
          "text": [
            "Memory (RSS): 157577216\n",
            "Memory (USS): 108404736\n"
          ]
        }
      ],
      "source": [
        "print('Memory (RSS): ' + str(obj.getMemoryRSS()))\n",
        "print('Memory (USS): ' + str(obj.getMemoryUSS()))"
      ]
    },
    {
      "cell_type": "markdown",
      "source": [
        "# Advanced Tutorial on Implementing parallel Apriori Algorithm"
      ],
      "metadata": {
        "collapsed": false,
        "id": "ptLRGgOaRq2i"
      },
      "id": "ptLRGgOaRq2i"
    },
    {
      "cell_type": "markdown",
      "source": [
        "In this tutorial, we will discuss the second approach to find frequent patterns in big data using parallelApriori algorithm.\n",
        "\n",
        "\n",
        "\n",
        "[__Advanced approach:__](#advApproach) Here, we generalize the basic approach by presenting the steps to discover frequent patterns using multiple minimum support values."
      ],
      "metadata": {
        "collapsed": false,
        "id": "N2NxXqusRq2i"
      },
      "id": "N2NxXqusRq2i"
    },
    {
      "cell_type": "markdown",
      "source": [
        "***"
      ],
      "metadata": {
        "collapsed": false,
        "id": "_NMqhZBCRq2i"
      },
      "id": "_NMqhZBCRq2i"
    },
    {
      "cell_type": "markdown",
      "source": [
        "#### In this tutorial, we explain how the parallelApriori algorithm  can be implemented by varying the minimum support values"
      ],
      "metadata": {
        "collapsed": false,
        "id": "UyRePxO9Rq2i"
      },
      "id": "UyRePxO9Rq2i"
    },
    {
      "cell_type": "markdown",
      "source": [
        "#### Step 1: Import the parallelApriori algorithm and pandas data frame"
      ],
      "metadata": {
        "collapsed": false,
        "id": "KZ97y4C5Rq2i"
      },
      "id": "KZ97y4C5Rq2i"
    },
    {
      "cell_type": "code",
      "execution_count": 12,
      "outputs": [],
      "source": [
        "from PAMI.frequentPattern.pyspark import parallelApriori  as alg\n",
        "import pandas as pd"
      ],
      "metadata": {
        "id": "Mh27qc3_Rq2j"
      },
      "id": "Mh27qc3_Rq2j"
    },
    {
      "cell_type": "markdown",
      "source": [
        "#### Step 2: Specify the following input parameters"
      ],
      "metadata": {
        "collapsed": false,
        "id": "yVs7m3jZRq2j"
      },
      "id": "yVs7m3jZRq2j"
    },
    {
      "cell_type": "code",
      "execution_count": 13,
      "outputs": [],
      "source": [
        "inputFile = 'Transactional_T10I4D100K.csv'\n",
        "seperator='\\t'\n",
        "mumberWorkersCount=4\n",
        "minimumSupportCountList = [2000, 2500, 3000, 3500, 4000]\n",
        "#minimumSupport can also specified between 0 to 1. E.g., minSupList = [0.005, 0.006, 0.007, 0.008, 0.009]\n",
        "\n",
        "result = pd.DataFrame(columns=['algorithm', 'minSup', 'patterns', 'runtime', 'memory'])\n",
        "#initialize a data frame to store the results of parallelApriori algorithm"
      ],
      "metadata": {
        "id": "st9eEN1jRq2j"
      },
      "id": "st9eEN1jRq2j"
    },
    {
      "cell_type": "markdown",
      "source": [
        "#### Step 3: Execute the parallelApriori algorithm using a for loop"
      ],
      "metadata": {
        "collapsed": false,
        "id": "8NuDxcP_Rq2k"
      },
      "id": "8NuDxcP_Rq2k"
    },
    {
      "cell_type": "code",
      "execution_count": 14,
      "outputs": [
        {
          "output_type": "stream",
          "name": "stdout",
          "text": [
            "Frequent patterns were generated successfully using Parallel Apriori algorithm\n",
            "Frequent patterns were generated successfully using Parallel Apriori algorithm\n",
            "Frequent patterns were generated successfully using Parallel Apriori algorithm\n",
            "Frequent patterns were generated successfully using Parallel Apriori algorithm\n",
            "Frequent patterns were generated successfully using Parallel Apriori algorithm\n"
          ]
        }
      ],
      "source": [
        "algorithm = 'parallelApriori'  #specify the algorithm name\n",
        "for minSupCount in minimumSupportCountList:\n",
        "    obj = alg.parallelApriori(inputFile, minSup=minSupCount,numWorkers=mumberWorkersCount, sep=seperator)\n",
        "    obj.mine()\n",
        "    #store the results in the data frame\n",
        "    result.loc[result.shape[0]] = [algorithm, minSupCount, len(obj.getPatterns()), obj.getRuntime(), obj.getMemoryRSS()]\n"
      ],
      "metadata": {
        "id": "rQSzb6k0Rq2l",
        "outputId": "ab91e42c-44c0-42a7-e55f-f384fbaabff1",
        "colab": {
          "base_uri": "https://localhost:8080/"
        }
      },
      "id": "rQSzb6k0Rq2l"
    },
    {
      "cell_type": "code",
      "execution_count": 15,
      "outputs": [
        {
          "output_type": "stream",
          "name": "stdout",
          "text": [
            "         algorithm  minSup  patterns     runtime     memory\n",
            "0  parallelApriori    2000       155  295.858664  158625792\n",
            "1  parallelApriori    2500       107  149.115680  159465472\n",
            "2  parallelApriori    3000        60   50.391376  159748096\n",
            "3  parallelApriori    3500        40   29.598261  159748096\n",
            "4  parallelApriori    4000        26   19.518529  159748096\n"
          ]
        }
      ],
      "source": [
        "print(result)"
      ],
      "metadata": {
        "id": "xvk5lOiRRq2l",
        "outputId": "58262cc7-cf5f-4782-f8a6-17dccec4ed45",
        "colab": {
          "base_uri": "https://localhost:8080/"
        }
      },
      "id": "xvk5lOiRRq2l"
    },
    {
      "cell_type": "markdown",
      "source": [
        "#### Step 5: Visualizing the results"
      ],
      "metadata": {
        "collapsed": false,
        "id": "BFq3ZBcXRq2m"
      },
      "id": "BFq3ZBcXRq2m"
    },
    {
      "cell_type": "markdown",
      "source": [
        "##### Step 5.1 Importing the plot library"
      ],
      "metadata": {
        "collapsed": false,
        "id": "hMJRk4onRq2n"
      },
      "id": "hMJRk4onRq2n"
    },
    {
      "cell_type": "code",
      "execution_count": 16,
      "outputs": [],
      "source": [
        "from PAMI.extras.graph import plotLineGraphsFromDataFrame as plt"
      ],
      "metadata": {
        "id": "G5uZLBXqRq2n"
      },
      "id": "G5uZLBXqRq2n"
    },
    {
      "cell_type": "markdown",
      "source": [
        "##### Step 5.2. Plotting the number of patterns"
      ],
      "metadata": {
        "collapsed": false,
        "id": "wtFz3gbCRq2o"
      },
      "id": "wtFz3gbCRq2o"
    },
    {
      "cell_type": "code",
      "execution_count": 17,
      "outputs": [
        {
          "output_type": "display_data",
          "data": {
            "text/plain": [
              "<Figure size 640x480 with 1 Axes>"
            ],
            "image/png": "[encoded data removed]"
          },
          "metadata": {}
        },
        {
          "output_type": "stream",
          "name": "stdout",
          "text": [
            "Graph for No Of Patterns is successfully generated!\n"
          ]
        },
        {
          "output_type": "display_data",
          "data": {
            "text/plain": [
              "<Figure size 640x480 with 1 Axes>"
            ],
            "image/png": "[encoded data removed]"
          },
          "metadata": {}
        },
        {
          "output_type": "stream",
          "name": "stdout",
          "text": [
            "Graph for Runtime taken is successfully generated!\n"
          ]
        },
        {
          "output_type": "display_data",
          "data": {
            "text/plain": [
              "<Figure size 640x480 with 1 Axes>"
            ],
            "image/png": "[encoded data removed]"
          },
          "metadata": {}
        },
        {
          "output_type": "stream",
          "name": "stdout",
          "text": [
            "Graph for memory consumption is successfully generated!\n"
          ]
        }
      ],
      "source": [
        "ab = plt.plotGraphsFromDataFrame(result)\n",
        "ab.plotGraphsFromDataFrame() #drawPlots()"
      ],
      "metadata": {
        "id": "mFDzZI8ZRq2o",
        "outputId": "89c0a843-35b3-4c33-be11-bb3777e12161",
        "colab": {
          "base_uri": "https://localhost:8080/",
          "height": 1000
        }
      },
      "id": "mFDzZI8ZRq2o"
    },
    {
      "cell_type": "markdown",
      "source": [
        "### Step 6: Saving the results as latex files"
      ],
      "metadata": {
        "collapsed": false,
        "id": "YFPx79ntRq2p"
      },
      "id": "YFPx79ntRq2p"
    },
    {
      "cell_type": "code",
      "execution_count": 18,
      "outputs": [
        {
          "output_type": "stream",
          "name": "stdout",
          "text": [
            "Latex files generated successfully\n"
          ]
        }
      ],
      "source": [
        "from PAMI.extras.graph import generateLatexFileFromDataFrame as gdf\n",
        "gdf.generateLatexCode(result)"
      ],
      "metadata": {
        "id": "zbsrhfGHRq2q",
        "outputId": "8c2c505b-97a1-4a92-8c18-2d8736009545",
        "colab": {
          "base_uri": "https://localhost:8080/"
        }
      },
      "id": "zbsrhfGHRq2q"
    }
  ],
  "metadata": {
    "kernelspec": {
      "display_name": "Python 3 (ipykernel)",
      "language": "python",
      "name": "python3"
    },
    "language_info": {
      "codemirror_mode": {
        "name": "ipython",
        "version": 3
      },
      "file_extension": ".py",
      "mimetype": "text/x-python",
      "name": "python",
      "nbconvert_exporter": "python",
      "pygments_lexer": "ipython3",
      "version": "3.10.4"
    },
    "colab": {
      "provenance": [],
      "include_colab_link": true
    }
  },
  "nbformat": 4,
  "nbformat_minor": 5
}