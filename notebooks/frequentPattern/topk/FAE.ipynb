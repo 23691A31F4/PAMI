{
  "cells": [
    {
      "cell_type": "markdown",
      "metadata": {
        "id": "view-in-github",
        "colab_type": "text"
      },
      "source": [
        "<a href=\"https://colab.research.google.com/github/vanithakattumuri/PAMI/blob/main/notebooks/frequentPattern/topk/FAE.ipynb\" target=\"_parent\"><img src=\"https://colab.research.google.com/assets/colab-badge.svg\" alt=\"Open In Colab\"/></a>"
      ]
    },
    {
      "cell_type": "markdown",
      "id": "e960ba75-7c84-45aa-bbca-f6eca0f8731b",
      "metadata": {
        "tags": [],
        "id": "e960ba75-7c84-45aa-bbca-f6eca0f8731b"
      },
      "source": [
        "# Discovering Frequent Patterns in Big Data Using FAE Algorithm"
      ]
    },
    {
      "cell_type": "markdown",
      "id": "d71c53a8-9c59-4220-ad59-92ec26b39c42",
      "metadata": {
        "id": "d71c53a8-9c59-4220-ad59-92ec26b39c42"
      },
      "source": [
        "In this tutorial, we will discuss two approaches to find frequent patterns in big data using FAE algorithm.\n",
        "\n",
        "1. [__Basic approach:__](#basicApproach) Here, we present the steps to discover frequent patterns using a single specified counte\n",
        "2. [__Advanced approach:__](#advApproach) Here, we generalize the basic approach by presenting the steps to discover frequent patterns using multiple specified counte."
      ]
    },
    {
      "cell_type": "markdown",
      "id": "f7fb1145-420c-4ce0-905e-383d013cb11f",
      "metadata": {
        "id": "f7fb1145-420c-4ce0-905e-383d013cb11f"
      },
      "source": [
        "***"
      ]
    },
    {
      "cell_type": "markdown",
      "id": "1f5910aa-1ab5-4a86-bf02-69d3541dc453",
      "metadata": {
        "id": "1f5910aa-1ab5-4a86-bf02-69d3541dc453"
      },
      "source": [
        "## <a id='basicApproach'>Basic approach: Executing FAE on a single dataset at a particular specified counte value</a>"
      ]
    },
    {
      "cell_type": "markdown",
      "source": [
        "#### Step 0: install pami repository"
      ],
      "metadata": {
        "collapsed": false,
        "id": "AFiMWTiwX7t6"
      },
      "id": "AFiMWTiwX7t6"
    },
    {
      "cell_type": "code",
      "execution_count": 1,
      "outputs": [
        {
          "output_type": "stream",
          "name": "stdout",
          "text": [
            "Collecting pami\n",
            "  Downloading pami-2023.10.31.1-py3-none-any.whl (882 kB)\n",
            "\u001b[?25l     \u001b[90m━━━━━━━━━━━━━━━━━━━━━━━━━━━━━━━━━━━━━━━━\u001b[0m \u001b[32m0.0/882.7 kB\u001b[0m \u001b[31m?\u001b[0m eta \u001b[36m-:--:--\u001b[0m\r\u001b[2K     \u001b[91m━━━━━\u001b[0m\u001b[90m╺\u001b[0m\u001b[90m━━━━━━━━━━━━━━━━━━━━━━━━━━━━━━━━━━\u001b[0m \u001b[32m112.6/882.7 kB\u001b[0m \u001b[31m3.3 MB/s\u001b[0m eta \u001b[36m0:00:01\u001b[0m\r\u001b[2K     \u001b[91m━━━━━━\u001b[0m\u001b[91m╸\u001b[0m\u001b[90m━━━━━━━━━━━━━━━━━━━━━━━━━━━━━━━━━\u001b[0m \u001b[32m153.6/882.7 kB\u001b[0m \u001b[31m2.1 MB/s\u001b[0m eta \u001b[36m0:00:01\u001b[0m\r\u001b[2K     \u001b[90m━━━━━━━━━━━━━━━━━━━━━━━━━━━━━━━━━━━━━━━━\u001b[0m \u001b[32m882.7/882.7 kB\u001b[0m \u001b[31m9.4 MB/s\u001b[0m eta \u001b[36m0:00:00\u001b[0m\n",
            "\u001b[?25hRequirement already satisfied: psutil in /usr/local/lib/python3.10/dist-packages (from pami) (5.9.5)\n",
            "Requirement already satisfied: pandas in /usr/local/lib/python3.10/dist-packages (from pami) (1.5.3)\n",
            "Requirement already satisfied: plotly in /usr/local/lib/python3.10/dist-packages (from pami) (5.15.0)\n",
            "Requirement already satisfied: matplotlib in /usr/local/lib/python3.10/dist-packages (from pami) (3.7.1)\n",
            "Collecting resource (from pami)\n",
            "  Downloading Resource-0.2.1-py2.py3-none-any.whl (25 kB)\n",
            "Collecting validators (from pami)\n",
            "  Downloading validators-0.22.0-py3-none-any.whl (26 kB)\n",
            "Requirement already satisfied: urllib3 in /usr/local/lib/python3.10/dist-packages (from pami) (2.0.7)\n",
            "Requirement already satisfied: Pillow in /usr/local/lib/python3.10/dist-packages (from pami) (9.4.0)\n",
            "Requirement already satisfied: numpy in /usr/local/lib/python3.10/dist-packages (from pami) (1.23.5)\n",
            "Collecting sphinx-rtd-theme (from pami)\n",
            "  Downloading sphinx_rtd_theme-1.3.0-py2.py3-none-any.whl (2.8 MB)\n",
            "\u001b[2K     \u001b[90m━━━━━━━━━━━━━━━━━━━━━━━━━━━━━━━━━━━━━━━━\u001b[0m \u001b[32m2.8/2.8 MB\u001b[0m \u001b[31m76.5 MB/s\u001b[0m eta \u001b[36m0:00:00\u001b[0m\n",
            "\u001b[?25hRequirement already satisfied: contourpy>=1.0.1 in /usr/local/lib/python3.10/dist-packages (from matplotlib->pami) (1.1.1)\n",
            "Requirement already satisfied: cycler>=0.10 in /usr/local/lib/python3.10/dist-packages (from matplotlib->pami) (0.12.1)\n",
            "Requirement already satisfied: fonttools>=4.22.0 in /usr/local/lib/python3.10/dist-packages (from matplotlib->pami) (4.43.1)\n",
            "Requirement already satisfied: kiwisolver>=1.0.1 in /usr/local/lib/python3.10/dist-packages (from matplotlib->pami) (1.4.5)\n",
            "Requirement already satisfied: packaging>=20.0 in /usr/local/lib/python3.10/dist-packages (from matplotlib->pami) (23.2)\n",
            "Requirement already satisfied: pyparsing>=2.3.1 in /usr/local/lib/python3.10/dist-packages (from matplotlib->pami) (3.1.1)\n",
            "Requirement already satisfied: python-dateutil>=2.7 in /usr/local/lib/python3.10/dist-packages (from matplotlib->pami) (2.8.2)\n",
            "Requirement already satisfied: pytz>=2020.1 in /usr/local/lib/python3.10/dist-packages (from pandas->pami) (2023.3.post1)\n",
            "Requirement already satisfied: tenacity>=6.2.0 in /usr/local/lib/python3.10/dist-packages (from plotly->pami) (8.2.3)\n",
            "Collecting JsonForm>=0.0.2 (from resource->pami)\n",
            "  Downloading JsonForm-0.0.2.tar.gz (2.4 kB)\n",
            "  Preparing metadata (setup.py) ... \u001b[?25l\u001b[?25hdone\n",
            "Collecting JsonSir>=0.0.2 (from resource->pami)\n",
            "  Downloading JsonSir-0.0.2.tar.gz (2.2 kB)\n",
            "  Preparing metadata (setup.py) ... \u001b[?25l\u001b[?25hdone\n",
            "Collecting python-easyconfig>=0.1.0 (from resource->pami)\n",
            "  Downloading Python_EasyConfig-0.1.7-py2.py3-none-any.whl (5.4 kB)\n",
            "Requirement already satisfied: sphinx<8,>=1.6 in /usr/local/lib/python3.10/dist-packages (from sphinx-rtd-theme->pami) (5.0.2)\n",
            "Requirement already satisfied: docutils<0.19 in /usr/local/lib/python3.10/dist-packages (from sphinx-rtd-theme->pami) (0.18.1)\n",
            "Collecting sphinxcontrib-jquery<5,>=4 (from sphinx-rtd-theme->pami)\n",
            "  Downloading sphinxcontrib_jquery-4.1-py2.py3-none-any.whl (121 kB)\n",
            "\u001b[2K     \u001b[90m━━━━━━━━━━━━━━━━━━━━━━━━━━━━━━━━━━━━━━━━\u001b[0m \u001b[32m121.1/121.1 kB\u001b[0m \u001b[31m14.2 MB/s\u001b[0m eta \u001b[36m0:00:00\u001b[0m\n",
            "\u001b[?25hRequirement already satisfied: jsonschema in /usr/local/lib/python3.10/dist-packages (from JsonForm>=0.0.2->resource->pami) (4.19.1)\n",
            "Requirement already satisfied: six>=1.5 in /usr/local/lib/python3.10/dist-packages (from python-dateutil>=2.7->matplotlib->pami) (1.16.0)\n",
            "Requirement already satisfied: PyYAML in /usr/local/lib/python3.10/dist-packages (from python-easyconfig>=0.1.0->resource->pami) (6.0.1)\n",
            "Requirement already satisfied: sphinxcontrib-applehelp in /usr/local/lib/python3.10/dist-packages (from sphinx<8,>=1.6->sphinx-rtd-theme->pami) (1.0.7)\n",
            "Requirement already satisfied: sphinxcontrib-devhelp in /usr/local/lib/python3.10/dist-packages (from sphinx<8,>=1.6->sphinx-rtd-theme->pami) (1.0.5)\n",
            "Requirement already satisfied: sphinxcontrib-jsmath in /usr/local/lib/python3.10/dist-packages (from sphinx<8,>=1.6->sphinx-rtd-theme->pami) (1.0.1)\n",
            "Requirement already satisfied: sphinxcontrib-htmlhelp>=2.0.0 in /usr/local/lib/python3.10/dist-packages (from sphinx<8,>=1.6->sphinx-rtd-theme->pami) (2.0.4)\n",
            "Requirement already satisfied: sphinxcontrib-serializinghtml>=1.1.5 in /usr/local/lib/python3.10/dist-packages (from sphinx<8,>=1.6->sphinx-rtd-theme->pami) (1.1.9)\n",
            "Requirement already satisfied: sphinxcontrib-qthelp in /usr/local/lib/python3.10/dist-packages (from sphinx<8,>=1.6->sphinx-rtd-theme->pami) (1.0.6)\n",
            "Requirement already satisfied: Jinja2>=2.3 in /usr/local/lib/python3.10/dist-packages (from sphinx<8,>=1.6->sphinx-rtd-theme->pami) (3.1.2)\n",
            "Requirement already satisfied: Pygments>=2.0 in /usr/local/lib/python3.10/dist-packages (from sphinx<8,>=1.6->sphinx-rtd-theme->pami) (2.16.1)\n",
            "Requirement already satisfied: snowballstemmer>=1.1 in /usr/local/lib/python3.10/dist-packages (from sphinx<8,>=1.6->sphinx-rtd-theme->pami) (2.2.0)\n",
            "Requirement already satisfied: babel>=1.3 in /usr/local/lib/python3.10/dist-packages (from sphinx<8,>=1.6->sphinx-rtd-theme->pami) (2.13.1)\n",
            "Requirement already satisfied: alabaster<0.8,>=0.7 in /usr/local/lib/python3.10/dist-packages (from sphinx<8,>=1.6->sphinx-rtd-theme->pami) (0.7.13)\n",
            "Requirement already satisfied: imagesize in /usr/local/lib/python3.10/dist-packages (from sphinx<8,>=1.6->sphinx-rtd-theme->pami) (1.4.1)\n",
            "Requirement already satisfied: requests>=2.5.0 in /usr/local/lib/python3.10/dist-packages (from sphinx<8,>=1.6->sphinx-rtd-theme->pami) (2.31.0)\n",
            "Requirement already satisfied: MarkupSafe>=2.0 in /usr/local/lib/python3.10/dist-packages (from Jinja2>=2.3->sphinx<8,>=1.6->sphinx-rtd-theme->pami) (2.1.3)\n",
            "Requirement already satisfied: charset-normalizer<4,>=2 in /usr/local/lib/python3.10/dist-packages (from requests>=2.5.0->sphinx<8,>=1.6->sphinx-rtd-theme->pami) (3.3.1)\n",
            "Requirement already satisfied: idna<4,>=2.5 in /usr/local/lib/python3.10/dist-packages (from requests>=2.5.0->sphinx<8,>=1.6->sphinx-rtd-theme->pami) (3.4)\n",
            "Requirement already satisfied: certifi>=2017.4.17 in /usr/local/lib/python3.10/dist-packages (from requests>=2.5.0->sphinx<8,>=1.6->sphinx-rtd-theme->pami) (2023.7.22)\n",
            "Requirement already satisfied: attrs>=22.2.0 in /usr/local/lib/python3.10/dist-packages (from jsonschema->JsonForm>=0.0.2->resource->pami) (23.1.0)\n",
            "Requirement already satisfied: jsonschema-specifications>=2023.03.6 in /usr/local/lib/python3.10/dist-packages (from jsonschema->JsonForm>=0.0.2->resource->pami) (2023.7.1)\n",
            "Requirement already satisfied: referencing>=0.28.4 in /usr/local/lib/python3.10/dist-packages (from jsonschema->JsonForm>=0.0.2->resource->pami) (0.30.2)\n",
            "Requirement already satisfied: rpds-py>=0.7.1 in /usr/local/lib/python3.10/dist-packages (from jsonschema->JsonForm>=0.0.2->resource->pami) (0.10.6)\n",
            "Building wheels for collected packages: JsonForm, JsonSir\n",
            "  Building wheel for JsonForm (setup.py) ... \u001b[?25l\u001b[?25hdone\n",
            "  Created wheel for JsonForm: filename=JsonForm-0.0.2-py3-none-any.whl size=3313 sha256=0cd767b5009dc4c190bb96e6ac233365e87ca18e0de6048f4a6485071ce6e848\n",
            "  Stored in directory: /root/.cache/pip/wheels/b6/e5/87/11026246d3bd4ad67c0615682d2d6748bbd9a40ac0490882bd\n",
            "  Building wheel for JsonSir (setup.py) ... \u001b[?25l\u001b[?25hdone\n",
            "  Created wheel for JsonSir: filename=JsonSir-0.0.2-py3-none-any.whl size=4750 sha256=1c3a618a3aade9044479f05ce5e45212ec03ab2702395d0701ea6165655d76d2\n",
            "  Stored in directory: /root/.cache/pip/wheels/1d/4c/d3/4d9757425983b43eb709be1043d82cd03fb863ce5f56f117e6\n",
            "Successfully built JsonForm JsonSir\n",
            "Installing collected packages: JsonSir, validators, python-easyconfig, JsonForm, resource, sphinxcontrib-jquery, sphinx-rtd-theme, pami\n",
            "Successfully installed JsonForm-0.0.2 JsonSir-0.0.2 pami-2023.10.31.1 python-easyconfig-0.1.7 resource-0.2.1 sphinx-rtd-theme-1.3.0 sphinxcontrib-jquery-4.1 validators-0.22.0\n"
          ]
        }
      ],
      "source": [
        "!pip install -U pami"
      ],
      "metadata": {
        "id": "2CpLEgQ4X7t6",
        "outputId": "e186e8f6-ee84-4a7b-9e8f-e0d8336c37c3",
        "colab": {
          "base_uri": "https://localhost:8080/"
        }
      },
      "id": "2CpLEgQ4X7t6"
    },
    {
      "cell_type": "markdown",
      "id": "de947b74-a287-4166-aeeb-050b9b9714f9",
      "metadata": {
        "id": "de947b74-a287-4166-aeeb-050b9b9714f9"
      },
      "source": [
        "#### Step 1: Import the FAE algorithm"
      ]
    },
    {
      "cell_type": "code",
      "execution_count": 2,
      "id": "042a4670-502c-417c-afa5-ce8f4620b8c6",
      "metadata": {
        "id": "042a4670-502c-417c-afa5-ce8f4620b8c6"
      },
      "outputs": [],
      "source": [
        "from PAMI.frequentPattern.topk import FAE  as alg"
      ]
    },
    {
      "cell_type": "markdown",
      "id": "052b485e-ae76-477c-b423-7a9a8c49d153",
      "metadata": {
        "id": "052b485e-ae76-477c-b423-7a9a8c49d153"
      },
      "source": [
        "#### Step 2: Specify the following input parameters"
      ]
    },
    {
      "cell_type": "code",
      "execution_count": 3,
      "id": "9d781abf-2a4b-499e-8725-454d99f4eb31",
      "metadata": {
        "id": "9d781abf-2a4b-499e-8725-454d99f4eb31"
      },
      "outputs": [],
      "source": [
        "inputFile = 'https://u-aizu.ac.jp/~udayrage/datasets/transactionalDatabases/Transactional_T10I4D100K.csv'\n",
        "\n",
        "kCount=100  #Users can also specify this constraint between 0 to 1.\n",
        "\n",
        "seperator='\\t'"
      ]
    },
    {
      "cell_type": "markdown",
      "id": "92fbc06c-8e5b-4396-82e9-0b337ba54865",
      "metadata": {
        "id": "92fbc06c-8e5b-4396-82e9-0b337ba54865"
      },
      "source": [
        "#### Step 3: Execute the FAE algorithm"
      ]
    },
    {
      "cell_type": "code",
      "execution_count": 4,
      "id": "38ee53a6-d1fd-4266-8c8c-06662540657d",
      "metadata": {
        "id": "38ee53a6-d1fd-4266-8c8c-06662540657d",
        "outputId": "f2a44e06-5cce-4156-cda2-8926b24db4a6",
        "colab": {
          "base_uri": "https://localhost:8080/"
        }
      },
      "outputs": [
        {
          "output_type": "stream",
          "name": "stdout",
          "text": [
            " TopK frequent patterns were successfully generated using FAE algorithm.\n"
          ]
        }
      ],
      "source": [
        "obj = alg.FAE(iFile=inputFile, k=kCount, sep=seperator)    #initialize\n",
        "obj.startMine()            #Start the mining process"
      ]
    },
    {
      "cell_type": "markdown",
      "id": "3ee3603a-89da-44bb-bcd3-79cfa8db586a",
      "metadata": {
        "id": "3ee3603a-89da-44bb-bcd3-79cfa8db586a"
      },
      "source": [
        "#### Step 4: Storing the generated patterns"
      ]
    },
    {
      "cell_type": "markdown",
      "id": "8bee4a62-9478-46a3-a3a0-42bc4e2f1642",
      "metadata": {
        "id": "8bee4a62-9478-46a3-a3a0-42bc4e2f1642"
      },
      "source": [
        "##### Step 4.1: Storing the generated patterns in a file"
      ]
    },
    {
      "cell_type": "code",
      "execution_count": 5,
      "id": "c18de728-5cb4-446b-adae-872846e30b74",
      "metadata": {
        "id": "c18de728-5cb4-446b-adae-872846e30b74"
      },
      "outputs": [],
      "source": [
        "obj.save(outFile='frequentPatternsMinSupCount100.txt')"
      ]
    },
    {
      "cell_type": "markdown",
      "id": "62677159-e863-4233-858b-6b5359810c83",
      "metadata": {
        "id": "62677159-e863-4233-858b-6b5359810c83"
      },
      "source": [
        "##### Step 4.2. Storing the generated patterns in a data frame"
      ]
    },
    {
      "cell_type": "code",
      "execution_count": 6,
      "id": "64bdeb08-e80c-4bdf-bb35-d7c67b30f21a",
      "metadata": {
        "id": "64bdeb08-e80c-4bdf-bb35-d7c67b30f21a"
      },
      "outputs": [],
      "source": [
        "frequentPatternsDF= obj.getPatternsAsDataFrame()"
      ]
    },
    {
      "cell_type": "markdown",
      "id": "afc25934-1fa4-42b9-a0b0-1977a4dbd95f",
      "metadata": {
        "id": "afc25934-1fa4-42b9-a0b0-1977a4dbd95f"
      },
      "source": [
        "#### Step 5: Getting the statistics"
      ]
    },
    {
      "cell_type": "markdown",
      "id": "b6136a85-7820-4db8-8fbc-0395ab953aa3",
      "metadata": {
        "id": "b6136a85-7820-4db8-8fbc-0395ab953aa3"
      },
      "source": [
        "##### Step 5.1: Total number of discovered patterns"
      ]
    },
    {
      "cell_type": "code",
      "execution_count": 7,
      "id": "6b5bc0d1-4241-4971-bb23-8ab13ccabdad",
      "metadata": {
        "id": "6b5bc0d1-4241-4971-bb23-8ab13ccabdad",
        "outputId": "9a4def4d-c98e-4e41-e120-674d9d360228",
        "colab": {
          "base_uri": "https://localhost:8080/"
        }
      },
      "outputs": [
        {
          "output_type": "stream",
          "name": "stdout",
          "text": [
            "Total No of patterns: 100\n"
          ]
        }
      ],
      "source": [
        "print('Total No of patterns: ' + str(len(frequentPatternsDF)))"
      ]
    },
    {
      "cell_type": "markdown",
      "id": "d0506690-7e8a-48a3-a012-33cfb7fb6351",
      "metadata": {
        "id": "d0506690-7e8a-48a3-a012-33cfb7fb6351"
      },
      "source": [
        "##### Step 5.2: Runtime consumed by the mining algorithm"
      ]
    },
    {
      "cell_type": "code",
      "execution_count": 8,
      "id": "55912f44-d238-41f0-9fab-9ad60f08ab21",
      "metadata": {
        "id": "55912f44-d238-41f0-9fab-9ad60f08ab21",
        "outputId": "1e30a72c-8077-41ee-e7ea-5fde6f7237ee",
        "colab": {
          "base_uri": "https://localhost:8080/"
        }
      },
      "outputs": [
        {
          "output_type": "stream",
          "name": "stdout",
          "text": [
            "Runtime: 12.722616910934448\n"
          ]
        }
      ],
      "source": [
        "print('Runtime: ' + str(obj.getRuntime()))"
      ]
    },
    {
      "cell_type": "code",
      "execution_count": 9,
      "id": "1163f44e-3a22-4113-866f-dd4bf18a5f03",
      "metadata": {
        "id": "1163f44e-3a22-4113-866f-dd4bf18a5f03"
      },
      "outputs": [],
      "source": [
        "##### Step 5.3: Total Memory consumed by the mining algorithm"
      ]
    },
    {
      "cell_type": "code",
      "execution_count": 10,
      "id": "880ccc22-2606-4e55-a4ef-2a8deac28efc",
      "metadata": {
        "id": "880ccc22-2606-4e55-a4ef-2a8deac28efc",
        "outputId": "14c717a5-f301-43d0-ced8-366a795e437f",
        "colab": {
          "base_uri": "https://localhost:8080/"
        }
      },
      "outputs": [
        {
          "output_type": "stream",
          "name": "stdout",
          "text": [
            "Memory (RSS): 245362688\n",
            "Memory (USS): 198053888\n"
          ]
        }
      ],
      "source": [
        "print('Memory (RSS): ' + str(obj.getMemoryRSS()))\n",
        "print('Memory (USS): ' + str(obj.getMemoryUSS()))"
      ]
    },
    {
      "cell_type": "markdown",
      "source": [
        "# Advanced Tutorial on Implementing FAE Algorithm"
      ],
      "metadata": {
        "collapsed": false,
        "id": "VE2gu8EtX7uE"
      },
      "id": "VE2gu8EtX7uE"
    },
    {
      "cell_type": "markdown",
      "source": [
        "***"
      ],
      "metadata": {
        "collapsed": false,
        "id": "kJUZXv2aX7uE"
      },
      "id": "kJUZXv2aX7uE"
    },
    {
      "cell_type": "markdown",
      "source": [
        "#### In this tutorial, we explain how the FAE algorithm  can be implemented by varying the specified counte values"
      ],
      "metadata": {
        "collapsed": false,
        "id": "gtX-6igLX7uE"
      },
      "id": "gtX-6igLX7uE"
    },
    {
      "cell_type": "markdown",
      "source": [
        "#### Step 1: Import the FAE algorithm and pandas data frame"
      ],
      "metadata": {
        "collapsed": false,
        "id": "wKvI24GhX7uE"
      },
      "id": "wKvI24GhX7uE"
    },
    {
      "cell_type": "code",
      "execution_count": 11,
      "outputs": [],
      "source": [
        "from PAMI.frequentPattern.topk import FAE  as alg\n",
        "import pandas as pd"
      ],
      "metadata": {
        "id": "2hnSiPj-X7uF"
      },
      "id": "2hnSiPj-X7uF"
    },
    {
      "cell_type": "markdown",
      "source": [
        "#### Step 2: Specify the following input parameters"
      ],
      "metadata": {
        "collapsed": false,
        "id": "vo_A8mmcX7uF"
      },
      "id": "vo_A8mmcX7uF"
    },
    {
      "cell_type": "code",
      "execution_count": 12,
      "outputs": [],
      "source": [
        "inputFile = 'https://u-aizu.ac.jp/~udayrage/datasets/transactionalDatabases/Transactional_T10I4D100K.csv'\n",
        "seperator='\\t'\n",
        "minimumSupportCountList = [100, 150, 200, 250, 300]\n",
        "#minimumSupport can also specified between 0 to 1. E.g., minSupList = [0.005, 0.006, 0.007, 0.008, 0.009]\n",
        "\n",
        "result = pd.DataFrame(columns=['algorithm', 'minSup', 'patterns', 'runtime', 'memory'])\n",
        "#initialize a data frame to store the results of FAE algorithm"
      ],
      "metadata": {
        "id": "v3HPN_12X7uF"
      },
      "id": "v3HPN_12X7uF"
    },
    {
      "cell_type": "markdown",
      "source": [
        "#### Step 3: Execute the FAE algorithm using a for loop"
      ],
      "metadata": {
        "collapsed": false,
        "id": "N0-LQqSjX7uF"
      },
      "id": "N0-LQqSjX7uF"
    },
    {
      "cell_type": "code",
      "execution_count": 13,
      "outputs": [
        {
          "output_type": "stream",
          "name": "stdout",
          "text": [
            " TopK frequent patterns were successfully generated using FAE algorithm.\n",
            " TopK frequent patterns were successfully generated using FAE algorithm.\n",
            " TopK frequent patterns were successfully generated using FAE algorithm.\n",
            " TopK frequent patterns were successfully generated using FAE algorithm.\n",
            " TopK frequent patterns were successfully generated using FAE algorithm.\n"
          ]
        }
      ],
      "source": [
        "algorithm = 'FAE'  #specify the algorithm name\n",
        "for minSupCount in minimumSupportCountList:\n",
        "    obj = alg.FAE('https://u-aizu.ac.jp/~udayrage/datasets/transactionalDatabases/Transactional_T10I4D100K.csv', k=minSupCount, sep=seperator)\n",
        "    obj.startMine()\n",
        "    #store the results in the data frame\n",
        "    result.loc[result.shape[0]] = [algorithm, minSupCount, len(obj.getPatterns()), obj.getRuntime(), obj.getMemoryRSS()]\n"
      ],
      "metadata": {
        "id": "ZdQZdHtAX7uG",
        "outputId": "fd2f3114-9df3-4934-b410-2f07b10e7e04",
        "colab": {
          "base_uri": "https://localhost:8080/"
        }
      },
      "id": "ZdQZdHtAX7uG"
    },
    {
      "cell_type": "code",
      "execution_count": 14,
      "outputs": [
        {
          "output_type": "stream",
          "name": "stdout",
          "text": [
            "  algorithm  minSup  patterns    runtime     memory\n",
            "0       FAE     100       100  11.729576  246628352\n",
            "1       FAE     150       150  10.670900  247250944\n",
            "2       FAE     200       200  12.845721  248086528\n",
            "3       FAE     250       250  15.663495  247889920\n",
            "4       FAE     300       300  17.711271  248111104\n"
          ]
        }
      ],
      "source": [
        "print(result)"
      ],
      "metadata": {
        "id": "0O7qNED3X7uG",
        "outputId": "ca7361fe-168f-481e-8cec-b914d5c06c19",
        "colab": {
          "base_uri": "https://localhost:8080/"
        }
      },
      "id": "0O7qNED3X7uG"
    },
    {
      "cell_type": "markdown",
      "source": [
        "#### Step 5: Visualizing the results"
      ],
      "metadata": {
        "collapsed": false,
        "id": "WDlgGTFgX7uG"
      },
      "id": "WDlgGTFgX7uG"
    },
    {
      "cell_type": "markdown",
      "source": [
        "##### Step 5.1 Importing the plot library"
      ],
      "metadata": {
        "collapsed": false,
        "id": "EWXPHwAJX7uH"
      },
      "id": "EWXPHwAJX7uH"
    },
    {
      "cell_type": "code",
      "execution_count": 15,
      "outputs": [],
      "source": [
        "from PAMI.extras.graph import plotLineGraphsFromDataFrame as plt"
      ],
      "metadata": {
        "id": "-U2nFqurX7uH"
      },
      "id": "-U2nFqurX7uH"
    },
    {
      "cell_type": "markdown",
      "source": [
        "##### Step 5.2. Plotting the number of patterns"
      ],
      "metadata": {
        "collapsed": false,
        "id": "NLnbR4MhX7uH"
      },
      "id": "NLnbR4MhX7uH"
    },
    {
      "cell_type": "code",
      "execution_count": 16,
      "outputs": [
        {
          "output_type": "display_data",
          "data": {
            "text/plain": [
              "<Figure size 640x480 with 1 Axes>"
            ],
            "image/png": "[encoded data removed]"
          },
          "metadata": {}
        },
        {
          "output_type": "stream",
          "name": "stdout",
          "text": [
            "Graph for No Of Patterns is successfully generated!\n"
          ]
        },
        {
          "output_type": "display_data",
          "data": {
            "text/plain": [
              "<Figure size 640x480 with 1 Axes>"
            ],
            "image/png": "[encoded data removed]"
          },
          "metadata": {}
        },
        {
          "output_type": "stream",
          "name": "stdout",
          "text": [
            "Graph for Runtime taken is successfully generated!\n"
          ]
        },
        {
          "output_type": "display_data",
          "data": {
            "text/plain": [
              "<Figure size 640x480 with 1 Axes>"
            ],
            "image/png": "[encoded data removed]"
          },
          "metadata": {}
        },
        {
          "output_type": "stream",
          "name": "stdout",
          "text": [
            "Graph for memory consumption is successfully generated!\n"
          ]
        }
      ],
      "source": [
        "ab = plt.plotGraphsFromDataFrame(result)\n",
        "ab.plotGraphsFromDataFrame() #drawPlots()"
      ],
      "metadata": {
        "id": "fG7RNIT0X7uH",
        "outputId": "28777a96-d9cb-45bf-b0d9-495f8028e2c0",
        "colab": {
          "base_uri": "https://localhost:8080/",
          "height": 1000
        }
      },
      "id": "fG7RNIT0X7uH"
    },
    {
      "cell_type": "markdown",
      "source": [
        "### Step 6: Saving the results as latex files"
      ],
      "metadata": {
        "collapsed": false,
        "id": "g1Vqs_rgX7uI"
      },
      "id": "g1Vqs_rgX7uI"
    },
    {
      "cell_type": "code",
      "execution_count": 17,
      "outputs": [
        {
          "output_type": "stream",
          "name": "stdout",
          "text": [
            "Latex files generated successfully\n"
          ]
        }
      ],
      "source": [
        "from PAMI.extras.graph import generateLatexFileFromDataFrame as gdf\n",
        "gdf.generateLatexCode(result)"
      ],
      "metadata": {
        "id": "5qDLgfQdX7uI",
        "outputId": "dd257f24-ffaa-4229-9cff-ce5b4be0571f",
        "colab": {
          "base_uri": "https://localhost:8080/"
        }
      },
      "id": "5qDLgfQdX7uI"
    }
  ],
  "metadata": {
    "kernelspec": {
      "display_name": "Python 3 (ipykernel)",
      "language": "python",
      "name": "python3"
    },
    "language_info": {
      "codemirror_mode": {
        "name": "ipython",
        "version": 3
      },
      "file_extension": ".py",
      "mimetype": "text/x-python",
      "name": "python",
      "nbconvert_exporter": "python",
      "pygments_lexer": "ipython3",
      "version": "3.10.4"
    },
    "colab": {
      "provenance": [],
      "include_colab_link": true
    }
  },
  "nbformat": 4,
  "nbformat_minor": 5
}