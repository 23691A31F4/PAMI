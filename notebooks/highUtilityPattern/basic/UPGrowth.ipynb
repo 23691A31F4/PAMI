{
  "cells": [
    {
      "cell_type": "markdown",
      "id": "e960ba75-7c84-45aa-bbca-f6eca0f8731b",
      "metadata": {
        "tags": [],
        "id": "e960ba75-7c84-45aa-bbca-f6eca0f8731b"
      },
      "source": [
        "# Discovering High Utility patterns in Big Data Using UPGrowth Algorithm"
      ]
    },
    {
      "cell_type": "markdown",
      "id": "d71c53a8-9c59-4220-ad59-92ec26b39c42",
      "metadata": {
        "id": "d71c53a8-9c59-4220-ad59-92ec26b39c42"
      },
      "source": [
        "In this tutorial, we will discuss the first approaches to find High Utility patterns in big data using UPGrowth algorithm.\n",
        "\n",
        "[__Basic approach:__](#basicApproach) Here, we present the steps to discover High Utility patterns using a single minimum utility value"
      ]
    },
    {
      "cell_type": "markdown",
      "id": "f7fb1145-420c-4ce0-905e-383d013cb11f",
      "metadata": {
        "id": "f7fb1145-420c-4ce0-905e-383d013cb11f"
      },
      "source": [
        "***"
      ]
    },
    {
      "cell_type": "markdown",
      "id": "1f5910aa-1ab5-4a86-bf02-69d3541dc453",
      "metadata": {
        "id": "1f5910aa-1ab5-4a86-bf02-69d3541dc453"
      },
      "source": [
        "## <a id='basicApproach'>Basic approach: Executing UPGrowth on a single dataset at a particular minimum utility value</a>"
      ]
    },
    {
      "cell_type": "markdown",
      "source": [
        "#### Step 0 : Install latest version of PAMI library"
      ],
      "metadata": {
        "collapsed": false,
        "id": "pjzw3xv_NTN4"
      },
      "id": "pjzw3xv_NTN4"
    },
    {
      "cell_type": "code",
      "execution_count": 1,
      "outputs": [
        {
          "output_type": "stream",
          "name": "stdout",
          "text": [
            "Collecting PAMI\n",
            "  Downloading pami-2023.12.20.1-py3-none-any.whl (885 kB)\n",
            "\u001b[2K     \u001b[90m━━━━━━━━━━━━━━━━━━━━━━━━━━━━━━━━━━━━━━━━\u001b[0m \u001b[32m885.2/885.2 kB\u001b[0m \u001b[31m5.7 MB/s\u001b[0m eta \u001b[36m0:00:00\u001b[0m\n",
            "\u001b[?25hRequirement already satisfied: psutil in /usr/local/lib/python3.10/dist-packages (from PAMI) (5.9.5)\n",
            "Requirement already satisfied: pandas in /usr/local/lib/python3.10/dist-packages (from PAMI) (1.5.3)\n",
            "Requirement already satisfied: plotly in /usr/local/lib/python3.10/dist-packages (from PAMI) (5.15.0)\n",
            "Requirement already satisfied: matplotlib in /usr/local/lib/python3.10/dist-packages (from PAMI) (3.7.1)\n",
            "Collecting resource (from PAMI)\n",
            "  Downloading Resource-0.2.1-py2.py3-none-any.whl (25 kB)\n",
            "Collecting validators (from PAMI)\n",
            "  Downloading validators-0.22.0-py3-none-any.whl (26 kB)\n",
            "Requirement already satisfied: urllib3 in /usr/local/lib/python3.10/dist-packages (from PAMI) (2.0.7)\n",
            "Requirement already satisfied: Pillow in /usr/local/lib/python3.10/dist-packages (from PAMI) (9.4.0)\n",
            "Requirement already satisfied: numpy in /usr/local/lib/python3.10/dist-packages (from PAMI) (1.23.5)\n",
            "Collecting sphinx-rtd-theme (from PAMI)\n",
            "  Downloading sphinx_rtd_theme-2.0.0-py2.py3-none-any.whl (2.8 MB)\n",
            "\u001b[2K     \u001b[90m━━━━━━━━━━━━━━━━━━━━━━━━━━━━━━━━━━━━━━━━\u001b[0m \u001b[32m2.8/2.8 MB\u001b[0m \u001b[31m15.0 MB/s\u001b[0m eta \u001b[36m0:00:00\u001b[0m\n",
            "\u001b[?25hRequirement already satisfied: contourpy>=1.0.1 in /usr/local/lib/python3.10/dist-packages (from matplotlib->PAMI) (1.2.0)\n",
            "Requirement already satisfied: cycler>=0.10 in /usr/local/lib/python3.10/dist-packages (from matplotlib->PAMI) (0.12.1)\n",
            "Requirement already satisfied: fonttools>=4.22.0 in /usr/local/lib/python3.10/dist-packages (from matplotlib->PAMI) (4.46.0)\n",
            "Requirement already satisfied: kiwisolver>=1.0.1 in /usr/local/lib/python3.10/dist-packages (from matplotlib->PAMI) (1.4.5)\n",
            "Requirement already satisfied: packaging>=20.0 in /usr/local/lib/python3.10/dist-packages (from matplotlib->PAMI) (23.2)\n",
            "Requirement already satisfied: pyparsing>=2.3.1 in /usr/local/lib/python3.10/dist-packages (from matplotlib->PAMI) (3.1.1)\n",
            "Requirement already satisfied: python-dateutil>=2.7 in /usr/local/lib/python3.10/dist-packages (from matplotlib->PAMI) (2.8.2)\n",
            "Requirement already satisfied: pytz>=2020.1 in /usr/local/lib/python3.10/dist-packages (from pandas->PAMI) (2023.3.post1)\n",
            "Requirement already satisfied: tenacity>=6.2.0 in /usr/local/lib/python3.10/dist-packages (from plotly->PAMI) (8.2.3)\n",
            "Collecting JsonForm>=0.0.2 (from resource->PAMI)\n",
            "  Downloading JsonForm-0.0.2.tar.gz (2.4 kB)\n",
            "  Preparing metadata (setup.py) ... \u001b[?25l\u001b[?25hdone\n",
            "Collecting JsonSir>=0.0.2 (from resource->PAMI)\n",
            "  Downloading JsonSir-0.0.2.tar.gz (2.2 kB)\n",
            "  Preparing metadata (setup.py) ... \u001b[?25l\u001b[?25hdone\n",
            "Collecting python-easyconfig>=0.1.0 (from resource->PAMI)\n",
            "  Downloading Python_EasyConfig-0.1.7-py2.py3-none-any.whl (5.4 kB)\n",
            "Requirement already satisfied: sphinx<8,>=5 in /usr/local/lib/python3.10/dist-packages (from sphinx-rtd-theme->PAMI) (5.0.2)\n",
            "Requirement already satisfied: docutils<0.21 in /usr/local/lib/python3.10/dist-packages (from sphinx-rtd-theme->PAMI) (0.18.1)\n",
            "Collecting sphinxcontrib-jquery<5,>=4 (from sphinx-rtd-theme->PAMI)\n",
            "  Downloading sphinxcontrib_jquery-4.1-py2.py3-none-any.whl (121 kB)\n",
            "\u001b[2K     \u001b[90m━━━━━━━━━━━━━━━━━━━━━━━━━━━━━━━━━━━━━━━━\u001b[0m \u001b[32m121.1/121.1 kB\u001b[0m \u001b[31m11.0 MB/s\u001b[0m eta \u001b[36m0:00:00\u001b[0m\n",
            "\u001b[?25hRequirement already satisfied: jsonschema in /usr/local/lib/python3.10/dist-packages (from JsonForm>=0.0.2->resource->PAMI) (4.19.2)\n",
            "Requirement already satisfied: six>=1.5 in /usr/local/lib/python3.10/dist-packages (from python-dateutil>=2.7->matplotlib->PAMI) (1.16.0)\n",
            "Requirement already satisfied: PyYAML in /usr/local/lib/python3.10/dist-packages (from python-easyconfig>=0.1.0->resource->PAMI) (6.0.1)\n",
            "Requirement already satisfied: sphinxcontrib-applehelp in /usr/local/lib/python3.10/dist-packages (from sphinx<8,>=5->sphinx-rtd-theme->PAMI) (1.0.7)\n",
            "Requirement already satisfied: sphinxcontrib-devhelp in /usr/local/lib/python3.10/dist-packages (from sphinx<8,>=5->sphinx-rtd-theme->PAMI) (1.0.5)\n",
            "Requirement already satisfied: sphinxcontrib-jsmath in /usr/local/lib/python3.10/dist-packages (from sphinx<8,>=5->sphinx-rtd-theme->PAMI) (1.0.1)\n",
            "Requirement already satisfied: sphinxcontrib-htmlhelp>=2.0.0 in /usr/local/lib/python3.10/dist-packages (from sphinx<8,>=5->sphinx-rtd-theme->PAMI) (2.0.4)\n",
            "Requirement already satisfied: sphinxcontrib-serializinghtml>=1.1.5 in /usr/local/lib/python3.10/dist-packages (from sphinx<8,>=5->sphinx-rtd-theme->PAMI) (1.1.9)\n",
            "Requirement already satisfied: sphinxcontrib-qthelp in /usr/local/lib/python3.10/dist-packages (from sphinx<8,>=5->sphinx-rtd-theme->PAMI) (1.0.6)\n",
            "Requirement already satisfied: Jinja2>=2.3 in /usr/local/lib/python3.10/dist-packages (from sphinx<8,>=5->sphinx-rtd-theme->PAMI) (3.1.2)\n",
            "Requirement already satisfied: Pygments>=2.0 in /usr/local/lib/python3.10/dist-packages (from sphinx<8,>=5->sphinx-rtd-theme->PAMI) (2.16.1)\n",
            "Requirement already satisfied: snowballstemmer>=1.1 in /usr/local/lib/python3.10/dist-packages (from sphinx<8,>=5->sphinx-rtd-theme->PAMI) (2.2.0)\n",
            "Requirement already satisfied: babel>=1.3 in /usr/local/lib/python3.10/dist-packages (from sphinx<8,>=5->sphinx-rtd-theme->PAMI) (2.14.0)\n",
            "Requirement already satisfied: alabaster<0.8,>=0.7 in /usr/local/lib/python3.10/dist-packages (from sphinx<8,>=5->sphinx-rtd-theme->PAMI) (0.7.13)\n",
            "Requirement already satisfied: imagesize in /usr/local/lib/python3.10/dist-packages (from sphinx<8,>=5->sphinx-rtd-theme->PAMI) (1.4.1)\n",
            "Requirement already satisfied: requests>=2.5.0 in /usr/local/lib/python3.10/dist-packages (from sphinx<8,>=5->sphinx-rtd-theme->PAMI) (2.31.0)\n",
            "Requirement already satisfied: MarkupSafe>=2.0 in /usr/local/lib/python3.10/dist-packages (from Jinja2>=2.3->sphinx<8,>=5->sphinx-rtd-theme->PAMI) (2.1.3)\n",
            "Requirement already satisfied: charset-normalizer<4,>=2 in /usr/local/lib/python3.10/dist-packages (from requests>=2.5.0->sphinx<8,>=5->sphinx-rtd-theme->PAMI) (3.3.2)\n",
            "Requirement already satisfied: idna<4,>=2.5 in /usr/local/lib/python3.10/dist-packages (from requests>=2.5.0->sphinx<8,>=5->sphinx-rtd-theme->PAMI) (3.6)\n",
            "Requirement already satisfied: certifi>=2017.4.17 in /usr/local/lib/python3.10/dist-packages (from requests>=2.5.0->sphinx<8,>=5->sphinx-rtd-theme->PAMI) (2023.11.17)\n",
            "Requirement already satisfied: attrs>=22.2.0 in /usr/local/lib/python3.10/dist-packages (from jsonschema->JsonForm>=0.0.2->resource->PAMI) (23.1.0)\n",
            "Requirement already satisfied: jsonschema-specifications>=2023.03.6 in /usr/local/lib/python3.10/dist-packages (from jsonschema->JsonForm>=0.0.2->resource->PAMI) (2023.11.2)\n",
            "Requirement already satisfied: referencing>=0.28.4 in /usr/local/lib/python3.10/dist-packages (from jsonschema->JsonForm>=0.0.2->resource->PAMI) (0.32.0)\n",
            "Requirement already satisfied: rpds-py>=0.7.1 in /usr/local/lib/python3.10/dist-packages (from jsonschema->JsonForm>=0.0.2->resource->PAMI) (0.13.2)\n",
            "Building wheels for collected packages: JsonForm, JsonSir\n",
            "  Building wheel for JsonForm (setup.py) ... \u001b[?25l\u001b[?25hdone\n",
            "  Created wheel for JsonForm: filename=JsonForm-0.0.2-py3-none-any.whl size=3311 sha256=ae5dad5cfe591d0ddf043f435065754061b5db39cb354853f74b7da04a4db8c8\n",
            "  Stored in directory: /root/.cache/pip/wheels/b6/e5/87/11026246d3bd4ad67c0615682d2d6748bbd9a40ac0490882bd\n",
            "  Building wheel for JsonSir (setup.py) ... \u001b[?25l\u001b[?25hdone\n",
            "  Created wheel for JsonSir: filename=JsonSir-0.0.2-py3-none-any.whl size=4753 sha256=dda8bb939743c3d70e3d5a8d94bbcb96f3d66214653de5696dceb4f39792105b\n",
            "  Stored in directory: /root/.cache/pip/wheels/1d/4c/d3/4d9757425983b43eb709be1043d82cd03fb863ce5f56f117e6\n",
            "Successfully built JsonForm JsonSir\n",
            "Installing collected packages: JsonSir, validators, python-easyconfig, JsonForm, resource, sphinxcontrib-jquery, sphinx-rtd-theme, PAMI\n",
            "Successfully installed JsonForm-0.0.2 JsonSir-0.0.2 PAMI-2023.12.20.1 python-easyconfig-0.1.7 resource-0.2.1 sphinx-rtd-theme-2.0.0 sphinxcontrib-jquery-4.1 validators-0.22.0\n"
          ]
        }
      ],
      "source": [
        "!pip install -U PAMI"
      ],
      "metadata": {
        "id": "YhV-c-NGNTOA",
        "outputId": "adbe8eb3-8e0f-4c6c-b65a-d1f32afec81f",
        "colab": {
          "base_uri": "https://localhost:8080/"
        }
      },
      "id": "YhV-c-NGNTOA"
    },
    {
      "cell_type": "markdown",
      "id": "de947b74-a287-4166-aeeb-050b9b9714f9",
      "metadata": {
        "id": "de947b74-a287-4166-aeeb-050b9b9714f9"
      },
      "source": [
        "#### Step 1: Import the UPGrowth algorithm"
      ]
    },
    {
      "cell_type": "code",
      "execution_count": 3,
      "id": "042a4670-502c-417c-afa5-ce8f4620b8c6",
      "metadata": {
        "id": "042a4670-502c-417c-afa5-ce8f4620b8c6"
      },
      "outputs": [],
      "source": [
        "from PAMI.highUtilityPattern.basic import UPGrowth  as alg"
      ]
    },
    {
      "cell_type": "code",
      "source": [
        "!wget -nc https://u-aizu.ac.jp/~udayrage/datasets/utilityDatabases/Utility_T10I4D100K.csv"
      ],
      "metadata": {
        "id": "OvkyTXYANhSe",
        "outputId": "d61f3514-d16f-4bd7-c976-095947142cc5",
        "colab": {
          "base_uri": "https://localhost:8080/"
        }
      },
      "id": "OvkyTXYANhSe",
      "execution_count": 4,
      "outputs": [
        {
          "output_type": "stream",
          "name": "stdout",
          "text": [
            "--2023-12-20 03:14:43--  https://u-aizu.ac.jp/~udayrage/datasets/utilityDatabases/Utility_T10I4D100K.csv\n",
            "Resolving u-aizu.ac.jp (u-aizu.ac.jp)... 150.95.161.176, 150.31.244.160\n",
            "Connecting to u-aizu.ac.jp (u-aizu.ac.jp)|150.95.161.176|:443... connected.\n",
            "HTTP request sent, awaiting response... 200 OK\n",
            "Length: 7356594 (7.0M) [text/csv]\n",
            "Saving to: ‘Utility_T10I4D100K.csv’\n",
            "\n",
            "Utility_T10I4D100K. 100%[===================>]   7.02M  1.60MB/s    in 5.1s    \n",
            "\n",
            "2023-12-20 03:14:49 (1.37 MB/s) - ‘Utility_T10I4D100K.csv’ saved [7356594/7356594]\n",
            "\n"
          ]
        }
      ]
    },
    {
      "cell_type": "markdown",
      "id": "052b485e-ae76-477c-b423-7a9a8c49d153",
      "metadata": {
        "id": "052b485e-ae76-477c-b423-7a9a8c49d153"
      },
      "source": [
        "#### Step 2: Specify the following input parameters"
      ]
    },
    {
      "cell_type": "code",
      "execution_count": 7,
      "id": "9d781abf-2a4b-499e-8725-454d99f4eb31",
      "metadata": {
        "id": "9d781abf-2a4b-499e-8725-454d99f4eb31"
      },
      "outputs": [],
      "source": [
        "inputFile = 'Utility_T10I4D100K.csv'\n",
        " #Users can also specify this constraint between 0 to 1.\n",
        "minUtilCount=100000\n",
        "seperator='\\t'"
      ]
    },
    {
      "cell_type": "markdown",
      "id": "92fbc06c-8e5b-4396-82e9-0b337ba54865",
      "metadata": {
        "id": "92fbc06c-8e5b-4396-82e9-0b337ba54865"
      },
      "source": [
        "#### Step 3: Execute the UPGrowth algorithm"
      ]
    },
    {
      "cell_type": "code",
      "execution_count": null,
      "id": "38ee53a6-d1fd-4266-8c8c-06662540657d",
      "metadata": {
        "id": "38ee53a6-d1fd-4266-8c8c-06662540657d"
      },
      "outputs": [],
      "source": [
        "obj = alg.UPGrowth(iFile=inputFile, minUtil=minUtilCount,  sep=seperator)    #initialize\n",
        "obj.mine()            #Start the mining process"
      ]
    },
    {
      "cell_type": "markdown",
      "id": "3ee3603a-89da-44bb-bcd3-79cfa8db586a",
      "metadata": {
        "id": "3ee3603a-89da-44bb-bcd3-79cfa8db586a"
      },
      "source": [
        "#### Step 4: Storing the generated patterns"
      ]
    },
    {
      "cell_type": "markdown",
      "id": "8bee4a62-9478-46a3-a3a0-42bc4e2f1642",
      "metadata": {
        "id": "8bee4a62-9478-46a3-a3a0-42bc4e2f1642"
      },
      "source": [
        "##### Step 4.1: Storing the generated patterns in a file"
      ]
    },
    {
      "cell_type": "code",
      "execution_count": null,
      "id": "c18de728-5cb4-446b-adae-872846e30b74",
      "metadata": {
        "id": "c18de728-5cb4-446b-adae-872846e30b74"
      },
      "outputs": [],
      "source": [
        "obj.save(outFile='highUtilityPatternsMinUtil30000.txt')"
      ]
    },
    {
      "cell_type": "markdown",
      "id": "62677159-e863-4233-858b-6b5359810c83",
      "metadata": {
        "id": "62677159-e863-4233-858b-6b5359810c83"
      },
      "source": [
        "##### Step 4.2. Storing the generated patterns in a data frame"
      ]
    },
    {
      "cell_type": "code",
      "execution_count": null,
      "id": "64bdeb08-e80c-4bdf-bb35-d7c67b30f21a",
      "metadata": {
        "id": "64bdeb08-e80c-4bdf-bb35-d7c67b30f21a"
      },
      "outputs": [],
      "source": [
        "frequentPatternsDF= obj.getPatternsAsDataFrame()"
      ]
    },
    {
      "cell_type": "markdown",
      "id": "afc25934-1fa4-42b9-a0b0-1977a4dbd95f",
      "metadata": {
        "id": "afc25934-1fa4-42b9-a0b0-1977a4dbd95f"
      },
      "source": [
        "#### Step 5: Getting the statistics"
      ]
    },
    {
      "cell_type": "markdown",
      "id": "b6136a85-7820-4db8-8fbc-0395ab953aa3",
      "metadata": {
        "id": "b6136a85-7820-4db8-8fbc-0395ab953aa3"
      },
      "source": [
        "##### Step 5.1: Total number of discovered patterns"
      ]
    },
    {
      "cell_type": "code",
      "execution_count": null,
      "id": "6b5bc0d1-4241-4971-bb23-8ab13ccabdad",
      "metadata": {
        "id": "6b5bc0d1-4241-4971-bb23-8ab13ccabdad"
      },
      "outputs": [],
      "source": [
        "print('Total No of patterns: ' + str(len(frequentPatternsDF)))"
      ]
    },
    {
      "cell_type": "markdown",
      "id": "d0506690-7e8a-48a3-a012-33cfb7fb6351",
      "metadata": {
        "id": "d0506690-7e8a-48a3-a012-33cfb7fb6351"
      },
      "source": [
        "##### Step 5.2: Runtime consumed by the mining algorithm"
      ]
    },
    {
      "cell_type": "code",
      "execution_count": null,
      "id": "55912f44-d238-41f0-9fab-9ad60f08ab21",
      "metadata": {
        "id": "55912f44-d238-41f0-9fab-9ad60f08ab21"
      },
      "outputs": [],
      "source": [
        "print('Runtime: ' + str(obj.getRuntime()))"
      ]
    },
    {
      "cell_type": "markdown",
      "id": "6b6bdd5f-7f2f-4992-970e-2d258aa9acb7",
      "metadata": {
        "id": "6b6bdd5f-7f2f-4992-970e-2d258aa9acb7"
      },
      "source": [
        "##### Step 5.3: Total Memory consumed by the mining algorithm"
      ]
    },
    {
      "cell_type": "code",
      "execution_count": null,
      "id": "880ccc22-2606-4e55-a4ef-2a8deac28efc",
      "metadata": {
        "id": "880ccc22-2606-4e55-a4ef-2a8deac28efc"
      },
      "outputs": [],
      "source": [
        "print('Memory (RSS): ' + str(obj.getMemoryRSS()))\n",
        "print('Memory (USS): ' + str(obj.getMemoryUSS()))"
      ]
    },
    {
      "cell_type": "markdown",
      "source": [
        "# Advanced Tutorial on Implementing UPGrowth Algorithm"
      ],
      "metadata": {
        "collapsed": false,
        "id": "z_E0bgmUNTOK"
      },
      "id": "z_E0bgmUNTOK"
    },
    {
      "cell_type": "markdown",
      "source": [
        "In this tutorial, we will discuss the second approach to find High Utility patterns in big data using UPGrowth algorithm.\n",
        "\n",
        "[__Advanced approach:__](#advApproach) Here, we generalize the basic approach by presenting the steps to discover High Utility patterns using multiple minimum utility values."
      ],
      "metadata": {
        "collapsed": false,
        "id": "ULTsBQEPNTOK"
      },
      "id": "ULTsBQEPNTOK"
    },
    {
      "cell_type": "markdown",
      "source": [
        "***"
      ],
      "metadata": {
        "collapsed": false,
        "id": "dHCnvoL7NTOL"
      },
      "id": "dHCnvoL7NTOL"
    },
    {
      "cell_type": "markdown",
      "source": [
        "#### In this tutorial, we explain how the UPGrowth algorithm  can be implemented by varying the minimum utility values"
      ],
      "metadata": {
        "collapsed": false,
        "id": "lwvRJNObNTOL"
      },
      "id": "lwvRJNObNTOL"
    },
    {
      "cell_type": "markdown",
      "source": [
        "#### Step 1: Import the UPGrowth algorithm and pandas data frame"
      ],
      "metadata": {
        "collapsed": false,
        "id": "mvFm2MVdNTOL"
      },
      "id": "mvFm2MVdNTOL"
    },
    {
      "cell_type": "code",
      "execution_count": null,
      "outputs": [],
      "source": [
        "import UGrowth  as alg\n",
        "import pandas as pd"
      ],
      "metadata": {
        "id": "bIQIQO4rNTOM"
      },
      "id": "bIQIQO4rNTOM"
    },
    {
      "cell_type": "markdown",
      "source": [
        "#### Step 2: Specify the following input parameters"
      ],
      "metadata": {
        "collapsed": false,
        "id": "1U71g3YMNTOM"
      },
      "id": "1U71g3YMNTOM"
    },
    {
      "cell_type": "code",
      "execution_count": null,
      "outputs": [],
      "source": [
        "inputFile = 'Utility_T10I4D100K.csv'\n",
        "minUtilList=[100000, 120000, 140000, 160000, 180000]\n",
        "seperator='\\t'\n",
        "result = pd.DataFrame(columns=['algorithm', 'minSup', 'patterns', 'runtime', 'memory'])\n",
        "#initialize a data frame to store the results of HMiner algorithm"
      ],
      "metadata": {
        "id": "wdbSfj-rNTON"
      },
      "id": "wdbSfj-rNTON"
    },
    {
      "cell_type": "markdown",
      "source": [
        "#### Step 3: Execute the HMiner algorithm using a for loop"
      ],
      "metadata": {
        "collapsed": false,
        "id": "w_Pdh4mkNTOO"
      },
      "id": "w_Pdh4mkNTOO"
    },
    {
      "cell_type": "code",
      "execution_count": null,
      "outputs": [
        {
          "name": "stdout",
          "output_type": "stream",
          "text": [
            "High Utility patterns were generated successfully using UPGrowth algorithm\n"
          ]
        }
      ],
      "source": [
        "algorithm = 'UPGrowth'  #specify the algorithm name\n",
        "for minimumUtility in minUtilList:\n",
        "    obj = alg.UPGrowth(iFile=inputFile, minUtil=minimumUtility, sep=seperator)\n",
        "    obj.mine()\n",
        "    #store the results in the data frame\n",
        "    result.loc[result.shape[0]] = [algorithm, minimumUtility, len(obj.getPatterns()), obj.getRuntime(), obj.getMemoryRSS()]"
      ],
      "metadata": {
        "id": "OIQDWoUgNTOO",
        "outputId": "81c24f4b-0a96-4531-bbf9-7c935b5f9a03"
      },
      "id": "OIQDWoUgNTOO"
    },
    {
      "cell_type": "code",
      "execution_count": null,
      "outputs": [],
      "source": [
        "print(result)"
      ],
      "metadata": {
        "id": "ebaa6yTPNTOQ"
      },
      "id": "ebaa6yTPNTOQ"
    },
    {
      "cell_type": "markdown",
      "source": [
        "#### Step 5: Visualizing the results"
      ],
      "metadata": {
        "collapsed": false,
        "id": "FW6FnE6WNTOR"
      },
      "id": "FW6FnE6WNTOR"
    },
    {
      "cell_type": "markdown",
      "source": [
        "##### Step 5.1 Importing the plot library"
      ],
      "metadata": {
        "collapsed": false,
        "id": "yoXyBoRENTOR"
      },
      "id": "yoXyBoRENTOR"
    },
    {
      "cell_type": "code",
      "execution_count": null,
      "outputs": [],
      "source": [
        "from PAMI.extras.graph import plotLineGraphsFromDataFrame as plt"
      ],
      "metadata": {
        "id": "MAaME7YgNTOS"
      },
      "id": "MAaME7YgNTOS"
    },
    {
      "cell_type": "markdown",
      "source": [
        "##### Step 5.2. Plotting the number of patterns"
      ],
      "metadata": {
        "collapsed": false,
        "id": "myy4iEhuNTOT"
      },
      "id": "myy4iEhuNTOT"
    },
    {
      "cell_type": "code",
      "execution_count": null,
      "outputs": [],
      "source": [
        "ab = plt.plotGraphsFromDataFrame(result)\n",
        "ab.plotGraphsFromDataFrame() #drawPlots()"
      ],
      "metadata": {
        "id": "OT1EZBaTNTOT"
      },
      "id": "OT1EZBaTNTOT"
    },
    {
      "cell_type": "markdown",
      "source": [
        "### Step 6: Saving the results as latex files"
      ],
      "metadata": {
        "collapsed": false,
        "id": "JLOFqOzyNTOV"
      },
      "id": "JLOFqOzyNTOV"
    },
    {
      "cell_type": "code",
      "execution_count": null,
      "outputs": [],
      "source": [
        "from PAMI.extras.graph import generateLatexFileFromDataFrame as gdf\n",
        "gdf.generateLatexCode(result)"
      ],
      "metadata": {
        "id": "ktmPIfwNNTOV"
      },
      "id": "ktmPIfwNNTOV"
    }
  ],
  "metadata": {
    "kernelspec": {
      "display_name": "Python 3 (ipykernel)",
      "language": "python",
      "name": "python3"
    },
    "language_info": {
      "codemirror_mode": {
        "name": "ipython",
        "version": 3
      },
      "file_extension": ".py",
      "mimetype": "text/x-python",
      "name": "python",
      "nbconvert_exporter": "python",
      "pygments_lexer": "ipython3",
      "version": "3.10.4"
    },
    "colab": {
      "provenance": []
    }
  },
  "nbformat": 4,
  "nbformat_minor": 5
}