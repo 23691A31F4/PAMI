{
  "nbformat": 4,
  "nbformat_minor": 0,
  "metadata": {
    "colab": {
      "provenance": [],
      "toc_visible": true,
      "include_colab_link": true
    },
    "kernelspec": {
      "name": "python3",
      "display_name": "Python 3"
    },
    "language_info": {
      "name": "python"
    }
  },
  "cells": [
    {
      "cell_type": "markdown",
      "metadata": {
        "id": "view-in-github",
        "colab_type": "text"
      },
      "source": [
        "<a href=\"https://colab.research.google.com/github/UdayLab/PAMI/blob/main/notebooks/subgraphMining/basic/gspan.ipynb\" target=\"_parent\"><img src=\"https://colab.research.google.com/assets/colab-badge.svg\" alt=\"Open In Colab\"/></a>"
      ]
    },
    {
      "cell_type": "markdown",
      "source": [
        "# Finding frequent subgraphs in graph databases using gSpan"
      ],
      "metadata": {
        "id": "N3kNg9enPW7c"
      }
    },
    {
      "cell_type": "markdown",
      "source": [
        "This tutorial has two parts.\n",
        "In the first part, we describe the basic approach to find frequent patterns in\n",
        "\n",
        "1.   Basic approach to find frequent subgraphs at a single minimum support value\n",
        "2.   Advanced approach to find frequent subgraphs at different minimum support values"
      ],
      "metadata": {
        "id": "97WcN1jjPhms"
      }
    },
    {
      "cell_type": "markdown",
      "source": [
        "# Prerequisites:\n"
      ],
      "metadata": {
        "id": "anx3OMoiP6hf"
      }
    },
    {
      "cell_type": "markdown",
      "source": [
        "### Step 1: Download the latest version of PAMI repository"
      ],
      "metadata": {
        "id": "tSt0Z2oDRGif"
      }
    },
    {
      "cell_type": "code",
      "execution_count": null,
      "metadata": {
        "colab": {
          "base_uri": "https://localhost:8080/"
        },
        "id": "0sh_d00rpQBl",
        "outputId": "5afaf3a6-57a9-4a38-8169-4397698173e5"
      },
      "outputs": [
        {
          "output_type": "stream",
          "name": "stdout",
          "text": [
            "Collecting pami\n",
            "  Downloading pami-2024.3.7.2-py3-none-any.whl (893 kB)\n",
            "\u001b[2K     \u001b[90m━━━━━━━━━━━━━━━━━━━━━━━━━━━━━━━━━━━━━━━━\u001b[0m \u001b[32m893.7/893.7 kB\u001b[0m \u001b[31m10.3 MB/s\u001b[0m eta \u001b[36m0:00:00\u001b[0m\n",
            "\u001b[?25hRequirement already satisfied: psutil in /usr/local/lib/python3.10/dist-packages (from pami) (5.9.5)\n",
            "Requirement already satisfied: pandas in /usr/local/lib/python3.10/dist-packages (from pami) (1.5.3)\n",
            "Requirement already satisfied: plotly in /usr/local/lib/python3.10/dist-packages (from pami) (5.15.0)\n",
            "Requirement already satisfied: matplotlib in /usr/local/lib/python3.10/dist-packages (from pami) (3.7.1)\n",
            "Collecting resource (from pami)\n",
            "  Downloading Resource-0.2.1-py2.py3-none-any.whl (25 kB)\n",
            "Collecting validators (from pami)\n",
            "  Downloading validators-0.22.0-py3-none-any.whl (26 kB)\n",
            "Requirement already satisfied: urllib3 in /usr/local/lib/python3.10/dist-packages (from pami) (2.0.7)\n",
            "Requirement already satisfied: Pillow in /usr/local/lib/python3.10/dist-packages (from pami) (9.4.0)\n",
            "Requirement already satisfied: numpy in /usr/local/lib/python3.10/dist-packages (from pami) (1.25.2)\n",
            "Collecting sphinx-rtd-theme (from pami)\n",
            "  Downloading sphinx_rtd_theme-2.0.0-py2.py3-none-any.whl (2.8 MB)\n",
            "\u001b[2K     \u001b[90m━━━━━━━━━━━━━━━━━━━━━━━━━━━━━━━━━━━━━━━━\u001b[0m \u001b[32m2.8/2.8 MB\u001b[0m \u001b[31m23.6 MB/s\u001b[0m eta \u001b[36m0:00:00\u001b[0m\n",
            "\u001b[?25hRequirement already satisfied: contourpy>=1.0.1 in /usr/local/lib/python3.10/dist-packages (from matplotlib->pami) (1.2.0)\n",
            "Requirement already satisfied: cycler>=0.10 in /usr/local/lib/python3.10/dist-packages (from matplotlib->pami) (0.12.1)\n",
            "Requirement already satisfied: fonttools>=4.22.0 in /usr/local/lib/python3.10/dist-packages (from matplotlib->pami) (4.49.0)\n",
            "Requirement already satisfied: kiwisolver>=1.0.1 in /usr/local/lib/python3.10/dist-packages (from matplotlib->pami) (1.4.5)\n",
            "Requirement already satisfied: packaging>=20.0 in /usr/local/lib/python3.10/dist-packages (from matplotlib->pami) (23.2)\n",
            "Requirement already satisfied: pyparsing>=2.3.1 in /usr/local/lib/python3.10/dist-packages (from matplotlib->pami) (3.1.1)\n",
            "Requirement already satisfied: python-dateutil>=2.7 in /usr/local/lib/python3.10/dist-packages (from matplotlib->pami) (2.8.2)\n",
            "Requirement already satisfied: pytz>=2020.1 in /usr/local/lib/python3.10/dist-packages (from pandas->pami) (2023.4)\n",
            "Requirement already satisfied: tenacity>=6.2.0 in /usr/local/lib/python3.10/dist-packages (from plotly->pami) (8.2.3)\n",
            "Collecting JsonForm>=0.0.2 (from resource->pami)\n",
            "  Downloading JsonForm-0.0.2.tar.gz (2.4 kB)\n",
            "  Preparing metadata (setup.py) ... \u001b[?25l\u001b[?25hdone\n",
            "Collecting JsonSir>=0.0.2 (from resource->pami)\n",
            "  Downloading JsonSir-0.0.2.tar.gz (2.2 kB)\n",
            "  Preparing metadata (setup.py) ... \u001b[?25l\u001b[?25hdone\n",
            "Collecting python-easyconfig>=0.1.0 (from resource->pami)\n",
            "  Downloading Python_EasyConfig-0.1.7-py2.py3-none-any.whl (5.4 kB)\n",
            "Requirement already satisfied: sphinx<8,>=5 in /usr/local/lib/python3.10/dist-packages (from sphinx-rtd-theme->pami) (5.0.2)\n",
            "Requirement already satisfied: docutils<0.21 in /usr/local/lib/python3.10/dist-packages (from sphinx-rtd-theme->pami) (0.18.1)\n",
            "Collecting sphinxcontrib-jquery<5,>=4 (from sphinx-rtd-theme->pami)\n",
            "  Downloading sphinxcontrib_jquery-4.1-py2.py3-none-any.whl (121 kB)\n",
            "\u001b[2K     \u001b[90m━━━━━━━━━━━━━━━━━━━━━━━━━━━━━━━━━━━━━━━━\u001b[0m \u001b[32m121.1/121.1 kB\u001b[0m \u001b[31m7.9 MB/s\u001b[0m eta \u001b[36m0:00:00\u001b[0m\n",
            "\u001b[?25hRequirement already satisfied: jsonschema in /usr/local/lib/python3.10/dist-packages (from JsonForm>=0.0.2->resource->pami) (4.19.2)\n",
            "Requirement already satisfied: six>=1.5 in /usr/local/lib/python3.10/dist-packages (from python-dateutil>=2.7->matplotlib->pami) (1.16.0)\n",
            "Requirement already satisfied: PyYAML in /usr/local/lib/python3.10/dist-packages (from python-easyconfig>=0.1.0->resource->pami) (6.0.1)\n",
            "Requirement already satisfied: sphinxcontrib-applehelp in /usr/local/lib/python3.10/dist-packages (from sphinx<8,>=5->sphinx-rtd-theme->pami) (1.0.8)\n",
            "Requirement already satisfied: sphinxcontrib-devhelp in /usr/local/lib/python3.10/dist-packages (from sphinx<8,>=5->sphinx-rtd-theme->pami) (1.0.6)\n",
            "Requirement already satisfied: sphinxcontrib-jsmath in /usr/local/lib/python3.10/dist-packages (from sphinx<8,>=5->sphinx-rtd-theme->pami) (1.0.1)\n",
            "Requirement already satisfied: sphinxcontrib-htmlhelp>=2.0.0 in /usr/local/lib/python3.10/dist-packages (from sphinx<8,>=5->sphinx-rtd-theme->pami) (2.0.5)\n",
            "Requirement already satisfied: sphinxcontrib-serializinghtml>=1.1.5 in /usr/local/lib/python3.10/dist-packages (from sphinx<8,>=5->sphinx-rtd-theme->pami) (1.1.10)\n",
            "Requirement already satisfied: sphinxcontrib-qthelp in /usr/local/lib/python3.10/dist-packages (from sphinx<8,>=5->sphinx-rtd-theme->pami) (1.0.7)\n",
            "Requirement already satisfied: Jinja2>=2.3 in /usr/local/lib/python3.10/dist-packages (from sphinx<8,>=5->sphinx-rtd-theme->pami) (3.1.3)\n",
            "Requirement already satisfied: Pygments>=2.0 in /usr/local/lib/python3.10/dist-packages (from sphinx<8,>=5->sphinx-rtd-theme->pami) (2.16.1)\n",
            "Requirement already satisfied: snowballstemmer>=1.1 in /usr/local/lib/python3.10/dist-packages (from sphinx<8,>=5->sphinx-rtd-theme->pami) (2.2.0)\n",
            "Requirement already satisfied: babel>=1.3 in /usr/local/lib/python3.10/dist-packages (from sphinx<8,>=5->sphinx-rtd-theme->pami) (2.14.0)\n",
            "Requirement already satisfied: alabaster<0.8,>=0.7 in /usr/local/lib/python3.10/dist-packages (from sphinx<8,>=5->sphinx-rtd-theme->pami) (0.7.16)\n",
            "Requirement already satisfied: imagesize in /usr/local/lib/python3.10/dist-packages (from sphinx<8,>=5->sphinx-rtd-theme->pami) (1.4.1)\n",
            "Requirement already satisfied: requests>=2.5.0 in /usr/local/lib/python3.10/dist-packages (from sphinx<8,>=5->sphinx-rtd-theme->pami) (2.31.0)\n",
            "Requirement already satisfied: MarkupSafe>=2.0 in /usr/local/lib/python3.10/dist-packages (from Jinja2>=2.3->sphinx<8,>=5->sphinx-rtd-theme->pami) (2.1.5)\n",
            "Requirement already satisfied: charset-normalizer<4,>=2 in /usr/local/lib/python3.10/dist-packages (from requests>=2.5.0->sphinx<8,>=5->sphinx-rtd-theme->pami) (3.3.2)\n",
            "Requirement already satisfied: idna<4,>=2.5 in /usr/local/lib/python3.10/dist-packages (from requests>=2.5.0->sphinx<8,>=5->sphinx-rtd-theme->pami) (3.6)\n",
            "Requirement already satisfied: certifi>=2017.4.17 in /usr/local/lib/python3.10/dist-packages (from requests>=2.5.0->sphinx<8,>=5->sphinx-rtd-theme->pami) (2024.2.2)\n",
            "Requirement already satisfied: attrs>=22.2.0 in /usr/local/lib/python3.10/dist-packages (from jsonschema->JsonForm>=0.0.2->resource->pami) (23.2.0)\n",
            "Requirement already satisfied: jsonschema-specifications>=2023.03.6 in /usr/local/lib/python3.10/dist-packages (from jsonschema->JsonForm>=0.0.2->resource->pami) (2023.12.1)\n",
            "Requirement already satisfied: referencing>=0.28.4 in /usr/local/lib/python3.10/dist-packages (from jsonschema->JsonForm>=0.0.2->resource->pami) (0.33.0)\n",
            "Requirement already satisfied: rpds-py>=0.7.1 in /usr/local/lib/python3.10/dist-packages (from jsonschema->JsonForm>=0.0.2->resource->pami) (0.18.0)\n",
            "Building wheels for collected packages: JsonForm, JsonSir\n",
            "  Building wheel for JsonForm (setup.py) ... \u001b[?25l\u001b[?25hdone\n",
            "  Created wheel for JsonForm: filename=JsonForm-0.0.2-py3-none-any.whl size=3311 sha256=82cf853f8b9b355c6bd9376e4690df6f68bcae512266b42d34e66747a5746cd1\n",
            "  Stored in directory: /root/.cache/pip/wheels/b6/e5/87/11026246d3bd4ad67c0615682d2d6748bbd9a40ac0490882bd\n",
            "  Building wheel for JsonSir (setup.py) ... \u001b[?25l\u001b[?25hdone\n",
            "  Created wheel for JsonSir: filename=JsonSir-0.0.2-py3-none-any.whl size=4753 sha256=932c49193c691beeff9db5729d8234a19f7bdcd3ae349d4925f197acb2555aa8\n",
            "  Stored in directory: /root/.cache/pip/wheels/1d/4c/d3/4d9757425983b43eb709be1043d82cd03fb863ce5f56f117e6\n",
            "Successfully built JsonForm JsonSir\n",
            "Installing collected packages: JsonSir, validators, python-easyconfig, sphinxcontrib-jquery, sphinx-rtd-theme, JsonForm, resource, pami\n",
            "Successfully installed JsonForm-0.0.2 JsonSir-0.0.2 pami-2024.3.7.2 python-easyconfig-0.1.7 resource-0.2.1 sphinx-rtd-theme-2.0.0 sphinxcontrib-jquery-4.1 validators-0.22.0\n"
          ]
        }
      ],
      "source": [
        "!pip install -U pami"
      ]
    },
    {
      "cell_type": "markdown",
      "source": [
        "### Step 2: Download the sample graph database from the SPMF library"
      ],
      "metadata": {
        "id": "C4Z6ADDUQJNB"
      }
    },
    {
      "cell_type": "code",
      "source": [
        "!wget https://www.philippe-fournier-viger.com/spmf/datasets/Chemical_340.txt"
      ],
      "metadata": {
        "colab": {
          "base_uri": "https://localhost:8080/"
        },
        "id": "H45uUlhXp837",
        "outputId": "8a0e5852-a953-4d91-9bde-42f7fffe2530"
      },
      "execution_count": null,
      "outputs": [
        {
          "output_type": "stream",
          "name": "stdout",
          "text": [
            "--2024-03-07 23:08:15--  https://www.philippe-fournier-viger.com/spmf/datasets/Chemical_340.txt\n",
            "Resolving www.philippe-fournier-viger.com (www.philippe-fournier-viger.com)... 172.67.193.154, 104.21.33.228, 2606:4700:3030::6815:21e4, ...\n",
            "Connecting to www.philippe-fournier-viger.com (www.philippe-fournier-viger.com)|172.67.193.154|:443... connected.\n",
            "HTTP request sent, awaiting response... 200 OK\n",
            "Length: 169680 (166K) [text/plain]\n",
            "Saving to: ‘Chemical_340.txt’\n",
            "\n",
            "Chemical_340.txt    100%[===================>] 165.70K   715KB/s    in 0.2s    \n",
            "\n",
            "2024-03-07 23:08:15 (715 KB/s) - ‘Chemical_340.txt’ saved [169680/169680]\n",
            "\n"
          ]
        }
      ]
    },
    {
      "cell_type": "markdown",
      "source": [
        "### Step 3: Printing a few lines of the graph database"
      ],
      "metadata": {
        "id": "H_dXxqZrQigD"
      }
    },
    {
      "cell_type": "code",
      "source": [
        "!head Chemical_340.txt"
      ],
      "metadata": {
        "colab": {
          "base_uri": "https://localhost:8080/"
        },
        "id": "BgjCFczDQnL-",
        "outputId": "354a456b-9844-4b89-a41d-1a787600c947"
      },
      "execution_count": null,
      "outputs": [
        {
          "output_type": "stream",
          "name": "stdout",
          "text": [
            "t # 0\r\n",
            "v 0 0\r\n",
            "v 1 0\r\n",
            "v 2 0\r\n",
            "v 3 0\r\n",
            "v 4 0\r\n",
            "v 5 0\r\n",
            "v 6 1\r\n",
            "v 7 1\r\n",
            "v 8 1\r\n"
          ]
        }
      ]
    },
    {
      "cell_type": "markdown",
      "source": [
        "***"
      ],
      "metadata": {
        "id": "yYkGgzQqQTRD"
      }
    },
    {
      "cell_type": "markdown",
      "source": [
        "# Basic approach: Discovering frequent subgraphs using a single minimum support"
      ],
      "metadata": {
        "id": "aa7ccdRlQrkw"
      }
    },
    {
      "cell_type": "markdown",
      "source": [
        "### Step 1: Understanding the statistics of the graph database"
      ],
      "metadata": {
        "id": "tIyia6tAQ39L"
      }
    },
    {
      "cell_type": "code",
      "source": [],
      "metadata": {
        "id": "eiK1CcIGQ7yA"
      },
      "execution_count": null,
      "outputs": []
    },
    {
      "cell_type": "markdown",
      "source": [
        "### Step 2: Drawing the frequency graphs"
      ],
      "metadata": {
        "id": "f1koh1dAQ8rQ"
      }
    },
    {
      "cell_type": "code",
      "source": [],
      "metadata": {
        "id": "Ocz6lqMgRaHn"
      },
      "execution_count": null,
      "outputs": []
    },
    {
      "cell_type": "markdown",
      "source": [
        "### Step 3: Choosing an appropriate minimum support"
      ],
      "metadata": {
        "id": "EnQZ6IjDRaf1"
      }
    },
    {
      "cell_type": "code",
      "source": [
        "minSup = 0.2"
      ],
      "metadata": {
        "id": "97IRmXvpRiIX"
      },
      "execution_count": null,
      "outputs": []
    },
    {
      "cell_type": "markdown",
      "source": [
        "### Step 4: Frequent subgraph discovery using gspan"
      ],
      "metadata": {
        "id": "yZ3g9HxRRltR"
      }
    },
    {
      "cell_type": "code",
      "source": [
        "from PAMI.subgraphMining.basic import gspan as alg\n",
        "\n",
        "obj = alg.GSpan('Chemical_340.txt', 0.2, True, 100, True)\n",
        "\n",
        "obj.run()\n",
        "\n",
        "frequentGraphs = obj.getFrequentSubgraphs()\n",
        "\n",
        "\n",
        "memUSS = obj.getMemoryUSS()\n",
        "print(\"Total Memory in USS:\", memUSS)\n",
        "\n",
        "memRSS = obj.getMemoryRSS()\n",
        "print(\"Total Memory in RSS\", memRSS)\n",
        "\n",
        "run = obj.getRuntime()\n",
        "print(\"Total ExecutionTime in seconds:\", run)\n",
        "\n",
        "\n",
        "obj.save('outputFile.txt')"
      ],
      "metadata": {
        "id": "1qI4EKucpXGg"
      },
      "execution_count": null,
      "outputs": []
    },
    {
      "cell_type": "markdown",
      "source": [
        "### Step 5: Investigate the generated subgraphs"
      ],
      "metadata": {
        "id": "bGMTAQ4-ScHX"
      }
    },
    {
      "cell_type": "code",
      "source": [],
      "metadata": {
        "id": "4a8-fNwcSg-k"
      },
      "execution_count": null,
      "outputs": []
    },
    {
      "cell_type": "markdown",
      "source": [
        "***"
      ],
      "metadata": {
        "id": "Q4z8dQHLR4iT"
      }
    },
    {
      "cell_type": "markdown",
      "source": [
        "# Advanced approach: Discovering frequent subgraphs by varying minimum support values"
      ],
      "metadata": {
        "id": "DGkWW28rR8_t"
      }
    },
    {
      "cell_type": "markdown",
      "source": [
        "### Step 1: Import the libraries and specify the input parameters"
      ],
      "metadata": {
        "id": "ZPJDC5oZSh9U"
      }
    },
    {
      "cell_type": "code",
      "source": [
        "#Import the libraries\n",
        "from PAMI.subgraphMining.basic import gspan as alg\n",
        "import pandas as pd\n",
        "\n",
        "#Specify the input parameters\n",
        "inputFile = 'Chemical_340.txt'\n",
        "seperator='\\t'\n",
        "minimumSupportList = [0.1,0.2,0.3,0.4,0.5]"
      ],
      "metadata": {
        "id": "c4ZOGGd0R5bT"
      },
      "execution_count": null,
      "outputs": []
    },
    {
      "cell_type": "markdown",
      "source": [
        "### Step 2: Create a data frame to store the results of gspan"
      ],
      "metadata": {
        "id": "KKlvRAUPS7Sy"
      }
    },
    {
      "cell_type": "code",
      "source": [
        "result = pd.DataFrame(columns=['algorithm', 'minSup', 'patterns', 'runtime', 'memory'])"
      ],
      "metadata": {
        "id": "9fXXDZuuS9xF"
      },
      "execution_count": null,
      "outputs": []
    },
    {
      "cell_type": "markdown",
      "source": [
        "### Step 3: Execute the algorithm at different minSup values"
      ],
      "metadata": {
        "id": "hBXE6UFvTB6n"
      }
    },
    {
      "cell_type": "code",
      "source": [
        "for minSup in minimumSupportList:\n",
        "    obj = alg.GSpan('Chemical_340.txt', minSup, True, 100, True)\n",
        "    obj.run()\n",
        "    #store the results in the data frame\n",
        "    result.loc[result.shape[0]] = ['gspan', minSup, len(obj.getFrequentSubgraphs()), obj.getRuntime(), obj.getMemoryRSS()]"
      ],
      "metadata": {
        "id": "DnnKOcvwTI09"
      },
      "execution_count": null,
      "outputs": []
    },
    {
      "cell_type": "markdown",
      "source": [
        "### Step 4: Print the Result"
      ],
      "metadata": {
        "id": "NiBMFXzJTkGp"
      }
    },
    {
      "cell_type": "code",
      "source": [
        "result"
      ],
      "metadata": {
        "id": "cqyEg2ZiTo2k"
      },
      "execution_count": null,
      "outputs": []
    },
    {
      "cell_type": "markdown",
      "source": [
        "### Step 5: Visualizing the results"
      ],
      "metadata": {
        "id": "AafNvXPxTsuS"
      }
    },
    {
      "cell_type": "code",
      "source": [
        "result.plot(x='minSup', y='patterns', kind='line')\n",
        "result.plot(x='minSup', y='runtime', kind='line')\n",
        "result.plot(x='minSup', y='memory', kind='line')"
      ],
      "metadata": {
        "id": "mo35zDgbTpkI"
      },
      "execution_count": null,
      "outputs": []
    }
  ]
}