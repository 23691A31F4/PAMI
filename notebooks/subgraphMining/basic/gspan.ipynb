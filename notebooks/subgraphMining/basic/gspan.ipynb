{
  "nbformat": 4,
  "nbformat_minor": 0,
  "metadata": {
    "colab": {
      "provenance": [],
      "include_colab_link": true
    },
    "kernelspec": {
      "name": "python3",
      "display_name": "Python 3"
    },
    "language_info": {
      "name": "python"
    }
  },
  "cells": [
    {
      "cell_type": "markdown",
      "metadata": {
        "id": "view-in-github",
        "colab_type": "text"
      },
      "source": [
        "<a href=\"https://colab.research.google.com/github/UdayLab/PAMI/blob/main/notebooks/subgraphMining/basic/gspan.ipynb\" target=\"_parent\"><img src=\"https://colab.research.google.com/assets/colab-badge.svg\" alt=\"Open In Colab\"/></a>"
      ]
    },
    {
      "cell_type": "markdown",
      "source": [
        "# Finding frequent subgraphs in graph databases using gSpan"
      ],
      "metadata": {
        "id": "N3kNg9enPW7c"
      }
    },
    {
      "cell_type": "markdown",
      "source": [
        "This tutorial has two parts.\n",
        "1.   Basic approach to find frequent subgraphs at a single minimum support value\n",
        "2.   Advanced approach to find frequent subgraphs at different minimum support values"
      ],
      "metadata": {
        "id": "97WcN1jjPhms"
      }
    },
    {
      "cell_type": "markdown",
      "source": [
        "# Prerequisites:\n"
      ],
      "metadata": {
        "id": "anx3OMoiP6hf"
      }
    },
    {
      "cell_type": "markdown",
      "source": [
        "### Step 1: Download the latest version of PAMI repository"
      ],
      "metadata": {
        "id": "tSt0Z2oDRGif"
      }
    },
    {
      "cell_type": "code",
      "execution_count": 1,
      "metadata": {
        "colab": {
          "base_uri": "https://localhost:8080/"
        },
        "id": "0sh_d00rpQBl",
        "outputId": "525671d9-0c34-4e20-d9d9-cdc7ef5b5bd0"
      },
      "outputs": [
        {
          "output_type": "stream",
          "name": "stdout",
          "text": [
            "Collecting pami\n",
            "  Downloading pami-2024.3.14.1-py3-none-any.whl (897 kB)\n",
            "\u001b[2K     \u001b[90m━━━━━━━━━━━━━━━━━━━━━━━━━━━━━━━━━━━━━━━━\u001b[0m \u001b[32m897.1/897.1 kB\u001b[0m \u001b[31m10.8 MB/s\u001b[0m eta \u001b[36m0:00:00\u001b[0m\n",
            "\u001b[?25hRequirement already satisfied: psutil in /usr/local/lib/python3.10/dist-packages (from pami) (5.9.5)\n",
            "Requirement already satisfied: pandas in /usr/local/lib/python3.10/dist-packages (from pami) (1.5.3)\n",
            "Requirement already satisfied: plotly in /usr/local/lib/python3.10/dist-packages (from pami) (5.15.0)\n",
            "Requirement already satisfied: matplotlib in /usr/local/lib/python3.10/dist-packages (from pami) (3.7.1)\n",
            "Collecting resource (from pami)\n",
            "  Downloading Resource-0.2.1-py2.py3-none-any.whl (25 kB)\n",
            "Collecting validators (from pami)\n",
            "  Downloading validators-0.22.0-py3-none-any.whl (26 kB)\n",
            "Requirement already satisfied: urllib3 in /usr/local/lib/python3.10/dist-packages (from pami) (2.0.7)\n",
            "Requirement already satisfied: Pillow in /usr/local/lib/python3.10/dist-packages (from pami) (9.4.0)\n",
            "Requirement already satisfied: numpy in /usr/local/lib/python3.10/dist-packages (from pami) (1.25.2)\n",
            "Collecting sphinx-rtd-theme (from pami)\n",
            "  Downloading sphinx_rtd_theme-2.0.0-py2.py3-none-any.whl (2.8 MB)\n",
            "\u001b[2K     \u001b[90m━━━━━━━━━━━━━━━━━━━━━━━━━━━━━━━━━━━━━━━━\u001b[0m \u001b[32m2.8/2.8 MB\u001b[0m \u001b[31m41.8 MB/s\u001b[0m eta \u001b[36m0:00:00\u001b[0m\n",
            "\u001b[?25hCollecting discord.py (from pami)\n",
            "  Downloading discord.py-2.3.2-py3-none-any.whl (1.1 MB)\n",
            "\u001b[2K     \u001b[90m━━━━━━━━━━━━━━━━━━━━━━━━━━━━━━━━━━━━━━━━\u001b[0m \u001b[32m1.1/1.1 MB\u001b[0m \u001b[31m70.5 MB/s\u001b[0m eta \u001b[36m0:00:00\u001b[0m\n",
            "\u001b[?25hRequirement already satisfied: networkx in /usr/local/lib/python3.10/dist-packages (from pami) (3.2.1)\n",
            "Requirement already satisfied: aiohttp<4,>=3.7.4 in /usr/local/lib/python3.10/dist-packages (from discord.py->pami) (3.9.3)\n",
            "Requirement already satisfied: contourpy>=1.0.1 in /usr/local/lib/python3.10/dist-packages (from matplotlib->pami) (1.2.0)\n",
            "Requirement already satisfied: cycler>=0.10 in /usr/local/lib/python3.10/dist-packages (from matplotlib->pami) (0.12.1)\n",
            "Requirement already satisfied: fonttools>=4.22.0 in /usr/local/lib/python3.10/dist-packages (from matplotlib->pami) (4.49.0)\n",
            "Requirement already satisfied: kiwisolver>=1.0.1 in /usr/local/lib/python3.10/dist-packages (from matplotlib->pami) (1.4.5)\n",
            "Requirement already satisfied: packaging>=20.0 in /usr/local/lib/python3.10/dist-packages (from matplotlib->pami) (23.2)\n",
            "Requirement already satisfied: pyparsing>=2.3.1 in /usr/local/lib/python3.10/dist-packages (from matplotlib->pami) (3.1.2)\n",
            "Requirement already satisfied: python-dateutil>=2.7 in /usr/local/lib/python3.10/dist-packages (from matplotlib->pami) (2.8.2)\n",
            "Requirement already satisfied: pytz>=2020.1 in /usr/local/lib/python3.10/dist-packages (from pandas->pami) (2023.4)\n",
            "Requirement already satisfied: tenacity>=6.2.0 in /usr/local/lib/python3.10/dist-packages (from plotly->pami) (8.2.3)\n",
            "Collecting JsonForm>=0.0.2 (from resource->pami)\n",
            "  Downloading JsonForm-0.0.2.tar.gz (2.4 kB)\n",
            "  Preparing metadata (setup.py) ... \u001b[?25l\u001b[?25hdone\n",
            "Collecting JsonSir>=0.0.2 (from resource->pami)\n",
            "  Downloading JsonSir-0.0.2.tar.gz (2.2 kB)\n",
            "  Preparing metadata (setup.py) ... \u001b[?25l\u001b[?25hdone\n",
            "Collecting python-easyconfig>=0.1.0 (from resource->pami)\n",
            "  Downloading Python_EasyConfig-0.1.7-py2.py3-none-any.whl (5.4 kB)\n",
            "Requirement already satisfied: sphinx<8,>=5 in /usr/local/lib/python3.10/dist-packages (from sphinx-rtd-theme->pami) (5.0.2)\n",
            "Requirement already satisfied: docutils<0.21 in /usr/local/lib/python3.10/dist-packages (from sphinx-rtd-theme->pami) (0.18.1)\n",
            "Collecting sphinxcontrib-jquery<5,>=4 (from sphinx-rtd-theme->pami)\n",
            "  Downloading sphinxcontrib_jquery-4.1-py2.py3-none-any.whl (121 kB)\n",
            "\u001b[2K     \u001b[90m━━━━━━━━━━━━━━━━━━━━━━━━━━━━━━━━━━━━━━━━\u001b[0m \u001b[32m121.1/121.1 kB\u001b[0m \u001b[31m13.1 MB/s\u001b[0m eta \u001b[36m0:00:00\u001b[0m\n",
            "\u001b[?25hRequirement already satisfied: aiosignal>=1.1.2 in /usr/local/lib/python3.10/dist-packages (from aiohttp<4,>=3.7.4->discord.py->pami) (1.3.1)\n",
            "Requirement already satisfied: attrs>=17.3.0 in /usr/local/lib/python3.10/dist-packages (from aiohttp<4,>=3.7.4->discord.py->pami) (23.2.0)\n",
            "Requirement already satisfied: frozenlist>=1.1.1 in /usr/local/lib/python3.10/dist-packages (from aiohttp<4,>=3.7.4->discord.py->pami) (1.4.1)\n",
            "Requirement already satisfied: multidict<7.0,>=4.5 in /usr/local/lib/python3.10/dist-packages (from aiohttp<4,>=3.7.4->discord.py->pami) (6.0.5)\n",
            "Requirement already satisfied: yarl<2.0,>=1.0 in /usr/local/lib/python3.10/dist-packages (from aiohttp<4,>=3.7.4->discord.py->pami) (1.9.4)\n",
            "Requirement already satisfied: async-timeout<5.0,>=4.0 in /usr/local/lib/python3.10/dist-packages (from aiohttp<4,>=3.7.4->discord.py->pami) (4.0.3)\n",
            "Requirement already satisfied: jsonschema in /usr/local/lib/python3.10/dist-packages (from JsonForm>=0.0.2->resource->pami) (4.19.2)\n",
            "Requirement already satisfied: six>=1.5 in /usr/local/lib/python3.10/dist-packages (from python-dateutil>=2.7->matplotlib->pami) (1.16.0)\n",
            "Requirement already satisfied: PyYAML in /usr/local/lib/python3.10/dist-packages (from python-easyconfig>=0.1.0->resource->pami) (6.0.1)\n",
            "Requirement already satisfied: sphinxcontrib-applehelp in /usr/local/lib/python3.10/dist-packages (from sphinx<8,>=5->sphinx-rtd-theme->pami) (1.0.8)\n",
            "Requirement already satisfied: sphinxcontrib-devhelp in /usr/local/lib/python3.10/dist-packages (from sphinx<8,>=5->sphinx-rtd-theme->pami) (1.0.6)\n",
            "Requirement already satisfied: sphinxcontrib-jsmath in /usr/local/lib/python3.10/dist-packages (from sphinx<8,>=5->sphinx-rtd-theme->pami) (1.0.1)\n",
            "Requirement already satisfied: sphinxcontrib-htmlhelp>=2.0.0 in /usr/local/lib/python3.10/dist-packages (from sphinx<8,>=5->sphinx-rtd-theme->pami) (2.0.5)\n",
            "Requirement already satisfied: sphinxcontrib-serializinghtml>=1.1.5 in /usr/local/lib/python3.10/dist-packages (from sphinx<8,>=5->sphinx-rtd-theme->pami) (1.1.10)\n",
            "Requirement already satisfied: sphinxcontrib-qthelp in /usr/local/lib/python3.10/dist-packages (from sphinx<8,>=5->sphinx-rtd-theme->pami) (1.0.7)\n",
            "Requirement already satisfied: Jinja2>=2.3 in /usr/local/lib/python3.10/dist-packages (from sphinx<8,>=5->sphinx-rtd-theme->pami) (3.1.3)\n",
            "Requirement already satisfied: Pygments>=2.0 in /usr/local/lib/python3.10/dist-packages (from sphinx<8,>=5->sphinx-rtd-theme->pami) (2.16.1)\n",
            "Requirement already satisfied: snowballstemmer>=1.1 in /usr/local/lib/python3.10/dist-packages (from sphinx<8,>=5->sphinx-rtd-theme->pami) (2.2.0)\n",
            "Requirement already satisfied: babel>=1.3 in /usr/local/lib/python3.10/dist-packages (from sphinx<8,>=5->sphinx-rtd-theme->pami) (2.14.0)\n",
            "Requirement already satisfied: alabaster<0.8,>=0.7 in /usr/local/lib/python3.10/dist-packages (from sphinx<8,>=5->sphinx-rtd-theme->pami) (0.7.16)\n",
            "Requirement already satisfied: imagesize in /usr/local/lib/python3.10/dist-packages (from sphinx<8,>=5->sphinx-rtd-theme->pami) (1.4.1)\n",
            "Requirement already satisfied: requests>=2.5.0 in /usr/local/lib/python3.10/dist-packages (from sphinx<8,>=5->sphinx-rtd-theme->pami) (2.31.0)\n",
            "Requirement already satisfied: MarkupSafe>=2.0 in /usr/local/lib/python3.10/dist-packages (from Jinja2>=2.3->sphinx<8,>=5->sphinx-rtd-theme->pami) (2.1.5)\n",
            "Requirement already satisfied: charset-normalizer<4,>=2 in /usr/local/lib/python3.10/dist-packages (from requests>=2.5.0->sphinx<8,>=5->sphinx-rtd-theme->pami) (3.3.2)\n",
            "Requirement already satisfied: idna<4,>=2.5 in /usr/local/lib/python3.10/dist-packages (from requests>=2.5.0->sphinx<8,>=5->sphinx-rtd-theme->pami) (3.6)\n",
            "Requirement already satisfied: certifi>=2017.4.17 in /usr/local/lib/python3.10/dist-packages (from requests>=2.5.0->sphinx<8,>=5->sphinx-rtd-theme->pami) (2024.2.2)\n",
            "Requirement already satisfied: jsonschema-specifications>=2023.03.6 in /usr/local/lib/python3.10/dist-packages (from jsonschema->JsonForm>=0.0.2->resource->pami) (2023.12.1)\n",
            "Requirement already satisfied: referencing>=0.28.4 in /usr/local/lib/python3.10/dist-packages (from jsonschema->JsonForm>=0.0.2->resource->pami) (0.33.0)\n",
            "Requirement already satisfied: rpds-py>=0.7.1 in /usr/local/lib/python3.10/dist-packages (from jsonschema->JsonForm>=0.0.2->resource->pami) (0.18.0)\n",
            "Building wheels for collected packages: JsonForm, JsonSir\n",
            "  Building wheel for JsonForm (setup.py) ... \u001b[?25l\u001b[?25hdone\n",
            "  Created wheel for JsonForm: filename=JsonForm-0.0.2-py3-none-any.whl size=3311 sha256=37e31f0aeb7f4591dbf91e3ff245e956789cbe7594864cac511604020ede55b1\n",
            "  Stored in directory: /root/.cache/pip/wheels/b6/e5/87/11026246d3bd4ad67c0615682d2d6748bbd9a40ac0490882bd\n",
            "  Building wheel for JsonSir (setup.py) ... \u001b[?25l\u001b[?25hdone\n",
            "  Created wheel for JsonSir: filename=JsonSir-0.0.2-py3-none-any.whl size=4753 sha256=3d0e17d626bf13ff2c8f670b4f9ca3240063dc1598374f7f0b2ae4aa9073f73b\n",
            "  Stored in directory: /root/.cache/pip/wheels/1d/4c/d3/4d9757425983b43eb709be1043d82cd03fb863ce5f56f117e6\n",
            "Successfully built JsonForm JsonSir\n",
            "Installing collected packages: JsonSir, validators, python-easyconfig, sphinxcontrib-jquery, discord.py, sphinx-rtd-theme, JsonForm, resource, pami\n",
            "Successfully installed JsonForm-0.0.2 JsonSir-0.0.2 discord.py-2.3.2 pami-2024.3.14.1 python-easyconfig-0.1.7 resource-0.2.1 sphinx-rtd-theme-2.0.0 sphinxcontrib-jquery-4.1 validators-0.22.0\n"
          ]
        }
      ],
      "source": [
        "!pip install -U pami"
      ]
    },
    {
      "cell_type": "markdown",
      "source": [
        "### Step 2: Download the sample graph database from the SPMF library"
      ],
      "metadata": {
        "id": "C4Z6ADDUQJNB"
      }
    },
    {
      "cell_type": "code",
      "source": [
        "!wget https://www.philippe-fournier-viger.com/spmf/datasets/Chemical_340.txt"
      ],
      "metadata": {
        "colab": {
          "base_uri": "https://localhost:8080/"
        },
        "id": "H45uUlhXp837",
        "outputId": "b26b9b93-55af-40c4-e7c7-c4d692918ea4"
      },
      "execution_count": 2,
      "outputs": [
        {
          "output_type": "stream",
          "name": "stdout",
          "text": [
            "--2024-03-13 16:09:14--  https://www.philippe-fournier-viger.com/spmf/datasets/Chemical_340.txt\n",
            "Resolving www.philippe-fournier-viger.com (www.philippe-fournier-viger.com)... 104.21.33.228, 172.67.193.154, 2606:4700:3030::6815:21e4, ...\n",
            "Connecting to www.philippe-fournier-viger.com (www.philippe-fournier-viger.com)|104.21.33.228|:443... connected.\n",
            "HTTP request sent, awaiting response... 200 OK\n",
            "Length: 169680 (166K) [text/plain]\n",
            "Saving to: ‘Chemical_340.txt’\n",
            "\n",
            "Chemical_340.txt    100%[===================>] 165.70K  1002KB/s    in 0.2s    \n",
            "\n",
            "2024-03-13 16:09:15 (1002 KB/s) - ‘Chemical_340.txt’ saved [169680/169680]\n",
            "\n"
          ]
        }
      ]
    },
    {
      "cell_type": "markdown",
      "source": [
        "### Step 3: Printing a few lines of the graph database"
      ],
      "metadata": {
        "id": "H_dXxqZrQigD"
      }
    },
    {
      "cell_type": "code",
      "source": [
        "!head -30 Chemical_340.txt"
      ],
      "metadata": {
        "colab": {
          "base_uri": "https://localhost:8080/"
        },
        "id": "BgjCFczDQnL-",
        "outputId": "1bea226a-4c96-44b9-a34c-7fd8c0c99bf7"
      },
      "execution_count": 3,
      "outputs": [
        {
          "output_type": "stream",
          "name": "stdout",
          "text": [
            "t # 0\r\n",
            "v 0 0\r\n",
            "v 1 0\r\n",
            "v 2 0\r\n",
            "v 3 0\r\n",
            "v 4 0\r\n",
            "v 5 0\r\n",
            "v 6 1\r\n",
            "v 7 1\r\n",
            "v 8 1\r\n",
            "v 9 1\r\n",
            "v 10 2\r\n",
            "v 11 0\r\n",
            "v 12 0\r\n",
            "v 13 2\r\n",
            "v 14 0\r\n",
            "v 15 0\r\n",
            "v 16 0\r\n",
            "v 17 0\r\n",
            "v 18 1\r\n",
            "v 19 1\r\n",
            "v 20 1\r\n",
            "v 21 3\r\n",
            "v 22 3\r\n",
            "v 23 4\r\n",
            "v 24 5\r\n",
            "v 25 5\r\n",
            "e 0 1 3\r\n",
            "e 1 2 3\r\n",
            "e 2 3 3\r\n"
          ]
        }
      ]
    },
    {
      "cell_type": "markdown",
      "source": [
        "***"
      ],
      "metadata": {
        "id": "yYkGgzQqQTRD"
      }
    },
    {
      "cell_type": "markdown",
      "source": [
        "# Basic approach: Discovering frequent subgraphs using a single minimum support"
      ],
      "metadata": {
        "id": "aa7ccdRlQrkw"
      }
    },
    {
      "cell_type": "markdown",
      "source": [
        "### Step 1: Understanding the statistics of the graph database"
      ],
      "metadata": {
        "id": "tIyia6tAQ39L"
      }
    },
    {
      "cell_type": "code",
      "source": [
        "from PAMI.extras.stats import graphDatabase as alg\n",
        "\n",
        "obj = alg.graphDatabase(iFile='Chemical_340.txt')\n",
        "\n",
        "obj.printGraphDatabaseStatistics()\n",
        "\n",
        "#obj.printIndividualGraphStats()     #prints additional information pertaining to each graph that exists in the data"
      ],
      "metadata": {
        "id": "eiK1CcIGQ7yA",
        "colab": {
          "base_uri": "https://localhost:8080/"
        },
        "outputId": "df57e6fa-8e86-44fb-bffe-962d3e03c56f"
      },
      "execution_count": 6,
      "outputs": [
        {
          "output_type": "stream",
          "name": "stdout",
          "text": [
            "average_nodes: 27.026470588235295\n",
            "average_edges: 27.402941176470588\n",
            "max_nodes: 214\n",
            "min_nodes: 2\n",
            "max_edges: 214\n",
            "min_edges: 1\n",
            "total_unique_vertex_labels: 66\n",
            "total_unique_edge_labels: 4\n"
          ]
        }
      ]
    },
    {
      "cell_type": "markdown",
      "source": [
        "### Step 2: Drawing the frequency graphs"
      ],
      "metadata": {
        "id": "f1koh1dAQ8rQ"
      }
    },
    {
      "cell_type": "code",
      "source": [
        "obj.plotEdgeDistribution()"
      ],
      "metadata": {
        "id": "Ocz6lqMgRaHn",
        "colab": {
          "base_uri": "https://localhost:8080/",
          "height": 407
        },
        "outputId": "c7d52a19-3f24-4fe4-e98d-70ca79fef5a3"
      },
      "execution_count": 7,
      "outputs": [
        {
          "output_type": "display_data",
          "data": {
            "text/plain": [
              "<Figure size 600x400 with 1 Axes>"
            ],
            "image/png": "[encoded data removed]"
          },
          "metadata": {}
        }
      ]
    },
    {
      "cell_type": "code",
      "source": [
        "obj.plotNodeDistribution()"
      ],
      "metadata": {
        "colab": {
          "base_uri": "https://localhost:8080/",
          "height": 407
        },
        "id": "3hzugXJUl-ml",
        "outputId": "939c4765-b245-4f4d-c682-acdf085fd1f2"
      },
      "execution_count": 9,
      "outputs": [
        {
          "output_type": "display_data",
          "data": {
            "text/plain": [
              "<Figure size 600x400 with 1 Axes>"
            ],
            "image/png": "[encoded data removed]"
          },
          "metadata": {}
        }
      ]
    },
    {
      "cell_type": "code",
      "source": [
        "# Visualize the graphs in the data\n",
        "\n",
        "\n",
        "from PAMI.extras.visualize import graphs as vis\n",
        "\n",
        "objVis = vis.graphDatabase(iFile='Chemical_340.txt')\n",
        "\n",
        "objVis.plot()"
      ],
      "metadata": {
        "id": "pDfdo-s-0nSQ"
      },
      "execution_count": null,
      "outputs": []
    },
    {
      "cell_type": "markdown",
      "source": [
        "### Step 3: Choosing an appropriate minimum support"
      ],
      "metadata": {
        "id": "EnQZ6IjDRaf1"
      }
    },
    {
      "cell_type": "code",
      "source": [
        "minSup = 0.2"
      ],
      "metadata": {
        "id": "97IRmXvpRiIX"
      },
      "execution_count": 10,
      "outputs": []
    },
    {
      "cell_type": "markdown",
      "source": [
        "### Step 4: Frequent subgraph discovery using gspan"
      ],
      "metadata": {
        "id": "yZ3g9HxRRltR"
      }
    },
    {
      "cell_type": "code",
      "source": [
        "from PAMI.subgraphMining.basic import gspan as alg\n",
        "\n",
        "obj = alg.GSpan('Chemical_340.txt', 0.2, True, 100, True)\n",
        "\n",
        "obj.mine()\n",
        "\n",
        "frequentGraphs = obj.getFrequentSubgraphs()\n",
        "\n",
        "\n",
        "memUSS = obj.getMemoryUSS()\n",
        "print(\"Total Memory in USS:\", memUSS)\n",
        "\n",
        "memRSS = obj.getMemoryRSS()\n",
        "print(\"Total Memory in RSS\", memRSS)\n",
        "\n",
        "run = obj.getRuntime()\n",
        "print(\"Total ExecutionTime in seconds:\", run)\n",
        "\n",
        "\n",
        "obj.save('frequentSupgraphs.txt')"
      ],
      "metadata": {
        "id": "1qI4EKucpXGg",
        "colab": {
          "base_uri": "https://localhost:8080/"
        },
        "outputId": "e11362d9-b485-46bc-bece-38c8feada020"
      },
      "execution_count": 11,
      "outputs": [
        {
          "output_type": "stream",
          "name": "stdout",
          "text": [
            "Total Memory in USS: 148164608\n",
            "Total Memory in RSS 170000384\n",
            "Total ExecutionTime in seconds: 124.10313653945923\n"
          ]
        }
      ]
    },
    {
      "cell_type": "code",
      "source": [
        "# Visualize the frequent subgraphs found in the data\n",
        "\n",
        "\n",
        "from PAMI.extras.visualize import graphs as vis\n",
        "\n",
        "objVis = vis.graphDatabase(iFile='frequentSupgraphs.txt')\n",
        "\n",
        "objVis.plot()"
      ],
      "metadata": {
        "id": "KONvtIyS0q-o"
      },
      "execution_count": null,
      "outputs": []
    },
    {
      "cell_type": "markdown",
      "source": [
        "### Step 5: Investigate the generated subgraphs"
      ],
      "metadata": {
        "id": "bGMTAQ4-ScHX"
      }
    },
    {
      "cell_type": "code",
      "source": [
        "!head -10 frequentSupgraphs.txt"
      ],
      "metadata": {
        "id": "4a8-fNwcSg-k",
        "colab": {
          "base_uri": "https://localhost:8080/"
        },
        "outputId": "48fc3704-c834-479c-a04c-e11d46ac1b81"
      },
      "execution_count": 13,
      "outputs": [
        {
          "output_type": "stream",
          "name": "stdout",
          "text": [
            "t # 0 * 214\n",
            "v 0 0\n",
            "x 0 1 2 10 11 12 13 14 16 17 19 21 23 24 26 28 29 31 34 35 36 37 38 39 40 42 43 45 46 47 48 49 51 52 54 55 56 57 58 59 60 61 62 63 64 66 67 69 70 73 75 77 78 79 80 81 84 85 86 88 90 91 92 93 94 97 98 99 100 101 103 106 108 110 111 112 113 114 116 120 123 124 125 127 128 130 132 135 136 137 138 139 142 147 149 154 156 157 158 165 169 176 177 179 180 185 189 190 199 200 201 203 213 214 217 218 220 222 223 224 225 229 230 231 234 236 238 240 241 242 243 245 247 248 250 251 252 253 254 255 256 257 258 259 260 262 263 264 265 267 268 269 270 271 272 273 274 275 276 277 278 279 280 281 282 283 284 287 288 289 290 291 292 293 294 295 296 297 298 299 300 301 302 303 304 305 306 307 308 309 310 311 312 313 314 315 316 317 318 319 320 321 323 324 325 326 327 329 330 333 335 337 338 339\n",
            "\n",
            "t # 1 * 321\n",
            "v 0 1\n",
            "x 0 1 2 3 4 5 6 7 8 9 10 11 12 13 14 15 16 19 20 21 22 23 24 25 26 27 28 29 30 32 33 34 35 36 37 38 39 40 41 42 43 44 45 46 47 48 49 50 51 52 53 54 55 56 57 58 59 60 61 62 63 64 66 67 68 69 70 71 72 73 74 75 76 77 78 79 80 81 82 83 84 85 86 88 89 90 91 92 93 94 95 96 97 98 99 100 101 102 103 104 106 107 108 109 110 111 112 113 114 115 117 118 119 120 122 123 124 125 126 127 128 129 130 131 132 133 134 135 136 137 138 139 140 141 142 143 144 145 146 147 148 149 150 151 152 153 154 155 156 157 158 159 160 161 162 163 164 165 166 167 168 169 170 171 172 173 174 175 176 177 178 179 180 181 182 184 185 186 187 188 189 190 191 192 193 194 195 196 197 198 199 200 201 202 203 205 206 207 208 209 210 211 212 213 214 215 216 217 218 219 220 221 222 223 224 225 226 228 229 230 231 232 233 234 235 236 238 239 240 241 242 243 245 246 247 248 250 251 252 253 254 255 256 257 258 259 260 261 262 263 264 265 266 267 268 269 270 271 272 273 274 275 276 277 278 279 280 281 282 283 284 285 286 287 288 289 290 291 292 293 294 295 296 297 298 299 300 301 302 303 304 305 306 307 308 309 310 311 312 313 314 315 316 317 318 319 320 321 322 323 324 325 326 327 328 329 330 334 335 336 337\n",
            "\n",
            "t # 2 * 111\n",
            "v 0 2\n"
          ]
        }
      ]
    },
    {
      "cell_type": "markdown",
      "source": [
        "***"
      ],
      "metadata": {
        "id": "Q4z8dQHLR4iT"
      }
    },
    {
      "cell_type": "markdown",
      "source": [
        "# Advanced approach: Discovering frequent subgraphs by varying minimum support values"
      ],
      "metadata": {
        "id": "DGkWW28rR8_t"
      }
    },
    {
      "cell_type": "markdown",
      "source": [
        "### Step 1: Import the libraries and specify the input parameters"
      ],
      "metadata": {
        "id": "ZPJDC5oZSh9U"
      }
    },
    {
      "cell_type": "code",
      "source": [
        "#Import the libraries\n",
        "from PAMI.subgraphMining.basic import gspan as alg\n",
        "from PAMI.extras.messaging import gmail as msg\n",
        "\n",
        "import pandas as pd\n",
        "\n",
        "#Specify the input parameters\n",
        "inputFile = 'Chemical_340.txt'\n",
        "seperator='\\t'\n",
        "minimumSupportList = [0.1,0.2,0.3,0.4,0.5]\n",
        "\n",
        "#Specify the inpur parameters for sending email through your gmail\n",
        "fromAddress = 'your@email.com'\n",
        "passwd ='type the password'\n",
        "destination ='toAddress@email.com'"
      ],
      "metadata": {
        "id": "c4ZOGGd0R5bT"
      },
      "execution_count": 14,
      "outputs": []
    },
    {
      "cell_type": "markdown",
      "source": [
        "### Step 2: Create a data frame to store the results of gspan"
      ],
      "metadata": {
        "id": "KKlvRAUPS7Sy"
      }
    },
    {
      "cell_type": "code",
      "source": [
        "result = pd.DataFrame(columns=['algorithm', 'minSup', 'patterns', 'runtime', 'memory'])"
      ],
      "metadata": {
        "id": "9fXXDZuuS9xF"
      },
      "execution_count": 15,
      "outputs": []
    },
    {
      "cell_type": "markdown",
      "source": [
        "### Step 3: Execute the algorithm at different minSup values"
      ],
      "metadata": {
        "id": "hBXE6UFvTB6n"
      }
    },
    {
      "cell_type": "code",
      "source": [
        "#message = msg.gmail(userName=fromAddress, password=passwd)\n",
        "\n",
        "for minSup in minimumSupportList:\n",
        "    obj = alg.GSpan('Chemical_340.txt', minSup, True, 100, True)\n",
        "    obj.mine()\n",
        "    #store the results in the data frame\n",
        "    result.loc[result.shape[0]] = ['gspan', minSup, len(obj.getFrequentSubgraphs()), obj.getRuntime(), obj.getMemoryRSS()]\n",
        "\n",
        "#message.send(toAddress=destination, subject='Gspan', body='Mining process completed')\n",
        "#above line sends an email once the code has completed execution."
      ],
      "metadata": {
        "id": "DnnKOcvwTI09"
      },
      "execution_count": 16,
      "outputs": []
    },
    {
      "cell_type": "markdown",
      "source": [
        "### Step 4: Print the Result"
      ],
      "metadata": {
        "id": "NiBMFXzJTkGp"
      }
    },
    {
      "cell_type": "code",
      "source": [
        "result"
      ],
      "metadata": {
        "id": "cqyEg2ZiTo2k",
        "colab": {
          "base_uri": "https://localhost:8080/",
          "height": 206
        },
        "outputId": "2fc955e5-29a0-498d-ab17-9bfcb424bff2"
      },
      "execution_count": 17,
      "outputs": [
        {
          "output_type": "execute_result",
          "data": {
            "text/plain": [
              "  algorithm  minSup  patterns     runtime     memory\n",
              "0     gspan     0.1   4458575  565.614608  359772160\n",
              "1     gspan     0.2    527474  120.623320  361345024\n",
              "2     gspan     0.3    139877   57.332431  361345024\n",
              "3     gspan     0.4    137875   55.223273  361345024\n",
              "4     gspan     0.5     30441   16.830611  361345024"
            ],
            "text/html": [
              "\n",
              "  <div id=\"df-a73b8243-07d1-49a8-8968-e51fd8614a1f\" class=\"colab-df-container\">\n",
              "    <div>\n",
              "<style scoped>\n",
              "    .dataframe tbody tr th:only-of-type {\n",
              "        vertical-align: middle;\n",
              "    }\n",
              "\n",
              "    .dataframe tbody tr th {\n",
              "        vertical-align: top;\n",
              "    }\n",
              "\n",
              "    .dataframe thead th {\n",
              "        text-align: right;\n",
              "    }\n",
              "</style>\n",
              "<table border=\"1\" class=\"dataframe\">\n",
              "  <thead>\n",
              "    <tr style=\"text-align: right;\">\n",
              "      <th></th>\n",
              "      <th>algorithm</th>\n",
              "      <th>minSup</th>\n",
              "      <th>patterns</th>\n",
              "      <th>runtime</th>\n",
              "      <th>memory</th>\n",
              "    </tr>\n",
              "  </thead>\n",
              "  <tbody>\n",
              "    <tr>\n",
              "      <th>0</th>\n",
              "      <td>gspan</td>\n",
              "      <td>0.1</td>\n",
              "      <td>4458575</td>\n",
              "      <td>565.614608</td>\n",
              "      <td>359772160</td>\n",
              "    </tr>\n",
              "    <tr>\n",
              "      <th>1</th>\n",
              "      <td>gspan</td>\n",
              "      <td>0.2</td>\n",
              "      <td>527474</td>\n",
              "      <td>120.623320</td>\n",
              "      <td>361345024</td>\n",
              "    </tr>\n",
              "    <tr>\n",
              "      <th>2</th>\n",
              "      <td>gspan</td>\n",
              "      <td>0.3</td>\n",
              "      <td>139877</td>\n",
              "      <td>57.332431</td>\n",
              "      <td>361345024</td>\n",
              "    </tr>\n",
              "    <tr>\n",
              "      <th>3</th>\n",
              "      <td>gspan</td>\n",
              "      <td>0.4</td>\n",
              "      <td>137875</td>\n",
              "      <td>55.223273</td>\n",
              "      <td>361345024</td>\n",
              "    </tr>\n",
              "    <tr>\n",
              "      <th>4</th>\n",
              "      <td>gspan</td>\n",
              "      <td>0.5</td>\n",
              "      <td>30441</td>\n",
              "      <td>16.830611</td>\n",
              "      <td>361345024</td>\n",
              "    </tr>\n",
              "  </tbody>\n",
              "</table>\n",
              "</div>\n",
              "    <div class=\"colab-df-buttons\">\n",
              "\n",
              "  <div class=\"colab-df-container\">\n",
              "    <button class=\"colab-df-convert\" onclick=\"convertToInteractive('df-a73b8243-07d1-49a8-8968-e51fd8614a1f')\"\n",
              "            title=\"Convert this dataframe to an interactive table.\"\n",
              "            style=\"display:none;\">\n",
              "\n",
              "  <svg xmlns=\"http://www.w3.org/2000/svg\" height=\"24px\" viewBox=\"0 -960 960 960\">\n",
              "    <path d=\"M120-120v-720h720v720H120Zm60-500h600v-160H180v160Zm220 220h160v-160H400v160Zm0 220h160v-160H400v160ZM180-400h160v-160H180v160Zm440 0h160v-160H620v160ZM180-180h160v-160H180v160Zm440 0h160v-160H620v160Z\"/>\n",
              "  </svg>\n",
              "    </button>\n",
              "\n",
              "  <style>\n",
              "    .colab-df-container {\n",
              "      display:flex;\n",
              "      gap: 12px;\n",
              "    }\n",
              "\n",
              "    .colab-df-convert {\n",
              "      background-color: #E8F0FE;\n",
              "      border: none;\n",
              "      border-radius: 50%;\n",
              "      cursor: pointer;\n",
              "      display: none;\n",
              "      fill: #1967D2;\n",
              "      height: 32px;\n",
              "      padding: 0 0 0 0;\n",
              "      width: 32px;\n",
              "    }\n",
              "\n",
              "    .colab-df-convert:hover {\n",
              "      background-color: #E2EBFA;\n",
              "      box-shadow: 0px 1px 2px rgba(60, 64, 67, 0.3), 0px 1px 3px 1px rgba(60, 64, 67, 0.15);\n",
              "      fill: #174EA6;\n",
              "    }\n",
              "\n",
              "    .colab-df-buttons div {\n",
              "      margin-bottom: 4px;\n",
              "    }\n",
              "\n",
              "    [theme=dark] .colab-df-convert {\n",
              "      background-color: #3B4455;\n",
              "      fill: #D2E3FC;\n",
              "    }\n",
              "\n",
              "    [theme=dark] .colab-df-convert:hover {\n",
              "      background-color: #434B5C;\n",
              "      box-shadow: 0px 1px 3px 1px rgba(0, 0, 0, 0.15);\n",
              "      filter: drop-shadow(0px 1px 2px rgba(0, 0, 0, 0.3));\n",
              "      fill: #FFFFFF;\n",
              "    }\n",
              "  </style>\n",
              "\n",
              "    <script>\n",
              "      const buttonEl =\n",
              "        document.querySelector('#df-a73b8243-07d1-49a8-8968-e51fd8614a1f button.colab-df-convert');\n",
              "      buttonEl.style.display =\n",
              "        google.colab.kernel.accessAllowed ? 'block' : 'none';\n",
              "\n",
              "      async function convertToInteractive(key) {\n",
              "        const element = document.querySelector('#df-a73b8243-07d1-49a8-8968-e51fd8614a1f');\n",
              "        const dataTable =\n",
              "          await google.colab.kernel.invokeFunction('convertToInteractive',\n",
              "                                                    [key], {});\n",
              "        if (!dataTable) return;\n",
              "\n",
              "        const docLinkHtml = 'Like what you see? Visit the ' +\n",
              "          '<a target=\"_blank\" href=https://colab.research.google.com/notebooks/data_table.ipynb>data table notebook</a>'\n",
              "          + ' to learn more about interactive tables.';\n",
              "        element.innerHTML = '';\n",
              "        dataTable['output_type'] = 'display_data';\n",
              "        await google.colab.output.renderOutput(dataTable, element);\n",
              "        const docLink = document.createElement('div');\n",
              "        docLink.innerHTML = docLinkHtml;\n",
              "        element.appendChild(docLink);\n",
              "      }\n",
              "    </script>\n",
              "  </div>\n",
              "\n",
              "\n",
              "<div id=\"df-84e3760d-1c1a-43c2-989d-8f2ebdca4dc1\">\n",
              "  <button class=\"colab-df-quickchart\" onclick=\"quickchart('df-84e3760d-1c1a-43c2-989d-8f2ebdca4dc1')\"\n",
              "            title=\"Suggest charts\"\n",
              "            style=\"display:none;\">\n",
              "\n",
              "<svg xmlns=\"http://www.w3.org/2000/svg\" height=\"24px\"viewBox=\"0 0 24 24\"\n",
              "     width=\"24px\">\n",
              "    <g>\n",
              "        <path d=\"M19 3H5c-1.1 0-2 .9-2 2v14c0 1.1.9 2 2 2h14c1.1 0 2-.9 2-2V5c0-1.1-.9-2-2-2zM9 17H7v-7h2v7zm4 0h-2V7h2v10zm4 0h-2v-4h2v4z\"/>\n",
              "    </g>\n",
              "</svg>\n",
              "  </button>\n",
              "\n",
              "<style>\n",
              "  .colab-df-quickchart {\n",
              "      --bg-color: #E8F0FE;\n",
              "      --fill-color: #1967D2;\n",
              "      --hover-bg-color: #E2EBFA;\n",
              "      --hover-fill-color: #174EA6;\n",
              "      --disabled-fill-color: #AAA;\n",
              "      --disabled-bg-color: #DDD;\n",
              "  }\n",
              "\n",
              "  [theme=dark] .colab-df-quickchart {\n",
              "      --bg-color: #3B4455;\n",
              "      --fill-color: #D2E3FC;\n",
              "      --hover-bg-color: #434B5C;\n",
              "      --hover-fill-color: #FFFFFF;\n",
              "      --disabled-bg-color: #3B4455;\n",
              "      --disabled-fill-color: #666;\n",
              "  }\n",
              "\n",
              "  .colab-df-quickchart {\n",
              "    background-color: var(--bg-color);\n",
              "    border: none;\n",
              "    border-radius: 50%;\n",
              "    cursor: pointer;\n",
              "    display: none;\n",
              "    fill: var(--fill-color);\n",
              "    height: 32px;\n",
              "    padding: 0;\n",
              "    width: 32px;\n",
              "  }\n",
              "\n",
              "  .colab-df-quickchart:hover {\n",
              "    background-color: var(--hover-bg-color);\n",
              "    box-shadow: 0 1px 2px rgba(60, 64, 67, 0.3), 0 1px 3px 1px rgba(60, 64, 67, 0.15);\n",
              "    fill: var(--button-hover-fill-color);\n",
              "  }\n",
              "\n",
              "  .colab-df-quickchart-complete:disabled,\n",
              "  .colab-df-quickchart-complete:disabled:hover {\n",
              "    background-color: var(--disabled-bg-color);\n",
              "    fill: var(--disabled-fill-color);\n",
              "    box-shadow: none;\n",
              "  }\n",
              "\n",
              "  .colab-df-spinner {\n",
              "    border: 2px solid var(--fill-color);\n",
              "    border-color: transparent;\n",
              "    border-bottom-color: var(--fill-color);\n",
              "    animation:\n",
              "      spin 1s steps(1) infinite;\n",
              "  }\n",
              "\n",
              "  @keyframes spin {\n",
              "    0% {\n",
              "      border-color: transparent;\n",
              "      border-bottom-color: var(--fill-color);\n",
              "      border-left-color: var(--fill-color);\n",
              "    }\n",
              "    20% {\n",
              "      border-color: transparent;\n",
              "      border-left-color: var(--fill-color);\n",
              "      border-top-color: var(--fill-color);\n",
              "    }\n",
              "    30% {\n",
              "      border-color: transparent;\n",
              "      border-left-color: var(--fill-color);\n",
              "      border-top-color: var(--fill-color);\n",
              "      border-right-color: var(--fill-color);\n",
              "    }\n",
              "    40% {\n",
              "      border-color: transparent;\n",
              "      border-right-color: var(--fill-color);\n",
              "      border-top-color: var(--fill-color);\n",
              "    }\n",
              "    60% {\n",
              "      border-color: transparent;\n",
              "      border-right-color: var(--fill-color);\n",
              "    }\n",
              "    80% {\n",
              "      border-color: transparent;\n",
              "      border-right-color: var(--fill-color);\n",
              "      border-bottom-color: var(--fill-color);\n",
              "    }\n",
              "    90% {\n",
              "      border-color: transparent;\n",
              "      border-bottom-color: var(--fill-color);\n",
              "    }\n",
              "  }\n",
              "</style>\n",
              "\n",
              "  <script>\n",
              "    async function quickchart(key) {\n",
              "      const quickchartButtonEl =\n",
              "        document.querySelector('#' + key + ' button');\n",
              "      quickchartButtonEl.disabled = true;  // To prevent multiple clicks.\n",
              "      quickchartButtonEl.classList.add('colab-df-spinner');\n",
              "      try {\n",
              "        const charts = await google.colab.kernel.invokeFunction(\n",
              "            'suggestCharts', [key], {});\n",
              "      } catch (error) {\n",
              "        console.error('Error during call to suggestCharts:', error);\n",
              "      }\n",
              "      quickchartButtonEl.classList.remove('colab-df-spinner');\n",
              "      quickchartButtonEl.classList.add('colab-df-quickchart-complete');\n",
              "    }\n",
              "    (() => {\n",
              "      let quickchartButtonEl =\n",
              "        document.querySelector('#df-84e3760d-1c1a-43c2-989d-8f2ebdca4dc1 button');\n",
              "      quickchartButtonEl.style.display =\n",
              "        google.colab.kernel.accessAllowed ? 'block' : 'none';\n",
              "    })();\n",
              "  </script>\n",
              "</div>\n",
              "\n",
              "  <div id=\"id_f5bc4a41-2b45-4733-82bc-38061a45ed7d\">\n",
              "    <style>\n",
              "      .colab-df-generate {\n",
              "        background-color: #E8F0FE;\n",
              "        border: none;\n",
              "        border-radius: 50%;\n",
              "        cursor: pointer;\n",
              "        display: none;\n",
              "        fill: #1967D2;\n",
              "        height: 32px;\n",
              "        padding: 0 0 0 0;\n",
              "        width: 32px;\n",
              "      }\n",
              "\n",
              "      .colab-df-generate:hover {\n",
              "        background-color: #E2EBFA;\n",
              "        box-shadow: 0px 1px 2px rgba(60, 64, 67, 0.3), 0px 1px 3px 1px rgba(60, 64, 67, 0.15);\n",
              "        fill: #174EA6;\n",
              "      }\n",
              "\n",
              "      [theme=dark] .colab-df-generate {\n",
              "        background-color: #3B4455;\n",
              "        fill: #D2E3FC;\n",
              "      }\n",
              "\n",
              "      [theme=dark] .colab-df-generate:hover {\n",
              "        background-color: #434B5C;\n",
              "        box-shadow: 0px 1px 3px 1px rgba(0, 0, 0, 0.15);\n",
              "        filter: drop-shadow(0px 1px 2px rgba(0, 0, 0, 0.3));\n",
              "        fill: #FFFFFF;\n",
              "      }\n",
              "    </style>\n",
              "    <button class=\"colab-df-generate\" onclick=\"generateWithVariable('result')\"\n",
              "            title=\"Generate code using this dataframe.\"\n",
              "            style=\"display:none;\">\n",
              "\n",
              "  <svg xmlns=\"http://www.w3.org/2000/svg\" height=\"24px\"viewBox=\"0 0 24 24\"\n",
              "       width=\"24px\">\n",
              "    <path d=\"M7,19H8.4L18.45,9,17,7.55,7,17.6ZM5,21V16.75L18.45,3.32a2,2,0,0,1,2.83,0l1.4,1.43a1.91,1.91,0,0,1,.58,1.4,1.91,1.91,0,0,1-.58,1.4L9.25,21ZM18.45,9,17,7.55Zm-12,3A5.31,5.31,0,0,0,4.9,8.1,5.31,5.31,0,0,0,1,6.5,5.31,5.31,0,0,0,4.9,4.9,5.31,5.31,0,0,0,6.5,1,5.31,5.31,0,0,0,8.1,4.9,5.31,5.31,0,0,0,12,6.5,5.46,5.46,0,0,0,6.5,12Z\"/>\n",
              "  </svg>\n",
              "    </button>\n",
              "    <script>\n",
              "      (() => {\n",
              "      const buttonEl =\n",
              "        document.querySelector('#id_f5bc4a41-2b45-4733-82bc-38061a45ed7d button.colab-df-generate');\n",
              "      buttonEl.style.display =\n",
              "        google.colab.kernel.accessAllowed ? 'block' : 'none';\n",
              "\n",
              "      buttonEl.onclick = () => {\n",
              "        google.colab.notebook.generateWithVariable('result');\n",
              "      }\n",
              "      })();\n",
              "    </script>\n",
              "  </div>\n",
              "\n",
              "    </div>\n",
              "  </div>\n"
            ],
            "application/vnd.google.colaboratory.intrinsic+json": {
              "type": "dataframe",
              "variable_name": "result",
              "summary": "{\n  \"name\": \"result\",\n  \"rows\": 5,\n  \"fields\": [\n    {\n      \"column\": \"algorithm\",\n      \"properties\": {\n        \"dtype\": \"category\",\n        \"num_unique_values\": 1,\n        \"samples\": [\n          \"gspan\"\n        ],\n        \"semantic_type\": \"\",\n        \"description\": \"\"\n      }\n    },\n    {\n      \"column\": \"minSup\",\n      \"properties\": {\n        \"dtype\": \"number\",\n        \"std\": 0.15811388300841897,\n        \"min\": 0.1,\n        \"max\": 0.5,\n        \"num_unique_values\": 5,\n        \"samples\": [\n          0.2\n        ],\n        \"semantic_type\": \"\",\n        \"description\": \"\"\n      }\n    },\n    {\n      \"column\": \"patterns\",\n      \"properties\": {\n        \"dtype\": \"number\",\n        \"std\": 1909896,\n        \"min\": 30441,\n        \"max\": 4458575,\n        \"num_unique_values\": 5,\n        \"samples\": [\n          527474\n        ],\n        \"semantic_type\": \"\",\n        \"description\": \"\"\n      }\n    },\n    {\n      \"column\": \"runtime\",\n      \"properties\": {\n        \"dtype\": \"number\",\n        \"std\": 228.0576551505426,\n        \"min\": 16.830610990524292,\n        \"max\": 565.6146082878113,\n        \"num_unique_values\": 5,\n        \"samples\": [\n          120.62331962585449\n        ],\n        \"semantic_type\": \"\",\n        \"description\": \"\"\n      }\n    },\n    {\n      \"column\": \"memory\",\n      \"properties\": {\n        \"dtype\": \"number\",\n        \"std\": 703406,\n        \"min\": 359772160,\n        \"max\": 361345024,\n        \"num_unique_values\": 2,\n        \"samples\": [\n          361345024\n        ],\n        \"semantic_type\": \"\",\n        \"description\": \"\"\n      }\n    }\n  ]\n}"
            }
          },
          "metadata": {},
          "execution_count": 17
        }
      ]
    },
    {
      "cell_type": "markdown",
      "source": [
        "### Step 5: Visualizing the results"
      ],
      "metadata": {
        "id": "AafNvXPxTsuS"
      }
    },
    {
      "cell_type": "code",
      "source": [
        "result.plot(x='minSup', y='patterns', kind='line')\n",
        "result.plot(x='minSup', y='runtime', kind='line')\n",
        "result.plot(x='minSup', y='memory', kind='line')"
      ],
      "metadata": {
        "id": "mo35zDgbTpkI",
        "colab": {
          "base_uri": "https://localhost:8080/",
          "height": 1000
        },
        "outputId": "4c16dece-3d8f-4a86-e512-942777761995"
      },
      "execution_count": 18,
      "outputs": [
        {
          "output_type": "execute_result",
          "data": {
            "text/plain": [
              "<Axes: xlabel='minSup'>"
            ]
          },
          "metadata": {},
          "execution_count": 18
        },
        {
          "output_type": "display_data",
          "data": {
            "text/plain": [
              "<Figure size 640x480 with 1 Axes>"
            ],
            "image/png": "[encoded data removed]"
          },
          "metadata": {}
        },
        {
          "output_type": "display_data",
          "data": {
            "text/plain": [
              "<Figure size 640x480 with 1 Axes>"
            ],
            "image/png": "[encoded data removed]"
          },
          "metadata": {}
        },
        {
          "output_type": "display_data",
          "data": {
            "text/plain": [
              "<Figure size 640x480 with 1 Axes>"
            ],
            "image/png": "[encoded data removed]"
          },
          "metadata": {}
        }
      ]
    }
  ]
}