{
 "cells": [
  {
   "cell_type": "markdown",
   "id": "8ce530e2-62d5-41b0-a12d-4328d93fde04",
   "metadata": {
    "tags": []
   },
   "source": [
    "# Advanced Tutorial on Implementing SHUIM Algorithm"
   ]
  },
  {
   "cell_type": "markdown",
   "id": "a1cd47b5-5fe7-4d58-a507-5af25459b1b8",
   "metadata": {},
   "source": [
    "In this tutorial, we will discuss the second approach to find High Utility Spatial Pattern in big data using SHUIM algorithm.\n",
    "\n",
    "[__Advanced approach:__](#advApproach) Here, we generalize the basic approach by presenting the steps to discover High Utility Spatial Pattern using multiple minimum utility values."
   ]
  },
  {
   "cell_type": "markdown",
   "id": "f7fb1145-420c-4ce0-905e-383d013cb11f",
   "metadata": {},
   "source": [
    "***"
   ]
  },
  {
   "cell_type": "markdown",
   "id": "5ca6724f-2ee6-4a56-b1bb-a67b8b37a278",
   "metadata": {},
   "source": [
    "#### In this tutorial, we explain how the SHUIM algorithm  can be implemented by varying the minimum utility values"
   ]
  },
  {
   "cell_type": "markdown",
   "id": "039e1133-be4f-45bb-9aec-4cb4af3b537e",
   "metadata": {},
   "source": [
    "#### Step 1: Import the SHUIM algorithm and pandas data frame"
   ]
  },
  {
   "cell_type": "code",
   "execution_count": 1,
   "id": "1d312f6c-e7d9-482b-bb7a-821b600c057d",
   "metadata": {},
   "outputs": [],
   "source": [
    "from PAMI.highUtilitySpatialPattern.basic import SHUIM  as alg\n",
    "import pandas as pd"
   ]
  },
  {
   "cell_type": "markdown",
   "id": "16316eaf-892f-4c4e-937d-73007b0bf803",
   "metadata": {},
   "source": [
    "#### Step 2: Specify the following input parameters"
   ]
  },
  {
   "cell_type": "code",
   "execution_count": 2,
   "id": "097f841f-dbf3-40d2-a3c9-130a3a8af003",
   "metadata": {},
   "outputs": [],
   "source": [
    "inputFile = 'utility_mushroom.txt'\n",
    "minUtilList = [2000, 4000, 6000, 8000, 10000]\n",
    "seperator = ' '\n",
    "neighborFile = 'mushroom_neighbourhoodFile_9.txt'\n",
    "result = pd.DataFrame(columns=['algorithm', 'minSup', 'patterns', 'runtime', 'memory']) \n",
    "#initialize a data frame to store the results of SHUIM algorithm"
   ]
  },
  {
   "cell_type": "markdown",
   "id": "de4e94ed-b3b6-4b34-8a62-5d5f51d87d8f",
   "metadata": {},
   "source": [
    "#### Step 3: Execute the SHUIM algorithm using a for loop"
   ]
  },
  {
   "cell_type": "code",
   "execution_count": 3,
   "id": "e6224480-20e8-4c77-8a8f-09bade313f2b",
   "metadata": {},
   "outputs": [
    {
     "ename": "KeyError",
     "evalue": "39",
     "output_type": "error",
     "traceback": [
      "\u001b[0;31m---------------------------------------------------------------------------\u001b[0m",
      "\u001b[0;31mKeyError\u001b[0m                                  Traceback (most recent call last)",
      "Input \u001b[0;32mIn [3]\u001b[0m, in \u001b[0;36m<cell line: 2>\u001b[0;34m()\u001b[0m\n\u001b[1;32m      2\u001b[0m \u001b[38;5;28;01mfor\u001b[39;00m minimumUtility \u001b[38;5;129;01min\u001b[39;00m minUtilList:\n\u001b[1;32m      3\u001b[0m     obj \u001b[38;5;241m=\u001b[39m alg\u001b[38;5;241m.\u001b[39mSHUIM(iFile\u001b[38;5;241m=\u001b[39minputFile, nFile\u001b[38;5;241m=\u001b[39mneighborFile,minUtil\u001b[38;5;241m=\u001b[39mminimumUtility, sep\u001b[38;5;241m=\u001b[39mseperator)\n\u001b[0;32m----> 4\u001b[0m     \u001b[43mobj\u001b[49m\u001b[38;5;241;43m.\u001b[39;49m\u001b[43mstartMine\u001b[49m\u001b[43m(\u001b[49m\u001b[43m)\u001b[49m\n\u001b[1;32m      5\u001b[0m     \u001b[38;5;66;03m#store the results in the data frame\u001b[39;00m\n\u001b[1;32m      6\u001b[0m     result\u001b[38;5;241m.\u001b[39mloc[result\u001b[38;5;241m.\u001b[39mshape[\u001b[38;5;241m0\u001b[39m]] \u001b[38;5;241m=\u001b[39m [algorithm, minimumUtility, \u001b[38;5;28mlen\u001b[39m(obj\u001b[38;5;241m.\u001b[39mgetPatterns()), obj\u001b[38;5;241m.\u001b[39mgetRuntime(), obj\u001b[38;5;241m.\u001b[39mgetMemoryRSS()]\n",
      "File \u001b[0;32m~/.local/lib/python3.10/site-packages/PAMI/highUtilitySpatialPattern/basic/SHUIM.py:402\u001b[0m, in \u001b[0;36mSHUIM.startMine\u001b[0;34m(self)\u001b[0m\n\u001b[1;32m    400\u001b[0m \u001b[38;5;28;01mfor\u001b[39;00m i \u001b[38;5;129;01min\u001b[39;00m \u001b[38;5;28mrange\u001b[39m(\u001b[38;5;28mself\u001b[39m\u001b[38;5;241m.\u001b[39m_dataset\u001b[38;5;241m.\u001b[39mmaxItem):\n\u001b[1;32m    401\u001b[0m     commonitems\u001b[38;5;241m.\u001b[39mappend(i)\n\u001b[0;32m--> 402\u001b[0m \u001b[38;5;28;43mself\u001b[39;49m\u001b[38;5;241;43m.\u001b[39;49m\u001b[43m_backtrackingEFIM\u001b[49m\u001b[43m(\u001b[49m\u001b[38;5;28;43mself\u001b[39;49m\u001b[38;5;241;43m.\u001b[39;49m\u001b[43m_dataset\u001b[49m\u001b[38;5;241;43m.\u001b[39;49m\u001b[43mgetTransactions\u001b[49m\u001b[43m(\u001b[49m\u001b[43m)\u001b[49m\u001b[43m,\u001b[49m\u001b[43m \u001b[49m\u001b[43mitemsToKeep\u001b[49m\u001b[43m,\u001b[49m\u001b[43m \u001b[49m\u001b[43mitemsToExplore\u001b[49m\u001b[43m,\u001b[49m\u001b[43m \u001b[49m\u001b[38;5;241;43m0\u001b[39;49m\u001b[43m)\u001b[49m\n\u001b[1;32m    403\u001b[0m finalMemory \u001b[38;5;241m=\u001b[39m _ab\u001b[38;5;241m.\u001b[39m_psutil\u001b[38;5;241m.\u001b[39mvirtual_memory()[\u001b[38;5;241m3\u001b[39m]\n\u001b[1;32m    404\u001b[0m memory \u001b[38;5;241m=\u001b[39m (finalMemory \u001b[38;5;241m-\u001b[39m InitialMemory) \u001b[38;5;241m/\u001b[39m \u001b[38;5;241m10000\u001b[39m\n",
      "File \u001b[0;32m~/.local/lib/python3.10/site-packages/PAMI/highUtilitySpatialPattern/basic/SHUIM.py:497\u001b[0m, in \u001b[0;36mSHUIM._backtrackingEFIM\u001b[0;34m(self, transactionsOfP, itemsToKeep, itemsToExplore, prefixLength)\u001b[0m\n\u001b[1;32m    495\u001b[0m         \u001b[38;5;28;01mif\u001b[39;00m itemK \u001b[38;5;129;01min\u001b[39;00m neighbourhoodList:\n\u001b[1;32m    496\u001b[0m             newItemsToKeep\u001b[38;5;241m.\u001b[39mappend(itemK)\n\u001b[0;32m--> 497\u001b[0m \u001b[38;5;28;43mself\u001b[39;49m\u001b[38;5;241;43m.\u001b[39;49m\u001b[43m_backtrackingEFIM\u001b[49m\u001b[43m(\u001b[49m\u001b[43mtransactionsPe\u001b[49m\u001b[43m,\u001b[49m\u001b[43m \u001b[49m\u001b[43mnewItemsToKeep\u001b[49m\u001b[43m,\u001b[49m\u001b[43m \u001b[49m\u001b[43mnewItemsToExplore\u001b[49m\u001b[43m,\u001b[49m\u001b[43m \u001b[49m\u001b[43mprefixLength\u001b[49m\u001b[43m \u001b[49m\u001b[38;5;241;43m+\u001b[39;49m\u001b[43m \u001b[49m\u001b[38;5;241;43m1\u001b[39;49m\u001b[43m)\u001b[49m\n\u001b[1;32m    498\u001b[0m finalMemory \u001b[38;5;241m=\u001b[39m _ab\u001b[38;5;241m.\u001b[39m_psutil\u001b[38;5;241m.\u001b[39mvirtual_memory()[\u001b[38;5;241m3\u001b[39m]\n\u001b[1;32m    499\u001b[0m memory \u001b[38;5;241m=\u001b[39m (finalMemory \u001b[38;5;241m-\u001b[39m initialMemory) \u001b[38;5;241m/\u001b[39m \u001b[38;5;241m10000\u001b[39m\n",
      "File \u001b[0;32m~/.local/lib/python3.10/site-packages/PAMI/highUtilitySpatialPattern/basic/SHUIM.py:484\u001b[0m, in \u001b[0;36mSHUIM._backtrackingEFIM\u001b[0;34m(self, transactionsOfP, itemsToKeep, itemsToExplore, prefixLength)\u001b[0m\n\u001b[1;32m    482\u001b[0m \u001b[38;5;28;01mif\u001b[39;00m utilityPe \u001b[38;5;241m>\u001b[39m\u001b[38;5;241m=\u001b[39m \u001b[38;5;28mself\u001b[39m\u001b[38;5;241m.\u001b[39m_minUtil:\n\u001b[1;32m    483\u001b[0m     \u001b[38;5;28mself\u001b[39m\u001b[38;5;241m.\u001b[39m_output(prefixLength, utilityPe)\n\u001b[0;32m--> 484\u001b[0m neighbourhoodList \u001b[38;5;241m=\u001b[39m \u001b[38;5;28;43mself\u001b[39;49m\u001b[38;5;241;43m.\u001b[39;49m\u001b[43m_calculateNeighbourIntersection\u001b[49m\u001b[43m(\u001b[49m\u001b[43mprefixLength\u001b[49m\u001b[43m)\u001b[49m\n\u001b[1;32m    485\u001b[0m \u001b[38;5;28mself\u001b[39m\u001b[38;5;241m.\u001b[39m_useUtilityBinArraysToCalculateUpperBounds(transactionsPe, idx, itemsToKeep, neighbourhoodList)\n\u001b[1;32m    486\u001b[0m newItemsToKeep \u001b[38;5;241m=\u001b[39m []\n",
      "File \u001b[0;32m~/.local/lib/python3.10/site-packages/PAMI/highUtilitySpatialPattern/basic/SHUIM.py:551\u001b[0m, in \u001b[0;36mSHUIM._calculateNeighbourIntersection\u001b[0;34m(self, prefixLength)\u001b[0m\n\u001b[1;32m    549\u001b[0m intersectionList \u001b[38;5;241m=\u001b[39m \u001b[38;5;28mself\u001b[39m\u001b[38;5;241m.\u001b[39m_Neighbours\u001b[38;5;241m.\u001b[39mget(\u001b[38;5;28mself\u001b[39m\u001b[38;5;241m.\u001b[39m_temp[\u001b[38;5;241m0\u001b[39m])\n\u001b[1;32m    550\u001b[0m \u001b[38;5;28;01mfor\u001b[39;00m i \u001b[38;5;129;01min\u001b[39;00m \u001b[38;5;28mrange\u001b[39m(\u001b[38;5;241m1\u001b[39m, prefixLength\u001b[38;5;241m+\u001b[39m\u001b[38;5;241m1\u001b[39m):\n\u001b[0;32m--> 551\u001b[0m     intersectionList \u001b[38;5;241m=\u001b[39m \u001b[38;5;28mself\u001b[39m\u001b[38;5;241m.\u001b[39m_intersection(\u001b[38;5;28;43mself\u001b[39;49m\u001b[38;5;241;43m.\u001b[39;49m\u001b[43m_Neighbours\u001b[49m\u001b[43m[\u001b[49m\u001b[38;5;28;43mself\u001b[39;49m\u001b[38;5;241;43m.\u001b[39;49m\u001b[43m_temp\u001b[49m\u001b[43m[\u001b[49m\u001b[43mi\u001b[49m\u001b[43m]\u001b[49m\u001b[43m]\u001b[49m, intersectionList)\n\u001b[1;32m    552\u001b[0m finalIntersectionList \u001b[38;5;241m=\u001b[39m []\n\u001b[1;32m    553\u001b[0m \u001b[38;5;28;01mif\u001b[39;00m intersectionList \u001b[38;5;129;01mis\u001b[39;00m \u001b[38;5;28;01mNone\u001b[39;00m:\n",
      "\u001b[0;31mKeyError\u001b[0m: 39"
     ]
    }
   ],
   "source": [
    "algorithm = 'SHUIM'  #specify the algorithm name\n",
    "for minimumUtility in minUtilList:\n",
    "    obj = alg.SHUIM(iFile=inputFile, nFile=neighborFile,minUtil=minimumUtility, sep=seperator)\n",
    "    obj.startMine()\n",
    "    #store the results in the data frame\n",
    "    result.loc[result.shape[0]] = [algorithm, minimumUtility, len(obj.getPatterns()), obj.getRuntime(), obj.getMemoryRSS()]"
   ]
  },
  {
   "cell_type": "code",
   "execution_count": null,
   "id": "74c374fa-5269-4cdd-b2c8-6c684e59f915",
   "metadata": {},
   "outputs": [],
   "source": [
    "print(result)"
   ]
  },
  {
   "cell_type": "markdown",
   "id": "2da9f7bc-f1e2-4225-bc1b-8ba7e3a96f8d",
   "metadata": {},
   "source": [
    "#### Step 5: Visualizing the results"
   ]
  },
  {
   "cell_type": "markdown",
   "id": "677a1f49-fdf5-44f7-889b-dfb7891d5837",
   "metadata": {},
   "source": [
    "##### Step 5.1 Importing the plot library"
   ]
  },
  {
   "cell_type": "code",
   "execution_count": null,
   "id": "4a04c12b-33c2-42d5-9fb2-df563844f1b2",
   "metadata": {},
   "outputs": [],
   "source": [
    "from PAMI.extras.graph import plotLineGraphsFromDataFrame as plt"
   ]
  },
  {
   "cell_type": "markdown",
   "id": "bf37a8b6-a205-4d7f-86c6-81c41c90ebbf",
   "metadata": {},
   "source": [
    "##### Step 5.2. Plotting the number of patterns"
   ]
  },
  {
   "cell_type": "code",
   "execution_count": null,
   "id": "065029aa-9346-4d2b-a0a3-ec70ec4f9116",
   "metadata": {},
   "outputs": [],
   "source": [
    "ab = plt.plotGraphsFromDataFrame(result)\n",
    "ab.plotGraphsFromDataFrame() #drawPlots()"
   ]
  },
  {
   "cell_type": "markdown",
   "id": "d10b6e2d-e186-45c7-a143-d6733c5a901e",
   "metadata": {},
   "source": [
    "### Step 6: Saving the results as latex files"
   ]
  },
  {
   "cell_type": "code",
   "execution_count": null,
   "id": "687669cd-1183-4d1a-b262-5437af119662",
   "metadata": {},
   "outputs": [],
   "source": [
    "from PAMI.extras.graph import generateLatexFileFromDataFrame as gdf\n",
    "gdf.generateLatexCode(result)"
   ]
  }
 ],
 "metadata": {
  "kernelspec": {
   "display_name": "Python 3 (ipykernel)",
   "language": "python",
   "name": "python3"
  },
  "language_info": {
   "codemirror_mode": {
    "name": "ipython",
    "version": 3
   },
   "file_extension": ".py",
   "mimetype": "text/x-python",
   "name": "python",
   "nbconvert_exporter": "python",
   "pygments_lexer": "ipython3",
   "version": "3.10.4"
  },
  "toc-autonumbering": false
 },
 "nbformat": 4,
 "nbformat_minor": 5
}
