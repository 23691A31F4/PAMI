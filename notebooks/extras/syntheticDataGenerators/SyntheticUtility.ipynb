{
  "nbformat": 4,
  "nbformat_minor": 0,
  "metadata": {
    "colab": {
      "provenance": [],
      "authorship_tag": "ABX9TyPyIr+9S1erFI0Yp45uU/CZ",
      "include_colab_link": true
    },
    "kernelspec": {
      "name": "python3",
      "display_name": "Python 3"
    },
    "language_info": {
      "name": "python"
    }
  },
  "cells": [
    {
      "cell_type": "markdown",
      "metadata": {
        "id": "view-in-github",
        "colab_type": "text"
      },
      "source": [
        "<a href=\"https://colab.research.google.com/github/Avvari1830S/PAMI/blob/main/notebooks/extras/syntheticDataGenerators/SyntheticUtility.ipynb\" target=\"_parent\"><img src=\"https://colab.research.google.com/assets/colab-badge.svg\" alt=\"Open In Colab\"/></a>"
      ]
    },
    {
      "cell_type": "markdown",
      "source": [
        "##**Step 1:- Download the updated version of pami**"
      ],
      "metadata": {
        "id": "FO6LJ5GQss8E"
      }
    },
    {
      "cell_type": "code",
      "execution_count": null,
      "metadata": {
        "id": "0zp1T6a9sSdH"
      },
      "outputs": [],
      "source": [
        "pip install --upgrade pami"
      ]
    },
    {
      "cell_type": "markdown",
      "source": [
        "##**Step 2:- Import the code from PAMI**"
      ],
      "metadata": {
        "id": "iPzSb55H0qJZ"
      }
    },
    {
      "cell_type": "code",
      "source": [
        "import random as _rd\n",
        "import sys as _sys\n",
        "from PAMI.extras.syntheticDataGenerator import transactionalDatabaseGen as _ap"
      ],
      "metadata": {
        "id": "kv81v_dZstzv"
      },
      "execution_count": null,
      "outputs": []
    },
    {
      "cell_type": "markdown",
      "source": [
        "##**Step 3:- Get the output by giving input parameters**"
      ],
      "metadata": {
        "id": "2U2KEmw-0qwa"
      }
    },
    {
      "cell_type": "code",
      "source": [
        "obj = _ap.TransactionalDatabase(10, 10, 5)\n",
        "obj.save(\"T10_synth_trans.csv\")"
      ],
      "metadata": {
        "id": "jI6aauwWsuDq"
      },
      "execution_count": null,
      "outputs": []
    }
  ]
}