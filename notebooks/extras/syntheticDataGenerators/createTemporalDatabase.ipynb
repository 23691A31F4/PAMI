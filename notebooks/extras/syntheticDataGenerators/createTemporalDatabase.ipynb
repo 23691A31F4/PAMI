{
  "nbformat": 4,
  "nbformat_minor": 0,
  "metadata": {
    "colab": {
      "provenance": [],
      "authorship_tag": "ABX9TyOYtzuAvem8vL2miOC0F3t4",
      "include_colab_link": true
    },
    "kernelspec": {
      "name": "python3",
      "display_name": "Python 3"
    },
    "language_info": {
      "name": "python"
    }
  },
  "cells": [
    {
      "cell_type": "markdown",
      "metadata": {
        "id": "view-in-github",
        "colab_type": "text"
      },
      "source": [
        "<a href=\"https://colab.research.google.com/github/Avvari1830S/PAMI/blob/main/notebooks/extras/syntheticDataGenerators/createTemporalDatabase.ipynb\" target=\"_parent\"><img src=\"https://colab.research.google.com/assets/colab-badge.svg\" alt=\"Open In Colab\"/></a>"
      ]
    },
    {
      "cell_type": "markdown",
      "source": [
        "##**Step 1:- Download the updated version of pami**"
      ],
      "metadata": {
        "id": "zxXdCffV03mS"
      }
    },
    {
      "cell_type": "code",
      "execution_count": null,
      "metadata": {
        "id": "HhUcLzVAsV8y"
      },
      "outputs": [],
      "source": [
        "pip install --upgrade pami"
      ]
    },
    {
      "cell_type": "markdown",
      "source": [
        "##**Step 2:- Import the code from PAMI**"
      ],
      "metadata": {
        "id": "lO9e41lu04_C"
      }
    },
    {
      "cell_type": "code",
      "source": [
        "import random as _rd\n",
        "import sys as _sys\n",
        "from PAMI.extras.syntheticDataGenerator import createTemporalDatabase as _ap"
      ],
      "metadata": {
        "id": "AcbHjTg2xO5r"
      },
      "execution_count": null,
      "outputs": []
    },
    {
      "cell_type": "markdown",
      "source": [
        "##**Step 3:- Get the output by giving input parameters**"
      ],
      "metadata": {
        "id": "cb-bC_Ga05kO"
      }
    },
    {
      "cell_type": "code",
      "source": [
        "obj = _ap.createTemporalDatabase(100000, 870, 10)\n",
        "obj.save(\"T10_synth_uncertain_temp.csv\")"
      ],
      "metadata": {
        "id": "jKm7HTuxxPGp"
      },
      "execution_count": null,
      "outputs": []
    }
  ]
}