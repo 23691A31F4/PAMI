{
 "cells": [
  {
   "cell_type": "markdown",
   "metadata": {
    "id": "4XFe3oA1QK86"
   },
   "source": [
    "# Performance evaluation of Apriori algorithm available in three popular open-source pattern mining libraries (PAMI, MLxtend, and efficient-Apriori)"
   ]
  },
  {
   "cell_type": "markdown",
   "metadata": {
    "id": "nT6TPTB5xwKD"
   },
   "source": [
    "Apriori is a popular algorithm to discover frequent patterns in a transactional database. This algorithm is available in three open-source python libraries, namely PAMI, MLxtend, and efficient-apriori.\n",
    "\n",
    "\n",
    "In this experiment, we evaluate and show that Apriori algorithm available in PAMI is faster than those available in MLxtend and efficient-Apriori."
   ]
  },
  {
   "cell_type": "markdown",
   "metadata": {
    "id": "vkyVZHLT5UFL"
   },
   "source": [
    "# **Setup**"
   ]
  },
  {
   "cell_type": "markdown",
   "metadata": {
    "id": "S42cGZHw5n85"
   },
   "source": [
    "## Installation of packages"
   ]
  },
  {
   "cell_type": "code",
   "execution_count": 1,
   "metadata": {
    "colab": {
     "base_uri": "https://localhost:8080/"
    },
    "id": "nSfPNEqd5Zmk",
    "outputId": "d516838e-c991-4d49-f5fb-7d406f5d755c"
   },
   "outputs": [
    {
     "name": "stdout",
     "output_type": "stream",
     "text": [
      "Defaulting to user installation because normal site-packages is not writeable\n",
      "Requirement already satisfied: PAMI in /home/jupyter/anaconda3/envs/jupyterHub/lib/python3.10/site-packages (2024.5.17.1)\n",
      "Requirement already satisfied: mlxtend in /home/jupyter/anaconda3/envs/jupyterHub/lib/python3.10/site-packages (0.23.1)\n",
      "Requirement already satisfied: efficient_apriori in ./.local/lib/python3.10/site-packages (2.0.3)\n",
      "Requirement already satisfied: psutil in /home/jupyter/anaconda3/envs/jupyterHub/lib/python3.10/site-packages (from PAMI) (5.9.8)\n",
      "Requirement already satisfied: pandas in /home/jupyter/anaconda3/envs/jupyterHub/lib/python3.10/site-packages (from PAMI) (2.2.2)\n",
      "Requirement already satisfied: plotly in /home/jupyter/anaconda3/envs/jupyterHub/lib/python3.10/site-packages (from PAMI) (5.22.0)\n",
      "Requirement already satisfied: matplotlib in /home/jupyter/anaconda3/envs/jupyterHub/lib/python3.10/site-packages (from PAMI) (3.9.0)\n",
      "Requirement already satisfied: resource in /home/jupyter/anaconda3/envs/jupyterHub/lib/python3.10/site-packages (from PAMI) (0.2.1)\n",
      "Requirement already satisfied: validators in /home/jupyter/anaconda3/envs/jupyterHub/lib/python3.10/site-packages (from PAMI) (0.28.1)\n",
      "Requirement already satisfied: urllib3 in /home/jupyter/anaconda3/envs/jupyterHub/lib/python3.10/site-packages (from PAMI) (2.2.1)\n",
      "Requirement already satisfied: Pillow in /home/jupyter/anaconda3/envs/jupyterHub/lib/python3.10/site-packages (from PAMI) (10.3.0)\n",
      "Requirement already satisfied: numpy in /home/jupyter/anaconda3/envs/jupyterHub/lib/python3.10/site-packages (from PAMI) (1.26.4)\n",
      "Requirement already satisfied: sphinx in /home/jupyter/anaconda3/envs/jupyterHub/lib/python3.10/site-packages (from PAMI) (7.3.7)\n",
      "Requirement already satisfied: sphinx-rtd-theme in /home/jupyter/anaconda3/envs/jupyterHub/lib/python3.10/site-packages (from PAMI) (2.0.0)\n",
      "Requirement already satisfied: discord.py in /home/jupyter/anaconda3/envs/jupyterHub/lib/python3.10/site-packages (from PAMI) (2.3.2)\n",
      "Requirement already satisfied: networkx in /home/jupyter/anaconda3/envs/jupyterHub/lib/python3.10/site-packages (from PAMI) (3.3)\n",
      "Requirement already satisfied: deprecated in /home/jupyter/anaconda3/envs/jupyterHub/lib/python3.10/site-packages (from PAMI) (1.2.14)\n",
      "Requirement already satisfied: scipy>=1.2.1 in /home/jupyter/anaconda3/envs/jupyterHub/lib/python3.10/site-packages (from mlxtend) (1.13.1)\n",
      "Requirement already satisfied: scikit-learn>=1.0.2 in /home/jupyter/anaconda3/envs/jupyterHub/lib/python3.10/site-packages (from mlxtend) (1.5.0)\n",
      "Requirement already satisfied: joblib>=0.13.2 in /home/jupyter/anaconda3/envs/jupyterHub/lib/python3.10/site-packages (from mlxtend) (1.4.2)\n",
      "Requirement already satisfied: contourpy>=1.0.1 in /home/jupyter/anaconda3/envs/jupyterHub/lib/python3.10/site-packages (from matplotlib->PAMI) (1.2.1)\n",
      "Requirement already satisfied: cycler>=0.10 in /home/jupyter/anaconda3/envs/jupyterHub/lib/python3.10/site-packages (from matplotlib->PAMI) (0.12.1)\n",
      "Requirement already satisfied: fonttools>=4.22.0 in /home/jupyter/anaconda3/envs/jupyterHub/lib/python3.10/site-packages (from matplotlib->PAMI) (4.51.0)\n",
      "Requirement already satisfied: kiwisolver>=1.3.1 in /home/jupyter/anaconda3/envs/jupyterHub/lib/python3.10/site-packages (from matplotlib->PAMI) (1.4.5)\n",
      "Requirement already satisfied: packaging>=20.0 in /home/jupyter/anaconda3/envs/jupyterHub/lib/python3.10/site-packages (from matplotlib->PAMI) (24.0)\n",
      "Requirement already satisfied: pyparsing>=2.3.1 in /home/jupyter/anaconda3/envs/jupyterHub/lib/python3.10/site-packages (from matplotlib->PAMI) (3.1.2)\n",
      "Requirement already satisfied: python-dateutil>=2.7 in /home/jupyter/anaconda3/envs/jupyterHub/lib/python3.10/site-packages (from matplotlib->PAMI) (2.9.0)\n",
      "Requirement already satisfied: pytz>=2020.1 in /home/jupyter/anaconda3/envs/jupyterHub/lib/python3.10/site-packages (from pandas->PAMI) (2024.1)\n",
      "Requirement already satisfied: tzdata>=2022.7 in /home/jupyter/anaconda3/envs/jupyterHub/lib/python3.10/site-packages (from pandas->PAMI) (2024.1)\n",
      "Requirement already satisfied: threadpoolctl>=3.1.0 in /home/jupyter/anaconda3/envs/jupyterHub/lib/python3.10/site-packages (from scikit-learn>=1.0.2->mlxtend) (3.5.0)\n",
      "Requirement already satisfied: wrapt<2,>=1.10 in /home/jupyter/anaconda3/envs/jupyterHub/lib/python3.10/site-packages (from deprecated->PAMI) (1.16.0)\n",
      "Requirement already satisfied: aiohttp<4,>=3.7.4 in /home/jupyter/anaconda3/envs/jupyterHub/lib/python3.10/site-packages (from discord.py->PAMI) (3.9.5)\n",
      "Requirement already satisfied: tenacity>=6.2.0 in /home/jupyter/anaconda3/envs/jupyterHub/lib/python3.10/site-packages (from plotly->PAMI) (8.3.0)\n",
      "Requirement already satisfied: JsonForm>=0.0.2 in /home/jupyter/anaconda3/envs/jupyterHub/lib/python3.10/site-packages (from resource->PAMI) (0.0.2)\n",
      "Requirement already satisfied: JsonSir>=0.0.2 in /home/jupyter/anaconda3/envs/jupyterHub/lib/python3.10/site-packages (from resource->PAMI) (0.0.2)\n",
      "Requirement already satisfied: python-easyconfig>=0.1.0 in /home/jupyter/anaconda3/envs/jupyterHub/lib/python3.10/site-packages (from resource->PAMI) (0.1.7)\n",
      "Requirement already satisfied: sphinxcontrib-applehelp in /home/jupyter/anaconda3/envs/jupyterHub/lib/python3.10/site-packages (from sphinx->PAMI) (1.0.8)\n",
      "Requirement already satisfied: sphinxcontrib-devhelp in /home/jupyter/anaconda3/envs/jupyterHub/lib/python3.10/site-packages (from sphinx->PAMI) (1.0.6)\n",
      "Requirement already satisfied: sphinxcontrib-jsmath in /home/jupyter/anaconda3/envs/jupyterHub/lib/python3.10/site-packages (from sphinx->PAMI) (1.0.1)\n",
      "Requirement already satisfied: sphinxcontrib-htmlhelp>=2.0.0 in /home/jupyter/anaconda3/envs/jupyterHub/lib/python3.10/site-packages (from sphinx->PAMI) (2.0.5)\n",
      "Requirement already satisfied: sphinxcontrib-serializinghtml>=1.1.9 in /home/jupyter/anaconda3/envs/jupyterHub/lib/python3.10/site-packages (from sphinx->PAMI) (1.1.10)\n",
      "Requirement already satisfied: sphinxcontrib-qthelp in /home/jupyter/anaconda3/envs/jupyterHub/lib/python3.10/site-packages (from sphinx->PAMI) (1.0.7)\n",
      "Requirement already satisfied: Jinja2>=3.0 in /home/jupyter/anaconda3/envs/jupyterHub/lib/python3.10/site-packages (from sphinx->PAMI) (3.1.4)\n",
      "Requirement already satisfied: Pygments>=2.14 in /home/jupyter/anaconda3/envs/jupyterHub/lib/python3.10/site-packages (from sphinx->PAMI) (2.18.0)\n",
      "Requirement already satisfied: docutils<0.22,>=0.18.1 in /home/jupyter/anaconda3/envs/jupyterHub/lib/python3.10/site-packages (from sphinx->PAMI) (0.20.1)\n",
      "Requirement already satisfied: snowballstemmer>=2.0 in /home/jupyter/anaconda3/envs/jupyterHub/lib/python3.10/site-packages (from sphinx->PAMI) (2.2.0)\n",
      "Requirement already satisfied: babel>=2.9 in /home/jupyter/anaconda3/envs/jupyterHub/lib/python3.10/site-packages (from sphinx->PAMI) (2.14.0)\n",
      "Requirement already satisfied: alabaster~=0.7.14 in /home/jupyter/anaconda3/envs/jupyterHub/lib/python3.10/site-packages (from sphinx->PAMI) (0.7.16)\n",
      "Requirement already satisfied: imagesize>=1.3 in /home/jupyter/anaconda3/envs/jupyterHub/lib/python3.10/site-packages (from sphinx->PAMI) (1.4.1)\n",
      "Requirement already satisfied: requests>=2.25.0 in /home/jupyter/anaconda3/envs/jupyterHub/lib/python3.10/site-packages (from sphinx->PAMI) (2.31.0)\n",
      "Requirement already satisfied: tomli>=2 in /home/jupyter/anaconda3/envs/jupyterHub/lib/python3.10/site-packages (from sphinx->PAMI) (2.0.1)\n",
      "Requirement already satisfied: sphinxcontrib-jquery<5,>=4 in /home/jupyter/anaconda3/envs/jupyterHub/lib/python3.10/site-packages (from sphinx-rtd-theme->PAMI) (4.1)\n",
      "Requirement already satisfied: aiosignal>=1.1.2 in /home/jupyter/anaconda3/envs/jupyterHub/lib/python3.10/site-packages (from aiohttp<4,>=3.7.4->discord.py->PAMI) (1.3.1)\n",
      "Requirement already satisfied: attrs>=17.3.0 in /home/jupyter/anaconda3/envs/jupyterHub/lib/python3.10/site-packages (from aiohttp<4,>=3.7.4->discord.py->PAMI) (23.2.0)\n",
      "Requirement already satisfied: frozenlist>=1.1.1 in /home/jupyter/anaconda3/envs/jupyterHub/lib/python3.10/site-packages (from aiohttp<4,>=3.7.4->discord.py->PAMI) (1.4.1)\n",
      "Requirement already satisfied: multidict<7.0,>=4.5 in /home/jupyter/anaconda3/envs/jupyterHub/lib/python3.10/site-packages (from aiohttp<4,>=3.7.4->discord.py->PAMI) (6.0.5)\n",
      "Requirement already satisfied: yarl<2.0,>=1.0 in /home/jupyter/anaconda3/envs/jupyterHub/lib/python3.10/site-packages (from aiohttp<4,>=3.7.4->discord.py->PAMI) (1.9.4)\n",
      "Requirement already satisfied: async-timeout<5.0,>=4.0 in /home/jupyter/anaconda3/envs/jupyterHub/lib/python3.10/site-packages (from aiohttp<4,>=3.7.4->discord.py->PAMI) (4.0.3)\n",
      "Requirement already satisfied: MarkupSafe>=2.0 in /home/jupyter/anaconda3/envs/jupyterHub/lib/python3.10/site-packages (from Jinja2>=3.0->sphinx->PAMI) (2.1.5)\n",
      "Requirement already satisfied: jsonschema in /home/jupyter/anaconda3/envs/jupyterHub/lib/python3.10/site-packages (from JsonForm>=0.0.2->resource->PAMI) (4.22.0)\n",
      "Requirement already satisfied: six>=1.5 in /home/jupyter/anaconda3/envs/jupyterHub/lib/python3.10/site-packages (from python-dateutil>=2.7->matplotlib->PAMI) (1.16.0)\n",
      "Requirement already satisfied: PyYAML in /home/jupyter/anaconda3/envs/jupyterHub/lib/python3.10/site-packages (from python-easyconfig>=0.1.0->resource->PAMI) (6.0.1)\n",
      "Requirement already satisfied: charset-normalizer<4,>=2 in /home/jupyter/anaconda3/envs/jupyterHub/lib/python3.10/site-packages (from requests>=2.25.0->sphinx->PAMI) (3.3.2)\n",
      "Requirement already satisfied: idna<4,>=2.5 in /home/jupyter/anaconda3/envs/jupyterHub/lib/python3.10/site-packages (from requests>=2.25.0->sphinx->PAMI) (3.7)\n",
      "Requirement already satisfied: certifi>=2017.4.17 in /home/jupyter/anaconda3/envs/jupyterHub/lib/python3.10/site-packages (from requests>=2.25.0->sphinx->PAMI) (2024.2.2)\n",
      "Requirement already satisfied: jsonschema-specifications>=2023.03.6 in /home/jupyter/anaconda3/envs/jupyterHub/lib/python3.10/site-packages (from jsonschema->JsonForm>=0.0.2->resource->PAMI) (2023.12.1)\n",
      "Requirement already satisfied: referencing>=0.28.4 in /home/jupyter/anaconda3/envs/jupyterHub/lib/python3.10/site-packages (from jsonschema->JsonForm>=0.0.2->resource->PAMI) (0.35.1)\n",
      "Requirement already satisfied: rpds-py>=0.7.1 in /home/jupyter/anaconda3/envs/jupyterHub/lib/python3.10/site-packages (from jsonschema->JsonForm>=0.0.2->resource->PAMI) (0.18.1)\n"
     ]
    }
   ],
   "source": [
    "!pip3 install PAMI mlxtend efficient_apriori"
   ]
  },
  {
   "cell_type": "markdown",
   "metadata": {
    "id": "0gqbgbx5QK9A"
   },
   "source": [
    "### Create dataframes to store results"
   ]
  },
  {
   "cell_type": "code",
   "execution_count": 2,
   "metadata": {
    "id": "UDDw-FplQK9A",
    "tags": []
   },
   "outputs": [],
   "source": [
    "import pandas as pd\n",
    "\n",
    "result1 = pd.DataFrame(columns=['algorithm', 'minSup', 'patterns', 'runtime', 'memory'])\n",
    "result2 = pd.DataFrame(columns=['algorithm', 'minSup', 'patterns', 'runtime', 'memory'])\n",
    "result3 = pd.DataFrame(columns=['algorithm', 'minSup', 'patterns', 'runtime', 'memory'])"
   ]
  },
  {
   "cell_type": "markdown",
   "metadata": {
    "id": "FUoZLb8lQK88"
   },
   "source": [
    "# Experiment 1: Evaluation on the synthetic T10I4D100K dataset"
   ]
  },
  {
   "cell_type": "markdown",
   "metadata": {
    "id": "XtUfP84V4-ae"
   },
   "source": [
    "## Step 1.1: Download the T10I4D100K database"
   ]
  },
  {
   "cell_type": "code",
   "execution_count": 3,
   "metadata": {
    "colab": {
     "base_uri": "https://localhost:8080/"
    },
    "id": "vAlDA-g4QK8_",
    "outputId": "d9f2fd30-4fef-479b-c535-b16e34005079",
    "tags": []
   },
   "outputs": [
    {
     "name": "stdout",
     "output_type": "stream",
     "text": [
      "--2024-06-14 02:09:45--  https://u-aizu.ac.jp/~udayrage/datasets/transactionalDatabases/Transactional_kosarak.csv\n",
      "Resolving u-aizu.ac.jp (u-aizu.ac.jp)... 150.95.161.176, 150.31.244.160\n",
      "Connecting to u-aizu.ac.jp (u-aizu.ac.jp)|150.95.161.176|:443... connected.\n",
      "HTTP request sent, awaiting response... 200 OK\n",
      "Length: 33011958 (31M) [text/csv]\n",
      "Saving to: ‘Transactional_kosarak.csv.1’\n",
      "\n",
      "Transactional_kosar 100%[===================>]  31.48M  62.6MB/s    in 0.5s    \n",
      "\n",
      "2024-06-14 02:09:46 (62.6 MB/s) - ‘Transactional_kosarak.csv.1’ saved [33011958/33011958]\n",
      "\n"
     ]
    }
   ],
   "source": [
    "!wget \"https://u-aizu.ac.jp/~udayrage/datasets/transactionalDatabases/Transactional_kosarak.csv\""
   ]
  },
  {
   "cell_type": "markdown",
   "metadata": {
    "id": "YMwMGYKH5IKg"
   },
   "source": [
    "## Step 1.2: Specify the input parameters"
   ]
  },
  {
   "cell_type": "code",
   "execution_count": 4,
   "metadata": {
    "id": "MQM4fh915LDy"
   },
   "outputs": [],
   "source": [
    "inputFile = \"Transactional_kosarak.csv\"\n",
    "minimumSupportCountList = [600,700,800,900,1000]\n",
    "seperator = \"\\t\""
   ]
  },
  {
   "cell_type": "markdown",
   "metadata": {
    "id": "36_PFrgA75-t"
   },
   "source": [
    "## Step 1.3: Executing the Apriori algorithm"
   ]
  },
  {
   "cell_type": "markdown",
   "metadata": {
    "id": "HxRGezE5QK9B"
   },
   "source": [
    "### Step 1.3.1: Using PAMI Package"
   ]
  },
  {
   "cell_type": "code",
   "execution_count": null,
   "metadata": {
    "id": "KGhjcVl-QK9B",
    "tags": []
   },
   "outputs": [],
   "source": [
    "import PAMI.frequentPattern.basic.Apriori as alg\n",
    "#import Apriori as alg\n",
    "\n",
    "for minSupCount in minimumSupportCountList:\n",
    "  obj = alg.Apriori(inputFile, minSup=minSupCount, sep=seperator)\n",
    "  obj.mine()\n",
    "  result1.loc[result1.shape[0]] = ['PAMI-Apriori', minSupCount, len(obj.getPatterns()), obj.getRuntime(), obj.getMemoryRSS()]\n",
    "  del obj"
   ]
  },
  {
   "cell_type": "markdown",
   "metadata": {
    "id": "1QGPHFKTQK9C"
   },
   "source": [
    "### Step 1.3.2: Using Mlxtend package"
   ]
  },
  {
   "cell_type": "code",
   "execution_count": null,
   "metadata": {
    "id": "x-SPdCLKQK9D",
    "tags": []
   },
   "outputs": [],
   "source": [
    "from mlxtend.preprocessing import TransactionEncoder\n",
    "from mlxtend.frequent_patterns import apriori\n",
    "import time\n",
    "import psutil\n",
    "import warnings\n",
    "\n",
    "for min_sup in minimumSupportCountList:\n",
    "    start_time = time.time()\n",
    "\n",
    "    df = pd.read_csv(inputFile, header=None)\n",
    "\n",
    "    preprocessed_data = []\n",
    "    for transaction in df[0]:\n",
    "        items = transaction.split('\\t')\n",
    "        preprocessed_data.append(items)\n",
    "\n",
    "    te = TransactionEncoder()\n",
    "    te_ary = te.fit_transform(preprocessed_data)\n",
    "    df_encoded = pd.DataFrame(te_ary, columns=te.columns_)\n",
    "    frequent_itemsets = apriori(df_encoded, min_support=min_sup / len(preprocessed_data), use_colnames=True, low_memory=True)\n",
    "    end_time = time.time()\n",
    "\n",
    "    runtime = end_time - start_time\n",
    "    memory = psutil.Process().memory_info().rss\n",
    "    print(f\"Frequent patterns were generated successfully using Apriori algorithm\")\n",
    "\n",
    "    result2.loc[result2.shape[0]] = ['mlxtend-Apriori', min_sup, len(frequent_itemsets), runtime, memory]\n"
   ]
  },
  {
   "cell_type": "markdown",
   "metadata": {
    "id": "rJt1gYSHQK9E"
   },
   "source": [
    "### Step 1.3.3: Using the efficient-Apriori package"
   ]
  },
  {
   "cell_type": "code",
   "execution_count": null,
   "metadata": {
    "id": "C7qZs3b1QK9E",
    "tags": []
   },
   "outputs": [],
   "source": [
    "from efficient_apriori import apriori as apriori_efficient\n",
    "import time\n",
    "import os\n",
    "import psutil\n",
    "\n",
    "for minSupCount in minimumSupportCountList:\n",
    "    start_time = time.time()\n",
    "    fd = []\n",
    "    with open(inputFile, 'r') as f:\n",
    "        for line in f:\n",
    "            fd.append(tuple(line.strip().split('\\t')))\n",
    "    itemsets, rules = apriori_efficient(fd, min_support=minSupCount / len(fd), min_confidence=1, max_length=50)\n",
    "    end_time = time.time()\n",
    "\n",
    "    runtime = end_time - start_time\n",
    "    memory = psutil.Process().memory_info().rss\n",
    "    print(f\"Frequent patterns were generated successfully using Efficient Apriori algorithm\")\n",
    "\n",
    "    patterns = 0\n",
    "    for itemset in itemsets:\n",
    "        patterns += len(itemsets[itemset])\n",
    "\n",
    "    result3.loc[result3.shape[0]] = ['EfficientApriori', minSupCount, patterns, runtime, memory]\n",
    "\n"
   ]
  },
  {
   "cell_type": "markdown",
   "metadata": {
    "id": "8YmqtmG4QK9F",
    "tags": []
   },
   "source": [
    "## Step 1.4: Visualizing the results\n",
    "\n",
    "We now visualize the performance of Apriori algorithm available in three open-source libraries based on the number of patterns extracted, memory usage, and runtime requirements."
   ]
  },
  {
   "cell_type": "markdown",
   "metadata": {
    "id": "vhwD3ellQK9F"
   },
   "source": [
    "### Step 1.4.1: Number of frequent patterns generated at different minimum support values"
   ]
  },
  {
   "cell_type": "code",
   "execution_count": null,
   "metadata": {
    "id": "Wp2lA62zQK9G",
    "tags": []
   },
   "outputs": [],
   "source": [
    "import matplotlib.pyplot as plt\n",
    "\n",
    "for result, color, label in zip([result1, result2, result3], ['blue', 'green', 'red'], ['mlxtend Apriori', 'PAMI Apriori', 'EfficientApriori']):\n",
    "    plt.plot(result['minSup'], result['patterns'], label=label, color=color)\n",
    "plt.xlabel('Minimum Support Count')\n",
    "plt.ylabel('Number of Frequent Patterns')\n",
    "plt.legend()\n",
    "plt.show()\n"
   ]
  },
  {
   "cell_type": "markdown",
   "metadata": {
    "id": "aeaklXsHD_IK"
   },
   "source": [
    "__Observations__\n",
    "1. The increase in minimum support has resulted in reduced number of frequent patterns. It is because many patterns failed to satisfy the increased minimum support to be a frequent pattern.\n",
    "2. The count of generated patterns is the same for different Python libraries implementing the Apriori algorithm. This proves the correctness of the PAMI Apriori Algorithm."
   ]
  },
  {
   "cell_type": "markdown",
   "metadata": {
    "id": "0Moyy-suQK9G"
   },
   "source": [
    "### Step 1.4.2: Runtime requirements of the Apriori algorithm across different Python libraries."
   ]
  },
  {
   "cell_type": "code",
   "execution_count": null,
   "metadata": {
    "id": "Pa89iRxuQK9H",
    "tags": []
   },
   "outputs": [],
   "source": [
    "import matplotlib.pyplot as plt\n",
    "\n",
    "for result, color, label in zip([result1, result2, result3], ['blue', 'green', 'red'], ['mlxtend Apriori', 'PAMI Apriori', 'EfficientApriori']):\n",
    "    plt.plot(result['minSup'], result['runtime'], label=label, color=color)\n",
    "plt.xlabel('Minimum Support Count')\n",
    "plt.ylabel('Runtime (seconds)')\n",
    "plt.legend()\n",
    "plt.show()\n"
   ]
  },
  {
   "cell_type": "markdown",
   "metadata": {
    "id": "yxWrXHcBFvq8"
   },
   "source": [
    "__Observations__\n",
    "1. The runtime taken by the generated patterns decreases as the minSup value increases.\n",
    "2. The runtime of PAMI Apriori yields the best results when compared to mlxtend and efficient_apriori."
   ]
  },
  {
   "cell_type": "markdown",
   "metadata": {
    "id": "20rUJCqdQK9H"
   },
   "source": [
    "### Step 1.4.3: Memory consumption of the Apriori algorithm across different Python libraries."
   ]
  },
  {
   "cell_type": "code",
   "execution_count": null,
   "metadata": {
    "id": "pw37qItpQK9I",
    "tags": []
   },
   "outputs": [],
   "source": [
    "import matplotlib.pyplot as plt\n",
    "\n",
    "for result, color, label in zip([result1, result2, result3], ['blue', 'green', 'red'], ['mlxtend Apriori', 'PAMI Apriori', 'EfficientApriori']):\n",
    "    plt.plot(result['minSup'], result['memory'], label=label, color=color)\n",
    "plt.xlabel('Minimum Support Count')\n",
    "plt.ylabel('Memory (bytes)')\n",
    "plt.legend()\n",
    "plt.show()\n"
   ]
  },
  {
   "cell_type": "markdown",
   "metadata": {
    "id": "1lO-UofOG7Jy"
   },
   "source": [
    "__Observations__\n",
    "1. The memory consumption varies among three different libraries for the Apriori algorithm. The following observations are made\n",
    "    - The memory usage in EfficientApriori initially sees a slight increase between minSup values of 600 to 900, followed by a steep increase beyond 900.\n",
    "    - In mlxtend, the graph shows a slight decrease in memory consumption with an increase in the minSup value.\n",
    "    - In the PAMI version of Apriori, the graph shows a slight increase from minSup values of 600 to 700, followed by a steep decrease for the remaining minSup values."
   ]
  }
 ],
 "metadata": {
  "colab": {
   "provenance": [],
   "toc_visible": true
  },
  "kernelspec": {
   "display_name": "Python 3 (ipykernel)",
   "language": "python",
   "name": "python3"
  },
  "language_info": {
   "codemirror_mode": {
    "name": "ipython",
    "version": 3
   },
   "file_extension": ".py",
   "mimetype": "text/x-python",
   "name": "python",
   "nbconvert_exporter": "python",
   "pygments_lexer": "ipython3",
   "version": "3.10.14"
  }
 },
 "nbformat": 4,
 "nbformat_minor": 4
}
